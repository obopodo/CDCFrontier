{
 "cells": [
  {
   "cell_type": "markdown",
   "metadata": {},
   "source": [
    "# Imports"
   ]
  },
  {
   "cell_type": "code",
   "execution_count": 1,
   "metadata": {},
   "outputs": [],
   "source": [
    "import pandas as pd\n",
    "import numpy as np\n",
    "import os\n",
    "\n",
    "import seaborn as sns\n",
    "import matplotlib as mpl\n",
    "import matplotlib.pyplot as plt\n",
    "\n",
    "from numpy.random import normal, uniform\n",
    "import random\n",
    "\n",
    "from sklearn.preprocessing import StandardScaler\n",
    "from sklearn.model_selection import train_test_split\n",
    "\n",
    "import dill\n",
    "import datetime"
   ]
  },
  {
   "cell_type": "code",
   "execution_count": 2,
   "metadata": {},
   "outputs": [],
   "source": [
    "%matplotlib inline"
   ]
  },
  {
   "cell_type": "code",
   "execution_count": 3,
   "metadata": {},
   "outputs": [],
   "source": [
    "SEED = 73 # random seed"
   ]
  },
  {
   "cell_type": "code",
   "execution_count": null,
   "metadata": {},
   "outputs": [],
   "source": [
    "# dill.load_session('Full_NN.db')"
   ]
  },
  {
   "cell_type": "code",
   "execution_count": null,
   "metadata": {},
   "outputs": [],
   "source": [
    "# dill.dump_session('Full_NN.db')"
   ]
  },
  {
   "cell_type": "markdown",
   "metadata": {},
   "source": [
    "# Data reading"
   ]
  },
  {
   "cell_type": "markdown",
   "metadata": {},
   "source": [
    "## Reading"
   ]
  },
  {
   "cell_type": "code",
   "execution_count": 64,
   "metadata": {},
   "outputs": [
    {
     "data": {
      "text/plain": [
       "['AP1', 'FD', 'LFY', 'TFL1a', 'TFL1c']"
      ]
     },
     "execution_count": 64,
     "metadata": {},
     "output_type": "execute_result"
    }
   ],
   "source": [
    "targets = []\n",
    "\n",
    "for name in gene_names:\n",
    "    if not name.startswith('FT'):\n",
    "        targets.append(name)\n",
    "\n",
    "targets.sort()\n",
    "\n",
    "targets"
   ]
  },
  {
   "cell_type": "code",
   "execution_count": 4,
   "metadata": {},
   "outputs": [],
   "source": [
    "csvs = [x for x in os.listdir('data/') if x.endswith('.csv')] # читаем имена файлов .csv"
   ]
  },
  {
   "cell_type": "code",
   "execution_count": 5,
   "metadata": {},
   "outputs": [],
   "source": [
    "needed_csvs = []\n",
    "\n",
    "for s in csvs:\n",
    "    if 'CDC' in s:\n",
    "        needed_csvs.append(s)"
   ]
  },
  {
   "cell_type": "code",
   "execution_count": 6,
   "metadata": {},
   "outputs": [],
   "source": [
    "nms = [x.split('.')[0] for x in needed_csvs] # список имён будущих датафреймов сделаем без расширений"
   ]
  },
  {
   "cell_type": "code",
   "execution_count": 7,
   "metadata": {
    "scrolled": true
   },
   "outputs": [
    {
     "data": {
      "text/plain": [
       "['AP1_CDCFrontier_LD',\n",
       " 'AP1_CDCFrontier_SD',\n",
       " 'FD_CDCFrontier_LD',\n",
       " 'FD_CDCFrontier_SD',\n",
       " 'FTa1_CDCFrontier_LD',\n",
       " 'FTa1_CDCFrontier_SD',\n",
       " 'FTa2_CDCFrontier_LD',\n",
       " 'FTa2_CDCFrontier_SD',\n",
       " 'FTa3_CDCFrontier_LD',\n",
       " 'FTa3_CDCFrontier_SD',\n",
       " 'FTb_CDCFrontier_LD',\n",
       " 'FTb_CDCFrontier_SD',\n",
       " 'FTc_CDCFrontier_LD',\n",
       " 'FTc_CDCFrontier_SD',\n",
       " 'LFY_CDCFrontier_LD',\n",
       " 'LFY_CDCFrontier_SD',\n",
       " 'TFL1a_CDCFrontier_LD',\n",
       " 'TFL1a_CDCFrontier_SD',\n",
       " 'TFL1c_CDCFrontier_LD',\n",
       " 'TFL1c_CDCFrontier_SD']"
      ]
     },
     "execution_count": 7,
     "metadata": {},
     "output_type": "execute_result"
    }
   ],
   "source": [
    "nms"
   ]
  },
  {
   "cell_type": "code",
   "execution_count": 8,
   "metadata": {},
   "outputs": [],
   "source": [
    "for i in range(len(nms)):\n",
    "    nms[i] = '_'.join(nms[i].split('_CDCFrontier_'))"
   ]
  },
  {
   "cell_type": "code",
   "execution_count": 9,
   "metadata": {},
   "outputs": [
    {
     "data": {
      "text/plain": [
       "['AP1_LD',\n",
       " 'AP1_SD',\n",
       " 'FD_LD',\n",
       " 'FD_SD',\n",
       " 'FTa1_LD',\n",
       " 'FTa1_SD',\n",
       " 'FTa2_LD',\n",
       " 'FTa2_SD',\n",
       " 'FTa3_LD',\n",
       " 'FTa3_SD',\n",
       " 'FTb_LD',\n",
       " 'FTb_SD',\n",
       " 'FTc_LD',\n",
       " 'FTc_SD',\n",
       " 'LFY_LD',\n",
       " 'LFY_SD',\n",
       " 'TFL1a_LD',\n",
       " 'TFL1a_SD',\n",
       " 'TFL1c_LD',\n",
       " 'TFL1c_SD']"
      ]
     },
     "execution_count": 9,
     "metadata": {},
     "output_type": "execute_result"
    }
   ],
   "source": [
    "nms"
   ]
  },
  {
   "cell_type": "code",
   "execution_count": 10,
   "metadata": {},
   "outputs": [],
   "source": [
    "data = {}\n",
    "for i in range(len(nms)):\n",
    "    data[nms[i]] = pd.read_csv('data/' + needed_csvs[i], header=None, names = ['days', 'rltv_transcription_lvl', 'std_error'])"
   ]
  },
  {
   "cell_type": "code",
   "execution_count": 11,
   "metadata": {
    "scrolled": true
   },
   "outputs": [
    {
     "name": "stdout",
     "output_type": "stream",
     "text": [
      "15\n",
      "14\n"
     ]
    }
   ],
   "source": [
    "print(len(data['FTa2_LD']))\n",
    "print(len(data['FTa2_SD']))"
   ]
  },
  {
   "cell_type": "code",
   "execution_count": 13,
   "metadata": {},
   "outputs": [
    {
     "data": {
      "text/html": [
       "<div>\n",
       "<style scoped>\n",
       "    .dataframe tbody tr th:only-of-type {\n",
       "        vertical-align: middle;\n",
       "    }\n",
       "\n",
       "    .dataframe tbody tr th {\n",
       "        vertical-align: top;\n",
       "    }\n",
       "\n",
       "    .dataframe thead th {\n",
       "        text-align: right;\n",
       "    }\n",
       "</style>\n",
       "<table border=\"1\" class=\"dataframe\">\n",
       "  <thead>\n",
       "    <tr style=\"text-align: right;\">\n",
       "      <th></th>\n",
       "      <th>days</th>\n",
       "      <th>rltv_transcription_lvl</th>\n",
       "      <th>std_error</th>\n",
       "    </tr>\n",
       "  </thead>\n",
       "  <tbody>\n",
       "    <tr>\n",
       "      <th>0</th>\n",
       "      <td>9</td>\n",
       "      <td>15.862</td>\n",
       "      <td>2.228863</td>\n",
       "    </tr>\n",
       "    <tr>\n",
       "      <th>1</th>\n",
       "      <td>11</td>\n",
       "      <td>14.804</td>\n",
       "      <td>2.726000</td>\n",
       "    </tr>\n",
       "    <tr>\n",
       "      <th>2</th>\n",
       "      <td>13</td>\n",
       "      <td>15.285</td>\n",
       "      <td>2.228863</td>\n",
       "    </tr>\n",
       "    <tr>\n",
       "      <th>3</th>\n",
       "      <td>15</td>\n",
       "      <td>19.238</td>\n",
       "      <td>3.165000</td>\n",
       "    </tr>\n",
       "    <tr>\n",
       "      <th>4</th>\n",
       "      <td>17</td>\n",
       "      <td>24.466</td>\n",
       "      <td>4.703000</td>\n",
       "    </tr>\n",
       "    <tr>\n",
       "      <th>5</th>\n",
       "      <td>19</td>\n",
       "      <td>25.650</td>\n",
       "      <td>2.154000</td>\n",
       "    </tr>\n",
       "    <tr>\n",
       "      <th>6</th>\n",
       "      <td>22</td>\n",
       "      <td>40.503</td>\n",
       "      <td>9.802000</td>\n",
       "    </tr>\n",
       "    <tr>\n",
       "      <th>7</th>\n",
       "      <td>25</td>\n",
       "      <td>15.267</td>\n",
       "      <td>2.228863</td>\n",
       "    </tr>\n",
       "    <tr>\n",
       "      <th>8</th>\n",
       "      <td>28</td>\n",
       "      <td>19.571</td>\n",
       "      <td>2.228863</td>\n",
       "    </tr>\n",
       "    <tr>\n",
       "      <th>9</th>\n",
       "      <td>31</td>\n",
       "      <td>22.599</td>\n",
       "      <td>2.228863</td>\n",
       "    </tr>\n",
       "    <tr>\n",
       "      <th>10</th>\n",
       "      <td>34</td>\n",
       "      <td>26.551</td>\n",
       "      <td>2.228863</td>\n",
       "    </tr>\n",
       "    <tr>\n",
       "      <th>11</th>\n",
       "      <td>37</td>\n",
       "      <td>14.678</td>\n",
       "      <td>2.228863</td>\n",
       "    </tr>\n",
       "    <tr>\n",
       "      <th>12</th>\n",
       "      <td>40</td>\n",
       "      <td>19.993</td>\n",
       "      <td>5.362000</td>\n",
       "    </tr>\n",
       "    <tr>\n",
       "      <th>13</th>\n",
       "      <td>43</td>\n",
       "      <td>14.274</td>\n",
       "      <td>4.000000</td>\n",
       "    </tr>\n",
       "  </tbody>\n",
       "</table>\n",
       "</div>"
      ],
      "text/plain": [
       "    days  rltv_transcription_lvl  std_error\n",
       "0      9                  15.862   2.228863\n",
       "1     11                  14.804   2.726000\n",
       "2     13                  15.285   2.228863\n",
       "3     15                  19.238   3.165000\n",
       "4     17                  24.466   4.703000\n",
       "5     19                  25.650   2.154000\n",
       "6     22                  40.503   9.802000\n",
       "7     25                  15.267   2.228863\n",
       "8     28                  19.571   2.228863\n",
       "9     31                  22.599   2.228863\n",
       "10    34                  26.551   2.228863\n",
       "11    37                  14.678   2.228863\n",
       "12    40                  19.993   5.362000\n",
       "13    43                  14.274   4.000000"
      ]
     },
     "execution_count": 13,
     "metadata": {},
     "output_type": "execute_result"
    }
   ],
   "source": [
    "data['TFL1c_SD']"
   ]
  },
  {
   "cell_type": "markdown",
   "metadata": {},
   "source": [
    "## Delete last"
   ]
  },
  {
   "cell_type": "code",
   "execution_count": null,
   "metadata": {
    "scrolled": true
   },
   "outputs": [],
   "source": [
    "plt.plot(data['AP1_SD'].days, data['AP1_SD'].rltv_transcription_lvl, 'o-');"
   ]
  },
  {
   "cell_type": "code",
   "execution_count": null,
   "metadata": {
    "scrolled": true
   },
   "outputs": [],
   "source": [
    "plt.plot(data['AP1_LD'].days, data['AP1_LD'].rltv_transcription_lvl, 'o-');"
   ]
  },
  {
   "cell_type": "markdown",
   "metadata": {},
   "source": [
    "let's remove last measurements:"
   ]
  },
  {
   "cell_type": "code",
   "execution_count": null,
   "metadata": {},
   "outputs": [],
   "source": [
    "for name in data.keys():\n",
    "    if name.endswith('LD'):\n",
    "        data[name] = data[name].iloc[:-1,:]\n",
    "    else:\n",
    "        data[name] = data[name].iloc[:-3,:]"
   ]
  },
  {
   "cell_type": "code",
   "execution_count": null,
   "metadata": {
    "scrolled": false
   },
   "outputs": [],
   "source": [
    "print(len(data['FTa2_LD']))\n",
    "print(len(data['FTa2_SD']))"
   ]
  },
  {
   "cell_type": "code",
   "execution_count": null,
   "metadata": {
    "scrolled": false
   },
   "outputs": [],
   "source": [
    "plt.plot(data['AP1_SD'].days, data['AP1_SD'].rltv_transcription_lvl, 'o-');"
   ]
  },
  {
   "cell_type": "code",
   "execution_count": null,
   "metadata": {
    "scrolled": false
   },
   "outputs": [],
   "source": [
    "plt.plot(data['AP1_LD'].days, data['AP1_LD'].rltv_transcription_lvl, 'o-');"
   ]
  },
  {
   "cell_type": "markdown",
   "metadata": {},
   "source": [
    "# Resampling"
   ]
  },
  {
   "cell_type": "markdown",
   "metadata": {},
   "source": [
    "## Create samples base by days"
   ]
  },
  {
   "cell_type": "code",
   "execution_count": null,
   "metadata": {
    "scrolled": true
   },
   "outputs": [],
   "source": [
    "for i in data['AP1_LD']['days']:\n",
    "    print(i, end=' ')"
   ]
  },
  {
   "cell_type": "code",
   "execution_count": null,
   "metadata": {},
   "outputs": [],
   "source": [
    "samples_by_day = {}\n",
    "for name in nms:\n",
    "    samples_by_day[name] = {}\n",
    "\n",
    "for name in nms:\n",
    "    for i in range(len(data[name])):\n",
    "        mean = data[name].iloc[i]['rltv_transcription_lvl']\n",
    "        std = data[name].iloc[i]['std_error']\n",
    "        samples_by_day[name][data[name].iloc[i]['days']] = normal(mean, std, 100)"
   ]
  },
  {
   "cell_type": "markdown",
   "metadata": {},
   "source": [
    "## Create whole-time samples"
   ]
  },
  {
   "cell_type": "code",
   "execution_count": null,
   "metadata": {},
   "outputs": [],
   "source": [
    "names = set(n[:-3] for n in nms)"
   ]
  },
  {
   "cell_type": "markdown",
   "metadata": {},
   "source": [
    "Создадим два словаря (будущих датафрейма): ключ -- ген, значения -- уровень в определённый день.\n",
    "Каждый будет содержать уровни экспрессий в определённый момент. Так как для SD 11 дней, а для LD 14, то один полный эксперимент для каждого гена составляет 25 наблюдений. Следовательно, возьмём 40 таких экспериментов, чтобы набрать 1000 наблюдений в общем."
   ]
  },
  {
   "cell_type": "code",
   "execution_count": null,
   "metadata": {},
   "outputs": [],
   "source": [
    "synth_LD = {}\n",
    "synth_SD = {}\n",
    "\n",
    "for name in names:\n",
    "    synth_LD[name] = []\n",
    "    synth_SD[name] = []\n",
    "\n",
    "\n",
    "\n",
    "for j in range(40):\n",
    "    for name in nms:\n",
    "        whole_set = [] # искуственный эксперимент, охватывающий все дни\n",
    "        days = list(samples_by_day[name].keys())\n",
    "        \n",
    "        # перебираем по дням, из каждого равновероятно берём значение:\n",
    "        for day in days:\n",
    "            whole_set.append(random.choice(samples_by_day[name][day]))\n",
    "        \n",
    "        # сдвиг на полдня вниз для FT генов:\n",
    "        if name.startswith('FT'):\n",
    "            FT_set = [whole_set[0]]\n",
    "            for i in range(1, len(whole_set)):\n",
    "                FT_set.append((whole_set[i-1] + whole_set[i]) / 2)\n",
    "            whole_set = FT_set\n",
    "        \n",
    "        if name.endswith('LD'):\n",
    "            for element in whole_set:\n",
    "                synth_LD[name[:-3]].append(element)\n",
    "        else:\n",
    "            for element in whole_set:\n",
    "                synth_SD[name[:-3]].append(element)\n",
    "\n",
    "synth_LD = pd.DataFrame(synth_LD)\n",
    "synth_SD = pd.DataFrame(synth_SD)"
   ]
  },
  {
   "cell_type": "code",
   "execution_count": null,
   "metadata": {},
   "outputs": [],
   "source": [
    "synth_LD.tail()"
   ]
  },
  {
   "cell_type": "code",
   "execution_count": null,
   "metadata": {},
   "outputs": [],
   "source": [
    "synth_SD['LD'] = 0\n",
    "synth_LD['LD'] = 1"
   ]
  },
  {
   "cell_type": "code",
   "execution_count": null,
   "metadata": {
    "scrolled": true
   },
   "outputs": [],
   "source": [
    "synth_LD.head()"
   ]
  },
  {
   "cell_type": "code",
   "execution_count": null,
   "metadata": {},
   "outputs": [],
   "source": [
    "data['FTa2_LD']"
   ]
  },
  {
   "cell_type": "markdown",
   "metadata": {},
   "source": [
    "## Data joining"
   ]
  },
  {
   "cell_type": "code",
   "execution_count": null,
   "metadata": {},
   "outputs": [],
   "source": [
    "tr_lvls_combined = pd.concat([synth_LD, synth_SD], ignore_index=True)"
   ]
  },
  {
   "cell_type": "markdown",
   "metadata": {},
   "source": [
    "**пока что дропнем тип дня**"
   ]
  },
  {
   "cell_type": "code",
   "execution_count": null,
   "metadata": {},
   "outputs": [],
   "source": [
    "tr_lvls_combined = tr_lvls_combined.drop('LD', axis = 1)"
   ]
  },
  {
   "cell_type": "code",
   "execution_count": null,
   "metadata": {
    "scrolled": false
   },
   "outputs": [],
   "source": [
    "tr_lvls_combined.head()"
   ]
  },
  {
   "cell_type": "code",
   "execution_count": null,
   "metadata": {},
   "outputs": [],
   "source": [
    "tr_lvls_combined = tr_lvls_combined.reindex(sorted(tr_lvls_combined.columns), axis=1)"
   ]
  },
  {
   "cell_type": "code",
   "execution_count": null,
   "metadata": {
    "scrolled": true
   },
   "outputs": [],
   "source": [
    "tr_lvls_combined.head(1)"
   ]
  },
  {
   "cell_type": "markdown",
   "metadata": {},
   "source": [
    "## Write prepared data to file for further usage"
   ]
  },
  {
   "cell_type": "code",
   "execution_count": null,
   "metadata": {},
   "outputs": [],
   "source": [
    "tr_lvls_combined.to_csv('data/prepared/data_processed.csv', index=False)"
   ]
  },
  {
   "cell_type": "markdown",
   "metadata": {},
   "source": [
    "# Real data tests"
   ]
  },
  {
   "cell_type": "code",
   "execution_count": 15,
   "metadata": {},
   "outputs": [],
   "source": [
    "def logging(description, out):\n",
    "    string = str(description) + ': ' + str(out)\n",
    "    with open('results/NN/NN_log.txt', 'a') as out_file:\n",
    "        out_file.write(string + '\\n')\n",
    "    print(string)"
   ]
  },
  {
   "cell_type": "code",
   "execution_count": 16,
   "metadata": {},
   "outputs": [],
   "source": [
    "def clear_log():\n",
    "    with open('results/NN/NN_log.txt', 'w') as out_file:\n",
    "        out_file.write('log file have been cleared ' + str(datetime.datetime.now().strftime('%d-%m-%Y %H:%M:%S')))"
   ]
  },
  {
   "cell_type": "code",
   "execution_count": 17,
   "metadata": {
    "scrolled": true
   },
   "outputs": [],
   "source": [
    "with open('SVR_model2.cached', 'rb') as file:\n",
    "    model = dill.load(file)"
   ]
  },
  {
   "cell_type": "code",
   "execution_count": 18,
   "metadata": {},
   "outputs": [
    {
     "data": {
      "text/plain": [
       "['AP1_LD',\n",
       " 'AP1_SD',\n",
       " 'FD_LD',\n",
       " 'FD_SD',\n",
       " 'FTa1_LD',\n",
       " 'FTa1_SD',\n",
       " 'FTa2_LD',\n",
       " 'FTa2_SD',\n",
       " 'FTa3_LD',\n",
       " 'FTa3_SD',\n",
       " 'FTb_LD',\n",
       " 'FTb_SD',\n",
       " 'FTc_LD',\n",
       " 'FTc_SD',\n",
       " 'LFY_LD',\n",
       " 'LFY_SD',\n",
       " 'TFL1a_LD',\n",
       " 'TFL1a_SD',\n",
       " 'TFL1c_LD',\n",
       " 'TFL1c_SD']"
      ]
     },
     "execution_count": 18,
     "metadata": {},
     "output_type": "execute_result"
    }
   ],
   "source": [
    "nms"
   ]
  },
  {
   "cell_type": "code",
   "execution_count": 27,
   "metadata": {},
   "outputs": [],
   "source": [
    "gene_names = []\n",
    "\n",
    "for name in nms:\n",
    "    gene_names.append(name[:-3])\n",
    "    \n",
    "gene_names = np.unique(gene_names)"
   ]
  },
  {
   "cell_type": "code",
   "execution_count": 28,
   "metadata": {
    "scrolled": true
   },
   "outputs": [
    {
     "data": {
      "text/plain": [
       "array(['AP1', 'FD', 'FTa1', 'FTa2', 'FTa3', 'FTb', 'FTc', 'LFY', 'TFL1a',\n",
       "       'TFL1c'], dtype='<U5')"
      ]
     },
     "execution_count": 28,
     "metadata": {},
     "output_type": "execute_result"
    }
   ],
   "source": [
    "gene_names"
   ]
  },
  {
   "cell_type": "code",
   "execution_count": 21,
   "metadata": {},
   "outputs": [],
   "source": [
    "true_lvls_SD = {}\n",
    "true_lvls_LD = {}"
   ]
  },
  {
   "cell_type": "code",
   "execution_count": 22,
   "metadata": {},
   "outputs": [],
   "source": [
    "for name in nms:\n",
    "    if name.endswith('LD'):\n",
    "        true_lvls_LD[name[:-3]] = data[name].rltv_transcription_lvl.values\n",
    "    else:\n",
    "        true_lvls_SD[name[:-3]] = data[name].rltv_transcription_lvl.values\n",
    "\n",
    "true_lvls_LD = pd.DataFrame(true_lvls_LD)\n",
    "true_lvls_SD = pd.DataFrame(true_lvls_SD)"
   ]
  },
  {
   "cell_type": "code",
   "execution_count": 23,
   "metadata": {
    "scrolled": true
   },
   "outputs": [
    {
     "data": {
      "text/html": [
       "<div>\n",
       "<style scoped>\n",
       "    .dataframe tbody tr th:only-of-type {\n",
       "        vertical-align: middle;\n",
       "    }\n",
       "\n",
       "    .dataframe tbody tr th {\n",
       "        vertical-align: top;\n",
       "    }\n",
       "\n",
       "    .dataframe thead th {\n",
       "        text-align: right;\n",
       "    }\n",
       "</style>\n",
       "<table border=\"1\" class=\"dataframe\">\n",
       "  <thead>\n",
       "    <tr style=\"text-align: right;\">\n",
       "      <th></th>\n",
       "      <th>AP1</th>\n",
       "      <th>FD</th>\n",
       "      <th>FTa1</th>\n",
       "      <th>FTa2</th>\n",
       "      <th>FTa3</th>\n",
       "      <th>FTb</th>\n",
       "      <th>FTc</th>\n",
       "      <th>LFY</th>\n",
       "      <th>TFL1a</th>\n",
       "      <th>TFL1c</th>\n",
       "    </tr>\n",
       "  </thead>\n",
       "  <tbody>\n",
       "    <tr>\n",
       "      <th>0</th>\n",
       "      <td>2</td>\n",
       "      <td>31.53</td>\n",
       "      <td>2</td>\n",
       "      <td>8</td>\n",
       "      <td>0.9</td>\n",
       "      <td>3</td>\n",
       "      <td>0</td>\n",
       "      <td>6.4</td>\n",
       "      <td>22.021</td>\n",
       "      <td>25.556</td>\n",
       "    </tr>\n",
       "    <tr>\n",
       "      <th>1</th>\n",
       "      <td>0</td>\n",
       "      <td>47.62</td>\n",
       "      <td>0</td>\n",
       "      <td>11</td>\n",
       "      <td>0.5</td>\n",
       "      <td>7</td>\n",
       "      <td>0</td>\n",
       "      <td>12.1</td>\n",
       "      <td>20.489</td>\n",
       "      <td>25.263</td>\n",
       "    </tr>\n",
       "    <tr>\n",
       "      <th>2</th>\n",
       "      <td>6</td>\n",
       "      <td>45.41</td>\n",
       "      <td>1</td>\n",
       "      <td>29</td>\n",
       "      <td>0.8</td>\n",
       "      <td>6</td>\n",
       "      <td>0</td>\n",
       "      <td>21.4</td>\n",
       "      <td>27.397</td>\n",
       "      <td>32.982</td>\n",
       "    </tr>\n",
       "    <tr>\n",
       "      <th>3</th>\n",
       "      <td>5</td>\n",
       "      <td>40.89</td>\n",
       "      <td>5</td>\n",
       "      <td>60</td>\n",
       "      <td>10.2</td>\n",
       "      <td>28</td>\n",
       "      <td>0</td>\n",
       "      <td>56.8</td>\n",
       "      <td>33.074</td>\n",
       "      <td>39.708</td>\n",
       "    </tr>\n",
       "    <tr>\n",
       "      <th>4</th>\n",
       "      <td>23</td>\n",
       "      <td>79.47</td>\n",
       "      <td>9</td>\n",
       "      <td>50</td>\n",
       "      <td>1.3</td>\n",
       "      <td>12</td>\n",
       "      <td>0</td>\n",
       "      <td>77.1</td>\n",
       "      <td>42.561</td>\n",
       "      <td>32.222</td>\n",
       "    </tr>\n",
       "    <tr>\n",
       "      <th>5</th>\n",
       "      <td>33</td>\n",
       "      <td>71.69</td>\n",
       "      <td>40</td>\n",
       "      <td>86</td>\n",
       "      <td>2.5</td>\n",
       "      <td>58</td>\n",
       "      <td>0</td>\n",
       "      <td>48.9</td>\n",
       "      <td>54.798</td>\n",
       "      <td>67.895</td>\n",
       "    </tr>\n",
       "    <tr>\n",
       "      <th>6</th>\n",
       "      <td>1</td>\n",
       "      <td>25.86</td>\n",
       "      <td>10</td>\n",
       "      <td>18</td>\n",
       "      <td>3.4</td>\n",
       "      <td>7</td>\n",
       "      <td>0</td>\n",
       "      <td>16.0</td>\n",
       "      <td>8.314</td>\n",
       "      <td>11.930</td>\n",
       "    </tr>\n",
       "    <tr>\n",
       "      <th>7</th>\n",
       "      <td>92</td>\n",
       "      <td>43.31</td>\n",
       "      <td>10</td>\n",
       "      <td>68</td>\n",
       "      <td>4.7</td>\n",
       "      <td>127</td>\n",
       "      <td>0</td>\n",
       "      <td>45.1</td>\n",
       "      <td>18.325</td>\n",
       "      <td>25.731</td>\n",
       "    </tr>\n",
       "    <tr>\n",
       "      <th>8</th>\n",
       "      <td>19</td>\n",
       "      <td>45.20</td>\n",
       "      <td>10</td>\n",
       "      <td>37</td>\n",
       "      <td>2.1</td>\n",
       "      <td>61</td>\n",
       "      <td>0</td>\n",
       "      <td>27.7</td>\n",
       "      <td>15.851</td>\n",
       "      <td>18.713</td>\n",
       "    </tr>\n",
       "    <tr>\n",
       "      <th>9</th>\n",
       "      <td>355</td>\n",
       "      <td>81.78</td>\n",
       "      <td>6</td>\n",
       "      <td>52</td>\n",
       "      <td>14.8</td>\n",
       "      <td>102</td>\n",
       "      <td>14</td>\n",
       "      <td>50.9</td>\n",
       "      <td>22.232</td>\n",
       "      <td>29.766</td>\n",
       "    </tr>\n",
       "    <tr>\n",
       "      <th>10</th>\n",
       "      <td>117</td>\n",
       "      <td>36.26</td>\n",
       "      <td>1</td>\n",
       "      <td>16</td>\n",
       "      <td>3.0</td>\n",
       "      <td>13</td>\n",
       "      <td>0</td>\n",
       "      <td>63.7</td>\n",
       "      <td>11.323</td>\n",
       "      <td>15.029</td>\n",
       "    </tr>\n",
       "    <tr>\n",
       "      <th>11</th>\n",
       "      <td>649</td>\n",
       "      <td>63.59</td>\n",
       "      <td>29</td>\n",
       "      <td>62</td>\n",
       "      <td>90.4</td>\n",
       "      <td>140</td>\n",
       "      <td>0</td>\n",
       "      <td>124.2</td>\n",
       "      <td>24.033</td>\n",
       "      <td>31.462</td>\n",
       "    </tr>\n",
       "    <tr>\n",
       "      <th>12</th>\n",
       "      <td>691</td>\n",
       "      <td>81.78</td>\n",
       "      <td>6</td>\n",
       "      <td>34</td>\n",
       "      <td>6.8</td>\n",
       "      <td>25</td>\n",
       "      <td>0</td>\n",
       "      <td>126.1</td>\n",
       "      <td>15.465</td>\n",
       "      <td>19.240</td>\n",
       "    </tr>\n",
       "    <tr>\n",
       "      <th>13</th>\n",
       "      <td>1025</td>\n",
       "      <td>112.37</td>\n",
       "      <td>41</td>\n",
       "      <td>116</td>\n",
       "      <td>32.2</td>\n",
       "      <td>73</td>\n",
       "      <td>2</td>\n",
       "      <td>95.7</td>\n",
       "      <td>16.039</td>\n",
       "      <td>40.877</td>\n",
       "    </tr>\n",
       "    <tr>\n",
       "      <th>14</th>\n",
       "      <td>223</td>\n",
       "      <td>25.23</td>\n",
       "      <td>12</td>\n",
       "      <td>14</td>\n",
       "      <td>25.5</td>\n",
       "      <td>4</td>\n",
       "      <td>0</td>\n",
       "      <td>25.5</td>\n",
       "      <td>10.577</td>\n",
       "      <td>10.058</td>\n",
       "    </tr>\n",
       "  </tbody>\n",
       "</table>\n",
       "</div>"
      ],
      "text/plain": [
       "     AP1      FD  FTa1  FTa2  FTa3  FTb  FTc    LFY   TFL1a   TFL1c\n",
       "0      2   31.53     2     8   0.9    3    0    6.4  22.021  25.556\n",
       "1      0   47.62     0    11   0.5    7    0   12.1  20.489  25.263\n",
       "2      6   45.41     1    29   0.8    6    0   21.4  27.397  32.982\n",
       "3      5   40.89     5    60  10.2   28    0   56.8  33.074  39.708\n",
       "4     23   79.47     9    50   1.3   12    0   77.1  42.561  32.222\n",
       "5     33   71.69    40    86   2.5   58    0   48.9  54.798  67.895\n",
       "6      1   25.86    10    18   3.4    7    0   16.0   8.314  11.930\n",
       "7     92   43.31    10    68   4.7  127    0   45.1  18.325  25.731\n",
       "8     19   45.20    10    37   2.1   61    0   27.7  15.851  18.713\n",
       "9    355   81.78     6    52  14.8  102   14   50.9  22.232  29.766\n",
       "10   117   36.26     1    16   3.0   13    0   63.7  11.323  15.029\n",
       "11   649   63.59    29    62  90.4  140    0  124.2  24.033  31.462\n",
       "12   691   81.78     6    34   6.8   25    0  126.1  15.465  19.240\n",
       "13  1025  112.37    41   116  32.2   73    2   95.7  16.039  40.877\n",
       "14   223   25.23    12    14  25.5    4    0   25.5  10.577  10.058"
      ]
     },
     "execution_count": 23,
     "metadata": {},
     "output_type": "execute_result"
    }
   ],
   "source": [
    "true_lvls_LD"
   ]
  },
  {
   "cell_type": "code",
   "execution_count": 31,
   "metadata": {},
   "outputs": [],
   "source": [
    "with open('SVR_scalers2.cached', 'rb') as f:\n",
    "    st_scalers = dill.load(f)"
   ]
  },
  {
   "cell_type": "code",
   "execution_count": 39,
   "metadata": {},
   "outputs": [
    {
     "name": "stderr",
     "output_type": "stream",
     "text": [
      "C:\\Users\\Boris\\Anaconda3\\lib\\site-packages\\sklearn\\preprocessing\\data.py:645: DataConversionWarning: Data with input dtype int64, float64 were all converted to float64 by StandardScaler.\n",
      "  return self.partial_fit(X, y)\n",
      "C:\\Users\\Boris\\Anaconda3\\lib\\site-packages\\sklearn\\base.py:464: DataConversionWarning: Data with input dtype int64, float64 were all converted to float64 by StandardScaler.\n",
      "  return self.fit(X, **fit_params).transform(X)\n",
      "C:\\Users\\Boris\\Anaconda3\\lib\\site-packages\\sklearn\\preprocessing\\data.py:645: DataConversionWarning: Data with input dtype int64, float64 were all converted to float64 by StandardScaler.\n",
      "  return self.partial_fit(X, y)\n",
      "C:\\Users\\Boris\\Anaconda3\\lib\\site-packages\\sklearn\\base.py:464: DataConversionWarning: Data with input dtype int64, float64 were all converted to float64 by StandardScaler.\n",
      "  return self.fit(X, **fit_params).transform(X)\n"
     ]
    }
   ],
   "source": [
    "true_lvls_LD_st = pd.DataFrame(StandardScaler().fit_transform(true_lvls_LD), columns=gene_names)\n",
    "true_lvls_SD_st = pd.DataFrame(StandardScaler().fit_transform(true_lvls_SD), columns=gene_names)"
   ]
  },
  {
   "cell_type": "code",
   "execution_count": 42,
   "metadata": {},
   "outputs": [],
   "source": [
    "predictions_LD = {}\n",
    "predictions_SD = {}"
   ]
  },
  {
   "cell_type": "code",
   "execution_count": 43,
   "metadata": {},
   "outputs": [],
   "source": [
    "for name in gene_names:\n",
    "    predictions_LD[name] = model[name].predict(true_lvls_LD_st.drop(name, axis=1))\n",
    "    predictions_SD[name] = model[name].predict(true_lvls_SD_st.drop(name, axis=1))"
   ]
  },
  {
   "cell_type": "code",
   "execution_count": 45,
   "metadata": {},
   "outputs": [
    {
     "data": {
      "text/plain": [
       "[<matplotlib.lines.Line2D at 0x24a00b63be0>]"
      ]
     },
     "execution_count": 45,
     "metadata": {},
     "output_type": "execute_result"
    },
    {
     "data": {
      "image/png": "[encoded data removed]",
      "text/plain": [
       "<Figure size 432x288 with 1 Axes>"
      ]
     },
     "metadata": {
      "needs_background": "light"
     },
     "output_type": "display_data"
    }
   ],
   "source": [
    "plt.plot(predictions_LD['AP1'], true_lvls_LD['AP1'], 'o')"
   ]
  }
 ],
 "metadata": {
  "celltoolbar": "Raw Cell Format",
  "kernelspec": {
   "display_name": "Python (base)",
   "language": "python",
   "name": "base"
  },
  "language_info": {
   "codemirror_mode": {
    "name": "ipython",
    "version": 3
   },
   "file_extension": ".py",
   "mimetype": "text/x-python",
   "name": "python",
   "nbconvert_exporter": "python",
   "pygments_lexer": "ipython3",
   "version": "3.7.1"
  },
  "toc": {
   "base_numbering": 1,
   "nav_menu": {},
   "number_sections": true,
   "sideBar": true,
   "skip_h1_title": false,
   "title_cell": "Table of Contents",
   "title_sidebar": "Contents",
   "toc_cell": false,
   "toc_position": {
    "height": "calc(100% - 180px)",
    "left": "10px",
    "top": "150px",
    "width": "220px"
   },
   "toc_section_display": true,
   "toc_window_display": true
  }
 },
 "nbformat": 4,
 "nbformat_minor": 2
}
