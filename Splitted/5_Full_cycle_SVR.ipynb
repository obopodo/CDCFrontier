{
 "cells": [
  {
   "cell_type": "markdown",
   "metadata": {},
   "source": [
    "# Imports"
   ]
  },
  {
   "cell_type": "code",
   "execution_count": 2,
   "metadata": {},
   "outputs": [],
   "source": [
    "import pandas as pd\n",
    "import numpy as np\n",
    "\n",
    "# import seaborn as sns\n",
    "import matplotlib as mpl\n",
    "import matplotlib.pyplot as plt\n",
    "\n",
    "# from numpy.random import normal, uniform\n",
    "# import random\n",
    "\n",
    "from sklearn.preprocessing import StandardScaler\n",
    "from sklearn.model_selection import KFold, train_test_split, GridSearchCV\n",
    "from sklearn.metrics import mean_squared_error, r2_score\n",
    "from sklearn.svm import SVR\n",
    "\n",
    "import dill\n",
    "import datetime"
   ]
  },
  {
   "cell_type": "code",
   "execution_count": 4,
   "metadata": {},
   "outputs": [],
   "source": [
    "%matplotlib inline"
   ]
  },
  {
   "cell_type": "code",
   "execution_count": 3,
   "metadata": {},
   "outputs": [
    {
     "ename": "FileNotFoundError",
     "evalue": "[Errno 2] No such file or directory: 'Full_SVR.db'",
     "output_type": "error",
     "traceback": [
      "\u001b[1;31m---------------------------------------------------------------------------\u001b[0m",
      "\u001b[1;31mFileNotFoundError\u001b[0m                         Traceback (most recent call last)",
      "\u001b[1;32m<ipython-input-3-aee39cf60572>\u001b[0m in \u001b[0;36m<module>\u001b[1;34m\u001b[0m\n\u001b[1;32m----> 1\u001b[1;33m \u001b[0mdill\u001b[0m\u001b[1;33m.\u001b[0m\u001b[0mload_session\u001b[0m\u001b[1;33m(\u001b[0m\u001b[1;34m'Full_SVR.db'\u001b[0m\u001b[1;33m)\u001b[0m\u001b[1;33m\u001b[0m\u001b[1;33m\u001b[0m\u001b[0m\n\u001b[0m",
      "\u001b[1;32m~\\Anaconda3\\lib\\site-packages\\dill\\_dill.py\u001b[0m in \u001b[0;36mload_session\u001b[1;34m(filename, main)\u001b[0m\n\u001b[0;32m    403\u001b[0m         \u001b[0mf\u001b[0m \u001b[1;33m=\u001b[0m \u001b[0mfilename\u001b[0m\u001b[1;33m\u001b[0m\u001b[1;33m\u001b[0m\u001b[0m\n\u001b[0;32m    404\u001b[0m     \u001b[1;32melse\u001b[0m\u001b[1;33m:\u001b[0m\u001b[1;33m\u001b[0m\u001b[1;33m\u001b[0m\u001b[0m\n\u001b[1;32m--> 405\u001b[1;33m         \u001b[0mf\u001b[0m \u001b[1;33m=\u001b[0m \u001b[0mopen\u001b[0m\u001b[1;33m(\u001b[0m\u001b[0mfilename\u001b[0m\u001b[1;33m,\u001b[0m \u001b[1;34m'rb'\u001b[0m\u001b[1;33m)\u001b[0m\u001b[1;33m\u001b[0m\u001b[1;33m\u001b[0m\u001b[0m\n\u001b[0m\u001b[0;32m    406\u001b[0m     \u001b[1;32mtry\u001b[0m\u001b[1;33m:\u001b[0m\u001b[1;33m\u001b[0m\u001b[1;33m\u001b[0m\u001b[0m\n\u001b[0;32m    407\u001b[0m         \u001b[0munpickler\u001b[0m \u001b[1;33m=\u001b[0m \u001b[0mUnpickler\u001b[0m\u001b[1;33m(\u001b[0m\u001b[0mf\u001b[0m\u001b[1;33m)\u001b[0m\u001b[1;33m\u001b[0m\u001b[1;33m\u001b[0m\u001b[0m\n",
      "\u001b[1;31mFileNotFoundError\u001b[0m: [Errno 2] No such file or directory: 'Full_SVR.db'"
     ]
    }
   ],
   "source": [
    "dill.load_session('Full_SVR.db')"
   ]
  },
  {
   "cell_type": "code",
   "execution_count": 5,
   "metadata": {},
   "outputs": [],
   "source": [
    "SEED = 73 # random seed"
   ]
  },
  {
   "cell_type": "markdown",
   "metadata": {},
   "source": [
    "# Data reading "
   ]
  },
  {
   "cell_type": "code",
   "execution_count": 6,
   "metadata": {},
   "outputs": [],
   "source": [
    "data = pd.read_csv('data/prepared/data_processed.csv')"
   ]
  },
  {
   "cell_type": "code",
   "execution_count": 7,
   "metadata": {
    "scrolled": true
   },
   "outputs": [
    {
     "data": {
      "text/plain": [
       "Index(['AP1', 'FD', 'FTa1', 'FTa2', 'FTa3', 'FTb', 'FTc', 'LFY', 'TFL1a',\n",
       "       'TFL1c'],\n",
       "      dtype='object')"
      ]
     },
     "execution_count": 7,
     "metadata": {},
     "output_type": "execute_result"
    }
   ],
   "source": [
    "names = data.columns\n",
    "names"
   ]
  },
  {
   "cell_type": "code",
   "execution_count": 8,
   "metadata": {},
   "outputs": [],
   "source": [
    "gs = {} # dict of GS-tuned models"
   ]
  },
  {
   "cell_type": "code",
   "execution_count": 9,
   "metadata": {},
   "outputs": [],
   "source": [
    "st_scalers = {}"
   ]
  },
  {
   "cell_type": "code",
   "execution_count": 23,
   "metadata": {},
   "outputs": [],
   "source": [
    "def logging(description, out):\n",
    "    string = str(description) + ': ' + str(out)\n",
    "    with open('results/SVR_log.txt', 'a') as out_file:\n",
    "        out_file.write(string + '\\n')\n",
    "    print(string)"
   ]
  },
  {
   "cell_type": "code",
   "execution_count": 11,
   "metadata": {},
   "outputs": [
    {
     "name": "stdout",
     "output_type": "stream",
     "text": [
      "Running datetime: 24-08-2019 00:46:10\n",
      "\n"
     ]
    }
   ],
   "source": [
    "logging('Running datetime', str(datetime.datetime.now().strftime('%d-%m-%Y %H:%M:%S')))"
   ]
  },
  {
   "cell_type": "markdown",
   "metadata": {},
   "source": [
    "# Everything below should be in cycle !!!!"
   ]
  },
  {
   "cell_type": "code",
   "execution_count": 12,
   "metadata": {},
   "outputs": [
    {
     "data": {
      "text/plain": [
       "'AP1'"
      ]
     },
     "execution_count": 12,
     "metadata": {},
     "output_type": "execute_result"
    }
   ],
   "source": [
    "current_target = names[0]\n",
    "current_target"
   ]
  },
  {
   "cell_type": "code",
   "execution_count": 13,
   "metadata": {},
   "outputs": [],
   "source": [
    "# for name in names:\n",
    "#     current_target = name\n",
    "    "
   ]
  },
  {
   "cell_type": "code",
   "execution_count": 14,
   "metadata": {},
   "outputs": [
    {
     "name": "stdout",
     "output_type": "stream",
     "text": [
      "target: AP1\n",
      "\n"
     ]
    }
   ],
   "source": [
    "logging('target', current_target)"
   ]
  },
  {
   "cell_type": "code",
   "execution_count": 15,
   "metadata": {},
   "outputs": [],
   "source": [
    "# Choose target and standartize the data\n",
    "\n",
    "y = data[current_target]\n",
    "X = data.drop(current_target, axis=1)"
   ]
  },
  {
   "cell_type": "code",
   "execution_count": 16,
   "metadata": {},
   "outputs": [],
   "source": [
    "st_scalers[current_target] = StandardScaler()"
   ]
  },
  {
   "cell_type": "code",
   "execution_count": 17,
   "metadata": {},
   "outputs": [],
   "source": [
    "X_st = st_scalers[current_target].fit_transform(X)"
   ]
  },
  {
   "cell_type": "code",
   "execution_count": 18,
   "metadata": {},
   "outputs": [],
   "source": [
    "# train-test split\n",
    "\n",
    "X_st_train, X_st_test, y_train, y_test = train_test_split(X, y,\n",
    "                                                    test_size = 0.25, random_state=SEED, shuffle=True)"
   ]
  },
  {
   "cell_type": "markdown",
   "metadata": {},
   "source": [
    "# SVR model"
   ]
  },
  {
   "cell_type": "markdown",
   "metadata": {},
   "source": [
    "## Model building"
   ]
  },
  {
   "cell_type": "code",
   "execution_count": 86,
   "metadata": {},
   "outputs": [],
   "source": [
    "svm_reg = SVR(kernel='rbf', epsilon=1)"
   ]
  },
  {
   "cell_type": "markdown",
   "metadata": {},
   "source": [
    "\n",
    "\n",
    "## Rough grid search"
   ]
  },
  {
   "cell_type": "code",
   "execution_count": 87,
   "metadata": {},
   "outputs": [],
   "source": [
    "cv = KFold(n_splits=5, shuffle=True, random_state=SEED)\n",
    "\n",
    "grid = {\n",
    "    'gamma': np.geomspace(0.0001, 10, 6),\n",
    "    'C': np.geomspace(0.0001, 1000, 8)\n",
    "    #'epsilon': np.geomspace(0.0001, 10, 6)\n",
    "}\n",
    "\n",
    "gs[current_target] = GridSearchCV(svm_reg, grid, \n",
    "                  n_jobs=-1, \n",
    "                  scoring=['neg_mean_squared_error', 'r2'], \n",
    "                  refit='neg_mean_squared_error', \n",
    "                  cv=cv, \n",
    "                  verbose=10)"
   ]
  },
  {
   "cell_type": "code",
   "execution_count": 88,
   "metadata": {
    "scrolled": true
   },
   "outputs": [
    {
     "name": "stdout",
     "output_type": "stream",
     "text": [
      "Fitting 5 folds for each of 48 candidates, totalling 240 fits\n"
     ]
    },
    {
     "name": "stderr",
     "output_type": "stream",
     "text": [
      "[Parallel(n_jobs=-1)]: Using backend LokyBackend with 4 concurrent workers.\n",
      "[Parallel(n_jobs=-1)]: Batch computation too fast (0.0768s.) Setting batch_size=4.\n",
      "[Parallel(n_jobs=-1)]: Done   5 tasks      | elapsed:    0.1s\n",
      "[Parallel(n_jobs=-1)]: Done  16 tasks      | elapsed:    0.5s\n",
      "[Parallel(n_jobs=-1)]: Done  44 tasks      | elapsed:    1.3s\n",
      "[Parallel(n_jobs=-1)]: Done  72 tasks      | elapsed:    2.0s\n",
      "[Parallel(n_jobs=-1)]: Done 108 tasks      | elapsed:    3.4s\n",
      "[Parallel(n_jobs=-1)]: Done 144 tasks      | elapsed:    4.7s\n",
      "[Parallel(n_jobs=-1)]: Done 188 tasks      | elapsed:    5.9s\n"
     ]
    },
    {
     "name": "stdout",
     "output_type": "stream",
     "text": [
      "Wall time: 8.09 s\n"
     ]
    },
    {
     "name": "stderr",
     "output_type": "stream",
     "text": [
      "[Parallel(n_jobs=-1)]: Done 240 out of 240 | elapsed:    7.9s finished\n"
     ]
    },
    {
     "data": {
      "text/plain": [
       "GridSearchCV(cv=KFold(n_splits=5, random_state=73, shuffle=True),\n",
       "       error_score='raise-deprecating',\n",
       "       estimator=SVR(C=1.0, cache_size=200, coef0=0.0, degree=3, epsilon=1,\n",
       "  gamma='auto_deprecated', kernel='rbf', max_iter=-1, shrinking=True,\n",
       "  tol=0.001, verbose=False),\n",
       "       fit_params=None, iid='warn', n_jobs=-1,\n",
       "       param_grid={'gamma': array([1.e-04, 1.e-03, 1.e-02, 1.e-01, 1.e+00, 1.e+01]), 'C': array([1.e-04, 1.e-03, 1.e-02, 1.e-01, 1.e+00, 1.e+01, 1.e+02, 1.e+03])},\n",
       "       pre_dispatch='2*n_jobs', refit='neg_mean_squared_error',\n",
       "       return_train_score='warn', scoring=['neg_mean_squared_error', 'r2'],\n",
       "       verbose=10)"
      ]
     },
     "execution_count": 88,
     "metadata": {},
     "output_type": "execute_result"
    }
   ],
   "source": [
    "%%time\n",
    "gs[current_target].fit(X_st_train, y_train);"
   ]
  },
  {
   "cell_type": "code",
   "execution_count": 89,
   "metadata": {
    "scrolled": true
   },
   "outputs": [
    {
     "name": "stdout",
     "output_type": "stream",
     "text": [
      "Rough tuning: {'C': 1000.0, 'gamma': 0.0001}\n"
     ]
    }
   ],
   "source": [
    "logging('Rough tuning', str(gs[current_target].best_params_))    "
   ]
  },
  {
   "cell_type": "code",
   "execution_count": 90,
   "metadata": {
    "scrolled": true
   },
   "outputs": [],
   "source": [
    "gamma, C = gs[current_target].best_params_['gamma'], gs[current_target].best_params_['C']"
   ]
  },
  {
   "cell_type": "markdown",
   "metadata": {},
   "source": [
    "## Fine tuning"
   ]
  },
  {
   "cell_type": "code",
   "execution_count": 99,
   "metadata": {},
   "outputs": [],
   "source": [
    "cv = KFold(n_splits=5, shuffle=True, random_state=SEED)\n",
    "\n",
    "grid = {\n",
    "    'gamma': np.geomspace(gamma/5, gamma*5, 10),\n",
    "    'C': np.geomspace(C/5, C*5, 10)\n",
    "    #'epsilon': np.geomspace(epsilon/5, epsilon*5, 10)\n",
    "}\n",
    "\n",
    "gs[current_target] = GridSearchCV(svm_reg, grid, \n",
    "                  n_jobs=-1, \n",
    "                  scoring=['neg_mean_squared_error', 'r2'], \n",
    "                  refit='neg_mean_squared_error', \n",
    "                  cv=cv, \n",
    "                  verbose=10)"
   ]
  },
  {
   "cell_type": "code",
   "execution_count": 100,
   "metadata": {},
   "outputs": [
    {
     "name": "stdout",
     "output_type": "stream",
     "text": [
      "Fitting 5 folds for each of 100 candidates, totalling 500 fits\n"
     ]
    },
    {
     "name": "stderr",
     "output_type": "stream",
     "text": [
      "[Parallel(n_jobs=-1)]: Using backend LokyBackend with 4 concurrent workers.\n",
      "[Parallel(n_jobs=-1)]: Batch computation too fast (0.1326s.) Setting batch_size=2.\n",
      "[Parallel(n_jobs=-1)]: Done   5 tasks      | elapsed:    0.1s\n",
      "[Parallel(n_jobs=-1)]: Done  12 tasks      | elapsed:    0.3s\n",
      "[Parallel(n_jobs=-1)]: Done  26 tasks      | elapsed:    0.7s\n",
      "[Parallel(n_jobs=-1)]: Done  40 tasks      | elapsed:    0.9s\n",
      "[Parallel(n_jobs=-1)]: Done  58 tasks      | elapsed:    1.5s\n",
      "[Parallel(n_jobs=-1)]: Done  76 tasks      | elapsed:    1.8s\n",
      "[Parallel(n_jobs=-1)]: Done  98 tasks      | elapsed:    2.6s\n",
      "[Parallel(n_jobs=-1)]: Done 120 tasks      | elapsed:    3.2s\n",
      "[Parallel(n_jobs=-1)]: Done 146 tasks      | elapsed:    3.9s\n",
      "[Parallel(n_jobs=-1)]: Done 172 tasks      | elapsed:    4.4s\n",
      "[Parallel(n_jobs=-1)]: Done 202 tasks      | elapsed:    5.4s\n",
      "[Parallel(n_jobs=-1)]: Done 232 tasks      | elapsed:    6.2s\n",
      "[Parallel(n_jobs=-1)]: Done 266 tasks      | elapsed:    7.1s\n",
      "[Parallel(n_jobs=-1)]: Done 300 tasks      | elapsed:    8.3s\n",
      "[Parallel(n_jobs=-1)]: Done 338 tasks      | elapsed:    9.5s\n",
      "[Parallel(n_jobs=-1)]: Done 376 tasks      | elapsed:   10.8s\n",
      "[Parallel(n_jobs=-1)]: Done 418 tasks      | elapsed:   12.7s\n",
      "[Parallel(n_jobs=-1)]: Done 460 tasks      | elapsed:   15.0s\n"
     ]
    },
    {
     "name": "stdout",
     "output_type": "stream",
     "text": [
      "Wall time: 18.1 s\n"
     ]
    },
    {
     "name": "stderr",
     "output_type": "stream",
     "text": [
      "[Parallel(n_jobs=-1)]: Done 500 out of 500 | elapsed:   17.9s finished\n"
     ]
    },
    {
     "data": {
      "text/plain": [
       "GridSearchCV(cv=KFold(n_splits=5, random_state=73, shuffle=True),\n",
       "       error_score='raise-deprecating',\n",
       "       estimator=SVR(C=1.0, cache_size=200, coef0=0.0, degree=3, epsilon=1,\n",
       "  gamma='auto_deprecated', kernel='rbf', max_iter=-1, shrinking=True,\n",
       "  tol=0.001, verbose=False),\n",
       "       fit_params=None, iid='warn', n_jobs=-1,\n",
       "       param_grid={'gamma': array([2.00000e-05, 2.85994e-05, 4.08962e-05, 5.84804e-05, 8.36251e-05,\n",
       "       1.19581e-04, 1.70998e-04, 2.44521e-04, 3.49658e-04, 5.00000e-04]), 'C': array([ 200.     ,  285.99383,  408.96235,  584.80355,  836.25103,\n",
       "       1195.81317, 1709.97595, 2445.21285, 3496.57893, 5000.     ])},\n",
       "       pre_dispatch='2*n_jobs', refit='neg_mean_squared_error',\n",
       "       return_train_score='warn', scoring=['neg_mean_squared_error', 'r2'],\n",
       "       verbose=10)"
      ]
     },
     "execution_count": 100,
     "metadata": {},
     "output_type": "execute_result"
    }
   ],
   "source": [
    "%%time\n",
    "gs[current_target].fit(X_st_train, y_train);"
   ]
  },
  {
   "cell_type": "code",
   "execution_count": 101,
   "metadata": {
    "scrolled": false
   },
   "outputs": [
    {
     "data": {
      "text/plain": [
       "{'C': 3496.578933827813, 'gamma': 0.0001709975946676698}"
      ]
     },
     "execution_count": 101,
     "metadata": {},
     "output_type": "execute_result"
    }
   ],
   "source": [
    "gs[current_target].best_params_"
   ]
  },
  {
   "cell_type": "code",
   "execution_count": 102,
   "metadata": {},
   "outputs": [
    {
     "name": "stdout",
     "output_type": "stream",
     "text": [
      "Fine tuning: {'C': 3496.578933827813, 'gamma': 0.0001709975946676698}\n"
     ]
    }
   ],
   "source": [
    "logging('Fine tuning', str(gs[current_target].best_params_))    "
   ]
  },
  {
   "cell_type": "code",
   "execution_count": 103,
   "metadata": {},
   "outputs": [],
   "source": [
    "svr = gs[current_target].best_estimator_"
   ]
  },
  {
   "cell_type": "code",
   "execution_count": 104,
   "metadata": {
    "scrolled": false
   },
   "outputs": [
    {
     "name": "stdout",
     "output_type": "stream",
     "text": [
      "Number of SVs: 742\n",
      "Number of training vectors: 750\n"
     ]
    }
   ],
   "source": [
    "logging('Number of SVs', len(svr.support_))\n",
    "logging('Number of training vectors', len(X_st_train))"
   ]
  },
  {
   "cell_type": "markdown",
   "metadata": {},
   "source": [
    "## Test on train"
   ]
  },
  {
   "cell_type": "code",
   "execution_count": 61,
   "metadata": {},
   "outputs": [],
   "source": [
    "def comparsion_plot(true_values, predictions, current_target, data_type = 'test'):\n",
    "    plt.scatter(true_values, predictions)\n",
    "    plt.plot([min(true_values), max(true_values)], [min(true_values), max(true_values)], 'r')\n",
    "    plt.xlabel('True Values' + ' (' + current_target + ')')\n",
    "    plt.ylabel('Predictions' + ' (' + current_target + ')')\n",
    "    plt.axis('equal')\n",
    "    plt.axis('square')\n",
    "    plt.title('SVR. Predictions on ' + data_type)\n",
    "    plt.savefig('results/' + data_type + '_pred_SVR_' + current_target + '.png', bbox_inches='tight', dpi=300)\n",
    "    plt.show()"
   ]
  },
  {
   "cell_type": "code",
   "execution_count": 119,
   "metadata": {},
   "outputs": [],
   "source": [
    "def comparsion_plot(true_values, predictions, current_target, data_type = 'test'):\n",
    "    my_plot = plt.scatter(true_values, predictions)\n",
    "    plt.plot([min(true_values), max(true_values)], [min(true_values), max(true_values)], 'r')\n",
    "    plt.xlabel('True Values' + ' (' + current_target + ')')\n",
    "    plt.ylabel('Predictions' + ' (' + current_target + ')')\n",
    "    plt.axis('equal')\n",
    "    plt.axis('square')\n",
    "    plt.title('SVR. Predictions on ' + data_type)\n",
    "    plt.savefig('results/' + data_type + '_pred_SVR_' + current_target + '.png', bbox_inches='tight', dpi=300)\n",
    "    # plt.show()"
   ]
  },
  {
   "cell_type": "code",
   "execution_count": 62,
   "metadata": {},
   "outputs": [],
   "source": [
    "def print_metrics(true_val, predicted_val):\n",
    "    logging('r', np.corrcoef(true_val, predicted_val)[0,1].round(3))\n",
    "    logging('MSE', mean_squared_error(true_val, predicted_val).round(3))\n",
    "    logging('R2', r2_score(true_val, predicted_val).round(3))"
   ]
  },
  {
   "cell_type": "code",
   "execution_count": 105,
   "metadata": {},
   "outputs": [],
   "source": [
    "train_pred = svr.predict(X_st_train)"
   ]
  },
  {
   "cell_type": "code",
   "execution_count": 120,
   "metadata": {
    "scrolled": true
   },
   "outputs": [
    {
     "data": {
      "image/png": "[encoded data removed]",
      "text/plain": [
       "<Figure size 432x288 with 1 Axes>"
      ]
     },
     "metadata": {
      "needs_background": "light"
     },
     "output_type": "display_data"
    }
   ],
   "source": [
    "comparsion_plot(y_train, train_pred, data_type='train', current_target=current_target)"
   ]
  },
  {
   "cell_type": "code",
   "execution_count": 107,
   "metadata": {},
   "outputs": [
    {
     "name": "stdout",
     "output_type": "stream",
     "text": [
      "r: 0.953\n",
      "MSE: 6891.792\n",
      "R2: 0.908\n"
     ]
    }
   ],
   "source": [
    "print_metrics(y_train, train_pred)"
   ]
  },
  {
   "cell_type": "markdown",
   "metadata": {},
   "source": [
    "## Test on test"
   ]
  },
  {
   "cell_type": "code",
   "execution_count": 108,
   "metadata": {
    "scrolled": false
   },
   "outputs": [],
   "source": [
    "predictions = svr.predict(X_st_test)"
   ]
  },
  {
   "cell_type": "code",
   "execution_count": 109,
   "metadata": {},
   "outputs": [
    {
     "data": {
      "image/png": "[encoded data removed]",
      "text/plain": [
       "<Figure size 432x288 with 1 Axes>"
      ]
     },
     "metadata": {
      "needs_background": "light"
     },
     "output_type": "display_data"
    }
   ],
   "source": [
    "comparsion_plot(y_test, predictions, data_type='test', current_target=current_target)"
   ]
  },
  {
   "cell_type": "code",
   "execution_count": 110,
   "metadata": {
    "scrolled": false
   },
   "outputs": [
    {
     "name": "stdout",
     "output_type": "stream",
     "text": [
      "r: 0.838\n",
      "MSE: 21147.515\n",
      "R2: 0.692\n"
     ]
    }
   ],
   "source": [
    "print_metrics(y_test, predictions)"
   ]
  },
  {
   "cell_type": "code",
   "execution_count": null,
   "metadata": {},
   "outputs": [],
   "source": []
  },
  {
   "cell_type": "code",
   "execution_count": null,
   "metadata": {},
   "outputs": [],
   "source": [
    "with open('SVR_model.cached', 'wb') as file:\n",
    "    dill.dump(gs, file)"
   ]
  },
  {
   "cell_type": "code",
   "execution_count": null,
   "metadata": {},
   "outputs": [],
   "source": [
    "with open('SVR_scalers.cached', 'wb') as file:\n",
    "    dill.dump(st_scalers, file)"
   ]
  },
  {
   "cell_type": "code",
   "execution_count": null,
   "metadata": {},
   "outputs": [],
   "source": []
  },
  {
   "cell_type": "code",
   "execution_count": null,
   "metadata": {},
   "outputs": [],
   "source": [
    "dill.dump_session('Full_SVR.db')"
   ]
  },
  {
   "cell_type": "code",
   "execution_count": null,
   "metadata": {},
   "outputs": [],
   "source": [
    "!jupyter nbconvert --to script SVR_full_script.ipynb"
   ]
  }
 ],
 "metadata": {
  "celltoolbar": "Raw Cell Format",
  "kernelspec": {
   "display_name": "Python (base)",
   "language": "python",
   "name": "base"
  },
  "language_info": {
   "codemirror_mode": {
    "name": "ipython",
    "version": 3
   },
   "file_extension": ".py",
   "mimetype": "text/x-python",
   "name": "python",
   "nbconvert_exporter": "python",
   "pygments_lexer": "ipython3",
   "version": "3.7.1"
  },
  "toc": {
   "base_numbering": 1,
   "nav_menu": {},
   "number_sections": true,
   "sideBar": true,
   "skip_h1_title": false,
   "title_cell": "Table of Contents",
   "title_sidebar": "Contents",
   "toc_cell": false,
   "toc_position": {
    "height": "calc(100% - 180px)",
    "left": "10px",
    "top": "150px",
    "width": "286px"
   },
   "toc_section_display": true,
   "toc_window_display": true
  }
 },
 "nbformat": 4,
 "nbformat_minor": 2
}
