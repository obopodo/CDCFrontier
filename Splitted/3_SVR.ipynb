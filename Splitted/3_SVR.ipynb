{
 "cells": [
  {
   "cell_type": "markdown",
   "metadata": {},
   "source": [
    "# Imports"
   ]
  },
  {
   "cell_type": "code",
   "execution_count": 1,
   "metadata": {},
   "outputs": [],
   "source": [
    "import pandas as pd\n",
    "import numpy as np\n",
    "import os\n",
    "\n",
    "import seaborn as sns\n",
    "import matplotlib as mpl\n",
    "import matplotlib.pyplot as plt\n",
    "\n",
    "from numpy.random import normal, uniform\n",
    "import random\n",
    "\n",
    "from sklearn.preprocessing import StandardScaler, MinMaxScaler\n",
    "from sklearn.model_selection import cross_validate, KFold, train_test_split, GridSearchCV\n",
    "from sklearn.metrics import mean_squared_error, r2_score\n",
    "from sklearn.svm import SVR\n",
    "\n",
    "import dill"
   ]
  },
  {
   "cell_type": "code",
   "execution_count": 2,
   "metadata": {},
   "outputs": [],
   "source": [
    "%matplotlib inline"
   ]
  },
  {
   "cell_type": "code",
   "execution_count": 58,
   "metadata": {},
   "outputs": [],
   "source": [
    "# dill.dump_session('SVR.db')"
   ]
  },
  {
   "cell_type": "code",
   "execution_count": 3,
   "metadata": {},
   "outputs": [],
   "source": [
    "# dill.load_session('SVR.db')"
   ]
  },
  {
   "cell_type": "code",
   "execution_count": 4,
   "metadata": {},
   "outputs": [],
   "source": [
    "SEED = 73 # random seed"
   ]
  },
  {
   "cell_type": "markdown",
   "metadata": {},
   "source": [
    "# Data reading "
   ]
  },
  {
   "cell_type": "code",
   "execution_count": 5,
   "metadata": {},
   "outputs": [],
   "source": [
    "y_train = pd.read_csv('data/prepared/y_train.csv')\n",
    "y_test = pd.read_csv('data/prepared/y_test.csv')\n",
    "\n",
    "X_train_standartized = pd.read_csv('data/prepared/X_train_std.csv')\n",
    "X_test_standartized = pd.read_csv('data/prepared/X_test_std.csv')\n",
    "\n",
    "current_target = y_train.columns[0]\n",
    "\n",
    "y_train = y_train.values.reshape(len(y_train))\n",
    "y_test = y_test.values.reshape(len(y_test))"
   ]
  },
  {
   "cell_type": "markdown",
   "metadata": {},
   "source": [
    "# SVR model"
   ]
  },
  {
   "cell_type": "markdown",
   "metadata": {},
   "source": [
    "## Model building"
   ]
  },
  {
   "cell_type": "code",
   "execution_count": 9,
   "metadata": {},
   "outputs": [],
   "source": [
    "svm_reg = SVR(kernel='rbf')"
   ]
  },
  {
   "cell_type": "markdown",
   "metadata": {},
   "source": [
    "## Rough grid search"
   ]
  },
  {
   "cell_type": "code",
   "execution_count": 10,
   "metadata": {},
   "outputs": [],
   "source": [
    "cv = KFold(n_splits=5, shuffle=True, random_state=SEED)\n",
    "\n",
    "grid = {\n",
    "    'gamma': np.geomspace(0.0001, 10, 6),\n",
    "    'C': np.geomspace(0.0001, 1000, 8),\n",
    "#     'epsilon': np.geomspace(0.0001, 10, 6)\n",
    "}\n",
    "\n",
    "gs = GridSearchCV(svm_reg, grid, \n",
    "                  n_jobs=-1, \n",
    "                  scoring=['neg_mean_squared_error', 'r2'], \n",
    "                  refit='neg_mean_squared_error', \n",
    "                  cv=cv, \n",
    "                  verbose=10)"
   ]
  },
  {
   "cell_type": "code",
   "execution_count": 11,
   "metadata": {
    "scrolled": true
   },
   "outputs": [
    {
     "name": "stdout",
     "output_type": "stream",
     "text": [
      "Fitting 5 folds for each of 288 candidates, totalling 1440 fits\n"
     ]
    },
    {
     "name": "stderr",
     "output_type": "stream",
     "text": [
      "[Parallel(n_jobs=-1)]: Using backend LokyBackend with 4 concurrent workers.\n",
      "[Parallel(n_jobs=-1)]: Done   5 tasks      | elapsed:    5.0s\n",
      "[Parallel(n_jobs=-1)]: Done  10 tasks      | elapsed:    5.1s\n",
      "[Parallel(n_jobs=-1)]: Done  17 tasks      | elapsed:    5.3s\n",
      "[Parallel(n_jobs=-1)]: Done  24 tasks      | elapsed:    5.5s\n",
      "[Parallel(n_jobs=-1)]: Done  33 tasks      | elapsed:    5.7s\n",
      "[Parallel(n_jobs=-1)]: Batch computation too fast (0.1963s.) Setting batch_size=2.\n",
      "[Parallel(n_jobs=-1)]: Done  42 tasks      | elapsed:    5.9s\n",
      "[Parallel(n_jobs=-1)]: Done  64 tasks      | elapsed:    6.4s\n",
      "[Parallel(n_jobs=-1)]: Done  86 tasks      | elapsed:    6.8s\n",
      "[Parallel(n_jobs=-1)]: Done 112 tasks      | elapsed:    7.3s\n",
      "[Parallel(n_jobs=-1)]: Done 138 tasks      | elapsed:    7.9s\n",
      "[Parallel(n_jobs=-1)]: Done 168 tasks      | elapsed:    8.5s\n",
      "[Parallel(n_jobs=-1)]: Done 198 tasks      | elapsed:    9.2s\n",
      "[Parallel(n_jobs=-1)]: Done 232 tasks      | elapsed:   10.1s\n",
      "[Parallel(n_jobs=-1)]: Done 266 tasks      | elapsed:   11.0s\n",
      "[Parallel(n_jobs=-1)]: Done 304 tasks      | elapsed:   11.9s\n",
      "[Parallel(n_jobs=-1)]: Done 342 tasks      | elapsed:   12.6s\n",
      "[Parallel(n_jobs=-1)]: Done 384 tasks      | elapsed:   13.5s\n",
      "[Parallel(n_jobs=-1)]: Done 426 tasks      | elapsed:   14.4s\n",
      "[Parallel(n_jobs=-1)]: Done 472 tasks      | elapsed:   15.3s\n",
      "[Parallel(n_jobs=-1)]: Done 518 tasks      | elapsed:   16.3s\n",
      "[Parallel(n_jobs=-1)]: Done 568 tasks      | elapsed:   17.2s\n",
      "[Parallel(n_jobs=-1)]: Done 618 tasks      | elapsed:   18.4s\n",
      "[Parallel(n_jobs=-1)]: Done 672 tasks      | elapsed:   19.6s\n",
      "[Parallel(n_jobs=-1)]: Done 726 tasks      | elapsed:   20.7s\n",
      "[Parallel(n_jobs=-1)]: Done 784 tasks      | elapsed:   22.2s\n",
      "[Parallel(n_jobs=-1)]: Done 842 tasks      | elapsed:   23.3s\n",
      "[Parallel(n_jobs=-1)]: Done 904 tasks      | elapsed:   24.6s\n",
      "[Parallel(n_jobs=-1)]: Done 966 tasks      | elapsed:   25.9s\n",
      "[Parallel(n_jobs=-1)]: Done 1032 tasks      | elapsed:   27.4s\n",
      "[Parallel(n_jobs=-1)]: Done 1098 tasks      | elapsed:   28.8s\n",
      "[Parallel(n_jobs=-1)]: Done 1168 tasks      | elapsed:   30.7s\n",
      "[Parallel(n_jobs=-1)]: Done 1238 tasks      | elapsed:   32.6s\n",
      "[Parallel(n_jobs=-1)]: Done 1312 tasks      | elapsed:   35.1s\n",
      "[Parallel(n_jobs=-1)]: Done 1386 tasks      | elapsed:   37.5s\n"
     ]
    },
    {
     "name": "stdout",
     "output_type": "stream",
     "text": [
      "Wall time: 39.5 s\n"
     ]
    },
    {
     "name": "stderr",
     "output_type": "stream",
     "text": [
      "[Parallel(n_jobs=-1)]: Done 1440 out of 1440 | elapsed:   39.3s finished\n"
     ]
    },
    {
     "data": {
      "text/plain": [
       "GridSearchCV(cv=KFold(n_splits=5, random_state=73, shuffle=True),\n",
       "       error_score='raise-deprecating',\n",
       "       estimator=SVR(C=1.0, cache_size=200, coef0=0.0, degree=3, epsilon=0.1,\n",
       "  gamma='auto_deprecated', kernel='rbf', max_iter=-1, shrinking=True,\n",
       "  tol=0.001, verbose=False),\n",
       "       fit_params=None, iid='warn', n_jobs=-1,\n",
       "       param_grid={'gamma': array([1.e-04, 1.e-03, 1.e-02, 1.e-01, 1.e+00, 1.e+01]), 'C': array([1.e-04, 1.e-03, 1.e-02, 1.e-01, 1.e+00, 1.e+01, 1.e+02, 1.e+03]), 'epsilon': array([1.e-04, 1.e-03, 1.e-02, 1.e-01, 1.e+00, 1.e+01])},\n",
       "       pre_dispatch='2*n_jobs', refit='neg_mean_squared_error',\n",
       "       return_train_score='warn', scoring=['neg_mean_squared_error', 'r2'],\n",
       "       verbose=10)"
      ]
     },
     "execution_count": 11,
     "metadata": {},
     "output_type": "execute_result"
    }
   ],
   "source": [
    "%%time\n",
    "gs.fit(X_train_standartized, y_train);"
   ]
  },
  {
   "cell_type": "code",
   "execution_count": 4,
   "metadata": {
    "scrolled": true
   },
   "outputs": [
    {
     "data": {
      "text/plain": [
       "{'C': 500.0, 'epsilon': 25.0, 'gamma': 0.1}"
      ]
     },
     "execution_count": 4,
     "metadata": {},
     "output_type": "execute_result"
    }
   ],
   "source": [
    "gs.best_params_"
   ]
  },
  {
   "cell_type": "markdown",
   "metadata": {},
   "source": [
    "## Fine tuning"
   ]
  },
  {
   "cell_type": "code",
   "execution_count": 15,
   "metadata": {},
   "outputs": [],
   "source": [
    "cv = KFold(n_splits=5, shuffle=True, random_state=SEED)\n",
    "\n",
    "grid = {\n",
    "    'gamma': np.linspace(0.001, 1, 8),\n",
    "    'C': np.geomspace(500, 10000, 8),\n",
    "    'epsilon': np.geomspace(1, 100, 8)\n",
    "}\n",
    "\n",
    "gs = GridSearchCV(svm_reg, grid, \n",
    "                  n_jobs=-1, \n",
    "                  scoring=['neg_mean_squared_error', 'r2'], \n",
    "                  refit='neg_mean_squared_error', \n",
    "                  cv=cv, \n",
    "                  verbose=10)"
   ]
  },
  {
   "cell_type": "code",
   "execution_count": 16,
   "metadata": {},
   "outputs": [
    {
     "name": "stdout",
     "output_type": "stream",
     "text": [
      "Fitting 5 folds for each of 512 candidates, totalling 2560 fits\n"
     ]
    },
    {
     "name": "stderr",
     "output_type": "stream",
     "text": [
      "[Parallel(n_jobs=-1)]: Using backend LokyBackend with 4 concurrent workers.\n",
      "[Parallel(n_jobs=-1)]: Batch computation too fast (0.0977s.) Setting batch_size=4.\n",
      "[Parallel(n_jobs=-1)]: Done   5 tasks      | elapsed:    0.1s\n",
      "[Parallel(n_jobs=-1)]: Done  16 tasks      | elapsed:    0.6s\n",
      "[Parallel(n_jobs=-1)]: Done  44 tasks      | elapsed:    1.6s\n",
      "[Parallel(n_jobs=-1)]: Done  72 tasks      | elapsed:    2.4s\n",
      "[Parallel(n_jobs=-1)]: Done 108 tasks      | elapsed:    3.6s\n",
      "[Parallel(n_jobs=-1)]: Done 144 tasks      | elapsed:    4.5s\n",
      "[Parallel(n_jobs=-1)]: Done 188 tasks      | elapsed:    5.9s\n",
      "[Parallel(n_jobs=-1)]: Done 232 tasks      | elapsed:    6.8s\n",
      "[Parallel(n_jobs=-1)]: Done 284 tasks      | elapsed:    7.5s\n",
      "[Parallel(n_jobs=-1)]: Done 336 tasks      | elapsed:    8.6s\n",
      "[Parallel(n_jobs=-1)]: Done 396 tasks      | elapsed:   10.9s\n",
      "[Parallel(n_jobs=-1)]: Done 456 tasks      | elapsed:   12.8s\n",
      "[Parallel(n_jobs=-1)]: Done 524 tasks      | elapsed:   14.8s\n",
      "[Parallel(n_jobs=-1)]: Done 592 tasks      | elapsed:   16.1s\n",
      "[Parallel(n_jobs=-1)]: Done 668 tasks      | elapsed:   18.1s\n",
      "[Parallel(n_jobs=-1)]: Done 744 tasks      | elapsed:   21.3s\n",
      "[Parallel(n_jobs=-1)]: Done 828 tasks      | elapsed:   24.5s\n",
      "[Parallel(n_jobs=-1)]: Done 912 tasks      | elapsed:   26.3s\n",
      "[Parallel(n_jobs=-1)]: Done 1004 tasks      | elapsed:   29.5s\n",
      "[Parallel(n_jobs=-1)]: Done 1096 tasks      | elapsed:   34.3s\n",
      "[Parallel(n_jobs=-1)]: Done 1196 tasks      | elapsed:   37.9s\n",
      "[Parallel(n_jobs=-1)]: Done 1296 tasks      | elapsed:   40.4s\n",
      "[Parallel(n_jobs=-1)]: Batch computation too slow (2.0029s.) Setting batch_size=2.\n",
      "[Parallel(n_jobs=-1)]: Batch computation too slow (2.0860s.) Setting batch_size=1.\n",
      "[Parallel(n_jobs=-1)]: Done 1374 tasks      | elapsed:   45.5s\n",
      "[Parallel(n_jobs=-1)]: Done 1401 tasks      | elapsed:   47.6s\n",
      "[Parallel(n_jobs=-1)]: Done 1430 tasks      | elapsed:   49.4s\n",
      "[Parallel(n_jobs=-1)]: Done 1459 tasks      | elapsed:   50.8s\n",
      "[Parallel(n_jobs=-1)]: Done 1490 tasks      | elapsed:   52.2s\n",
      "[Parallel(n_jobs=-1)]: Done 1521 tasks      | elapsed:   53.2s\n",
      "[Parallel(n_jobs=-1)]: Batch computation too fast (0.1971s.) Setting batch_size=2.\n",
      "[Parallel(n_jobs=-1)]: Done 1575 tasks      | elapsed:   54.2s\n",
      "[Parallel(n_jobs=-1)]: Done 1641 tasks      | elapsed:   58.3s\n",
      "[Parallel(n_jobs=-1)]: Done 1711 tasks      | elapsed:  1.1min\n",
      "[Parallel(n_jobs=-1)]: Done 1781 tasks      | elapsed:  1.2min\n",
      "[Parallel(n_jobs=-1)]: Done 1855 tasks      | elapsed:  1.2min\n",
      "[Parallel(n_jobs=-1)]: Batch computation too fast (0.1995s.) Setting batch_size=4.\n",
      "[Parallel(n_jobs=-1)]: Done 1933 tasks      | elapsed:  1.3min\n",
      "[Parallel(n_jobs=-1)]: Batch computation too slow (2.0234s.) Setting batch_size=2.\n",
      "[Parallel(n_jobs=-1)]: Batch computation too slow (3.4689s.) Setting batch_size=1.\n",
      "[Parallel(n_jobs=-1)]: Done 2006 tasks      | elapsed:  1.4min\n",
      "[Parallel(n_jobs=-1)]: Done 2045 tasks      | elapsed:  1.5min\n",
      "[Parallel(n_jobs=-1)]: Done 2086 tasks      | elapsed:  1.6min\n",
      "[Parallel(n_jobs=-1)]: Done 2127 tasks      | elapsed:  1.6min\n",
      "[Parallel(n_jobs=-1)]: Done 2170 tasks      | elapsed:  1.7min\n",
      "[Parallel(n_jobs=-1)]: Batch computation too fast (0.1950s.) Setting batch_size=2.\n",
      "[Parallel(n_jobs=-1)]: Done 2213 tasks      | elapsed:  1.7min\n",
      "[Parallel(n_jobs=-1)]: Batch computation too fast (0.1810s.) Setting batch_size=4.\n",
      "[Parallel(n_jobs=-1)]: Batch computation too slow (2.0234s.) Setting batch_size=2.\n",
      "[Parallel(n_jobs=-1)]: Batch computation too slow (4.2260s.) Setting batch_size=1.\n",
      "[Parallel(n_jobs=-1)]: Done 2315 tasks      | elapsed:  1.9min\n",
      "[Parallel(n_jobs=-1)]: Done 2360 tasks      | elapsed:  2.1min\n",
      "[Parallel(n_jobs=-1)]: Done 2407 tasks      | elapsed:  2.2min\n",
      "[Parallel(n_jobs=-1)]: Done 2454 tasks      | elapsed:  2.3min\n",
      "[Parallel(n_jobs=-1)]: Done 2503 tasks      | elapsed:  2.3min\n",
      "[Parallel(n_jobs=-1)]: Batch computation too fast (0.1931s.) Setting batch_size=2.\n",
      "[Parallel(n_jobs=-1)]: Batch computation too fast (0.1475s.) Setting batch_size=4.\n"
     ]
    },
    {
     "name": "stdout",
     "output_type": "stream",
     "text": [
      "Wall time: 2min 19s\n"
     ]
    },
    {
     "name": "stderr",
     "output_type": "stream",
     "text": [
      "[Parallel(n_jobs=-1)]: Done 2560 out of 2560 | elapsed:  2.3min finished\n"
     ]
    },
    {
     "data": {
      "text/plain": [
       "GridSearchCV(cv=KFold(n_splits=5, random_state=73, shuffle=True),\n",
       "       error_score='raise-deprecating',\n",
       "       estimator=SVR(C=1.0, cache_size=200, coef0=0.0, degree=3, epsilon=0.1,\n",
       "  gamma='auto_deprecated', kernel='rbf', max_iter=-1, shrinking=True,\n",
       "  tol=0.001, verbose=False),\n",
       "       fit_params=None, iid='warn', n_jobs=-1,\n",
       "       param_grid={'gamma': array([0.001  , 0.14371, 0.28643, 0.42914, 0.57186, 0.71457, 0.85729,\n",
       "       1.     ]), 'C': array([  500.     ,   767.0637 ,  1176.77345,  1805.32039,  2769.59149,\n",
       "        4248.9062 ,  6518.36345, 10000.     ]), 'epsilon': array([  1.     ,   1.9307 ,   3.72759,   7.19686,  13.89495,  26.82696,\n",
       "        51.79475, 100.     ])},\n",
       "       pre_dispatch='2*n_jobs', refit='neg_mean_squared_error',\n",
       "       return_train_score='warn', scoring=['neg_mean_squared_error', 'r2'],\n",
       "       verbose=10)"
      ]
     },
     "execution_count": 16,
     "metadata": {},
     "output_type": "execute_result"
    }
   ],
   "source": [
    "%%time\n",
    "gs.fit(X_train_standartized, y_train);"
   ]
  },
  {
   "cell_type": "code",
   "execution_count": 17,
   "metadata": {
    "scrolled": false
   },
   "outputs": [
    {
     "data": {
      "text/plain": [
       "{'C': 767.0637023171956,\n",
       " 'epsilon': 51.7947467923121,\n",
       " 'gamma': 0.2864285714285714}"
      ]
     },
     "execution_count": 17,
     "metadata": {},
     "output_type": "execute_result"
    }
   ],
   "source": [
    "gs.best_params_"
   ]
  },
  {
   "cell_type": "markdown",
   "metadata": {},
   "source": [
    "## Fine tuning 2"
   ]
  },
  {
   "cell_type": "code",
   "execution_count": 43,
   "metadata": {},
   "outputs": [],
   "source": [
    "cv = KFold(n_splits=10, shuffle=True, random_state=SEED)\n",
    "\n",
    "grid = {\n",
    "    'gamma': np.linspace(0.1, 0.5, 6).round(3),\n",
    "    'C': np.linspace(500, 1200, 8),\n",
    "    'epsilon': np.linspace(25, 100, 6).round(3)\n",
    "}\n",
    "\n",
    "gs = GridSearchCV(svm_reg, grid, \n",
    "                  n_jobs=-1, \n",
    "                  scoring=['neg_mean_squared_error', 'r2'], \n",
    "                  refit='neg_mean_squared_error', \n",
    "                  cv=cv, \n",
    "                  verbose=10)"
   ]
  },
  {
   "cell_type": "code",
   "execution_count": 44,
   "metadata": {
    "scrolled": false
   },
   "outputs": [
    {
     "name": "stdout",
     "output_type": "stream",
     "text": [
      "Fitting 10 folds for each of 288 candidates, totalling 2880 fits\n"
     ]
    },
    {
     "name": "stderr",
     "output_type": "stream",
     "text": [
      "[Parallel(n_jobs=-1)]: Using backend LokyBackend with 4 concurrent workers.\n",
      "[Parallel(n_jobs=-1)]: Done   5 tasks      | elapsed:   15.4s\n",
      "[Parallel(n_jobs=-1)]: Done  10 tasks      | elapsed:   15.5s\n",
      "[Parallel(n_jobs=-1)]: Done  17 tasks      | elapsed:   15.7s\n",
      "[Parallel(n_jobs=-1)]: Done  24 tasks      | elapsed:   15.8s\n",
      "[Parallel(n_jobs=-1)]: Done  33 tasks      | elapsed:   16.1s\n",
      "[Parallel(n_jobs=-1)]: Done  42 tasks      | elapsed:   16.3s\n",
      "[Parallel(n_jobs=-1)]: Done  53 tasks      | elapsed:   16.6s\n",
      "[Parallel(n_jobs=-1)]: Batch computation too fast (0.1948s.) Setting batch_size=2.\n",
      "[Parallel(n_jobs=-1)]: Done  64 tasks      | elapsed:   16.8s\n",
      "[Parallel(n_jobs=-1)]: Done  86 tasks      | elapsed:   17.3s\n",
      "[Parallel(n_jobs=-1)]: Done 112 tasks      | elapsed:   17.8s\n",
      "[Parallel(n_jobs=-1)]: Done 142 tasks      | elapsed:   18.2s\n",
      "[Parallel(n_jobs=-1)]: Done 172 tasks      | elapsed:   18.8s\n",
      "[Parallel(n_jobs=-1)]: Done 206 tasks      | elapsed:   19.2s\n",
      "[Parallel(n_jobs=-1)]: Done 240 tasks      | elapsed:   19.8s\n",
      "[Parallel(n_jobs=-1)]: Done 278 tasks      | elapsed:   20.2s\n",
      "[Parallel(n_jobs=-1)]: Batch computation too fast (0.1934s.) Setting batch_size=4.\n",
      "[Parallel(n_jobs=-1)]: Done 316 tasks      | elapsed:   20.7s\n",
      "[Parallel(n_jobs=-1)]: Done 390 tasks      | elapsed:   22.0s\n",
      "[Parallel(n_jobs=-1)]: Done 474 tasks      | elapsed:   23.9s\n",
      "[Parallel(n_jobs=-1)]: Done 566 tasks      | elapsed:   25.2s\n",
      "[Parallel(n_jobs=-1)]: Done 658 tasks      | elapsed:   26.5s\n",
      "[Parallel(n_jobs=-1)]: Done 758 tasks      | elapsed:   28.3s\n",
      "[Parallel(n_jobs=-1)]: Done 858 tasks      | elapsed:   30.2s\n",
      "[Parallel(n_jobs=-1)]: Done 966 tasks      | elapsed:   31.8s\n",
      "[Parallel(n_jobs=-1)]: Done 1074 tasks      | elapsed:   33.2s\n",
      "[Parallel(n_jobs=-1)]: Done 1190 tasks      | elapsed:   35.8s\n",
      "[Parallel(n_jobs=-1)]: Done 1306 tasks      | elapsed:   38.0s\n",
      "[Parallel(n_jobs=-1)]: Done 1430 tasks      | elapsed:   39.6s\n",
      "[Parallel(n_jobs=-1)]: Done 1554 tasks      | elapsed:   42.5s\n",
      "[Parallel(n_jobs=-1)]: Done 1686 tasks      | elapsed:   44.5s\n",
      "[Parallel(n_jobs=-1)]: Done 1818 tasks      | elapsed:   46.5s\n",
      "[Parallel(n_jobs=-1)]: Done 1958 tasks      | elapsed:   49.5s\n",
      "[Parallel(n_jobs=-1)]: Done 2098 tasks      | elapsed:   51.6s\n",
      "[Parallel(n_jobs=-1)]: Done 2246 tasks      | elapsed:   54.7s\n",
      "[Parallel(n_jobs=-1)]: Done 2394 tasks      | elapsed:   57.2s\n",
      "[Parallel(n_jobs=-1)]: Done 2550 tasks      | elapsed:   59.7s\n",
      "[Parallel(n_jobs=-1)]: Done 2706 tasks      | elapsed:  1.0min\n"
     ]
    },
    {
     "name": "stdout",
     "output_type": "stream",
     "text": [
      "Wall time: 1min 5s\n"
     ]
    },
    {
     "name": "stderr",
     "output_type": "stream",
     "text": [
      "[Parallel(n_jobs=-1)]: Done 2880 out of 2880 | elapsed:  1.1min finished\n"
     ]
    },
    {
     "data": {
      "text/plain": [
       "GridSearchCV(cv=KFold(n_splits=10, random_state=73, shuffle=True),\n",
       "       error_score='raise-deprecating',\n",
       "       estimator=SVR(C=1.0, cache_size=200, coef0=0.0, degree=3, epsilon=0.1,\n",
       "  gamma='auto_deprecated', kernel='rbf', max_iter=-1, shrinking=True,\n",
       "  tol=0.001, verbose=False),\n",
       "       fit_params=None, iid='warn', n_jobs=-1,\n",
       "       param_grid={'gamma': array([0.1 , 0.18, 0.26, 0.34, 0.42, 0.5 ]), 'C': array([ 500.,  600.,  700.,  800.,  900., 1000., 1100., 1200.]), 'epsilon': array([ 25.,  40.,  55.,  70.,  85., 100.])},\n",
       "       pre_dispatch='2*n_jobs', refit='neg_mean_squared_error',\n",
       "       return_train_score='warn', scoring=['neg_mean_squared_error', 'r2'],\n",
       "       verbose=10)"
      ]
     },
     "execution_count": 44,
     "metadata": {},
     "output_type": "execute_result"
    }
   ],
   "source": [
    "%%time\n",
    "gs.fit(X_train_standartized, y_train);"
   ]
  },
  {
   "cell_type": "code",
   "execution_count": 45,
   "metadata": {
    "scrolled": false
   },
   "outputs": [
    {
     "data": {
      "text/plain": [
       "{'C': 500.0, 'epsilon': 25.0, 'gamma': 0.1}"
      ]
     },
     "execution_count": 45,
     "metadata": {},
     "output_type": "execute_result"
    }
   ],
   "source": [
    "gs.best_params_"
   ]
  },
  {
   "cell_type": "code",
   "execution_count": 46,
   "metadata": {},
   "outputs": [
    {
     "name": "stdout",
     "output_type": "stream",
     "text": [
      "Number of SVs: 210\n",
      "Number of training vectors: 750\n"
     ]
    }
   ],
   "source": [
    "print('Number of SVs:', len(svr.support_))\n",
    "print('Number of training vectors:', len(X_train_standartized))"
   ]
  },
  {
   "cell_type": "code",
   "execution_count": 47,
   "metadata": {},
   "outputs": [],
   "source": [
    "svr = gs.best_estimator_"
   ]
  },
  {
   "cell_type": "markdown",
   "metadata": {},
   "source": [
    "## Test on train"
   ]
  },
  {
   "cell_type": "code",
   "execution_count": 48,
   "metadata": {},
   "outputs": [],
   "source": [
    "train_pred = svr.predict(X_train_standartized)"
   ]
  },
  {
   "cell_type": "code",
   "execution_count": 49,
   "metadata": {},
   "outputs": [],
   "source": [
    "def comparsion_plot(true_values, predictions, data_type = 'test', current_target=current_target):\n",
    "    plt.scatter(true_values, predictions)\n",
    "    plt.plot([min(true_values), max(true_values)], [min(true_values), max(true_values)], 'r')\n",
    "    plt.xlabel('True Values' + ' (' + current_target + ')')\n",
    "    plt.ylabel('Predictions' + ' (' + current_target + ')')\n",
    "    plt.axis('equal')\n",
    "    plt.axis('square')\n",
    "    plt.title('Predictions on ' + data_type)\n",
    "    plt.show()"
   ]
  },
  {
   "cell_type": "code",
   "execution_count": 50,
   "metadata": {},
   "outputs": [],
   "source": [
    "def print_metrics(true_val, predicted_val):\n",
    "    print('r =', np.corrcoef(true_val, predicted_val)[0,1].round(3))\n",
    "    print('MSE =', mean_squared_error(true_val, predicted_val).round(3))\n",
    "    print('R2 =', r2_score(true_val, predicted_val).round(3))"
   ]
  },
  {
   "cell_type": "code",
   "execution_count": 51,
   "metadata": {
    "scrolled": false
   },
   "outputs": [
    {
     "data": {
      "image/png": "[encoded data removed]",
      "text/plain": [
       "<Figure size 432x288 with 1 Axes>"
      ]
     },
     "metadata": {
      "needs_background": "light"
     },
     "output_type": "display_data"
    }
   ],
   "source": [
    "comparsion_plot(y_train, train_pred, data_type='train')"
   ]
  },
  {
   "cell_type": "code",
   "execution_count": 52,
   "metadata": {},
   "outputs": [
    {
     "name": "stdout",
     "output_type": "stream",
     "text": [
      "r = 0.944\n",
      "MSE = 8273.873\n",
      "R2 = 0.89\n"
     ]
    }
   ],
   "source": [
    "print_metrics(y_train, train_pred)"
   ]
  },
  {
   "cell_type": "markdown",
   "metadata": {},
   "source": [
    "## Test on test"
   ]
  },
  {
   "cell_type": "code",
   "execution_count": 53,
   "metadata": {
    "scrolled": false
   },
   "outputs": [],
   "source": [
    "predictions = svr.predict(X_test_standartized)"
   ]
  },
  {
   "cell_type": "code",
   "execution_count": 54,
   "metadata": {},
   "outputs": [
    {
     "data": {
      "image/png": "[encoded data removed]",
      "text/plain": [
       "<Figure size 432x288 with 1 Axes>"
      ]
     },
     "metadata": {
      "needs_background": "light"
     },
     "output_type": "display_data"
    }
   ],
   "source": [
    "comparsion_plot(y_test, predictions, data_type='test')"
   ]
  },
  {
   "cell_type": "code",
   "execution_count": 55,
   "metadata": {},
   "outputs": [
    {
     "name": "stdout",
     "output_type": "stream",
     "text": [
      "r = 0.891\n",
      "MSE = 14132.27\n",
      "R2 = 0.794\n"
     ]
    }
   ],
   "source": [
    "print_metrics(y_test, predictions)"
   ]
  },
  {
   "cell_type": "code",
   "execution_count": 56,
   "metadata": {},
   "outputs": [],
   "source": [
    "with open('SVR.cached', 'wb') as file:\n",
    "    dill.dump(svr, file)"
   ]
  }
 ],
 "metadata": {
  "celltoolbar": "Raw Cell Format",
  "kernelspec": {
   "display_name": "Python (base)",
   "language": "python",
   "name": "base"
  },
  "language_info": {
   "codemirror_mode": {
    "name": "ipython",
    "version": 3
   },
   "file_extension": ".py",
   "mimetype": "text/x-python",
   "name": "python",
   "nbconvert_exporter": "python",
   "pygments_lexer": "ipython3",
   "version": "3.7.1"
  },
  "toc": {
   "base_numbering": 1,
   "nav_menu": {},
   "number_sections": true,
   "sideBar": true,
   "skip_h1_title": false,
   "title_cell": "Table of Contents",
   "title_sidebar": "Contents",
   "toc_cell": false,
   "toc_position": {
    "height": "calc(100% - 180px)",
    "left": "10px",
    "top": "150px",
    "width": "220px"
   },
   "toc_section_display": true,
   "toc_window_display": true
  }
 },
 "nbformat": 4,
 "nbformat_minor": 2
}
