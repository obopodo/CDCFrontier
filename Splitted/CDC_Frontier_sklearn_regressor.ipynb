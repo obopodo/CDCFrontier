{
 "cells": [
  {
   "cell_type": "markdown",
   "metadata": {},
   "source": [
    "# Imports"
   ]
  },
  {
   "cell_type": "code",
   "execution_count": 90,
   "metadata": {},
   "outputs": [],
   "source": [
    "import pandas as pd\n",
    "import numpy as np\n",
    "import os\n",
    "\n",
    "import seaborn as sns\n",
    "import matplotlib as mpl\n",
    "import matplotlib.pyplot as plt\n",
    "\n",
    "from numpy.random import normal, uniform\n",
    "import random\n",
    "\n",
    "from sklearn.preprocessing import StandardScaler, MinMaxScaler\n",
    "from sklearn.model_selection import cross_validate, KFold, train_test_split, GridSearchCV\n",
    "from sklearn.metrics import mean_squared_error, r2_score\n",
    "from sklearn.linear_model import LinearRegression\n",
    "from sklearn.svm import SVR\n",
    "from sklearn.neural_network import MLPRegressor\n",
    "\n",
    "\n",
    "# import tensorflow as tf\n",
    "# from tensorflow import keras\n",
    "# from tensorflow.keras import layers\n",
    "# from tensorflow.keras.wrappers.scikit_learn import KerasRegressor\n",
    "\n",
    "import dill"
   ]
  },
  {
   "cell_type": "code",
   "execution_count": 5,
   "metadata": {},
   "outputs": [],
   "source": [
    "%matplotlib inline"
   ]
  },
  {
   "cell_type": "code",
   "execution_count": 6,
   "metadata": {},
   "outputs": [],
   "source": [
    "# dill.dump_session('CDC_F.db')"
   ]
  },
  {
   "cell_type": "code",
   "execution_count": 7,
   "metadata": {},
   "outputs": [],
   "source": [
    "# dill.load_session('CDC_F.db')"
   ]
  },
  {
   "cell_type": "code",
   "execution_count": 8,
   "metadata": {},
   "outputs": [],
   "source": [
    "# from sklearn.model_selection import cross_validate, KFold, train_test_split, GridSearchCV\n",
    "# from sklearn.metrics import mean_squared_error, r2_score, mean_absolute_error\n",
    "\n",
    "# from sklearn.preprocessing import StandardScaler, MaxAbsScaler, MinMaxScaler, RobustScaler\n",
    "# from sklearn.preprocessing import PowerTransformer, QuantileTransformer, FunctionTransformer\n",
    "# from sklearn.impute import SimpleImputer\n",
    "# from sklearn.pipeline import Pipeline, make_pipeline, FeatureUnion\n",
    "# from sklearn_pandas import DataFrameMapper, gen_features\n",
    "\n",
    "# #from mpl_toolkits import mplot3d\n",
    "# from sklearn.pipeline import Pipeline\n",
    "# from sklearn.base import clone, TransformerMixin, BaseEstimator"
   ]
  },
  {
   "cell_type": "code",
   "execution_count": 9,
   "metadata": {},
   "outputs": [],
   "source": [
    "SEED = 73 # random seed"
   ]
  },
  {
   "cell_type": "markdown",
   "metadata": {
    "heading_collapsed": true
   },
   "source": [
    "# Data reading"
   ]
  },
  {
   "cell_type": "markdown",
   "metadata": {
    "hidden": true
   },
   "source": [
    "## Reading"
   ]
  },
  {
   "cell_type": "code",
   "execution_count": 10,
   "metadata": {
    "hidden": true
   },
   "outputs": [],
   "source": [
    "csvs = [x for x in os.listdir('data/') if x.endswith('.csv')] # читаем имена файлов .csv"
   ]
  },
  {
   "cell_type": "code",
   "execution_count": 11,
   "metadata": {
    "hidden": true
   },
   "outputs": [],
   "source": [
    "needed_csvs = []\n",
    "\n",
    "for s in csvs:\n",
    "    if 'CDC' in s:\n",
    "        needed_csvs.append(s)"
   ]
  },
  {
   "cell_type": "code",
   "execution_count": 12,
   "metadata": {
    "hidden": true
   },
   "outputs": [],
   "source": [
    "nms = [x.split('.')[0] for x in needed_csvs] # список имён будущих датафреймов сделаем без расширений"
   ]
  },
  {
   "cell_type": "code",
   "execution_count": 13,
   "metadata": {
    "hidden": true,
    "scrolled": true
   },
   "outputs": [
    {
     "data": {
      "text/plain": [
       "['AP1_CDCFrontier_LD',\n",
       " 'AP1_CDCFrontier_SD',\n",
       " 'FD_CDCFrontier_LD',\n",
       " 'FD_CDCFrontier_SD',\n",
       " 'FTa1_CDCFrontier_LD',\n",
       " 'FTa1_CDCFrontier_SD',\n",
       " 'FTa2_CDCFrontier_LD',\n",
       " 'FTa2_CDCFrontier_SD',\n",
       " 'FTa3_CDCFrontier_LD',\n",
       " 'FTa3_CDCFrontier_SD',\n",
       " 'FTb_CDCFrontier_LD',\n",
       " 'FTb_CDCFrontier_SD',\n",
       " 'FTc_CDCFrontier_LD',\n",
       " 'FTc_CDCFrontier_SD',\n",
       " 'LFY_CDCFrontier_LD',\n",
       " 'LFY_CDCFrontier_SD',\n",
       " 'TFL1a_CDCFrontier_LD',\n",
       " 'TFL1a_CDCFrontier_SD',\n",
       " 'TFL1c_CDCFrontier_LD',\n",
       " 'TFL1c_CDCFrontier_SD']"
      ]
     },
     "execution_count": 13,
     "metadata": {},
     "output_type": "execute_result"
    }
   ],
   "source": [
    "nms"
   ]
  },
  {
   "cell_type": "code",
   "execution_count": 14,
   "metadata": {
    "hidden": true
   },
   "outputs": [],
   "source": [
    "for i in range(len(nms)):\n",
    "    nms[i] = '_'.join(nms[i].split('_CDCFrontier_'))"
   ]
  },
  {
   "cell_type": "code",
   "execution_count": 15,
   "metadata": {
    "hidden": true
   },
   "outputs": [
    {
     "data": {
      "text/plain": [
       "['AP1_LD',\n",
       " 'AP1_SD',\n",
       " 'FD_LD',\n",
       " 'FD_SD',\n",
       " 'FTa1_LD',\n",
       " 'FTa1_SD',\n",
       " 'FTa2_LD',\n",
       " 'FTa2_SD',\n",
       " 'FTa3_LD',\n",
       " 'FTa3_SD',\n",
       " 'FTb_LD',\n",
       " 'FTb_SD',\n",
       " 'FTc_LD',\n",
       " 'FTc_SD',\n",
       " 'LFY_LD',\n",
       " 'LFY_SD',\n",
       " 'TFL1a_LD',\n",
       " 'TFL1a_SD',\n",
       " 'TFL1c_LD',\n",
       " 'TFL1c_SD']"
      ]
     },
     "execution_count": 15,
     "metadata": {},
     "output_type": "execute_result"
    }
   ],
   "source": [
    "nms"
   ]
  },
  {
   "cell_type": "code",
   "execution_count": 16,
   "metadata": {
    "hidden": true
   },
   "outputs": [],
   "source": [
    "data = {}\n",
    "for i in range(len(nms)):\n",
    "    data[nms[i]] = pd.read_csv('data/' + needed_csvs[i], header=None, names = ['days', 'rltv_transcription_lvl', 'std_error'])"
   ]
  },
  {
   "cell_type": "code",
   "execution_count": 17,
   "metadata": {
    "hidden": true,
    "scrolled": true
   },
   "outputs": [
    {
     "name": "stdout",
     "output_type": "stream",
     "text": [
      "15\n",
      "14\n"
     ]
    }
   ],
   "source": [
    "print(len(data['FTa2_LD']))\n",
    "print(len(data['FTa2_SD']))"
   ]
  },
  {
   "cell_type": "markdown",
   "metadata": {
    "hidden": true
   },
   "source": [
    "## Delete last"
   ]
  },
  {
   "cell_type": "code",
   "execution_count": 18,
   "metadata": {
    "hidden": true,
    "scrolled": true
   },
   "outputs": [
    {
     "data": {
      "image/png": "[encoded data removed]",
      "text/plain": [
       "<Figure size 432x288 with 1 Axes>"
      ]
     },
     "metadata": {
      "needs_background": "light"
     },
     "output_type": "display_data"
    }
   ],
   "source": [
    "plt.plot(data['AP1_SD'].days, data['AP1_SD'].rltv_transcription_lvl, 'o-');"
   ]
  },
  {
   "cell_type": "code",
   "execution_count": 19,
   "metadata": {
    "hidden": true,
    "scrolled": true
   },
   "outputs": [
    {
     "data": {
      "image/png": "[encoded data removed]",
      "text/plain": [
       "<Figure size 432x288 with 1 Axes>"
      ]
     },
     "metadata": {
      "needs_background": "light"
     },
     "output_type": "display_data"
    }
   ],
   "source": [
    "plt.plot(data['AP1_LD'].days, data['AP1_LD'].rltv_transcription_lvl, 'o-');"
   ]
  },
  {
   "cell_type": "markdown",
   "metadata": {
    "hidden": true
   },
   "source": [
    "let's remove last measurements:"
   ]
  },
  {
   "cell_type": "code",
   "execution_count": 20,
   "metadata": {
    "hidden": true
   },
   "outputs": [],
   "source": [
    "for name in data.keys():\n",
    "    if name.endswith('LD'):\n",
    "        data[name] = data[name].iloc[:-1,:]\n",
    "    else:\n",
    "        data[name] = data[name].iloc[:-3,:]"
   ]
  },
  {
   "cell_type": "code",
   "execution_count": 21,
   "metadata": {
    "hidden": true,
    "scrolled": false
   },
   "outputs": [
    {
     "name": "stdout",
     "output_type": "stream",
     "text": [
      "14\n",
      "11\n"
     ]
    }
   ],
   "source": [
    "print(len(data['FTa2_LD']))\n",
    "print(len(data['FTa2_SD']))"
   ]
  },
  {
   "cell_type": "code",
   "execution_count": 22,
   "metadata": {
    "hidden": true,
    "scrolled": false
   },
   "outputs": [
    {
     "data": {
      "image/png": "[encoded data removed]",
      "text/plain": [
       "<Figure size 432x288 with 1 Axes>"
      ]
     },
     "metadata": {
      "needs_background": "light"
     },
     "output_type": "display_data"
    }
   ],
   "source": [
    "plt.plot(data['AP1_SD'].days, data['AP1_SD'].rltv_transcription_lvl, 'o-');"
   ]
  },
  {
   "cell_type": "code",
   "execution_count": 23,
   "metadata": {
    "hidden": true,
    "scrolled": false
   },
   "outputs": [
    {
     "data": {
      "image/png": "[encoded data removed]",
      "text/plain": [
       "<Figure size 432x288 with 1 Axes>"
      ]
     },
     "metadata": {
      "needs_background": "light"
     },
     "output_type": "display_data"
    }
   ],
   "source": [
    "plt.plot(data['AP1_LD'].days, data['AP1_LD'].rltv_transcription_lvl, 'o-');"
   ]
  },
  {
   "cell_type": "markdown",
   "metadata": {
    "heading_collapsed": true
   },
   "source": [
    "# Resampling"
   ]
  },
  {
   "cell_type": "markdown",
   "metadata": {
    "hidden": true
   },
   "source": [
    "## Create samples base by days"
   ]
  },
  {
   "cell_type": "code",
   "execution_count": 24,
   "metadata": {
    "hidden": true,
    "scrolled": true
   },
   "outputs": [
    {
     "name": "stdout",
     "output_type": "stream",
     "text": [
      "9 11 13 15 17 20 22 25 28 30 32 34 37 40 "
     ]
    }
   ],
   "source": [
    "for i in data['AP1_LD']['days']:\n",
    "    print(i, end=' ')"
   ]
  },
  {
   "cell_type": "code",
   "execution_count": 25,
   "metadata": {
    "hidden": true
   },
   "outputs": [],
   "source": [
    "samples_by_day = {}\n",
    "for name in nms:\n",
    "    samples_by_day[name] = {}\n",
    "\n",
    "for name in nms:\n",
    "    for i in range(len(data[name])):\n",
    "        mean = data[name].iloc[i]['rltv_transcription_lvl']\n",
    "        std = data[name].iloc[i]['std_error']\n",
    "        samples_by_day[name][data[name].iloc[i]['days']] = normal(mean, std, 100)"
   ]
  },
  {
   "cell_type": "markdown",
   "metadata": {
    "hidden": true
   },
   "source": [
    "## Create whole-time samples"
   ]
  },
  {
   "cell_type": "code",
   "execution_count": 26,
   "metadata": {
    "hidden": true
   },
   "outputs": [],
   "source": [
    "names = set(n[:-3] for n in nms)"
   ]
  },
  {
   "cell_type": "markdown",
   "metadata": {
    "hidden": true
   },
   "source": [
    "Создадим два словаря (будущих датафрейма): ключ -- ген, значения -- уровень в определённый день.\n",
    "Каждый будет содержать уровни экспрессий в определённый момент. Так как для SD 11 дней, а для LD 14, то один полный эксперимент для каждого гена составляет 25 наблюдений. Следовательно, возьмём 40 таких экспериментов, чтобы набрать 1000 наблюдений в общем."
   ]
  },
  {
   "cell_type": "code",
   "execution_count": 27,
   "metadata": {
    "hidden": true
   },
   "outputs": [],
   "source": [
    "synth_LD = {}\n",
    "synth_SD = {}\n",
    "\n",
    "for name in names:\n",
    "    synth_LD[name] = []\n",
    "    synth_SD[name] = []\n",
    "\n",
    "\n",
    "\n",
    "for j in range(40):\n",
    "    for name in nms:\n",
    "        whole_set = [] # искуственный эксперимент, охватывающий все дни\n",
    "        days = list(samples_by_day[name].keys())\n",
    "        \n",
    "        # перебираем по дням, из каждого равновероятно берём значение:\n",
    "        for day in days:\n",
    "            whole_set.append(random.choice(samples_by_day[name][day]))\n",
    "        \n",
    "        # сдвиг на полдня вниз для FT генов:\n",
    "        if name.startswith('FT'):\n",
    "            FT_set = [whole_set[0]]\n",
    "            for i in range(1, len(whole_set)):\n",
    "                FT_set.append((whole_set[i-1] + whole_set[i]) / 2)\n",
    "            whole_set = FT_set\n",
    "        \n",
    "        if name.endswith('LD'):\n",
    "            for element in whole_set:\n",
    "                synth_LD[name[:-3]].append(element)\n",
    "        else:\n",
    "            for element in whole_set:\n",
    "                synth_SD[name[:-3]].append(element)\n",
    "\n",
    "synth_LD = pd.DataFrame(synth_LD)\n",
    "synth_SD = pd.DataFrame(synth_SD)"
   ]
  },
  {
   "cell_type": "code",
   "execution_count": 28,
   "metadata": {
    "hidden": true
   },
   "outputs": [
    {
     "data": {
      "text/html": [
       "<div>\n",
       "<style scoped>\n",
       "    .dataframe tbody tr th:only-of-type {\n",
       "        vertical-align: middle;\n",
       "    }\n",
       "\n",
       "    .dataframe tbody tr th {\n",
       "        vertical-align: top;\n",
       "    }\n",
       "\n",
       "    .dataframe thead th {\n",
       "        text-align: right;\n",
       "    }\n",
       "</style>\n",
       "<table border=\"1\" class=\"dataframe\">\n",
       "  <thead>\n",
       "    <tr style=\"text-align: right;\">\n",
       "      <th></th>\n",
       "      <th>TFL1c</th>\n",
       "      <th>FTa1</th>\n",
       "      <th>FTc</th>\n",
       "      <th>AP1</th>\n",
       "      <th>TFL1a</th>\n",
       "      <th>FTb</th>\n",
       "      <th>LFY</th>\n",
       "      <th>FD</th>\n",
       "      <th>FTa2</th>\n",
       "      <th>FTa3</th>\n",
       "    </tr>\n",
       "  </thead>\n",
       "  <tbody>\n",
       "    <tr>\n",
       "      <th>555</th>\n",
       "      <td>25.940216</td>\n",
       "      <td>8.0</td>\n",
       "      <td>7.0</td>\n",
       "      <td>357.600306</td>\n",
       "      <td>21.554527</td>\n",
       "      <td>81.5</td>\n",
       "      <td>42.097296</td>\n",
       "      <td>77.715513</td>\n",
       "      <td>25.793367</td>\n",
       "      <td>1.868871</td>\n",
       "    </tr>\n",
       "    <tr>\n",
       "      <th>556</th>\n",
       "      <td>9.500557</td>\n",
       "      <td>3.5</td>\n",
       "      <td>7.0</td>\n",
       "      <td>102.813977</td>\n",
       "      <td>14.305077</td>\n",
       "      <td>57.5</td>\n",
       "      <td>56.443301</td>\n",
       "      <td>43.774118</td>\n",
       "      <td>40.907887</td>\n",
       "      <td>2.318871</td>\n",
       "    </tr>\n",
       "    <tr>\n",
       "      <th>557</th>\n",
       "      <td>33.137658</td>\n",
       "      <td>15.0</td>\n",
       "      <td>0.0</td>\n",
       "      <td>743.443033</td>\n",
       "      <td>24.805841</td>\n",
       "      <td>76.5</td>\n",
       "      <td>75.268480</td>\n",
       "      <td>72.886758</td>\n",
       "      <td>39.000000</td>\n",
       "      <td>-12.940203</td>\n",
       "    </tr>\n",
       "    <tr>\n",
       "      <th>558</th>\n",
       "      <td>13.844717</td>\n",
       "      <td>17.5</td>\n",
       "      <td>0.0</td>\n",
       "      <td>945.488210</td>\n",
       "      <td>14.582530</td>\n",
       "      <td>82.5</td>\n",
       "      <td>84.705078</td>\n",
       "      <td>116.762507</td>\n",
       "      <td>48.000000</td>\n",
       "      <td>-11.040203</td>\n",
       "    </tr>\n",
       "    <tr>\n",
       "      <th>559</th>\n",
       "      <td>53.960087</td>\n",
       "      <td>23.5</td>\n",
       "      <td>1.0</td>\n",
       "      <td>532.373394</td>\n",
       "      <td>15.740749</td>\n",
       "      <td>49.0</td>\n",
       "      <td>77.024063</td>\n",
       "      <td>140.949534</td>\n",
       "      <td>60.208783</td>\n",
       "      <td>19.500000</td>\n",
       "    </tr>\n",
       "  </tbody>\n",
       "</table>\n",
       "</div>"
      ],
      "text/plain": [
       "         TFL1c  FTa1  FTc         AP1      TFL1a   FTb        LFY          FD  \\\n",
       "555  25.940216   8.0  7.0  357.600306  21.554527  81.5  42.097296   77.715513   \n",
       "556   9.500557   3.5  7.0  102.813977  14.305077  57.5  56.443301   43.774118   \n",
       "557  33.137658  15.0  0.0  743.443033  24.805841  76.5  75.268480   72.886758   \n",
       "558  13.844717  17.5  0.0  945.488210  14.582530  82.5  84.705078  116.762507   \n",
       "559  53.960087  23.5  1.0  532.373394  15.740749  49.0  77.024063  140.949534   \n",
       "\n",
       "          FTa2       FTa3  \n",
       "555  25.793367   1.868871  \n",
       "556  40.907887   2.318871  \n",
       "557  39.000000 -12.940203  \n",
       "558  48.000000 -11.040203  \n",
       "559  60.208783  19.500000  "
      ]
     },
     "execution_count": 28,
     "metadata": {},
     "output_type": "execute_result"
    }
   ],
   "source": [
    "synth_LD.tail()"
   ]
  },
  {
   "cell_type": "code",
   "execution_count": 29,
   "metadata": {
    "hidden": true
   },
   "outputs": [],
   "source": [
    "synth_SD['LD'] = 0\n",
    "synth_LD['LD'] = 1"
   ]
  },
  {
   "cell_type": "code",
   "execution_count": 30,
   "metadata": {
    "hidden": true,
    "scrolled": true
   },
   "outputs": [
    {
     "data": {
      "text/html": [
       "<div>\n",
       "<style scoped>\n",
       "    .dataframe tbody tr th:only-of-type {\n",
       "        vertical-align: middle;\n",
       "    }\n",
       "\n",
       "    .dataframe tbody tr th {\n",
       "        vertical-align: top;\n",
       "    }\n",
       "\n",
       "    .dataframe thead th {\n",
       "        text-align: right;\n",
       "    }\n",
       "</style>\n",
       "<table border=\"1\" class=\"dataframe\">\n",
       "  <thead>\n",
       "    <tr style=\"text-align: right;\">\n",
       "      <th></th>\n",
       "      <th>TFL1c</th>\n",
       "      <th>FTa1</th>\n",
       "      <th>FTc</th>\n",
       "      <th>AP1</th>\n",
       "      <th>TFL1a</th>\n",
       "      <th>FTb</th>\n",
       "      <th>LFY</th>\n",
       "      <th>FD</th>\n",
       "      <th>FTa2</th>\n",
       "      <th>FTa3</th>\n",
       "      <th>LD</th>\n",
       "    </tr>\n",
       "  </thead>\n",
       "  <tbody>\n",
       "    <tr>\n",
       "      <th>0</th>\n",
       "      <td>24.342710</td>\n",
       "      <td>2.0</td>\n",
       "      <td>0.0</td>\n",
       "      <td>-131.102682</td>\n",
       "      <td>22.710053</td>\n",
       "      <td>3.0</td>\n",
       "      <td>7.769003</td>\n",
       "      <td>32.974898</td>\n",
       "      <td>8.000000</td>\n",
       "      <td>0.90</td>\n",
       "      <td>1</td>\n",
       "    </tr>\n",
       "    <tr>\n",
       "      <th>1</th>\n",
       "      <td>23.514225</td>\n",
       "      <td>1.0</td>\n",
       "      <td>0.0</td>\n",
       "      <td>55.671931</td>\n",
       "      <td>18.019289</td>\n",
       "      <td>5.0</td>\n",
       "      <td>13.476494</td>\n",
       "      <td>37.649259</td>\n",
       "      <td>9.500000</td>\n",
       "      <td>0.70</td>\n",
       "      <td>1</td>\n",
       "    </tr>\n",
       "    <tr>\n",
       "      <th>2</th>\n",
       "      <td>35.302186</td>\n",
       "      <td>0.5</td>\n",
       "      <td>0.0</td>\n",
       "      <td>19.862311</td>\n",
       "      <td>17.631873</td>\n",
       "      <td>6.5</td>\n",
       "      <td>9.939423</td>\n",
       "      <td>49.224792</td>\n",
       "      <td>20.000000</td>\n",
       "      <td>0.65</td>\n",
       "      <td>1</td>\n",
       "    </tr>\n",
       "    <tr>\n",
       "      <th>3</th>\n",
       "      <td>40.160673</td>\n",
       "      <td>3.0</td>\n",
       "      <td>0.0</td>\n",
       "      <td>-35.598767</td>\n",
       "      <td>35.731942</td>\n",
       "      <td>17.0</td>\n",
       "      <td>57.545745</td>\n",
       "      <td>38.182131</td>\n",
       "      <td>44.500000</td>\n",
       "      <td>5.50</td>\n",
       "      <td>1</td>\n",
       "    </tr>\n",
       "    <tr>\n",
       "      <th>4</th>\n",
       "      <td>37.304047</td>\n",
       "      <td>7.0</td>\n",
       "      <td>0.0</td>\n",
       "      <td>17.617073</td>\n",
       "      <td>39.422296</td>\n",
       "      <td>20.0</td>\n",
       "      <td>73.280524</td>\n",
       "      <td>106.095268</td>\n",
       "      <td>56.746942</td>\n",
       "      <td>5.75</td>\n",
       "      <td>1</td>\n",
       "    </tr>\n",
       "  </tbody>\n",
       "</table>\n",
       "</div>"
      ],
      "text/plain": [
       "       TFL1c  FTa1  FTc         AP1      TFL1a   FTb        LFY          FD  \\\n",
       "0  24.342710   2.0  0.0 -131.102682  22.710053   3.0   7.769003   32.974898   \n",
       "1  23.514225   1.0  0.0   55.671931  18.019289   5.0  13.476494   37.649259   \n",
       "2  35.302186   0.5  0.0   19.862311  17.631873   6.5   9.939423   49.224792   \n",
       "3  40.160673   3.0  0.0  -35.598767  35.731942  17.0  57.545745   38.182131   \n",
       "4  37.304047   7.0  0.0   17.617073  39.422296  20.0  73.280524  106.095268   \n",
       "\n",
       "        FTa2  FTa3  LD  \n",
       "0   8.000000  0.90   1  \n",
       "1   9.500000  0.70   1  \n",
       "2  20.000000  0.65   1  \n",
       "3  44.500000  5.50   1  \n",
       "4  56.746942  5.75   1  "
      ]
     },
     "execution_count": 30,
     "metadata": {},
     "output_type": "execute_result"
    }
   ],
   "source": [
    "synth_LD.head()"
   ]
  },
  {
   "cell_type": "code",
   "execution_count": 31,
   "metadata": {
    "hidden": true
   },
   "outputs": [
    {
     "data": {
      "text/html": [
       "<div>\n",
       "<style scoped>\n",
       "    .dataframe tbody tr th:only-of-type {\n",
       "        vertical-align: middle;\n",
       "    }\n",
       "\n",
       "    .dataframe tbody tr th {\n",
       "        vertical-align: top;\n",
       "    }\n",
       "\n",
       "    .dataframe thead th {\n",
       "        text-align: right;\n",
       "    }\n",
       "</style>\n",
       "<table border=\"1\" class=\"dataframe\">\n",
       "  <thead>\n",
       "    <tr style=\"text-align: right;\">\n",
       "      <th></th>\n",
       "      <th>days</th>\n",
       "      <th>rltv_transcription_lvl</th>\n",
       "      <th>std_error</th>\n",
       "    </tr>\n",
       "  </thead>\n",
       "  <tbody>\n",
       "    <tr>\n",
       "      <th>0</th>\n",
       "      <td>9</td>\n",
       "      <td>8</td>\n",
       "      <td>0</td>\n",
       "    </tr>\n",
       "    <tr>\n",
       "      <th>1</th>\n",
       "      <td>11</td>\n",
       "      <td>11</td>\n",
       "      <td>0</td>\n",
       "    </tr>\n",
       "    <tr>\n",
       "      <th>2</th>\n",
       "      <td>13</td>\n",
       "      <td>29</td>\n",
       "      <td>0</td>\n",
       "    </tr>\n",
       "    <tr>\n",
       "      <th>3</th>\n",
       "      <td>15</td>\n",
       "      <td>60</td>\n",
       "      <td>0</td>\n",
       "    </tr>\n",
       "    <tr>\n",
       "      <th>4</th>\n",
       "      <td>17</td>\n",
       "      <td>50</td>\n",
       "      <td>18</td>\n",
       "    </tr>\n",
       "    <tr>\n",
       "      <th>5</th>\n",
       "      <td>20</td>\n",
       "      <td>86</td>\n",
       "      <td>0</td>\n",
       "    </tr>\n",
       "    <tr>\n",
       "      <th>6</th>\n",
       "      <td>22</td>\n",
       "      <td>18</td>\n",
       "      <td>0</td>\n",
       "    </tr>\n",
       "    <tr>\n",
       "      <th>7</th>\n",
       "      <td>25</td>\n",
       "      <td>68</td>\n",
       "      <td>19</td>\n",
       "    </tr>\n",
       "    <tr>\n",
       "      <th>8</th>\n",
       "      <td>28</td>\n",
       "      <td>37</td>\n",
       "      <td>23</td>\n",
       "    </tr>\n",
       "    <tr>\n",
       "      <th>9</th>\n",
       "      <td>30</td>\n",
       "      <td>52</td>\n",
       "      <td>24</td>\n",
       "    </tr>\n",
       "    <tr>\n",
       "      <th>10</th>\n",
       "      <td>32</td>\n",
       "      <td>16</td>\n",
       "      <td>0</td>\n",
       "    </tr>\n",
       "    <tr>\n",
       "      <th>11</th>\n",
       "      <td>34</td>\n",
       "      <td>62</td>\n",
       "      <td>0</td>\n",
       "    </tr>\n",
       "    <tr>\n",
       "      <th>12</th>\n",
       "      <td>37</td>\n",
       "      <td>34</td>\n",
       "      <td>0</td>\n",
       "    </tr>\n",
       "    <tr>\n",
       "      <th>13</th>\n",
       "      <td>40</td>\n",
       "      <td>116</td>\n",
       "      <td>44</td>\n",
       "    </tr>\n",
       "  </tbody>\n",
       "</table>\n",
       "</div>"
      ],
      "text/plain": [
       "    days  rltv_transcription_lvl  std_error\n",
       "0      9                       8          0\n",
       "1     11                      11          0\n",
       "2     13                      29          0\n",
       "3     15                      60          0\n",
       "4     17                      50         18\n",
       "5     20                      86          0\n",
       "6     22                      18          0\n",
       "7     25                      68         19\n",
       "8     28                      37         23\n",
       "9     30                      52         24\n",
       "10    32                      16          0\n",
       "11    34                      62          0\n",
       "12    37                      34          0\n",
       "13    40                     116         44"
      ]
     },
     "execution_count": 31,
     "metadata": {},
     "output_type": "execute_result"
    }
   ],
   "source": [
    "data['FTa2_LD']"
   ]
  },
  {
   "cell_type": "markdown",
   "metadata": {
    "hidden": true
   },
   "source": [
    "## Data joining"
   ]
  },
  {
   "cell_type": "code",
   "execution_count": 32,
   "metadata": {
    "hidden": true
   },
   "outputs": [],
   "source": [
    "tr_lvls_combined = pd.concat([synth_LD, synth_SD], ignore_index=True)"
   ]
  },
  {
   "cell_type": "markdown",
   "metadata": {
    "hidden": true
   },
   "source": [
    "**пока что дропнем тип дня**"
   ]
  },
  {
   "cell_type": "code",
   "execution_count": 33,
   "metadata": {
    "hidden": true
   },
   "outputs": [],
   "source": [
    "tr_lvls_combined = tr_lvls_combined.drop('LD', axis = 1)"
   ]
  },
  {
   "cell_type": "code",
   "execution_count": 34,
   "metadata": {
    "hidden": true,
    "scrolled": false
   },
   "outputs": [
    {
     "data": {
      "text/html": [
       "<div>\n",
       "<style scoped>\n",
       "    .dataframe tbody tr th:only-of-type {\n",
       "        vertical-align: middle;\n",
       "    }\n",
       "\n",
       "    .dataframe tbody tr th {\n",
       "        vertical-align: top;\n",
       "    }\n",
       "\n",
       "    .dataframe thead th {\n",
       "        text-align: right;\n",
       "    }\n",
       "</style>\n",
       "<table border=\"1\" class=\"dataframe\">\n",
       "  <thead>\n",
       "    <tr style=\"text-align: right;\">\n",
       "      <th></th>\n",
       "      <th>TFL1c</th>\n",
       "      <th>FTa1</th>\n",
       "      <th>FTc</th>\n",
       "      <th>AP1</th>\n",
       "      <th>TFL1a</th>\n",
       "      <th>FTb</th>\n",
       "      <th>LFY</th>\n",
       "      <th>FD</th>\n",
       "      <th>FTa2</th>\n",
       "      <th>FTa3</th>\n",
       "    </tr>\n",
       "  </thead>\n",
       "  <tbody>\n",
       "    <tr>\n",
       "      <th>0</th>\n",
       "      <td>24.342710</td>\n",
       "      <td>2.0</td>\n",
       "      <td>0.0</td>\n",
       "      <td>-131.102682</td>\n",
       "      <td>22.710053</td>\n",
       "      <td>3.0</td>\n",
       "      <td>7.769003</td>\n",
       "      <td>32.974898</td>\n",
       "      <td>8.000000</td>\n",
       "      <td>0.90</td>\n",
       "    </tr>\n",
       "    <tr>\n",
       "      <th>1</th>\n",
       "      <td>23.514225</td>\n",
       "      <td>1.0</td>\n",
       "      <td>0.0</td>\n",
       "      <td>55.671931</td>\n",
       "      <td>18.019289</td>\n",
       "      <td>5.0</td>\n",
       "      <td>13.476494</td>\n",
       "      <td>37.649259</td>\n",
       "      <td>9.500000</td>\n",
       "      <td>0.70</td>\n",
       "    </tr>\n",
       "    <tr>\n",
       "      <th>2</th>\n",
       "      <td>35.302186</td>\n",
       "      <td>0.5</td>\n",
       "      <td>0.0</td>\n",
       "      <td>19.862311</td>\n",
       "      <td>17.631873</td>\n",
       "      <td>6.5</td>\n",
       "      <td>9.939423</td>\n",
       "      <td>49.224792</td>\n",
       "      <td>20.000000</td>\n",
       "      <td>0.65</td>\n",
       "    </tr>\n",
       "    <tr>\n",
       "      <th>3</th>\n",
       "      <td>40.160673</td>\n",
       "      <td>3.0</td>\n",
       "      <td>0.0</td>\n",
       "      <td>-35.598767</td>\n",
       "      <td>35.731942</td>\n",
       "      <td>17.0</td>\n",
       "      <td>57.545745</td>\n",
       "      <td>38.182131</td>\n",
       "      <td>44.500000</td>\n",
       "      <td>5.50</td>\n",
       "    </tr>\n",
       "    <tr>\n",
       "      <th>4</th>\n",
       "      <td>37.304047</td>\n",
       "      <td>7.0</td>\n",
       "      <td>0.0</td>\n",
       "      <td>17.617073</td>\n",
       "      <td>39.422296</td>\n",
       "      <td>20.0</td>\n",
       "      <td>73.280524</td>\n",
       "      <td>106.095268</td>\n",
       "      <td>56.746942</td>\n",
       "      <td>5.75</td>\n",
       "    </tr>\n",
       "  </tbody>\n",
       "</table>\n",
       "</div>"
      ],
      "text/plain": [
       "       TFL1c  FTa1  FTc         AP1      TFL1a   FTb        LFY          FD  \\\n",
       "0  24.342710   2.0  0.0 -131.102682  22.710053   3.0   7.769003   32.974898   \n",
       "1  23.514225   1.0  0.0   55.671931  18.019289   5.0  13.476494   37.649259   \n",
       "2  35.302186   0.5  0.0   19.862311  17.631873   6.5   9.939423   49.224792   \n",
       "3  40.160673   3.0  0.0  -35.598767  35.731942  17.0  57.545745   38.182131   \n",
       "4  37.304047   7.0  0.0   17.617073  39.422296  20.0  73.280524  106.095268   \n",
       "\n",
       "        FTa2  FTa3  \n",
       "0   8.000000  0.90  \n",
       "1   9.500000  0.70  \n",
       "2  20.000000  0.65  \n",
       "3  44.500000  5.50  \n",
       "4  56.746942  5.75  "
      ]
     },
     "execution_count": 34,
     "metadata": {},
     "output_type": "execute_result"
    }
   ],
   "source": [
    "tr_lvls_combined.head()"
   ]
  },
  {
   "cell_type": "code",
   "execution_count": 35,
   "metadata": {
    "hidden": true
   },
   "outputs": [],
   "source": [
    "tr_lvls_combined = tr_lvls_combined.reindex(sorted(tr_lvls_combined.columns), axis=1)"
   ]
  },
  {
   "cell_type": "code",
   "execution_count": 36,
   "metadata": {
    "hidden": true,
    "scrolled": true
   },
   "outputs": [
    {
     "data": {
      "text/html": [
       "<div>\n",
       "<style scoped>\n",
       "    .dataframe tbody tr th:only-of-type {\n",
       "        vertical-align: middle;\n",
       "    }\n",
       "\n",
       "    .dataframe tbody tr th {\n",
       "        vertical-align: top;\n",
       "    }\n",
       "\n",
       "    .dataframe thead th {\n",
       "        text-align: right;\n",
       "    }\n",
       "</style>\n",
       "<table border=\"1\" class=\"dataframe\">\n",
       "  <thead>\n",
       "    <tr style=\"text-align: right;\">\n",
       "      <th></th>\n",
       "      <th>AP1</th>\n",
       "      <th>FD</th>\n",
       "      <th>FTa1</th>\n",
       "      <th>FTa2</th>\n",
       "      <th>FTa3</th>\n",
       "      <th>FTb</th>\n",
       "      <th>FTc</th>\n",
       "      <th>LFY</th>\n",
       "      <th>TFL1a</th>\n",
       "      <th>TFL1c</th>\n",
       "    </tr>\n",
       "  </thead>\n",
       "  <tbody>\n",
       "    <tr>\n",
       "      <th>0</th>\n",
       "      <td>-131.102682</td>\n",
       "      <td>32.974898</td>\n",
       "      <td>2.0</td>\n",
       "      <td>8.0</td>\n",
       "      <td>0.9</td>\n",
       "      <td>3.0</td>\n",
       "      <td>0.0</td>\n",
       "      <td>7.769003</td>\n",
       "      <td>22.710053</td>\n",
       "      <td>24.34271</td>\n",
       "    </tr>\n",
       "  </tbody>\n",
       "</table>\n",
       "</div>"
      ],
      "text/plain": [
       "          AP1         FD  FTa1  FTa2  FTa3  FTb  FTc       LFY      TFL1a  \\\n",
       "0 -131.102682  32.974898   2.0   8.0   0.9  3.0  0.0  7.769003  22.710053   \n",
       "\n",
       "      TFL1c  \n",
       "0  24.34271  "
      ]
     },
     "execution_count": 36,
     "metadata": {},
     "output_type": "execute_result"
    }
   ],
   "source": [
    "tr_lvls_combined.head(1)"
   ]
  },
  {
   "cell_type": "markdown",
   "metadata": {},
   "source": [
    "# Data preparation"
   ]
  },
  {
   "cell_type": "markdown",
   "metadata": {
    "heading_collapsed": true
   },
   "source": [
    "## Split the data"
   ]
  },
  {
   "cell_type": "markdown",
   "metadata": {
    "hidden": true
   },
   "source": [
    "Split into factors-targets and train-test"
   ]
  },
  {
   "cell_type": "markdown",
   "metadata": {
    "hidden": true
   },
   "source": [
    "Для начала построим модель зависимости AP1 от всех других генов:"
   ]
  },
  {
   "cell_type": "code",
   "execution_count": 37,
   "metadata": {
    "hidden": true
   },
   "outputs": [],
   "source": [
    "current_target = 'AP1'"
   ]
  },
  {
   "cell_type": "code",
   "execution_count": 38,
   "metadata": {
    "hidden": true
   },
   "outputs": [],
   "source": [
    "target = tr_lvls_combined['AP1']"
   ]
  },
  {
   "cell_type": "code",
   "execution_count": 39,
   "metadata": {
    "hidden": true
   },
   "outputs": [],
   "source": [
    "X_train, X_test, y_train, y_test = train_test_split(tr_lvls_combined.drop('AP1', axis = 1), target,\n",
    "                                                    test_size = 0.25, random_state=SEED, shuffle=True)"
   ]
  },
  {
   "cell_type": "markdown",
   "metadata": {},
   "source": [
    "## Data standartization"
   ]
  },
  {
   "cell_type": "markdown",
   "metadata": {},
   "source": [
    "следует изменить стандартизацию так, чтобы запоминать параметры масштабирования ТП и дальше использовать именно их, или же вообще стоит отказаться от этого шага."
   ]
  },
  {
   "cell_type": "code",
   "execution_count": 40,
   "metadata": {},
   "outputs": [],
   "source": [
    "def standartize_train_test(X_train, X_test):\n",
    "    st_scaler = StandardScaler()\n",
    "    \n",
    "    standartized_train = st_scaler.fit_transform(X_train.values)\n",
    "    standartized_test = st_scaler.transform(X_test.values)\n",
    "    \n",
    "    standartized_train = pd.DataFrame(standartized_train, columns=X_train.columns)\n",
    "    standartized_test = pd.DataFrame(standartized_test, columns=X_test.columns)\n",
    "    \n",
    "    return standartized_train, standartized_test, st_scaler"
   ]
  },
  {
   "cell_type": "code",
   "execution_count": 226,
   "metadata": {},
   "outputs": [],
   "source": [
    "# def minmax_train_test(X_train, X_test):\n",
    "#     st_scaler = MinMaxScaler()\n",
    "    \n",
    "#     standartized_train = st_scaler.fit_transform(X_train.values)\n",
    "#     standartized_test = st_scaler.transform(X_test.values)\n",
    "    \n",
    "#     standartized_train = pd.DataFrame(standartized_train, columns=X_train.columns)\n",
    "#     standartized_test = pd.DataFrame(standartized_test, columns=X_test.columns)\n",
    "    \n",
    "#     return standartized_train, standartized_test"
   ]
  },
  {
   "cell_type": "code",
   "execution_count": 41,
   "metadata": {},
   "outputs": [],
   "source": [
    "X_train_standartized, X_test_standartized, st_scaler = standartize_train_test(X_train, X_test)"
   ]
  },
  {
   "cell_type": "code",
   "execution_count": 101,
   "metadata": {},
   "outputs": [],
   "source": [
    "with open('scaler.cached', 'wb') as file:\n",
    "    dill.dump(st_scaler, file)"
   ]
  },
  {
   "cell_type": "code",
   "execution_count": 42,
   "metadata": {},
   "outputs": [
    {
     "data": {
      "text/html": [
       "<div>\n",
       "<style scoped>\n",
       "    .dataframe tbody tr th:only-of-type {\n",
       "        vertical-align: middle;\n",
       "    }\n",
       "\n",
       "    .dataframe tbody tr th {\n",
       "        vertical-align: top;\n",
       "    }\n",
       "\n",
       "    .dataframe thead th {\n",
       "        text-align: right;\n",
       "    }\n",
       "</style>\n",
       "<table border=\"1\" class=\"dataframe\">\n",
       "  <thead>\n",
       "    <tr style=\"text-align: right;\">\n",
       "      <th></th>\n",
       "      <th>FD</th>\n",
       "      <th>FTa1</th>\n",
       "      <th>FTa2</th>\n",
       "      <th>FTa3</th>\n",
       "      <th>FTb</th>\n",
       "      <th>FTc</th>\n",
       "      <th>LFY</th>\n",
       "      <th>TFL1a</th>\n",
       "      <th>TFL1c</th>\n",
       "    </tr>\n",
       "  </thead>\n",
       "  <tbody>\n",
       "    <tr>\n",
       "      <th>count</th>\n",
       "      <td>7.500000e+02</td>\n",
       "      <td>7.500000e+02</td>\n",
       "      <td>7.500000e+02</td>\n",
       "      <td>7.500000e+02</td>\n",
       "      <td>7.500000e+02</td>\n",
       "      <td>7.500000e+02</td>\n",
       "      <td>7.500000e+02</td>\n",
       "      <td>7.500000e+02</td>\n",
       "      <td>7.500000e+02</td>\n",
       "    </tr>\n",
       "    <tr>\n",
       "      <th>mean</th>\n",
       "      <td>2.856974e-16</td>\n",
       "      <td>4.366877e-17</td>\n",
       "      <td>3.937591e-17</td>\n",
       "      <td>-9.821773e-17</td>\n",
       "      <td>-1.746751e-16</td>\n",
       "      <td>7.864774e-17</td>\n",
       "      <td>-6.631732e-17</td>\n",
       "      <td>1.921056e-16</td>\n",
       "      <td>-1.983598e-16</td>\n",
       "    </tr>\n",
       "    <tr>\n",
       "      <th>std</th>\n",
       "      <td>1.000667e+00</td>\n",
       "      <td>1.000667e+00</td>\n",
       "      <td>1.000667e+00</td>\n",
       "      <td>1.000667e+00</td>\n",
       "      <td>1.000667e+00</td>\n",
       "      <td>1.000667e+00</td>\n",
       "      <td>1.000667e+00</td>\n",
       "      <td>1.000667e+00</td>\n",
       "      <td>1.000667e+00</td>\n",
       "    </tr>\n",
       "    <tr>\n",
       "      <th>min</th>\n",
       "      <td>-1.429880e+00</td>\n",
       "      <td>-1.019577e+00</td>\n",
       "      <td>-1.321160e+00</td>\n",
       "      <td>-1.319970e+00</td>\n",
       "      <td>-8.280165e-01</td>\n",
       "      <td>-5.854200e-01</td>\n",
       "      <td>-1.555123e+00</td>\n",
       "      <td>-1.605349e+00</td>\n",
       "      <td>-2.892337e+00</td>\n",
       "    </tr>\n",
       "    <tr>\n",
       "      <th>25%</th>\n",
       "      <td>-6.775345e-01</td>\n",
       "      <td>-8.194943e-01</td>\n",
       "      <td>-6.592145e-01</td>\n",
       "      <td>-4.140967e-01</td>\n",
       "      <td>-7.468787e-01</td>\n",
       "      <td>-5.854200e-01</td>\n",
       "      <td>-6.025577e-01</td>\n",
       "      <td>-6.379763e-01</td>\n",
       "      <td>-6.273966e-01</td>\n",
       "    </tr>\n",
       "    <tr>\n",
       "      <th>50%</th>\n",
       "      <td>-2.853077e-01</td>\n",
       "      <td>-3.020664e-01</td>\n",
       "      <td>-3.507990e-01</td>\n",
       "      <td>-3.307730e-01</td>\n",
       "      <td>-6.170582e-01</td>\n",
       "      <td>-3.490812e-01</td>\n",
       "      <td>-2.716893e-01</td>\n",
       "      <td>-2.727652e-01</td>\n",
       "      <td>-1.661595e-01</td>\n",
       "    </tr>\n",
       "    <tr>\n",
       "      <th>75%</th>\n",
       "      <td>3.334095e-01</td>\n",
       "      <td>2.476118e-01</td>\n",
       "      <td>8.578747e-01</td>\n",
       "      <td>-5.557561e-02</td>\n",
       "      <td>7.622841e-01</td>\n",
       "      <td>-7.702895e-03</td>\n",
       "      <td>1.435920e-01</td>\n",
       "      <td>2.717481e-01</td>\n",
       "      <td>3.173000e-01</td>\n",
       "    </tr>\n",
       "    <tr>\n",
       "      <th>max</th>\n",
       "      <td>4.462229e+00</td>\n",
       "      <td>2.248436e+00</td>\n",
       "      <td>3.070887e+00</td>\n",
       "      <td>5.554221e+00</td>\n",
       "      <td>2.222764e+00</td>\n",
       "      <td>3.090962e+00</td>\n",
       "      <td>6.509242e+00</td>\n",
       "      <td>5.401141e+00</td>\n",
       "      <td>4.225805e+00</td>\n",
       "    </tr>\n",
       "  </tbody>\n",
       "</table>\n",
       "</div>"
      ],
      "text/plain": [
       "                 FD          FTa1          FTa2          FTa3           FTb  \\\n",
       "count  7.500000e+02  7.500000e+02  7.500000e+02  7.500000e+02  7.500000e+02   \n",
       "mean   2.856974e-16  4.366877e-17  3.937591e-17 -9.821773e-17 -1.746751e-16   \n",
       "std    1.000667e+00  1.000667e+00  1.000667e+00  1.000667e+00  1.000667e+00   \n",
       "min   -1.429880e+00 -1.019577e+00 -1.321160e+00 -1.319970e+00 -8.280165e-01   \n",
       "25%   -6.775345e-01 -8.194943e-01 -6.592145e-01 -4.140967e-01 -7.468787e-01   \n",
       "50%   -2.853077e-01 -3.020664e-01 -3.507990e-01 -3.307730e-01 -6.170582e-01   \n",
       "75%    3.334095e-01  2.476118e-01  8.578747e-01 -5.557561e-02  7.622841e-01   \n",
       "max    4.462229e+00  2.248436e+00  3.070887e+00  5.554221e+00  2.222764e+00   \n",
       "\n",
       "                FTc           LFY         TFL1a         TFL1c  \n",
       "count  7.500000e+02  7.500000e+02  7.500000e+02  7.500000e+02  \n",
       "mean   7.864774e-17 -6.631732e-17  1.921056e-16 -1.983598e-16  \n",
       "std    1.000667e+00  1.000667e+00  1.000667e+00  1.000667e+00  \n",
       "min   -5.854200e-01 -1.555123e+00 -1.605349e+00 -2.892337e+00  \n",
       "25%   -5.854200e-01 -6.025577e-01 -6.379763e-01 -6.273966e-01  \n",
       "50%   -3.490812e-01 -2.716893e-01 -2.727652e-01 -1.661595e-01  \n",
       "75%   -7.702895e-03  1.435920e-01  2.717481e-01  3.173000e-01  \n",
       "max    3.090962e+00  6.509242e+00  5.401141e+00  4.225805e+00  "
      ]
     },
     "execution_count": 42,
     "metadata": {},
     "output_type": "execute_result"
    }
   ],
   "source": [
    "X_train_standartized.describe()"
   ]
  },
  {
   "cell_type": "markdown",
   "metadata": {},
   "source": [
    "## Write prepared data to file for further usage"
   ]
  },
  {
   "cell_type": "code",
   "execution_count": 42,
   "metadata": {},
   "outputs": [],
   "source": [
    "X_train.to_csv('data/prepared/X_train.csv')\n",
    "X_test.to_csv('data/prepared/X_test.csv')"
   ]
  },
  {
   "cell_type": "code",
   "execution_count": 43,
   "metadata": {},
   "outputs": [],
   "source": [
    "y_train.to_csv('data/prepared/y_train.csv', header = current_target)\n",
    "y_test.to_csv('data/prepared/y_test.csv', header = current_target)"
   ]
  },
  {
   "cell_type": "code",
   "execution_count": 44,
   "metadata": {},
   "outputs": [],
   "source": [
    "X_train_standartized.to_csv('data/prepared/X_train_std.csv')\n",
    "X_test_standartized.to_csv('data/prepared/X_test_std.csv')"
   ]
  },
  {
   "cell_type": "markdown",
   "metadata": {},
   "source": [
    "# Regression models"
   ]
  },
  {
   "cell_type": "markdown",
   "metadata": {},
   "source": [
    "## Linear model"
   ]
  },
  {
   "cell_type": "code",
   "execution_count": 45,
   "metadata": {},
   "outputs": [],
   "source": [
    "linear_model = LinearRegression()"
   ]
  },
  {
   "cell_type": "code",
   "execution_count": 46,
   "metadata": {
    "scrolled": true
   },
   "outputs": [
    {
     "data": {
      "text/plain": [
       "LinearRegression(copy_X=True, fit_intercept=True, n_jobs=None,\n",
       "         normalize=False)"
      ]
     },
     "execution_count": 46,
     "metadata": {},
     "output_type": "execute_result"
    }
   ],
   "source": [
    "linear_model.fit(X_train_standartized, y_train)"
   ]
  },
  {
   "cell_type": "code",
   "execution_count": 47,
   "metadata": {},
   "outputs": [],
   "source": [
    "train_pred = linear_model.predict(X_train_standartized)"
   ]
  },
  {
   "cell_type": "code",
   "execution_count": 48,
   "metadata": {
    "scrolled": false
   },
   "outputs": [
    {
     "data": {
      "image/png": "[encoded data removed]",
      "text/plain": [
       "<Figure size 432x288 with 1 Axes>"
      ]
     },
     "metadata": {
      "needs_background": "light"
     },
     "output_type": "display_data"
    }
   ],
   "source": [
    "plt.scatter(y_train, train_pred)\n",
    "plt.plot([min(y_train), max(y_train)], [min(y_train), max(y_train)], 'r')\n",
    "plt.xlabel('True Values' + ' (' + current_target + ')')\n",
    "plt.ylabel('Predictions' + ' (' + current_target + ')')\n",
    "plt.axis('equal')\n",
    "plt.axis('square')\n",
    "plt.title('Predictions on train')\n",
    "plt.xlim(min(y_train) -10, max(y_train)+10)\n",
    "plt.ylim(min(y_train) -10, max(y_train)+10)\n",
    "plt.show()\n",
    "# plt.xlim([0,3])\n",
    "# plt.ylim([0,3])"
   ]
  },
  {
   "cell_type": "code",
   "execution_count": 49,
   "metadata": {
    "scrolled": true
   },
   "outputs": [
    {
     "data": {
      "text/plain": [
       "array([[1.        , 0.83312176],\n",
       "       [0.83312176, 1.        ]])"
      ]
     },
     "execution_count": 49,
     "metadata": {},
     "output_type": "execute_result"
    }
   ],
   "source": [
    "np.corrcoef(train_pred, y_train)"
   ]
  },
  {
   "cell_type": "code",
   "execution_count": 50,
   "metadata": {
    "scrolled": true
   },
   "outputs": [
    {
     "data": {
      "text/plain": [
       "22469.103797302898"
      ]
     },
     "execution_count": 50,
     "metadata": {},
     "output_type": "execute_result"
    }
   ],
   "source": [
    "mean_squared_error(y_train, train_pred)"
   ]
  },
  {
   "cell_type": "code",
   "execution_count": 51,
   "metadata": {
    "scrolled": false
   },
   "outputs": [],
   "source": [
    "predictions = linear_model.predict(X_test_standartized)"
   ]
  },
  {
   "cell_type": "code",
   "execution_count": 52,
   "metadata": {},
   "outputs": [
    {
     "data": {
      "image/png": "[encoded data removed]",
      "text/plain": [
       "<Figure size 432x288 with 1 Axes>"
      ]
     },
     "metadata": {
      "needs_background": "light"
     },
     "output_type": "display_data"
    }
   ],
   "source": [
    "plt.scatter(y_test, predictions)\n",
    "plt.plot([min(y_test), max(y_test)], [min(y_test), max(y_test)], 'r')\n",
    "plt.xlabel('True Values' + ' (' + current_target + ')')\n",
    "plt.ylabel('Predictions' + ' (' + current_target + ')')\n",
    "plt.title('Predictions on test')\n",
    "plt.axis('equal')\n",
    "plt.axis('square')\n",
    "plt.show()\n",
    "# plt.xlim([0,3])\n",
    "# plt.ylim([0,3])"
   ]
  },
  {
   "cell_type": "code",
   "execution_count": 53,
   "metadata": {
    "scrolled": true
   },
   "outputs": [
    {
     "data": {
      "text/plain": [
       "25533.44093136099"
      ]
     },
     "execution_count": 53,
     "metadata": {},
     "output_type": "execute_result"
    }
   ],
   "source": [
    "mean_squared_error(y_test, predictions)"
   ]
  },
  {
   "cell_type": "code",
   "execution_count": 54,
   "metadata": {
    "scrolled": true
   },
   "outputs": [
    {
     "data": {
      "text/plain": [
       "array([[1.        , 0.82491261],\n",
       "       [0.82491261, 1.        ]])"
      ]
     },
     "execution_count": 54,
     "metadata": {},
     "output_type": "execute_result"
    }
   ],
   "source": [
    "np.corrcoef(predictions, y_test)"
   ]
  },
  {
   "cell_type": "markdown",
   "metadata": {},
   "source": [
    "## SVM regression"
   ]
  },
  {
   "cell_type": "code",
   "execution_count": 98,
   "metadata": {},
   "outputs": [
    {
     "name": "stdout",
     "output_type": "stream",
     "text": [
      "[49.38000703  8.14367619 67.90661448  6.22701331 25.51266667  1.11466667\n",
      " 68.89053533 20.91872261 26.10695746]\n",
      "[5.42512982e+02 5.62036840e+01 2.05607384e+03 1.71126091e+02\n",
      " 9.49366173e+02 3.62539156e+00 6.64971332e+03 1.34728822e+02\n",
      " 1.74150078e+02]\n"
     ]
    }
   ],
   "source": [
    "print(st_scaler.mean_)\n",
    "print(st_scaler.var_)"
   ]
  },
  {
   "cell_type": "code",
   "execution_count": 55,
   "metadata": {},
   "outputs": [],
   "source": [
    "svm_reg = SVR(kernel='rbf')"
   ]
  },
  {
   "cell_type": "code",
   "execution_count": 70,
   "metadata": {},
   "outputs": [],
   "source": [
    "cv = KFold(n_splits=5, shuffle=True, random_state=SEED)\n",
    "\n",
    "grid = {\n",
    "    'gamma': np.geomspace(0.0001, 10, 6),\n",
    "    'C': np.geomspace(0.0001, 1000, 8),\n",
    "    'epsilon': np.geomspace(0.0001, 10, 6)\n",
    "    #'learning_rate_init': np.geomspace(0.001, 0.1, 3)\n",
    "}\n",
    "\n",
    "gs = GridSearchCV(svm_reg, grid, \n",
    "                  n_jobs=-1, \n",
    "                  scoring=['neg_mean_squared_error', 'r2'], \n",
    "                  refit='neg_mean_squared_error', \n",
    "                  cv=cv, \n",
    "                  verbose=10)"
   ]
  },
  {
   "cell_type": "code",
   "execution_count": 71,
   "metadata": {
    "scrolled": true
   },
   "outputs": [
    {
     "name": "stdout",
     "output_type": "stream",
     "text": [
      "Fitting 5 folds for each of 288 candidates, totalling 1440 fits\n"
     ]
    },
    {
     "name": "stderr",
     "output_type": "stream",
     "text": [
      "[Parallel(n_jobs=-1)]: Using backend LokyBackend with 4 concurrent workers.\n",
      "[Parallel(n_jobs=-1)]: Done   5 tasks      | elapsed:    3.5s\n",
      "[Parallel(n_jobs=-1)]: Done  10 tasks      | elapsed:    3.6s\n",
      "[Parallel(n_jobs=-1)]: Done  17 tasks      | elapsed:    3.8s\n",
      "[Parallel(n_jobs=-1)]: Done  24 tasks      | elapsed:    4.0s\n",
      "[Parallel(n_jobs=-1)]: Done  33 tasks      | elapsed:    4.2s\n",
      "[Parallel(n_jobs=-1)]: Batch computation too fast (0.1938s.) Setting batch_size=2.\n",
      "[Parallel(n_jobs=-1)]: Done  42 tasks      | elapsed:    4.4s\n",
      "[Parallel(n_jobs=-1)]: Done  63 tasks      | elapsed:    4.8s\n",
      "[Parallel(n_jobs=-1)]: Done  85 tasks      | elapsed:    5.4s\n",
      "[Parallel(n_jobs=-1)]: Done 111 tasks      | elapsed:    5.9s\n",
      "[Parallel(n_jobs=-1)]: Done 137 tasks      | elapsed:    6.6s\n",
      "[Parallel(n_jobs=-1)]: Done 167 tasks      | elapsed:    7.2s\n",
      "[Parallel(n_jobs=-1)]: Done 197 tasks      | elapsed:    7.8s\n",
      "[Parallel(n_jobs=-1)]: Done 231 tasks      | elapsed:    8.6s\n",
      "[Parallel(n_jobs=-1)]: Done 265 tasks      | elapsed:    9.4s\n",
      "[Parallel(n_jobs=-1)]: Done 303 tasks      | elapsed:   10.2s\n",
      "[Parallel(n_jobs=-1)]: Done 341 tasks      | elapsed:   11.0s\n",
      "[Parallel(n_jobs=-1)]: Done 383 tasks      | elapsed:   11.8s\n",
      "[Parallel(n_jobs=-1)]: Done 425 tasks      | elapsed:   12.8s\n",
      "[Parallel(n_jobs=-1)]: Done 471 tasks      | elapsed:   14.0s\n",
      "[Parallel(n_jobs=-1)]: Done 517 tasks      | elapsed:   15.2s\n",
      "[Parallel(n_jobs=-1)]: Done 567 tasks      | elapsed:   16.5s\n",
      "[Parallel(n_jobs=-1)]: Done 617 tasks      | elapsed:   17.7s\n",
      "[Parallel(n_jobs=-1)]: Done 671 tasks      | elapsed:   19.0s\n",
      "[Parallel(n_jobs=-1)]: Done 725 tasks      | elapsed:   20.0s\n",
      "[Parallel(n_jobs=-1)]: Done 783 tasks      | elapsed:   21.3s\n",
      "[Parallel(n_jobs=-1)]: Done 841 tasks      | elapsed:   22.5s\n",
      "[Parallel(n_jobs=-1)]: Done 903 tasks      | elapsed:   23.8s\n",
      "[Parallel(n_jobs=-1)]: Done 965 tasks      | elapsed:   25.2s\n",
      "[Parallel(n_jobs=-1)]: Done 1031 tasks      | elapsed:   26.7s\n",
      "[Parallel(n_jobs=-1)]: Done 1097 tasks      | elapsed:   28.0s\n",
      "[Parallel(n_jobs=-1)]: Done 1167 tasks      | elapsed:   30.0s\n",
      "[Parallel(n_jobs=-1)]: Done 1237 tasks      | elapsed:   31.8s\n",
      "[Parallel(n_jobs=-1)]: Done 1311 tasks      | elapsed:   34.4s\n",
      "[Parallel(n_jobs=-1)]: Done 1385 tasks      | elapsed:   37.4s\n",
      "[Parallel(n_jobs=-1)]: Done 1433 out of 1440 | elapsed:   39.1s remaining:    0.1s\n"
     ]
    },
    {
     "name": "stdout",
     "output_type": "stream",
     "text": [
      "Wall time: 39.6 s\n"
     ]
    },
    {
     "name": "stderr",
     "output_type": "stream",
     "text": [
      "[Parallel(n_jobs=-1)]: Done 1440 out of 1440 | elapsed:   39.3s finished\n"
     ]
    },
    {
     "data": {
      "text/plain": [
       "GridSearchCV(cv=KFold(n_splits=5, random_state=73, shuffle=True),\n",
       "       error_score='raise-deprecating',\n",
       "       estimator=SVR(C=1.0, cache_size=200, coef0=0.0, degree=3, epsilon=0.1,\n",
       "  gamma='auto_deprecated', kernel='rbf', max_iter=-1, shrinking=True,\n",
       "  tol=0.001, verbose=False),\n",
       "       fit_params=None, iid='warn', n_jobs=-1,\n",
       "       param_grid={'gamma': array([1.e-04, 1.e-03, 1.e-02, 1.e-01, 1.e+00, 1.e+01]), 'C': array([1.e-04, 1.e-03, 1.e-02, 1.e-01, 1.e+00, 1.e+01, 1.e+02, 1.e+03]), 'epsilon': array([1.e-04, 1.e-03, 1.e-02, 1.e-01, 1.e+00, 1.e+01])},\n",
       "       pre_dispatch='2*n_jobs', refit='neg_mean_squared_error',\n",
       "       return_train_score='warn', scoring=['neg_mean_squared_error', 'r2'],\n",
       "       verbose=10)"
      ]
     },
     "execution_count": 71,
     "metadata": {},
     "output_type": "execute_result"
    }
   ],
   "source": [
    "%%time\n",
    "gs.fit(X_train_standartized, y_train);"
   ]
  },
  {
   "cell_type": "code",
   "execution_count": 72,
   "metadata": {
    "scrolled": false
   },
   "outputs": [
    {
     "data": {
      "text/plain": [
       "{'C': 1000.0, 'epsilon': 10.0, 'gamma': 0.1}"
      ]
     },
     "execution_count": 72,
     "metadata": {},
     "output_type": "execute_result"
    }
   ],
   "source": [
    "gs.best_params_"
   ]
  },
  {
   "cell_type": "code",
   "execution_count": 73,
   "metadata": {},
   "outputs": [],
   "source": [
    "svr = gs.best_estimator_"
   ]
  },
  {
   "cell_type": "code",
   "execution_count": 74,
   "metadata": {},
   "outputs": [],
   "source": [
    "train_pred = svr.predict(X_train_standartized)"
   ]
  },
  {
   "cell_type": "code",
   "execution_count": 75,
   "metadata": {
    "scrolled": false
   },
   "outputs": [
    {
     "data": {
      "image/png": "[encoded data removed]",
      "text/plain": [
       "<Figure size 432x288 with 1 Axes>"
      ]
     },
     "metadata": {
      "needs_background": "light"
     },
     "output_type": "display_data"
    }
   ],
   "source": [
    "plt.scatter(y_train, train_pred)\n",
    "plt.plot([min(y_train), max(y_train)], [min(y_train), max(y_train)], 'r')\n",
    "plt.xlabel('True Values' + ' (' + current_target + ')')\n",
    "plt.ylabel('Predictions' + ' (' + current_target + ')')\n",
    "plt.axis('equal')\n",
    "plt.axis('square')\n",
    "plt.title('Predictions on train')\n",
    "plt.xlim(min(y_train) -10, max(y_train)+10)\n",
    "plt.ylim(min(y_train) -10, max(y_train)+10)\n",
    "plt.show()\n",
    "# plt.xlim([0,3])\n",
    "# plt.ylim([0,3])"
   ]
  },
  {
   "cell_type": "code",
   "execution_count": 86,
   "metadata": {
    "scrolled": true
   },
   "outputs": [
    {
     "data": {
      "text/plain": [
       "0.9484487761000225"
      ]
     },
     "execution_count": 86,
     "metadata": {},
     "output_type": "execute_result"
    }
   ],
   "source": [
    "np.corrcoef(train_pred, y_train)[1,0]"
   ]
  },
  {
   "cell_type": "code",
   "execution_count": 77,
   "metadata": {
    "scrolled": true
   },
   "outputs": [
    {
     "data": {
      "text/plain": [
       "7405.212903139256"
      ]
     },
     "execution_count": 77,
     "metadata": {},
     "output_type": "execute_result"
    }
   ],
   "source": [
    "mean_squared_error(y_train, train_pred)"
   ]
  },
  {
   "cell_type": "code",
   "execution_count": 79,
   "metadata": {
    "scrolled": false
   },
   "outputs": [],
   "source": [
    "predictions = svr.predict(X_test_standartized)"
   ]
  },
  {
   "cell_type": "code",
   "execution_count": 80,
   "metadata": {},
   "outputs": [
    {
     "data": {
      "image/png": "[encoded data removed]",
      "text/plain": [
       "<Figure size 432x288 with 1 Axes>"
      ]
     },
     "metadata": {
      "needs_background": "light"
     },
     "output_type": "display_data"
    }
   ],
   "source": [
    "plt.scatter(y_test, predictions)\n",
    "plt.plot([min(y_test), max(y_test)], [min(y_test), max(y_test)], 'r')\n",
    "plt.xlabel('True Values' + ' (' + current_target + ')')\n",
    "plt.ylabel('Predictions' + ' (' + current_target + ')')\n",
    "plt.title('Predictions on test')\n",
    "plt.axis('equal')\n",
    "plt.axis('square')\n",
    "plt.show()\n",
    "# plt.xlim([0,3])\n",
    "# plt.ylim([0,3])"
   ]
  },
  {
   "cell_type": "code",
   "execution_count": 81,
   "metadata": {
    "scrolled": true
   },
   "outputs": [
    {
     "data": {
      "text/plain": [
       "10791.762753105986"
      ]
     },
     "execution_count": 81,
     "metadata": {},
     "output_type": "execute_result"
    }
   ],
   "source": [
    "mean_squared_error(y_test, predictions)"
   ]
  },
  {
   "cell_type": "code",
   "execution_count": 91,
   "metadata": {
    "scrolled": true
   },
   "outputs": [
    {
     "data": {
      "text/plain": [
       "0.9302702198292685"
      ]
     },
     "execution_count": 91,
     "metadata": {},
     "output_type": "execute_result"
    }
   ],
   "source": [
    "np.corrcoef(predictions, y_test)[1,0]"
   ]
  },
  {
   "cell_type": "markdown",
   "metadata": {},
   "source": [
    "## NN model"
   ]
  },
  {
   "cell_type": "markdown",
   "metadata": {},
   "source": [
    "### Model"
   ]
  },
  {
   "cell_type": "markdown",
   "metadata": {},
   "source": [
    "len(hidden_layer_sizes) = n_layers"
   ]
  },
  {
   "cell_type": "markdown",
   "metadata": {},
   "source": [
    "* Стоит делать Gread search по $\\alpha$, momentum, возможно, начальный learning_rate_init\n",
    "* Попробовать другие активационные функции\n",
    "* другая архитектура\n"
   ]
  },
  {
   "cell_type": "code",
   "execution_count": 250,
   "metadata": {},
   "outputs": [],
   "source": [
    "model = MLPRegressor(hidden_layer_sizes=(9, 4), solver='sgd', validation_fraction=0.25,\n",
    "                     n_iter_no_change=50, max_iter=5000, early_stopping=True,\n",
    "                     learning_rate='adaptive', alpha=1e-4, activation='logistic')"
   ]
  },
  {
   "cell_type": "markdown",
   "metadata": {},
   "source": [
    "### Rough tuning"
   ]
  },
  {
   "cell_type": "code",
   "execution_count": 251,
   "metadata": {},
   "outputs": [],
   "source": [
    "cv = KFold(n_splits=5, shuffle=True, random_state=SEED)\n",
    "\n",
    "grid = {\n",
    "    'alpha': np.geomspace(0.00001, 0.01, 4),\n",
    "    'activation' : ['logistic', 'relu']\n",
    "    #'learning_rate_init': np.geomspace(0.001, 0.1, 3)\n",
    "}\n",
    "\n",
    "gs = GridSearchCV(model, grid, \n",
    "                  n_jobs=-1, \n",
    "                  scoring=['neg_mean_squared_error', 'r2'], \n",
    "                  refit='neg_mean_squared_error', \n",
    "                  cv=cv, \n",
    "                  verbose=10)"
   ]
  },
  {
   "cell_type": "code",
   "execution_count": 252,
   "metadata": {
    "scrolled": true
   },
   "outputs": [
    {
     "name": "stdout",
     "output_type": "stream",
     "text": [
      "Fitting 5 folds for each of 8 candidates, totalling 40 fits\n"
     ]
    },
    {
     "name": "stderr",
     "output_type": "stream",
     "text": [
      "[Parallel(n_jobs=-1)]: Using backend LokyBackend with 4 concurrent workers.\n",
      "[Parallel(n_jobs=-1)]: Done   5 tasks      | elapsed:    2.1s\n",
      "[Parallel(n_jobs=-1)]: Done  10 tasks      | elapsed:    3.5s\n",
      "[Parallel(n_jobs=-1)]: Done  17 tasks      | elapsed:    5.7s\n",
      "[Parallel(n_jobs=-1)]: Done  24 tasks      | elapsed:    7.1s\n",
      "[Parallel(n_jobs=-1)]: Done  33 tasks      | elapsed:    8.8s\n",
      "[Parallel(n_jobs=-1)]: Done  38 out of  40 | elapsed:    9.2s remaining:    0.4s\n"
     ]
    },
    {
     "ename": "KeyboardInterrupt",
     "evalue": "",
     "output_type": "error",
     "traceback": [
      "\u001b[1;31m---------------------------------------------------------------------------\u001b[0m",
      "\u001b[1;31mKeyboardInterrupt\u001b[0m                         Traceback (most recent call last)",
      "\u001b[1;32m<timed eval>\u001b[0m in \u001b[0;36m<module>\u001b[1;34m\u001b[0m\n",
      "\u001b[1;32m~\\Anaconda3\\lib\\site-packages\\sklearn\\model_selection\\_search.py\u001b[0m in \u001b[0;36mfit\u001b[1;34m(self, X, y, groups, **fit_params)\u001b[0m\n\u001b[0;32m    720\u001b[0m                 \u001b[1;32mreturn\u001b[0m \u001b[0mresults_container\u001b[0m\u001b[1;33m[\u001b[0m\u001b[1;36m0\u001b[0m\u001b[1;33m]\u001b[0m\u001b[1;33m\u001b[0m\u001b[1;33m\u001b[0m\u001b[0m\n\u001b[0;32m    721\u001b[0m \u001b[1;33m\u001b[0m\u001b[0m\n\u001b[1;32m--> 722\u001b[1;33m             \u001b[0mself\u001b[0m\u001b[1;33m.\u001b[0m\u001b[0m_run_search\u001b[0m\u001b[1;33m(\u001b[0m\u001b[0mevaluate_candidates\u001b[0m\u001b[1;33m)\u001b[0m\u001b[1;33m\u001b[0m\u001b[1;33m\u001b[0m\u001b[0m\n\u001b[0m\u001b[0;32m    723\u001b[0m \u001b[1;33m\u001b[0m\u001b[0m\n\u001b[0;32m    724\u001b[0m         \u001b[0mresults\u001b[0m \u001b[1;33m=\u001b[0m \u001b[0mresults_container\u001b[0m\u001b[1;33m[\u001b[0m\u001b[1;36m0\u001b[0m\u001b[1;33m]\u001b[0m\u001b[1;33m\u001b[0m\u001b[1;33m\u001b[0m\u001b[0m\n",
      "\u001b[1;32m~\\Anaconda3\\lib\\site-packages\\sklearn\\model_selection\\_search.py\u001b[0m in \u001b[0;36m_run_search\u001b[1;34m(self, evaluate_candidates)\u001b[0m\n\u001b[0;32m   1189\u001b[0m     \u001b[1;32mdef\u001b[0m \u001b[0m_run_search\u001b[0m\u001b[1;33m(\u001b[0m\u001b[0mself\u001b[0m\u001b[1;33m,\u001b[0m \u001b[0mevaluate_candidates\u001b[0m\u001b[1;33m)\u001b[0m\u001b[1;33m:\u001b[0m\u001b[1;33m\u001b[0m\u001b[1;33m\u001b[0m\u001b[0m\n\u001b[0;32m   1190\u001b[0m         \u001b[1;34m\"\"\"Search all candidates in param_grid\"\"\"\u001b[0m\u001b[1;33m\u001b[0m\u001b[1;33m\u001b[0m\u001b[0m\n\u001b[1;32m-> 1191\u001b[1;33m         \u001b[0mevaluate_candidates\u001b[0m\u001b[1;33m(\u001b[0m\u001b[0mParameterGrid\u001b[0m\u001b[1;33m(\u001b[0m\u001b[0mself\u001b[0m\u001b[1;33m.\u001b[0m\u001b[0mparam_grid\u001b[0m\u001b[1;33m)\u001b[0m\u001b[1;33m)\u001b[0m\u001b[1;33m\u001b[0m\u001b[1;33m\u001b[0m\u001b[0m\n\u001b[0m\u001b[0;32m   1192\u001b[0m \u001b[1;33m\u001b[0m\u001b[0m\n\u001b[0;32m   1193\u001b[0m \u001b[1;33m\u001b[0m\u001b[0m\n",
      "\u001b[1;32m~\\Anaconda3\\lib\\site-packages\\sklearn\\model_selection\\_search.py\u001b[0m in \u001b[0;36mevaluate_candidates\u001b[1;34m(candidate_params)\u001b[0m\n\u001b[0;32m    709\u001b[0m                                \u001b[1;32mfor\u001b[0m \u001b[0mparameters\u001b[0m\u001b[1;33m,\u001b[0m \u001b[1;33m(\u001b[0m\u001b[0mtrain\u001b[0m\u001b[1;33m,\u001b[0m \u001b[0mtest\u001b[0m\u001b[1;33m)\u001b[0m\u001b[1;33m\u001b[0m\u001b[1;33m\u001b[0m\u001b[0m\n\u001b[0;32m    710\u001b[0m                                in product(candidate_params,\n\u001b[1;32m--> 711\u001b[1;33m                                           cv.split(X, y, groups)))\n\u001b[0m\u001b[0;32m    712\u001b[0m \u001b[1;33m\u001b[0m\u001b[0m\n\u001b[0;32m    713\u001b[0m                 \u001b[0mall_candidate_params\u001b[0m\u001b[1;33m.\u001b[0m\u001b[0mextend\u001b[0m\u001b[1;33m(\u001b[0m\u001b[0mcandidate_params\u001b[0m\u001b[1;33m)\u001b[0m\u001b[1;33m\u001b[0m\u001b[1;33m\u001b[0m\u001b[0m\n",
      "\u001b[1;32m~\\Anaconda3\\lib\\site-packages\\sklearn\\externals\\joblib\\parallel.py\u001b[0m in \u001b[0;36m__call__\u001b[1;34m(self, iterable)\u001b[0m\n\u001b[0;32m    928\u001b[0m \u001b[1;33m\u001b[0m\u001b[0m\n\u001b[0;32m    929\u001b[0m             \u001b[1;32mwith\u001b[0m \u001b[0mself\u001b[0m\u001b[1;33m.\u001b[0m\u001b[0m_backend\u001b[0m\u001b[1;33m.\u001b[0m\u001b[0mretrieval_context\u001b[0m\u001b[1;33m(\u001b[0m\u001b[1;33m)\u001b[0m\u001b[1;33m:\u001b[0m\u001b[1;33m\u001b[0m\u001b[1;33m\u001b[0m\u001b[0m\n\u001b[1;32m--> 930\u001b[1;33m                 \u001b[0mself\u001b[0m\u001b[1;33m.\u001b[0m\u001b[0mretrieve\u001b[0m\u001b[1;33m(\u001b[0m\u001b[1;33m)\u001b[0m\u001b[1;33m\u001b[0m\u001b[1;33m\u001b[0m\u001b[0m\n\u001b[0m\u001b[0;32m    931\u001b[0m             \u001b[1;31m# Make sure that we get a last message telling us we are done\u001b[0m\u001b[1;33m\u001b[0m\u001b[1;33m\u001b[0m\u001b[1;33m\u001b[0m\u001b[0m\n\u001b[0;32m    932\u001b[0m             \u001b[0melapsed_time\u001b[0m \u001b[1;33m=\u001b[0m \u001b[0mtime\u001b[0m\u001b[1;33m.\u001b[0m\u001b[0mtime\u001b[0m\u001b[1;33m(\u001b[0m\u001b[1;33m)\u001b[0m \u001b[1;33m-\u001b[0m \u001b[0mself\u001b[0m\u001b[1;33m.\u001b[0m\u001b[0m_start_time\u001b[0m\u001b[1;33m\u001b[0m\u001b[1;33m\u001b[0m\u001b[0m\n",
      "\u001b[1;32m~\\Anaconda3\\lib\\site-packages\\sklearn\\externals\\joblib\\parallel.py\u001b[0m in \u001b[0;36mretrieve\u001b[1;34m(self)\u001b[0m\n\u001b[0;32m    831\u001b[0m             \u001b[1;32mtry\u001b[0m\u001b[1;33m:\u001b[0m\u001b[1;33m\u001b[0m\u001b[1;33m\u001b[0m\u001b[0m\n\u001b[0;32m    832\u001b[0m                 \u001b[1;32mif\u001b[0m \u001b[0mgetattr\u001b[0m\u001b[1;33m(\u001b[0m\u001b[0mself\u001b[0m\u001b[1;33m.\u001b[0m\u001b[0m_backend\u001b[0m\u001b[1;33m,\u001b[0m \u001b[1;34m'supports_timeout'\u001b[0m\u001b[1;33m,\u001b[0m \u001b[1;32mFalse\u001b[0m\u001b[1;33m)\u001b[0m\u001b[1;33m:\u001b[0m\u001b[1;33m\u001b[0m\u001b[1;33m\u001b[0m\u001b[0m\n\u001b[1;32m--> 833\u001b[1;33m                     \u001b[0mself\u001b[0m\u001b[1;33m.\u001b[0m\u001b[0m_output\u001b[0m\u001b[1;33m.\u001b[0m\u001b[0mextend\u001b[0m\u001b[1;33m(\u001b[0m\u001b[0mjob\u001b[0m\u001b[1;33m.\u001b[0m\u001b[0mget\u001b[0m\u001b[1;33m(\u001b[0m\u001b[0mtimeout\u001b[0m\u001b[1;33m=\u001b[0m\u001b[0mself\u001b[0m\u001b[1;33m.\u001b[0m\u001b[0mtimeout\u001b[0m\u001b[1;33m)\u001b[0m\u001b[1;33m)\u001b[0m\u001b[1;33m\u001b[0m\u001b[1;33m\u001b[0m\u001b[0m\n\u001b[0m\u001b[0;32m    834\u001b[0m                 \u001b[1;32melse\u001b[0m\u001b[1;33m:\u001b[0m\u001b[1;33m\u001b[0m\u001b[1;33m\u001b[0m\u001b[0m\n\u001b[0;32m    835\u001b[0m                     \u001b[0mself\u001b[0m\u001b[1;33m.\u001b[0m\u001b[0m_output\u001b[0m\u001b[1;33m.\u001b[0m\u001b[0mextend\u001b[0m\u001b[1;33m(\u001b[0m\u001b[0mjob\u001b[0m\u001b[1;33m.\u001b[0m\u001b[0mget\u001b[0m\u001b[1;33m(\u001b[0m\u001b[1;33m)\u001b[0m\u001b[1;33m)\u001b[0m\u001b[1;33m\u001b[0m\u001b[1;33m\u001b[0m\u001b[0m\n",
      "\u001b[1;32m~\\Anaconda3\\lib\\site-packages\\sklearn\\externals\\joblib\\_parallel_backends.py\u001b[0m in \u001b[0;36mwrap_future_result\u001b[1;34m(future, timeout)\u001b[0m\n\u001b[0;32m    519\u001b[0m         AsyncResults.get from multiprocessing.\"\"\"\n\u001b[0;32m    520\u001b[0m         \u001b[1;32mtry\u001b[0m\u001b[1;33m:\u001b[0m\u001b[1;33m\u001b[0m\u001b[1;33m\u001b[0m\u001b[0m\n\u001b[1;32m--> 521\u001b[1;33m             \u001b[1;32mreturn\u001b[0m \u001b[0mfuture\u001b[0m\u001b[1;33m.\u001b[0m\u001b[0mresult\u001b[0m\u001b[1;33m(\u001b[0m\u001b[0mtimeout\u001b[0m\u001b[1;33m=\u001b[0m\u001b[0mtimeout\u001b[0m\u001b[1;33m)\u001b[0m\u001b[1;33m\u001b[0m\u001b[1;33m\u001b[0m\u001b[0m\n\u001b[0m\u001b[0;32m    522\u001b[0m         \u001b[1;32mexcept\u001b[0m \u001b[0mLokyTimeoutError\u001b[0m\u001b[1;33m:\u001b[0m\u001b[1;33m\u001b[0m\u001b[1;33m\u001b[0m\u001b[0m\n\u001b[0;32m    523\u001b[0m             \u001b[1;32mraise\u001b[0m \u001b[0mTimeoutError\u001b[0m\u001b[1;33m(\u001b[0m\u001b[1;33m)\u001b[0m\u001b[1;33m\u001b[0m\u001b[1;33m\u001b[0m\u001b[0m\n",
      "\u001b[1;32m~\\Anaconda3\\lib\\concurrent\\futures\\_base.py\u001b[0m in \u001b[0;36mresult\u001b[1;34m(self, timeout)\u001b[0m\n\u001b[0;32m    425\u001b[0m                 \u001b[1;32mreturn\u001b[0m \u001b[0mself\u001b[0m\u001b[1;33m.\u001b[0m\u001b[0m__get_result\u001b[0m\u001b[1;33m(\u001b[0m\u001b[1;33m)\u001b[0m\u001b[1;33m\u001b[0m\u001b[1;33m\u001b[0m\u001b[0m\n\u001b[0;32m    426\u001b[0m \u001b[1;33m\u001b[0m\u001b[0m\n\u001b[1;32m--> 427\u001b[1;33m             \u001b[0mself\u001b[0m\u001b[1;33m.\u001b[0m\u001b[0m_condition\u001b[0m\u001b[1;33m.\u001b[0m\u001b[0mwait\u001b[0m\u001b[1;33m(\u001b[0m\u001b[0mtimeout\u001b[0m\u001b[1;33m)\u001b[0m\u001b[1;33m\u001b[0m\u001b[1;33m\u001b[0m\u001b[0m\n\u001b[0m\u001b[0;32m    428\u001b[0m \u001b[1;33m\u001b[0m\u001b[0m\n\u001b[0;32m    429\u001b[0m             \u001b[1;32mif\u001b[0m \u001b[0mself\u001b[0m\u001b[1;33m.\u001b[0m\u001b[0m_state\u001b[0m \u001b[1;32min\u001b[0m \u001b[1;33m[\u001b[0m\u001b[0mCANCELLED\u001b[0m\u001b[1;33m,\u001b[0m \u001b[0mCANCELLED_AND_NOTIFIED\u001b[0m\u001b[1;33m]\u001b[0m\u001b[1;33m:\u001b[0m\u001b[1;33m\u001b[0m\u001b[1;33m\u001b[0m\u001b[0m\n",
      "\u001b[1;32m~\\Anaconda3\\lib\\threading.py\u001b[0m in \u001b[0;36mwait\u001b[1;34m(self, timeout)\u001b[0m\n\u001b[0;32m    294\u001b[0m         \u001b[1;32mtry\u001b[0m\u001b[1;33m:\u001b[0m    \u001b[1;31m# restore state no matter what (e.g., KeyboardInterrupt)\u001b[0m\u001b[1;33m\u001b[0m\u001b[1;33m\u001b[0m\u001b[0m\n\u001b[0;32m    295\u001b[0m             \u001b[1;32mif\u001b[0m \u001b[0mtimeout\u001b[0m \u001b[1;32mis\u001b[0m \u001b[1;32mNone\u001b[0m\u001b[1;33m:\u001b[0m\u001b[1;33m\u001b[0m\u001b[1;33m\u001b[0m\u001b[0m\n\u001b[1;32m--> 296\u001b[1;33m                 \u001b[0mwaiter\u001b[0m\u001b[1;33m.\u001b[0m\u001b[0macquire\u001b[0m\u001b[1;33m(\u001b[0m\u001b[1;33m)\u001b[0m\u001b[1;33m\u001b[0m\u001b[1;33m\u001b[0m\u001b[0m\n\u001b[0m\u001b[0;32m    297\u001b[0m                 \u001b[0mgotit\u001b[0m \u001b[1;33m=\u001b[0m \u001b[1;32mTrue\u001b[0m\u001b[1;33m\u001b[0m\u001b[1;33m\u001b[0m\u001b[0m\n\u001b[0;32m    298\u001b[0m             \u001b[1;32melse\u001b[0m\u001b[1;33m:\u001b[0m\u001b[1;33m\u001b[0m\u001b[1;33m\u001b[0m\u001b[0m\n",
      "\u001b[1;31mKeyboardInterrupt\u001b[0m: "
     ]
    }
   ],
   "source": [
    "%%time\n",
    "gs.fit(X_train_standartized, y_train);"
   ]
  },
  {
   "cell_type": "code",
   "execution_count": 253,
   "metadata": {
    "scrolled": false
   },
   "outputs": [
    {
     "ename": "AttributeError",
     "evalue": "'GridSearchCV' object has no attribute 'best_params_'",
     "output_type": "error",
     "traceback": [
      "\u001b[1;31m---------------------------------------------------------------------------\u001b[0m",
      "\u001b[1;31mAttributeError\u001b[0m                            Traceback (most recent call last)",
      "\u001b[1;32m<ipython-input-253-df2c2bd0f67e>\u001b[0m in \u001b[0;36m<module>\u001b[1;34m\u001b[0m\n\u001b[1;32m----> 1\u001b[1;33m \u001b[0mgs\u001b[0m\u001b[1;33m.\u001b[0m\u001b[0mbest_params_\u001b[0m\u001b[1;33m\u001b[0m\u001b[1;33m\u001b[0m\u001b[0m\n\u001b[0m",
      "\u001b[1;31mAttributeError\u001b[0m: 'GridSearchCV' object has no attribute 'best_params_'"
     ]
    }
   ],
   "source": [
    "gs.best_params_"
   ]
  },
  {
   "cell_type": "markdown",
   "metadata": {},
   "source": [
    "### Fine tuning"
   ]
  },
  {
   "cell_type": "code",
   "execution_count": 254,
   "metadata": {},
   "outputs": [],
   "source": [
    "cv = KFold(n_splits=5, shuffle=True, random_state=SEED)\n",
    "\n",
    "grid = {\n",
    "    'alpha': np.linspace(1e-5, 1e-2, 20).round(5)\n",
    "}\n",
    "\n",
    "gs = GridSearchCV(model, grid, \n",
    "                  n_jobs=-1, \n",
    "                  scoring=['neg_mean_squared_error', 'r2'], \n",
    "                  refit='neg_mean_squared_error', \n",
    "                  cv=cv, \n",
    "                  verbose=10)"
   ]
  },
  {
   "cell_type": "code",
   "execution_count": 255,
   "metadata": {
    "scrolled": true
   },
   "outputs": [
    {
     "name": "stdout",
     "output_type": "stream",
     "text": [
      "Fitting 5 folds for each of 20 candidates, totalling 100 fits\n"
     ]
    },
    {
     "name": "stderr",
     "output_type": "stream",
     "text": [
      "[Parallel(n_jobs=-1)]: Using backend LokyBackend with 4 concurrent workers.\n",
      "[Parallel(n_jobs=-1)]: Done   5 tasks      | elapsed:    4.5s\n",
      "[Parallel(n_jobs=-1)]: Done  10 tasks      | elapsed:    5.7s\n",
      "[Parallel(n_jobs=-1)]: Done  17 tasks      | elapsed:    8.0s\n",
      "[Parallel(n_jobs=-1)]: Done  24 tasks      | elapsed:   10.0s\n",
      "[Parallel(n_jobs=-1)]: Done  33 tasks      | elapsed:   12.6s\n",
      "[Parallel(n_jobs=-1)]: Done  42 tasks      | elapsed:   15.2s\n",
      "[Parallel(n_jobs=-1)]: Done  53 tasks      | elapsed:   18.1s\n",
      "[Parallel(n_jobs=-1)]: Done  64 tasks      | elapsed:   21.7s\n",
      "[Parallel(n_jobs=-1)]: Done  77 tasks      | elapsed:   26.1s\n",
      "[Parallel(n_jobs=-1)]: Done  90 tasks      | elapsed:   30.0s\n",
      "[Parallel(n_jobs=-1)]: Done 100 out of 100 | elapsed:   32.6s finished\n"
     ]
    },
    {
     "name": "stdout",
     "output_type": "stream",
     "text": [
      "Wall time: 33.5 s\n"
     ]
    },
    {
     "data": {
      "text/plain": [
       "GridSearchCV(cv=KFold(n_splits=5, random_state=73, shuffle=True),\n",
       "       error_score='raise-deprecating',\n",
       "       estimator=MLPRegressor(activation='logistic', alpha=0.0001, batch_size='auto',\n",
       "       beta_1=0.9, beta_2=0.999, early_stopping=True, epsilon=1e-08,\n",
       "       hidden_layer_sizes=(9, 4), learning_rate='adaptive',\n",
       "       learning_rate_init=0.001, max_iter=5000, momentum=0.9,\n",
       "       n_iter_no_change=50, nesterovs_momentum=True, power_t=0.5,\n",
       "       random_state=None, shuffle=True, solver='sgd', tol=0.0001,\n",
       "       validation_fraction=0.25, verbose=False, warm_start=False),\n",
       "       fit_params=None, iid='warn', n_jobs=-1,\n",
       "       param_grid={'alpha': array([1.00e-05, 5.40e-04, 1.06e-03, 1.59e-03, 2.11e-03, 2.64e-03,\n",
       "       3.16e-03, 3.69e-03, 4.22e-03, 4.74e-03, 5.27e-03, 5.79e-03,\n",
       "       6.32e-03, 6.85e-03, 7.37e-03, 7.90e-03, 8.42e-03, 8.95e-03,\n",
       "       9.47e-03, 1.00e-02])},\n",
       "       pre_dispatch='2*n_jobs', refit='neg_mean_squared_error',\n",
       "       return_train_score='warn', scoring=['neg_mean_squared_error', 'r2'],\n",
       "       verbose=10)"
      ]
     },
     "execution_count": 255,
     "metadata": {},
     "output_type": "execute_result"
    }
   ],
   "source": [
    "%%time\n",
    "gs.fit(X_train_standartized, y_train);"
   ]
  },
  {
   "cell_type": "code",
   "execution_count": 257,
   "metadata": {
    "scrolled": true
   },
   "outputs": [
    {
     "data": {
      "text/plain": [
       "{'alpha': 0.00054}"
      ]
     },
     "execution_count": 257,
     "metadata": {},
     "output_type": "execute_result"
    }
   ],
   "source": [
    "gs.best_params_"
   ]
  },
  {
   "cell_type": "code",
   "execution_count": 295,
   "metadata": {},
   "outputs": [],
   "source": [
    "model = gs.best_estimator_"
   ]
  },
  {
   "cell_type": "markdown",
   "metadata": {},
   "source": [
    "### Prediction"
   ]
  },
  {
   "cell_type": "code",
   "execution_count": 296,
   "metadata": {},
   "outputs": [],
   "source": [
    "train_pred = model.predict(X_train_standartized)"
   ]
  },
  {
   "cell_type": "code",
   "execution_count": 415,
   "metadata": {
    "scrolled": true
   },
   "outputs": [
    {
     "data": {
      "image/png": "[encoded data removed]",
      "text/plain": [
       "<Figure size 432x288 with 1 Axes>"
      ]
     },
     "metadata": {
      "needs_background": "light"
     },
     "output_type": "display_data"
    }
   ],
   "source": [
    "plt.scatter(y_train, train_pred)\n",
    "plt.plot([min(y_train), max(y_train)], [min(y_train), max(y_train)], 'r')\n",
    "plt.xlabel('True Values' + ' (' + current_target + ')')\n",
    "plt.ylabel('Predictions' + ' (' + current_target + ')')\n",
    "plt.axis('equal')\n",
    "plt.axis('square')\n",
    "plt.title('Predictions on train')\n",
    "plt.xlim(min(y_train) -10, max(y_train)+10)\n",
    "plt.ylim(min(y_train) -10, max(y_train)+10)\n",
    "plt.show()\n",
    "# plt.xlim([0,3])\n",
    "# plt.ylim([0,3])"
   ]
  },
  {
   "cell_type": "code",
   "execution_count": 261,
   "metadata": {
    "scrolled": true
   },
   "outputs": [
    {
     "data": {
      "text/plain": [
       "array([[1.        , 0.94184787],\n",
       "       [0.94184787, 1.        ]])"
      ]
     },
     "execution_count": 261,
     "metadata": {},
     "output_type": "execute_result"
    }
   ],
   "source": [
    "np.corrcoef(train_pred, y_train)"
   ]
  },
  {
   "cell_type": "code",
   "execution_count": 409,
   "metadata": {
    "scrolled": true
   },
   "outputs": [
    {
     "data": {
      "text/plain": [
       "8649.55790904465"
      ]
     },
     "execution_count": 409,
     "metadata": {},
     "output_type": "execute_result"
    }
   ],
   "source": [
    "mean_squared_error(y_train, train_pred)"
   ]
  },
  {
   "cell_type": "code",
   "execution_count": 302,
   "metadata": {
    "scrolled": false
   },
   "outputs": [],
   "source": [
    "predictions = model.predict(X_test_standartized)"
   ]
  },
  {
   "cell_type": "code",
   "execution_count": 411,
   "metadata": {},
   "outputs": [
    {
     "data": {
      "image/png": "[encoded data removed]",
      "text/plain": [
       "<Figure size 432x288 with 1 Axes>"
      ]
     },
     "metadata": {
      "needs_background": "light"
     },
     "output_type": "display_data"
    }
   ],
   "source": [
    "plt.scatter(y_test, predictions)\n",
    "plt.plot([min(y_test), max(y_test)], [min(y_test), max(y_test)], 'r')\n",
    "plt.xlabel('True Values' + ' (' + current_target + ')')\n",
    "plt.ylabel('Predictions' + ' (' + current_target + ')')\n",
    "plt.title('Predictions on test')\n",
    "plt.axis('equal')\n",
    "plt.axis('square')\n",
    "plt.show()\n",
    "# plt.xlim([0,3])\n",
    "# plt.ylim([0,3])"
   ]
  },
  {
   "cell_type": "code",
   "execution_count": 304,
   "metadata": {
    "scrolled": true
   },
   "outputs": [
    {
     "data": {
      "text/plain": [
       "10625.776221357895"
      ]
     },
     "execution_count": 304,
     "metadata": {},
     "output_type": "execute_result"
    }
   ],
   "source": [
    "mean_squared_error(y_test, predictions)"
   ]
  },
  {
   "cell_type": "code",
   "execution_count": 305,
   "metadata": {
    "scrolled": false
   },
   "outputs": [
    {
     "data": {
      "text/plain": [
       "array([[1.       , 0.9316579],\n",
       "       [0.9316579, 1.       ]])"
      ]
     },
     "execution_count": 305,
     "metadata": {},
     "output_type": "execute_result"
    }
   ],
   "source": [
    "np.corrcoef(predictions, y_test)"
   ]
  },
  {
   "cell_type": "code",
   "execution_count": 84,
   "metadata": {
    "collapsed": true
   },
   "outputs": [
    {
     "data": {
      "text/html": [
       "<div>\n",
       "<style scoped>\n",
       "    .dataframe tbody tr th:only-of-type {\n",
       "        vertical-align: middle;\n",
       "    }\n",
       "\n",
       "    .dataframe tbody tr th {\n",
       "        vertical-align: top;\n",
       "    }\n",
       "\n",
       "    .dataframe thead th {\n",
       "        text-align: right;\n",
       "    }\n",
       "</style>\n",
       "<table border=\"1\" class=\"dataframe\">\n",
       "  <thead>\n",
       "    <tr style=\"text-align: right;\">\n",
       "      <th></th>\n",
       "      <th>0</th>\n",
       "      <th>1</th>\n",
       "      <th>2</th>\n",
       "      <th>3</th>\n",
       "      <th>4</th>\n",
       "      <th>5</th>\n",
       "      <th>6</th>\n",
       "      <th>7</th>\n",
       "      <th>8</th>\n",
       "      <th>9</th>\n",
       "      <th>10</th>\n",
       "      <th>11</th>\n",
       "      <th>12</th>\n",
       "      <th>13</th>\n",
       "      <th>14</th>\n",
       "      <th>15</th>\n",
       "      <th>16</th>\n",
       "      <th>17</th>\n",
       "      <th>18</th>\n",
       "      <th>19</th>\n",
       "    </tr>\n",
       "  </thead>\n",
       "  <tbody>\n",
       "    <tr>\n",
       "      <th>mean_fit_time</th>\n",
       "      <td>1.06257</td>\n",
       "      <td>1.14733</td>\n",
       "      <td>1.03064</td>\n",
       "      <td>1.16688</td>\n",
       "      <td>1.126</td>\n",
       "      <td>1.37143</td>\n",
       "      <td>1.06317</td>\n",
       "      <td>1.07434</td>\n",
       "      <td>1.18185</td>\n",
       "      <td>1.15112</td>\n",
       "      <td>1.14983</td>\n",
       "      <td>1.30173</td>\n",
       "      <td>1.52672</td>\n",
       "      <td>1.31759</td>\n",
       "      <td>1.30267</td>\n",
       "      <td>1.35757</td>\n",
       "      <td>1.25185</td>\n",
       "      <td>1.49751</td>\n",
       "      <td>1.29754</td>\n",
       "      <td>1.18252</td>\n",
       "    </tr>\n",
       "    <tr>\n",
       "      <th>std_fit_time</th>\n",
       "      <td>0.140922</td>\n",
       "      <td>0.14733</td>\n",
       "      <td>0.101183</td>\n",
       "      <td>0.21017</td>\n",
       "      <td>0.121303</td>\n",
       "      <td>0.138057</td>\n",
       "      <td>0.0921169</td>\n",
       "      <td>0.0861866</td>\n",
       "      <td>0.182369</td>\n",
       "      <td>0.0968926</td>\n",
       "      <td>0.114012</td>\n",
       "      <td>0.245682</td>\n",
       "      <td>0.197442</td>\n",
       "      <td>0.192389</td>\n",
       "      <td>0.189767</td>\n",
       "      <td>0.124749</td>\n",
       "      <td>0.237436</td>\n",
       "      <td>0.347471</td>\n",
       "      <td>0.178523</td>\n",
       "      <td>0.0744981</td>\n",
       "    </tr>\n",
       "    <tr>\n",
       "      <th>mean_score_time</th>\n",
       "      <td>0.00319166</td>\n",
       "      <td>0.00319185</td>\n",
       "      <td>0.00299101</td>\n",
       "      <td>0.00339146</td>\n",
       "      <td>0.0039896</td>\n",
       "      <td>0.00319138</td>\n",
       "      <td>0.00299225</td>\n",
       "      <td>0.00299215</td>\n",
       "      <td>0.00319185</td>\n",
       "      <td>0.00358715</td>\n",
       "      <td>0.00319157</td>\n",
       "      <td>0.00478702</td>\n",
       "      <td>0.00339408</td>\n",
       "      <td>0.00319157</td>\n",
       "      <td>0.00598245</td>\n",
       "      <td>0.00359073</td>\n",
       "      <td>0.0031888</td>\n",
       "      <td>0.00379038</td>\n",
       "      <td>0.00358992</td>\n",
       "      <td>0.00419073</td>\n",
       "    </tr>\n",
       "    <tr>\n",
       "      <th>std_score_time</th>\n",
       "      <td>0.000398898</td>\n",
       "      <td>0.000398803</td>\n",
       "      <td>2.42391e-06</td>\n",
       "      <td>0.000488753</td>\n",
       "      <td>0.00199502</td>\n",
       "      <td>0.000399041</td>\n",
       "      <td>2.86102e-07</td>\n",
       "      <td>3.69356e-07</td>\n",
       "      <td>0.00039916</td>\n",
       "      <td>0.000801009</td>\n",
       "      <td>0.000399423</td>\n",
       "      <td>0.00159592</td>\n",
       "      <td>0.000804329</td>\n",
       "      <td>0.000397992</td>\n",
       "      <td>0.00550002</td>\n",
       "      <td>0.00119667</td>\n",
       "      <td>0.000400853</td>\n",
       "      <td>0.00116311</td>\n",
       "      <td>0.000797892</td>\n",
       "      <td>0.00132525</td>\n",
       "    </tr>\n",
       "    <tr>\n",
       "      <th>param_alpha</th>\n",
       "      <td>1e-05</td>\n",
       "      <td>6e-05</td>\n",
       "      <td>0.00011</td>\n",
       "      <td>0.00017</td>\n",
       "      <td>0.00022</td>\n",
       "      <td>0.00027</td>\n",
       "      <td>0.00032</td>\n",
       "      <td>0.00037</td>\n",
       "      <td>0.00043</td>\n",
       "      <td>0.00048</td>\n",
       "      <td>0.00053</td>\n",
       "      <td>0.00058</td>\n",
       "      <td>0.00064</td>\n",
       "      <td>0.00069</td>\n",
       "      <td>0.00074</td>\n",
       "      <td>0.00079</td>\n",
       "      <td>0.00084</td>\n",
       "      <td>0.0009</td>\n",
       "      <td>0.00095</td>\n",
       "      <td>0.001</td>\n",
       "    </tr>\n",
       "    <tr>\n",
       "      <th>params</th>\n",
       "      <td>{'alpha': 1e-05}</td>\n",
       "      <td>{'alpha': 6e-05}</td>\n",
       "      <td>{'alpha': 0.00011}</td>\n",
       "      <td>{'alpha': 0.00017}</td>\n",
       "      <td>{'alpha': 0.00022}</td>\n",
       "      <td>{'alpha': 0.00027}</td>\n",
       "      <td>{'alpha': 0.00032}</td>\n",
       "      <td>{'alpha': 0.00037}</td>\n",
       "      <td>{'alpha': 0.00043}</td>\n",
       "      <td>{'alpha': 0.00048}</td>\n",
       "      <td>{'alpha': 0.00053}</td>\n",
       "      <td>{'alpha': 0.00058}</td>\n",
       "      <td>{'alpha': 0.00064}</td>\n",
       "      <td>{'alpha': 0.00069}</td>\n",
       "      <td>{'alpha': 0.00074}</td>\n",
       "      <td>{'alpha': 0.00079}</td>\n",
       "      <td>{'alpha': 0.00084}</td>\n",
       "      <td>{'alpha': 0.0009}</td>\n",
       "      <td>{'alpha': 0.00095}</td>\n",
       "      <td>{'alpha': 0.001}</td>\n",
       "    </tr>\n",
       "    <tr>\n",
       "      <th>split0_test_neg_mean_squared_error</th>\n",
       "      <td>-10446.2</td>\n",
       "      <td>-9829.79</td>\n",
       "      <td>-9770.31</td>\n",
       "      <td>-8723.12</td>\n",
       "      <td>-11091.4</td>\n",
       "      <td>-8195.56</td>\n",
       "      <td>-8163.06</td>\n",
       "      <td>-10005.7</td>\n",
       "      <td>-7758.18</td>\n",
       "      <td>-9580.52</td>\n",
       "      <td>-8827.82</td>\n",
       "      <td>-15420.5</td>\n",
       "      <td>-9227.67</td>\n",
       "      <td>-9549.69</td>\n",
       "      <td>-7304.3</td>\n",
       "      <td>-8375.17</td>\n",
       "      <td>-8909.25</td>\n",
       "      <td>-8427.8</td>\n",
       "      <td>-10817.8</td>\n",
       "      <td>-8931.66</td>\n",
       "    </tr>\n",
       "    <tr>\n",
       "      <th>split1_test_neg_mean_squared_error</th>\n",
       "      <td>-7612.98</td>\n",
       "      <td>-6852.09</td>\n",
       "      <td>-9513.9</td>\n",
       "      <td>-7543.9</td>\n",
       "      <td>-10324</td>\n",
       "      <td>-6479.91</td>\n",
       "      <td>-8769.73</td>\n",
       "      <td>-6981.53</td>\n",
       "      <td>-10065.6</td>\n",
       "      <td>-7336.65</td>\n",
       "      <td>-9292.78</td>\n",
       "      <td>-9775.72</td>\n",
       "      <td>-7087.2</td>\n",
       "      <td>-7774.28</td>\n",
       "      <td>-7820.1</td>\n",
       "      <td>-8958.12</td>\n",
       "      <td>-12984.1</td>\n",
       "      <td>-7910.65</td>\n",
       "      <td>-7695.4</td>\n",
       "      <td>-7254.61</td>\n",
       "    </tr>\n",
       "    <tr>\n",
       "      <th>split2_test_neg_mean_squared_error</th>\n",
       "      <td>-8420.44</td>\n",
       "      <td>-12166.3</td>\n",
       "      <td>-13569.5</td>\n",
       "      <td>-8108.78</td>\n",
       "      <td>-8939.53</td>\n",
       "      <td>-10420.8</td>\n",
       "      <td>-9685.89</td>\n",
       "      <td>-10967.6</td>\n",
       "      <td>-6592.29</td>\n",
       "      <td>-6775.96</td>\n",
       "      <td>-10693.8</td>\n",
       "      <td>-8849.55</td>\n",
       "      <td>-10206.7</td>\n",
       "      <td>-10649.5</td>\n",
       "      <td>-9470.32</td>\n",
       "      <td>-7929.7</td>\n",
       "      <td>-8740.56</td>\n",
       "      <td>-12421.4</td>\n",
       "      <td>-11611.7</td>\n",
       "      <td>-7298.98</td>\n",
       "    </tr>\n",
       "    <tr>\n",
       "      <th>split3_test_neg_mean_squared_error</th>\n",
       "      <td>-11788.7</td>\n",
       "      <td>-12291.2</td>\n",
       "      <td>-11019.5</td>\n",
       "      <td>-12021.5</td>\n",
       "      <td>-12267.1</td>\n",
       "      <td>-11537</td>\n",
       "      <td>-10515</td>\n",
       "      <td>-10497.5</td>\n",
       "      <td>-11681.4</td>\n",
       "      <td>-10421.6</td>\n",
       "      <td>-13666.5</td>\n",
       "      <td>-11556.3</td>\n",
       "      <td>-10268.4</td>\n",
       "      <td>-11337.9</td>\n",
       "      <td>-10306.7</td>\n",
       "      <td>-12040.6</td>\n",
       "      <td>-11356.4</td>\n",
       "      <td>-11507.2</td>\n",
       "      <td>-11268.1</td>\n",
       "      <td>-9604.46</td>\n",
       "    </tr>\n",
       "    <tr>\n",
       "      <th>split4_test_neg_mean_squared_error</th>\n",
       "      <td>-10840.8</td>\n",
       "      <td>-16291.5</td>\n",
       "      <td>-24099.9</td>\n",
       "      <td>-11272.2</td>\n",
       "      <td>-10952.3</td>\n",
       "      <td>-13592.8</td>\n",
       "      <td>-24907.3</td>\n",
       "      <td>-14825.5</td>\n",
       "      <td>-12832.1</td>\n",
       "      <td>-24118.9</td>\n",
       "      <td>-15972</td>\n",
       "      <td>-11679</td>\n",
       "      <td>-12189.2</td>\n",
       "      <td>-12361.1</td>\n",
       "      <td>-13324.4</td>\n",
       "      <td>-16667.3</td>\n",
       "      <td>-11137.6</td>\n",
       "      <td>-10257.7</td>\n",
       "      <td>-15152.6</td>\n",
       "      <td>-12234.7</td>\n",
       "    </tr>\n",
       "    <tr>\n",
       "      <th>mean_test_neg_mean_squared_error</th>\n",
       "      <td>-9821.83</td>\n",
       "      <td>-11486.2</td>\n",
       "      <td>-13594.6</td>\n",
       "      <td>-9533.9</td>\n",
       "      <td>-10714.9</td>\n",
       "      <td>-10045.2</td>\n",
       "      <td>-12408.2</td>\n",
       "      <td>-10655.6</td>\n",
       "      <td>-9785.91</td>\n",
       "      <td>-11646.7</td>\n",
       "      <td>-11690.6</td>\n",
       "      <td>-11456.2</td>\n",
       "      <td>-9795.85</td>\n",
       "      <td>-10334.5</td>\n",
       "      <td>-9645.16</td>\n",
       "      <td>-10794.2</td>\n",
       "      <td>-10625.6</td>\n",
       "      <td>-10104.9</td>\n",
       "      <td>-11309.1</td>\n",
       "      <td>-9064.88</td>\n",
       "    </tr>\n",
       "    <tr>\n",
       "      <th>std_test_neg_mean_squared_error</th>\n",
       "      <td>1558.18</td>\n",
       "      <td>3111.91</td>\n",
       "      <td>5445.55</td>\n",
       "      <td>1780.92</td>\n",
       "      <td>1087.4</td>\n",
       "      <td>2493.36</td>\n",
       "      <td>6300.52</td>\n",
       "      <td>2507.27</td>\n",
       "      <td>2335.01</td>\n",
       "      <td>6381.65</td>\n",
       "      <td>2726.66</td>\n",
       "      <td>2253.63</td>\n",
       "      <td>1660.11</td>\n",
       "      <td>1573.77</td>\n",
       "      <td>2136.14</td>\n",
       "      <td>3270.31</td>\n",
       "      <td>1603.6</td>\n",
       "      <td>1731.08</td>\n",
       "      <td>2373.43</td>\n",
       "      <td>1830.41</td>\n",
       "    </tr>\n",
       "    <tr>\n",
       "      <th>rank_test_neg_mean_squared_error</th>\n",
       "      <td>6</td>\n",
       "      <td>16</td>\n",
       "      <td>20</td>\n",
       "      <td>2</td>\n",
       "      <td>12</td>\n",
       "      <td>7</td>\n",
       "      <td>19</td>\n",
       "      <td>11</td>\n",
       "      <td>4</td>\n",
       "      <td>17</td>\n",
       "      <td>18</td>\n",
       "      <td>15</td>\n",
       "      <td>5</td>\n",
       "      <td>9</td>\n",
       "      <td>3</td>\n",
       "      <td>13</td>\n",
       "      <td>10</td>\n",
       "      <td>8</td>\n",
       "      <td>14</td>\n",
       "      <td>1</td>\n",
       "    </tr>\n",
       "    <tr>\n",
       "      <th>split0_train_neg_mean_squared_error</th>\n",
       "      <td>-8734.1</td>\n",
       "      <td>-6777.9</td>\n",
       "      <td>-7654.77</td>\n",
       "      <td>-7201.41</td>\n",
       "      <td>-8585.77</td>\n",
       "      <td>-7544.9</td>\n",
       "      <td>-7387.85</td>\n",
       "      <td>-8715.26</td>\n",
       "      <td>-6429.81</td>\n",
       "      <td>-8012.29</td>\n",
       "      <td>-7408.21</td>\n",
       "      <td>-12186</td>\n",
       "      <td>-7576.65</td>\n",
       "      <td>-6328.52</td>\n",
       "      <td>-6848.05</td>\n",
       "      <td>-6849.46</td>\n",
       "      <td>-7573.32</td>\n",
       "      <td>-6522.06</td>\n",
       "      <td>-8043.62</td>\n",
       "      <td>-6432.74</td>\n",
       "    </tr>\n",
       "    <tr>\n",
       "      <th>split1_train_neg_mean_squared_error</th>\n",
       "      <td>-7859.84</td>\n",
       "      <td>-6301.6</td>\n",
       "      <td>-8821.66</td>\n",
       "      <td>-7454.43</td>\n",
       "      <td>-9604.44</td>\n",
       "      <td>-6309.57</td>\n",
       "      <td>-8659.18</td>\n",
       "      <td>-6921.64</td>\n",
       "      <td>-7740.84</td>\n",
       "      <td>-6957.04</td>\n",
       "      <td>-6375.31</td>\n",
       "      <td>-6177.37</td>\n",
       "      <td>-6706.4</td>\n",
       "      <td>-7109.75</td>\n",
       "      <td>-7775.46</td>\n",
       "      <td>-7181.64</td>\n",
       "      <td>-12114.8</td>\n",
       "      <td>-7742.59</td>\n",
       "      <td>-7448</td>\n",
       "      <td>-6856.84</td>\n",
       "    </tr>\n",
       "    <tr>\n",
       "      <th>split2_train_neg_mean_squared_error</th>\n",
       "      <td>-6317.58</td>\n",
       "      <td>-9563.49</td>\n",
       "      <td>-9939.11</td>\n",
       "      <td>-7343.16</td>\n",
       "      <td>-8052.55</td>\n",
       "      <td>-8297.81</td>\n",
       "      <td>-8545.53</td>\n",
       "      <td>-9669.8</td>\n",
       "      <td>-7262.08</td>\n",
       "      <td>-7327.39</td>\n",
       "      <td>-9116.61</td>\n",
       "      <td>-6657.27</td>\n",
       "      <td>-8935.74</td>\n",
       "      <td>-7133.56</td>\n",
       "      <td>-6279.34</td>\n",
       "      <td>-7480.05</td>\n",
       "      <td>-7111.98</td>\n",
       "      <td>-8764.98</td>\n",
       "      <td>-8622.79</td>\n",
       "      <td>-6703.7</td>\n",
       "    </tr>\n",
       "    <tr>\n",
       "      <th>split3_train_neg_mean_squared_error</th>\n",
       "      <td>-6839.73</td>\n",
       "      <td>-6486.93</td>\n",
       "      <td>-5422.09</td>\n",
       "      <td>-5837.59</td>\n",
       "      <td>-8176.51</td>\n",
       "      <td>-6004.27</td>\n",
       "      <td>-5563.31</td>\n",
       "      <td>-6170.64</td>\n",
       "      <td>-6117.91</td>\n",
       "      <td>-6171.27</td>\n",
       "      <td>-5963.06</td>\n",
       "      <td>-6444.53</td>\n",
       "      <td>-6100.25</td>\n",
       "      <td>-6184.14</td>\n",
       "      <td>-7440.36</td>\n",
       "      <td>-5733.78</td>\n",
       "      <td>-5352.06</td>\n",
       "      <td>-5772.82</td>\n",
       "      <td>-9534.99</td>\n",
       "      <td>-6426.22</td>\n",
       "    </tr>\n",
       "    <tr>\n",
       "      <th>split4_train_neg_mean_squared_error</th>\n",
       "      <td>-8005.17</td>\n",
       "      <td>-9748.65</td>\n",
       "      <td>-7558.15</td>\n",
       "      <td>-6356.47</td>\n",
       "      <td>-6415.24</td>\n",
       "      <td>-5358.79</td>\n",
       "      <td>-7578.29</td>\n",
       "      <td>-5895.1</td>\n",
       "      <td>-6947.24</td>\n",
       "      <td>-7516.56</td>\n",
       "      <td>-8220.39</td>\n",
       "      <td>-6486.94</td>\n",
       "      <td>-6807.65</td>\n",
       "      <td>-7864.58</td>\n",
       "      <td>-8173.68</td>\n",
       "      <td>-6064.36</td>\n",
       "      <td>-10277.1</td>\n",
       "      <td>-8075.43</td>\n",
       "      <td>-5543.1</td>\n",
       "      <td>-7518.48</td>\n",
       "    </tr>\n",
       "    <tr>\n",
       "      <th>mean_train_neg_mean_squared_error</th>\n",
       "      <td>-7551.29</td>\n",
       "      <td>-7775.71</td>\n",
       "      <td>-7879.15</td>\n",
       "      <td>-6838.61</td>\n",
       "      <td>-8166.9</td>\n",
       "      <td>-6703.07</td>\n",
       "      <td>-7546.83</td>\n",
       "      <td>-7474.49</td>\n",
       "      <td>-6899.57</td>\n",
       "      <td>-7196.91</td>\n",
       "      <td>-7416.72</td>\n",
       "      <td>-7590.42</td>\n",
       "      <td>-7225.34</td>\n",
       "      <td>-6924.11</td>\n",
       "      <td>-7303.38</td>\n",
       "      <td>-6661.86</td>\n",
       "      <td>-8485.86</td>\n",
       "      <td>-7375.58</td>\n",
       "      <td>-7838.5</td>\n",
       "      <td>-6787.6</td>\n",
       "    </tr>\n",
       "    <tr>\n",
       "      <th>std_train_neg_mean_squared_error</th>\n",
       "      <td>863.552</td>\n",
       "      <td>1543.91</td>\n",
       "      <td>1504.81</td>\n",
       "      <td>632.443</td>\n",
       "      <td>1031.84</td>\n",
       "      <td>1067.91</td>\n",
       "      <td>1113.14</td>\n",
       "      <td>1473.71</td>\n",
       "      <td>578.462</td>\n",
       "      <td>615.389</td>\n",
       "      <td>1160.45</td>\n",
       "      <td>2302.93</td>\n",
       "      <td>975.55</td>\n",
       "      <td>610.751</td>\n",
       "      <td>671.569</td>\n",
       "      <td>662.288</td>\n",
       "      <td>2404.95</td>\n",
       "      <td>1081.88</td>\n",
       "      <td>1338.4</td>\n",
       "      <td>400.634</td>\n",
       "    </tr>\n",
       "    <tr>\n",
       "      <th>split0_test_r2</th>\n",
       "      <td>0.869825</td>\n",
       "      <td>0.877507</td>\n",
       "      <td>0.878248</td>\n",
       "      <td>0.891297</td>\n",
       "      <td>0.861785</td>\n",
       "      <td>0.897872</td>\n",
       "      <td>0.898277</td>\n",
       "      <td>0.875315</td>\n",
       "      <td>0.903322</td>\n",
       "      <td>0.880613</td>\n",
       "      <td>0.889993</td>\n",
       "      <td>0.807838</td>\n",
       "      <td>0.88501</td>\n",
       "      <td>0.880997</td>\n",
       "      <td>0.908978</td>\n",
       "      <td>0.895633</td>\n",
       "      <td>0.888978</td>\n",
       "      <td>0.894978</td>\n",
       "      <td>0.865195</td>\n",
       "      <td>0.888699</td>\n",
       "    </tr>\n",
       "    <tr>\n",
       "      <th>split1_test_r2</th>\n",
       "      <td>0.877992</td>\n",
       "      <td>0.890186</td>\n",
       "      <td>0.847527</td>\n",
       "      <td>0.879099</td>\n",
       "      <td>0.834543</td>\n",
       "      <td>0.896151</td>\n",
       "      <td>0.859453</td>\n",
       "      <td>0.888112</td>\n",
       "      <td>0.838685</td>\n",
       "      <td>0.88242</td>\n",
       "      <td>0.851071</td>\n",
       "      <td>0.843331</td>\n",
       "      <td>0.886418</td>\n",
       "      <td>0.875407</td>\n",
       "      <td>0.874672</td>\n",
       "      <td>0.856434</td>\n",
       "      <td>0.791913</td>\n",
       "      <td>0.873221</td>\n",
       "      <td>0.876671</td>\n",
       "      <td>0.883735</td>\n",
       "    </tr>\n",
       "    <tr>\n",
       "      <th>split2_test_r2</th>\n",
       "      <td>0.862052</td>\n",
       "      <td>0.800684</td>\n",
       "      <td>0.777697</td>\n",
       "      <td>0.867157</td>\n",
       "      <td>0.853548</td>\n",
       "      <td>0.82928</td>\n",
       "      <td>0.84132</td>\n",
       "      <td>0.820323</td>\n",
       "      <td>0.892001</td>\n",
       "      <td>0.888992</td>\n",
       "      <td>0.824809</td>\n",
       "      <td>0.855022</td>\n",
       "      <td>0.832788</td>\n",
       "      <td>0.825533</td>\n",
       "      <td>0.844852</td>\n",
       "      <td>0.870091</td>\n",
       "      <td>0.856807</td>\n",
       "      <td>0.796506</td>\n",
       "      <td>0.809771</td>\n",
       "      <td>0.880424</td>\n",
       "    </tr>\n",
       "    <tr>\n",
       "      <th>split3_test_r2</th>\n",
       "      <td>0.857252</td>\n",
       "      <td>0.851167</td>\n",
       "      <td>0.866566</td>\n",
       "      <td>0.854433</td>\n",
       "      <td>0.851459</td>\n",
       "      <td>0.8603</td>\n",
       "      <td>0.872675</td>\n",
       "      <td>0.872887</td>\n",
       "      <td>0.858552</td>\n",
       "      <td>0.873806</td>\n",
       "      <td>0.834514</td>\n",
       "      <td>0.860066</td>\n",
       "      <td>0.875661</td>\n",
       "      <td>0.862711</td>\n",
       "      <td>0.875198</td>\n",
       "      <td>0.854202</td>\n",
       "      <td>0.862487</td>\n",
       "      <td>0.860661</td>\n",
       "      <td>0.863557</td>\n",
       "      <td>0.883701</td>\n",
       "    </tr>\n",
       "    <tr>\n",
       "      <th>split4_test_r2</th>\n",
       "      <td>0.850547</td>\n",
       "      <td>0.775402</td>\n",
       "      <td>0.667754</td>\n",
       "      <td>0.844599</td>\n",
       "      <td>0.84901</td>\n",
       "      <td>0.812607</td>\n",
       "      <td>0.656622</td>\n",
       "      <td>0.795612</td>\n",
       "      <td>0.823094</td>\n",
       "      <td>0.667491</td>\n",
       "      <td>0.779807</td>\n",
       "      <td>0.838991</td>\n",
       "      <td>0.831957</td>\n",
       "      <td>0.829587</td>\n",
       "      <td>0.816307</td>\n",
       "      <td>0.770221</td>\n",
       "      <td>0.846455</td>\n",
       "      <td>0.858585</td>\n",
       "      <td>0.791103</td>\n",
       "      <td>0.83133</td>\n",
       "    </tr>\n",
       "    <tr>\n",
       "      <th>mean_test_r2</th>\n",
       "      <td>0.863533</td>\n",
       "      <td>0.838989</td>\n",
       "      <td>0.807558</td>\n",
       "      <td>0.867317</td>\n",
       "      <td>0.850069</td>\n",
       "      <td>0.859242</td>\n",
       "      <td>0.825669</td>\n",
       "      <td>0.85045</td>\n",
       "      <td>0.863131</td>\n",
       "      <td>0.838665</td>\n",
       "      <td>0.836039</td>\n",
       "      <td>0.84105</td>\n",
       "      <td>0.862367</td>\n",
       "      <td>0.854847</td>\n",
       "      <td>0.864001</td>\n",
       "      <td>0.849316</td>\n",
       "      <td>0.849328</td>\n",
       "      <td>0.85679</td>\n",
       "      <td>0.841259</td>\n",
       "      <td>0.873578</td>\n",
       "    </tr>\n",
       "    <tr>\n",
       "      <th>std_test_r2</th>\n",
       "      <td>0.00958046</td>\n",
       "      <td>0.0441895</td>\n",
       "      <td>0.0781198</td>\n",
       "      <td>0.0167093</td>\n",
       "      <td>0.00887105</td>\n",
       "      <td>0.0344329</td>\n",
       "      <td>0.0865386</td>\n",
       "      <td>0.0359303</td>\n",
       "      <td>0.0305626</td>\n",
       "      <td>0.0857234</td>\n",
       "      <td>0.0358538</td>\n",
       "      <td>0.0182718</td>\n",
       "      <td>0.0247693</td>\n",
       "      <td>0.02309</td>\n",
       "      <td>0.0313165</td>\n",
       "      <td>0.0422076</td>\n",
       "      <td>0.0319561</td>\n",
       "      <td>0.0328043</td>\n",
       "      <td>0.0341504</td>\n",
       "      <td>0.0212886</td>\n",
       "    </tr>\n",
       "    <tr>\n",
       "      <th>rank_test_r2</th>\n",
       "      <td>4</td>\n",
       "      <td>16</td>\n",
       "      <td>20</td>\n",
       "      <td>2</td>\n",
       "      <td>11</td>\n",
       "      <td>7</td>\n",
       "      <td>19</td>\n",
       "      <td>10</td>\n",
       "      <td>5</td>\n",
       "      <td>17</td>\n",
       "      <td>18</td>\n",
       "      <td>15</td>\n",
       "      <td>6</td>\n",
       "      <td>9</td>\n",
       "      <td>3</td>\n",
       "      <td>13</td>\n",
       "      <td>12</td>\n",
       "      <td>8</td>\n",
       "      <td>14</td>\n",
       "      <td>1</td>\n",
       "    </tr>\n",
       "    <tr>\n",
       "      <th>split0_train_r2</th>\n",
       "      <td>0.875255</td>\n",
       "      <td>0.903194</td>\n",
       "      <td>0.89067</td>\n",
       "      <td>0.897145</td>\n",
       "      <td>0.877373</td>\n",
       "      <td>0.89224</td>\n",
       "      <td>0.894483</td>\n",
       "      <td>0.875524</td>\n",
       "      <td>0.908166</td>\n",
       "      <td>0.885564</td>\n",
       "      <td>0.894192</td>\n",
       "      <td>0.825953</td>\n",
       "      <td>0.891786</td>\n",
       "      <td>0.909612</td>\n",
       "      <td>0.902192</td>\n",
       "      <td>0.902172</td>\n",
       "      <td>0.891834</td>\n",
       "      <td>0.906848</td>\n",
       "      <td>0.885117</td>\n",
       "      <td>0.908124</td>\n",
       "    </tr>\n",
       "    <tr>\n",
       "      <th>split1_train_r2</th>\n",
       "      <td>0.894349</td>\n",
       "      <td>0.915295</td>\n",
       "      <td>0.88142</td>\n",
       "      <td>0.899798</td>\n",
       "      <td>0.870898</td>\n",
       "      <td>0.915187</td>\n",
       "      <td>0.883604</td>\n",
       "      <td>0.90696</td>\n",
       "      <td>0.895948</td>\n",
       "      <td>0.906484</td>\n",
       "      <td>0.914304</td>\n",
       "      <td>0.916964</td>\n",
       "      <td>0.909853</td>\n",
       "      <td>0.904431</td>\n",
       "      <td>0.895483</td>\n",
       "      <td>0.903465</td>\n",
       "      <td>0.837153</td>\n",
       "      <td>0.895925</td>\n",
       "      <td>0.899885</td>\n",
       "      <td>0.907831</td>\n",
       "    </tr>\n",
       "    <tr>\n",
       "      <th>split2_train_r2</th>\n",
       "      <td>0.915697</td>\n",
       "      <td>0.872383</td>\n",
       "      <td>0.867371</td>\n",
       "      <td>0.902012</td>\n",
       "      <td>0.892545</td>\n",
       "      <td>0.889273</td>\n",
       "      <td>0.885967</td>\n",
       "      <td>0.870964</td>\n",
       "      <td>0.903094</td>\n",
       "      <td>0.902222</td>\n",
       "      <td>0.878346</td>\n",
       "      <td>0.911164</td>\n",
       "      <td>0.88076</td>\n",
       "      <td>0.904808</td>\n",
       "      <td>0.916207</td>\n",
       "      <td>0.900185</td>\n",
       "      <td>0.905097</td>\n",
       "      <td>0.883039</td>\n",
       "      <td>0.884936</td>\n",
       "      <td>0.910545</td>\n",
       "    </tr>\n",
       "    <tr>\n",
       "      <th>split3_train_r2</th>\n",
       "      <td>0.901536</td>\n",
       "      <td>0.906614</td>\n",
       "      <td>0.921944</td>\n",
       "      <td>0.915962</td>\n",
       "      <td>0.882291</td>\n",
       "      <td>0.913563</td>\n",
       "      <td>0.919911</td>\n",
       "      <td>0.911168</td>\n",
       "      <td>0.911927</td>\n",
       "      <td>0.911159</td>\n",
       "      <td>0.914156</td>\n",
       "      <td>0.907225</td>\n",
       "      <td>0.912181</td>\n",
       "      <td>0.910973</td>\n",
       "      <td>0.892889</td>\n",
       "      <td>0.917457</td>\n",
       "      <td>0.922952</td>\n",
       "      <td>0.916895</td>\n",
       "      <td>0.862735</td>\n",
       "      <td>0.907489</td>\n",
       "    </tr>\n",
       "    <tr>\n",
       "      <th>split4_train_r2</th>\n",
       "      <td>0.889028</td>\n",
       "      <td>0.864859</td>\n",
       "      <td>0.895225</td>\n",
       "      <td>0.911883</td>\n",
       "      <td>0.911069</td>\n",
       "      <td>0.925714</td>\n",
       "      <td>0.894946</td>\n",
       "      <td>0.918279</td>\n",
       "      <td>0.903694</td>\n",
       "      <td>0.895802</td>\n",
       "      <td>0.886045</td>\n",
       "      <td>0.910075</td>\n",
       "      <td>0.905629</td>\n",
       "      <td>0.890977</td>\n",
       "      <td>0.886692</td>\n",
       "      <td>0.915933</td>\n",
       "      <td>0.857534</td>\n",
       "      <td>0.888054</td>\n",
       "      <td>0.923159</td>\n",
       "      <td>0.895775</td>\n",
       "    </tr>\n",
       "    <tr>\n",
       "      <th>mean_train_r2</th>\n",
       "      <td>0.895173</td>\n",
       "      <td>0.892469</td>\n",
       "      <td>0.891326</td>\n",
       "      <td>0.90536</td>\n",
       "      <td>0.886835</td>\n",
       "      <td>0.907195</td>\n",
       "      <td>0.895782</td>\n",
       "      <td>0.896579</td>\n",
       "      <td>0.904566</td>\n",
       "      <td>0.900246</td>\n",
       "      <td>0.897409</td>\n",
       "      <td>0.894276</td>\n",
       "      <td>0.900042</td>\n",
       "      <td>0.904161</td>\n",
       "      <td>0.898693</td>\n",
       "      <td>0.907842</td>\n",
       "      <td>0.882914</td>\n",
       "      <td>0.898152</td>\n",
       "      <td>0.891166</td>\n",
       "      <td>0.905953</td>\n",
       "    </tr>\n",
       "    <tr>\n",
       "      <th>std_train_r2</th>\n",
       "      <td>0.0133933</td>\n",
       "      <td>0.0200093</td>\n",
       "      <td>0.0180282</td>\n",
       "      <td>0.00727445</td>\n",
       "      <td>0.0140288</td>\n",
       "      <td>0.0140872</td>\n",
       "      <td>0.0128781</td>\n",
       "      <td>0.019447</td>\n",
       "      <td>0.0053728</td>\n",
       "      <td>0.00891314</td>\n",
       "      <td>0.0146204</td>\n",
       "      <td>0.0343083</td>\n",
       "      <td>0.0119565</td>\n",
       "      <td>0.00707714</td>\n",
       "      <td>0.0100698</td>\n",
       "      <td>0.00731902</td>\n",
       "      <td>0.0313459</td>\n",
       "      <td>0.0123471</td>\n",
       "      <td>0.0199163</td>\n",
       "      <td>0.00520136</td>\n",
       "    </tr>\n",
       "  </tbody>\n",
       "</table>\n",
       "</div>"
      ],
      "text/plain": [
       "                                                   0                 1   \\\n",
       "mean_fit_time                                 1.06257           1.14733   \n",
       "std_fit_time                                 0.140922           0.14733   \n",
       "mean_score_time                            0.00319166        0.00319185   \n",
       "std_score_time                            0.000398898       0.000398803   \n",
       "param_alpha                                     1e-05             6e-05   \n",
       "params                               {'alpha': 1e-05}  {'alpha': 6e-05}   \n",
       "split0_test_neg_mean_squared_error           -10446.2          -9829.79   \n",
       "split1_test_neg_mean_squared_error           -7612.98          -6852.09   \n",
       "split2_test_neg_mean_squared_error           -8420.44          -12166.3   \n",
       "split3_test_neg_mean_squared_error           -11788.7          -12291.2   \n",
       "split4_test_neg_mean_squared_error           -10840.8          -16291.5   \n",
       "mean_test_neg_mean_squared_error             -9821.83          -11486.2   \n",
       "std_test_neg_mean_squared_error               1558.18           3111.91   \n",
       "rank_test_neg_mean_squared_error                    6                16   \n",
       "split0_train_neg_mean_squared_error           -8734.1           -6777.9   \n",
       "split1_train_neg_mean_squared_error          -7859.84           -6301.6   \n",
       "split2_train_neg_mean_squared_error          -6317.58          -9563.49   \n",
       "split3_train_neg_mean_squared_error          -6839.73          -6486.93   \n",
       "split4_train_neg_mean_squared_error          -8005.17          -9748.65   \n",
       "mean_train_neg_mean_squared_error            -7551.29          -7775.71   \n",
       "std_train_neg_mean_squared_error              863.552           1543.91   \n",
       "split0_test_r2                               0.869825          0.877507   \n",
       "split1_test_r2                               0.877992          0.890186   \n",
       "split2_test_r2                               0.862052          0.800684   \n",
       "split3_test_r2                               0.857252          0.851167   \n",
       "split4_test_r2                               0.850547          0.775402   \n",
       "mean_test_r2                                 0.863533          0.838989   \n",
       "std_test_r2                                0.00958046         0.0441895   \n",
       "rank_test_r2                                        4                16   \n",
       "split0_train_r2                              0.875255          0.903194   \n",
       "split1_train_r2                              0.894349          0.915295   \n",
       "split2_train_r2                              0.915697          0.872383   \n",
       "split3_train_r2                              0.901536          0.906614   \n",
       "split4_train_r2                              0.889028          0.864859   \n",
       "mean_train_r2                                0.895173          0.892469   \n",
       "std_train_r2                                0.0133933         0.0200093   \n",
       "\n",
       "                                                     2                   3   \\\n",
       "mean_fit_time                                   1.03064             1.16688   \n",
       "std_fit_time                                   0.101183             0.21017   \n",
       "mean_score_time                              0.00299101          0.00339146   \n",
       "std_score_time                              2.42391e-06         0.000488753   \n",
       "param_alpha                                     0.00011             0.00017   \n",
       "params                               {'alpha': 0.00011}  {'alpha': 0.00017}   \n",
       "split0_test_neg_mean_squared_error             -9770.31            -8723.12   \n",
       "split1_test_neg_mean_squared_error              -9513.9             -7543.9   \n",
       "split2_test_neg_mean_squared_error             -13569.5            -8108.78   \n",
       "split3_test_neg_mean_squared_error             -11019.5            -12021.5   \n",
       "split4_test_neg_mean_squared_error             -24099.9            -11272.2   \n",
       "mean_test_neg_mean_squared_error               -13594.6             -9533.9   \n",
       "std_test_neg_mean_squared_error                 5445.55             1780.92   \n",
       "rank_test_neg_mean_squared_error                     20                   2   \n",
       "split0_train_neg_mean_squared_error            -7654.77            -7201.41   \n",
       "split1_train_neg_mean_squared_error            -8821.66            -7454.43   \n",
       "split2_train_neg_mean_squared_error            -9939.11            -7343.16   \n",
       "split3_train_neg_mean_squared_error            -5422.09            -5837.59   \n",
       "split4_train_neg_mean_squared_error            -7558.15            -6356.47   \n",
       "mean_train_neg_mean_squared_error              -7879.15            -6838.61   \n",
       "std_train_neg_mean_squared_error                1504.81             632.443   \n",
       "split0_test_r2                                 0.878248            0.891297   \n",
       "split1_test_r2                                 0.847527            0.879099   \n",
       "split2_test_r2                                 0.777697            0.867157   \n",
       "split3_test_r2                                 0.866566            0.854433   \n",
       "split4_test_r2                                 0.667754            0.844599   \n",
       "mean_test_r2                                   0.807558            0.867317   \n",
       "std_test_r2                                   0.0781198           0.0167093   \n",
       "rank_test_r2                                         20                   2   \n",
       "split0_train_r2                                 0.89067            0.897145   \n",
       "split1_train_r2                                 0.88142            0.899798   \n",
       "split2_train_r2                                0.867371            0.902012   \n",
       "split3_train_r2                                0.921944            0.915962   \n",
       "split4_train_r2                                0.895225            0.911883   \n",
       "mean_train_r2                                  0.891326             0.90536   \n",
       "std_train_r2                                  0.0180282          0.00727445   \n",
       "\n",
       "                                                     4                   5   \\\n",
       "mean_fit_time                                     1.126             1.37143   \n",
       "std_fit_time                                   0.121303            0.138057   \n",
       "mean_score_time                               0.0039896          0.00319138   \n",
       "std_score_time                               0.00199502         0.000399041   \n",
       "param_alpha                                     0.00022             0.00027   \n",
       "params                               {'alpha': 0.00022}  {'alpha': 0.00027}   \n",
       "split0_test_neg_mean_squared_error             -11091.4            -8195.56   \n",
       "split1_test_neg_mean_squared_error               -10324            -6479.91   \n",
       "split2_test_neg_mean_squared_error             -8939.53            -10420.8   \n",
       "split3_test_neg_mean_squared_error             -12267.1              -11537   \n",
       "split4_test_neg_mean_squared_error             -10952.3            -13592.8   \n",
       "mean_test_neg_mean_squared_error               -10714.9            -10045.2   \n",
       "std_test_neg_mean_squared_error                  1087.4             2493.36   \n",
       "rank_test_neg_mean_squared_error                     12                   7   \n",
       "split0_train_neg_mean_squared_error            -8585.77             -7544.9   \n",
       "split1_train_neg_mean_squared_error            -9604.44            -6309.57   \n",
       "split2_train_neg_mean_squared_error            -8052.55            -8297.81   \n",
       "split3_train_neg_mean_squared_error            -8176.51            -6004.27   \n",
       "split4_train_neg_mean_squared_error            -6415.24            -5358.79   \n",
       "mean_train_neg_mean_squared_error               -8166.9            -6703.07   \n",
       "std_train_neg_mean_squared_error                1031.84             1067.91   \n",
       "split0_test_r2                                 0.861785            0.897872   \n",
       "split1_test_r2                                 0.834543            0.896151   \n",
       "split2_test_r2                                 0.853548             0.82928   \n",
       "split3_test_r2                                 0.851459              0.8603   \n",
       "split4_test_r2                                  0.84901            0.812607   \n",
       "mean_test_r2                                   0.850069            0.859242   \n",
       "std_test_r2                                  0.00887105           0.0344329   \n",
       "rank_test_r2                                         11                   7   \n",
       "split0_train_r2                                0.877373             0.89224   \n",
       "split1_train_r2                                0.870898            0.915187   \n",
       "split2_train_r2                                0.892545            0.889273   \n",
       "split3_train_r2                                0.882291            0.913563   \n",
       "split4_train_r2                                0.911069            0.925714   \n",
       "mean_train_r2                                  0.886835            0.907195   \n",
       "std_train_r2                                  0.0140288           0.0140872   \n",
       "\n",
       "                                                     6                   7   \\\n",
       "mean_fit_time                                   1.06317             1.07434   \n",
       "std_fit_time                                  0.0921169           0.0861866   \n",
       "mean_score_time                              0.00299225          0.00299215   \n",
       "std_score_time                              2.86102e-07         3.69356e-07   \n",
       "param_alpha                                     0.00032             0.00037   \n",
       "params                               {'alpha': 0.00032}  {'alpha': 0.00037}   \n",
       "split0_test_neg_mean_squared_error             -8163.06            -10005.7   \n",
       "split1_test_neg_mean_squared_error             -8769.73            -6981.53   \n",
       "split2_test_neg_mean_squared_error             -9685.89            -10967.6   \n",
       "split3_test_neg_mean_squared_error               -10515            -10497.5   \n",
       "split4_test_neg_mean_squared_error             -24907.3            -14825.5   \n",
       "mean_test_neg_mean_squared_error               -12408.2            -10655.6   \n",
       "std_test_neg_mean_squared_error                 6300.52             2507.27   \n",
       "rank_test_neg_mean_squared_error                     19                  11   \n",
       "split0_train_neg_mean_squared_error            -7387.85            -8715.26   \n",
       "split1_train_neg_mean_squared_error            -8659.18            -6921.64   \n",
       "split2_train_neg_mean_squared_error            -8545.53             -9669.8   \n",
       "split3_train_neg_mean_squared_error            -5563.31            -6170.64   \n",
       "split4_train_neg_mean_squared_error            -7578.29             -5895.1   \n",
       "mean_train_neg_mean_squared_error              -7546.83            -7474.49   \n",
       "std_train_neg_mean_squared_error                1113.14             1473.71   \n",
       "split0_test_r2                                 0.898277            0.875315   \n",
       "split1_test_r2                                 0.859453            0.888112   \n",
       "split2_test_r2                                  0.84132            0.820323   \n",
       "split3_test_r2                                 0.872675            0.872887   \n",
       "split4_test_r2                                 0.656622            0.795612   \n",
       "mean_test_r2                                   0.825669             0.85045   \n",
       "std_test_r2                                   0.0865386           0.0359303   \n",
       "rank_test_r2                                         19                  10   \n",
       "split0_train_r2                                0.894483            0.875524   \n",
       "split1_train_r2                                0.883604             0.90696   \n",
       "split2_train_r2                                0.885967            0.870964   \n",
       "split3_train_r2                                0.919911            0.911168   \n",
       "split4_train_r2                                0.894946            0.918279   \n",
       "mean_train_r2                                  0.895782            0.896579   \n",
       "std_train_r2                                  0.0128781            0.019447   \n",
       "\n",
       "                                                     8                   9   \\\n",
       "mean_fit_time                                   1.18185             1.15112   \n",
       "std_fit_time                                   0.182369           0.0968926   \n",
       "mean_score_time                              0.00319185          0.00358715   \n",
       "std_score_time                               0.00039916         0.000801009   \n",
       "param_alpha                                     0.00043             0.00048   \n",
       "params                               {'alpha': 0.00043}  {'alpha': 0.00048}   \n",
       "split0_test_neg_mean_squared_error             -7758.18            -9580.52   \n",
       "split1_test_neg_mean_squared_error             -10065.6            -7336.65   \n",
       "split2_test_neg_mean_squared_error             -6592.29            -6775.96   \n",
       "split3_test_neg_mean_squared_error             -11681.4            -10421.6   \n",
       "split4_test_neg_mean_squared_error             -12832.1            -24118.9   \n",
       "mean_test_neg_mean_squared_error               -9785.91            -11646.7   \n",
       "std_test_neg_mean_squared_error                 2335.01             6381.65   \n",
       "rank_test_neg_mean_squared_error                      4                  17   \n",
       "split0_train_neg_mean_squared_error            -6429.81            -8012.29   \n",
       "split1_train_neg_mean_squared_error            -7740.84            -6957.04   \n",
       "split2_train_neg_mean_squared_error            -7262.08            -7327.39   \n",
       "split3_train_neg_mean_squared_error            -6117.91            -6171.27   \n",
       "split4_train_neg_mean_squared_error            -6947.24            -7516.56   \n",
       "mean_train_neg_mean_squared_error              -6899.57            -7196.91   \n",
       "std_train_neg_mean_squared_error                578.462             615.389   \n",
       "split0_test_r2                                 0.903322            0.880613   \n",
       "split1_test_r2                                 0.838685             0.88242   \n",
       "split2_test_r2                                 0.892001            0.888992   \n",
       "split3_test_r2                                 0.858552            0.873806   \n",
       "split4_test_r2                                 0.823094            0.667491   \n",
       "mean_test_r2                                   0.863131            0.838665   \n",
       "std_test_r2                                   0.0305626           0.0857234   \n",
       "rank_test_r2                                          5                  17   \n",
       "split0_train_r2                                0.908166            0.885564   \n",
       "split1_train_r2                                0.895948            0.906484   \n",
       "split2_train_r2                                0.903094            0.902222   \n",
       "split3_train_r2                                0.911927            0.911159   \n",
       "split4_train_r2                                0.903694            0.895802   \n",
       "mean_train_r2                                  0.904566            0.900246   \n",
       "std_train_r2                                  0.0053728          0.00891314   \n",
       "\n",
       "                                                     10                  11  \\\n",
       "mean_fit_time                                   1.14983             1.30173   \n",
       "std_fit_time                                   0.114012            0.245682   \n",
       "mean_score_time                              0.00319157          0.00478702   \n",
       "std_score_time                              0.000399423          0.00159592   \n",
       "param_alpha                                     0.00053             0.00058   \n",
       "params                               {'alpha': 0.00053}  {'alpha': 0.00058}   \n",
       "split0_test_neg_mean_squared_error             -8827.82            -15420.5   \n",
       "split1_test_neg_mean_squared_error             -9292.78            -9775.72   \n",
       "split2_test_neg_mean_squared_error             -10693.8            -8849.55   \n",
       "split3_test_neg_mean_squared_error             -13666.5            -11556.3   \n",
       "split4_test_neg_mean_squared_error               -15972              -11679   \n",
       "mean_test_neg_mean_squared_error               -11690.6            -11456.2   \n",
       "std_test_neg_mean_squared_error                 2726.66             2253.63   \n",
       "rank_test_neg_mean_squared_error                     18                  15   \n",
       "split0_train_neg_mean_squared_error            -7408.21              -12186   \n",
       "split1_train_neg_mean_squared_error            -6375.31            -6177.37   \n",
       "split2_train_neg_mean_squared_error            -9116.61            -6657.27   \n",
       "split3_train_neg_mean_squared_error            -5963.06            -6444.53   \n",
       "split4_train_neg_mean_squared_error            -8220.39            -6486.94   \n",
       "mean_train_neg_mean_squared_error              -7416.72            -7590.42   \n",
       "std_train_neg_mean_squared_error                1160.45             2302.93   \n",
       "split0_test_r2                                 0.889993            0.807838   \n",
       "split1_test_r2                                 0.851071            0.843331   \n",
       "split2_test_r2                                 0.824809            0.855022   \n",
       "split3_test_r2                                 0.834514            0.860066   \n",
       "split4_test_r2                                 0.779807            0.838991   \n",
       "mean_test_r2                                   0.836039             0.84105   \n",
       "std_test_r2                                   0.0358538           0.0182718   \n",
       "rank_test_r2                                         18                  15   \n",
       "split0_train_r2                                0.894192            0.825953   \n",
       "split1_train_r2                                0.914304            0.916964   \n",
       "split2_train_r2                                0.878346            0.911164   \n",
       "split3_train_r2                                0.914156            0.907225   \n",
       "split4_train_r2                                0.886045            0.910075   \n",
       "mean_train_r2                                  0.897409            0.894276   \n",
       "std_train_r2                                  0.0146204           0.0343083   \n",
       "\n",
       "                                                     12                  13  \\\n",
       "mean_fit_time                                   1.52672             1.31759   \n",
       "std_fit_time                                   0.197442            0.192389   \n",
       "mean_score_time                              0.00339408          0.00319157   \n",
       "std_score_time                              0.000804329         0.000397992   \n",
       "param_alpha                                     0.00064             0.00069   \n",
       "params                               {'alpha': 0.00064}  {'alpha': 0.00069}   \n",
       "split0_test_neg_mean_squared_error             -9227.67            -9549.69   \n",
       "split1_test_neg_mean_squared_error              -7087.2            -7774.28   \n",
       "split2_test_neg_mean_squared_error             -10206.7            -10649.5   \n",
       "split3_test_neg_mean_squared_error             -10268.4            -11337.9   \n",
       "split4_test_neg_mean_squared_error             -12189.2            -12361.1   \n",
       "mean_test_neg_mean_squared_error               -9795.85            -10334.5   \n",
       "std_test_neg_mean_squared_error                 1660.11             1573.77   \n",
       "rank_test_neg_mean_squared_error                      5                   9   \n",
       "split0_train_neg_mean_squared_error            -7576.65            -6328.52   \n",
       "split1_train_neg_mean_squared_error             -6706.4            -7109.75   \n",
       "split2_train_neg_mean_squared_error            -8935.74            -7133.56   \n",
       "split3_train_neg_mean_squared_error            -6100.25            -6184.14   \n",
       "split4_train_neg_mean_squared_error            -6807.65            -7864.58   \n",
       "mean_train_neg_mean_squared_error              -7225.34            -6924.11   \n",
       "std_train_neg_mean_squared_error                 975.55             610.751   \n",
       "split0_test_r2                                  0.88501            0.880997   \n",
       "split1_test_r2                                 0.886418            0.875407   \n",
       "split2_test_r2                                 0.832788            0.825533   \n",
       "split3_test_r2                                 0.875661            0.862711   \n",
       "split4_test_r2                                 0.831957            0.829587   \n",
       "mean_test_r2                                   0.862367            0.854847   \n",
       "std_test_r2                                   0.0247693             0.02309   \n",
       "rank_test_r2                                          6                   9   \n",
       "split0_train_r2                                0.891786            0.909612   \n",
       "split1_train_r2                                0.909853            0.904431   \n",
       "split2_train_r2                                 0.88076            0.904808   \n",
       "split3_train_r2                                0.912181            0.910973   \n",
       "split4_train_r2                                0.905629            0.890977   \n",
       "mean_train_r2                                  0.900042            0.904161   \n",
       "std_train_r2                                  0.0119565          0.00707714   \n",
       "\n",
       "                                                     14                  15  \\\n",
       "mean_fit_time                                   1.30267             1.35757   \n",
       "std_fit_time                                   0.189767            0.124749   \n",
       "mean_score_time                              0.00598245          0.00359073   \n",
       "std_score_time                               0.00550002          0.00119667   \n",
       "param_alpha                                     0.00074             0.00079   \n",
       "params                               {'alpha': 0.00074}  {'alpha': 0.00079}   \n",
       "split0_test_neg_mean_squared_error              -7304.3            -8375.17   \n",
       "split1_test_neg_mean_squared_error              -7820.1            -8958.12   \n",
       "split2_test_neg_mean_squared_error             -9470.32             -7929.7   \n",
       "split3_test_neg_mean_squared_error             -10306.7            -12040.6   \n",
       "split4_test_neg_mean_squared_error             -13324.4            -16667.3   \n",
       "mean_test_neg_mean_squared_error               -9645.16            -10794.2   \n",
       "std_test_neg_mean_squared_error                 2136.14             3270.31   \n",
       "rank_test_neg_mean_squared_error                      3                  13   \n",
       "split0_train_neg_mean_squared_error            -6848.05            -6849.46   \n",
       "split1_train_neg_mean_squared_error            -7775.46            -7181.64   \n",
       "split2_train_neg_mean_squared_error            -6279.34            -7480.05   \n",
       "split3_train_neg_mean_squared_error            -7440.36            -5733.78   \n",
       "split4_train_neg_mean_squared_error            -8173.68            -6064.36   \n",
       "mean_train_neg_mean_squared_error              -7303.38            -6661.86   \n",
       "std_train_neg_mean_squared_error                671.569             662.288   \n",
       "split0_test_r2                                 0.908978            0.895633   \n",
       "split1_test_r2                                 0.874672            0.856434   \n",
       "split2_test_r2                                 0.844852            0.870091   \n",
       "split3_test_r2                                 0.875198            0.854202   \n",
       "split4_test_r2                                 0.816307            0.770221   \n",
       "mean_test_r2                                   0.864001            0.849316   \n",
       "std_test_r2                                   0.0313165           0.0422076   \n",
       "rank_test_r2                                          3                  13   \n",
       "split0_train_r2                                0.902192            0.902172   \n",
       "split1_train_r2                                0.895483            0.903465   \n",
       "split2_train_r2                                0.916207            0.900185   \n",
       "split3_train_r2                                0.892889            0.917457   \n",
       "split4_train_r2                                0.886692            0.915933   \n",
       "mean_train_r2                                  0.898693            0.907842   \n",
       "std_train_r2                                  0.0100698          0.00731902   \n",
       "\n",
       "                                                     16                 17  \\\n",
       "mean_fit_time                                   1.25185            1.49751   \n",
       "std_fit_time                                   0.237436           0.347471   \n",
       "mean_score_time                               0.0031888         0.00379038   \n",
       "std_score_time                              0.000400853         0.00116311   \n",
       "param_alpha                                     0.00084             0.0009   \n",
       "params                               {'alpha': 0.00084}  {'alpha': 0.0009}   \n",
       "split0_test_neg_mean_squared_error             -8909.25            -8427.8   \n",
       "split1_test_neg_mean_squared_error             -12984.1           -7910.65   \n",
       "split2_test_neg_mean_squared_error             -8740.56           -12421.4   \n",
       "split3_test_neg_mean_squared_error             -11356.4           -11507.2   \n",
       "split4_test_neg_mean_squared_error             -11137.6           -10257.7   \n",
       "mean_test_neg_mean_squared_error               -10625.6           -10104.9   \n",
       "std_test_neg_mean_squared_error                  1603.6            1731.08   \n",
       "rank_test_neg_mean_squared_error                     10                  8   \n",
       "split0_train_neg_mean_squared_error            -7573.32           -6522.06   \n",
       "split1_train_neg_mean_squared_error            -12114.8           -7742.59   \n",
       "split2_train_neg_mean_squared_error            -7111.98           -8764.98   \n",
       "split3_train_neg_mean_squared_error            -5352.06           -5772.82   \n",
       "split4_train_neg_mean_squared_error            -10277.1           -8075.43   \n",
       "mean_train_neg_mean_squared_error              -8485.86           -7375.58   \n",
       "std_train_neg_mean_squared_error                2404.95            1081.88   \n",
       "split0_test_r2                                 0.888978           0.894978   \n",
       "split1_test_r2                                 0.791913           0.873221   \n",
       "split2_test_r2                                 0.856807           0.796506   \n",
       "split3_test_r2                                 0.862487           0.860661   \n",
       "split4_test_r2                                 0.846455           0.858585   \n",
       "mean_test_r2                                   0.849328            0.85679   \n",
       "std_test_r2                                   0.0319561          0.0328043   \n",
       "rank_test_r2                                         12                  8   \n",
       "split0_train_r2                                0.891834           0.906848   \n",
       "split1_train_r2                                0.837153           0.895925   \n",
       "split2_train_r2                                0.905097           0.883039   \n",
       "split3_train_r2                                0.922952           0.916895   \n",
       "split4_train_r2                                0.857534           0.888054   \n",
       "mean_train_r2                                  0.882914           0.898152   \n",
       "std_train_r2                                  0.0313459          0.0123471   \n",
       "\n",
       "                                                     18                19  \n",
       "mean_fit_time                                   1.29754           1.18252  \n",
       "std_fit_time                                   0.178523         0.0744981  \n",
       "mean_score_time                              0.00358992        0.00419073  \n",
       "std_score_time                              0.000797892        0.00132525  \n",
       "param_alpha                                     0.00095             0.001  \n",
       "params                               {'alpha': 0.00095}  {'alpha': 0.001}  \n",
       "split0_test_neg_mean_squared_error             -10817.8          -8931.66  \n",
       "split1_test_neg_mean_squared_error              -7695.4          -7254.61  \n",
       "split2_test_neg_mean_squared_error             -11611.7          -7298.98  \n",
       "split3_test_neg_mean_squared_error             -11268.1          -9604.46  \n",
       "split4_test_neg_mean_squared_error             -15152.6          -12234.7  \n",
       "mean_test_neg_mean_squared_error               -11309.1          -9064.88  \n",
       "std_test_neg_mean_squared_error                 2373.43           1830.41  \n",
       "rank_test_neg_mean_squared_error                     14                 1  \n",
       "split0_train_neg_mean_squared_error            -8043.62          -6432.74  \n",
       "split1_train_neg_mean_squared_error               -7448          -6856.84  \n",
       "split2_train_neg_mean_squared_error            -8622.79           -6703.7  \n",
       "split3_train_neg_mean_squared_error            -9534.99          -6426.22  \n",
       "split4_train_neg_mean_squared_error             -5543.1          -7518.48  \n",
       "mean_train_neg_mean_squared_error               -7838.5           -6787.6  \n",
       "std_train_neg_mean_squared_error                 1338.4           400.634  \n",
       "split0_test_r2                                 0.865195          0.888699  \n",
       "split1_test_r2                                 0.876671          0.883735  \n",
       "split2_test_r2                                 0.809771          0.880424  \n",
       "split3_test_r2                                 0.863557          0.883701  \n",
       "split4_test_r2                                 0.791103           0.83133  \n",
       "mean_test_r2                                   0.841259          0.873578  \n",
       "std_test_r2                                   0.0341504         0.0212886  \n",
       "rank_test_r2                                         14                 1  \n",
       "split0_train_r2                                0.885117          0.908124  \n",
       "split1_train_r2                                0.899885          0.907831  \n",
       "split2_train_r2                                0.884936          0.910545  \n",
       "split3_train_r2                                0.862735          0.907489  \n",
       "split4_train_r2                                0.923159          0.895775  \n",
       "mean_train_r2                                  0.891166          0.905953  \n",
       "std_train_r2                                  0.0199163        0.00520136  "
      ]
     },
     "execution_count": 84,
     "metadata": {},
     "output_type": "execute_result"
    }
   ],
   "source": [
    "pd.DataFrame(gs.cv_results_).T"
   ]
  },
  {
   "cell_type": "code",
   "execution_count": 306,
   "metadata": {},
   "outputs": [
    {
     "data": {
      "text/plain": [
       "3591.7413163785145"
      ]
     },
     "execution_count": 306,
     "metadata": {},
     "output_type": "execute_result"
    }
   ],
   "source": [
    "model.loss_"
   ]
  },
  {
   "cell_type": "markdown",
   "metadata": {},
   "source": [
    "Коэффициент детерминации $R^2$:"
   ]
  },
  {
   "cell_type": "code",
   "execution_count": 307,
   "metadata": {},
   "outputs": [
    {
     "data": {
      "text/plain": [
       "0.860430926358663"
      ]
     },
     "execution_count": 307,
     "metadata": {},
     "output_type": "execute_result"
    }
   ],
   "source": [
    "model.score(X_test_standartized, y_test)"
   ]
  },
  {
   "cell_type": "code",
   "execution_count": 374,
   "metadata": {
    "collapsed": true
   },
   "outputs": [
    {
     "data": {
      "text/plain": [
       "[array([[ 2.51174827e+00,  7.51267107e+00,  7.56758119e-01,\n",
       "          6.56789408e+00,  9.77092762e-01,  3.53718052e+00,\n",
       "          7.38883610e-01,  2.13014404e+00,  6.11925106e+00,\n",
       "          1.19897931e+00,  2.30063840e+00,  6.77209671e-01,\n",
       "          1.13061762e+00,  6.46653250e+00,  1.39389802e+00,\n",
       "          5.27680070e+00,  1.21612593e+00,  1.28896634e+00],\n",
       "        [ 3.29198884e+00,  1.50126129e+00,  1.60195838e+00,\n",
       "          2.34297538e-01,  1.38635688e+00,  3.76008657e+00,\n",
       "          1.70710662e+00,  2.02893943e+00,  3.07791916e+00,\n",
       "          1.99057366e+00,  5.84368389e-01,  1.76134934e+00,\n",
       "          1.70150159e+00,  1.90400814e+00,  1.99524010e+00,\n",
       "          7.46615170e-01,  2.01945425e+00,  1.84315750e+00],\n",
       "        [ 2.15808091e+00,  1.15617792e+00, -7.82633187e-01,\n",
       "         -8.07387216e-01, -1.88046287e+00, -7.87249738e-01,\n",
       "         -1.55810818e+00, -6.91982992e-01,  1.55161213e+00,\n",
       "         -3.09737981e+00, -1.09954142e-01, -8.44344663e-01,\n",
       "         -1.90472976e+00,  9.86466290e-01, -1.83186818e+00,\n",
       "          2.09138574e+00,  2.61737711e-01, -2.45390123e+00],\n",
       "        [-8.40009474e-01,  2.76743670e+00,  3.17325531e+00,\n",
       "          3.98997615e+00,  4.37297338e+00,  1.40664103e+00,\n",
       "          4.49054071e+00,  3.64069686e+00,  2.05206569e+00,\n",
       "          5.37275000e+00,  5.81162036e-01,  4.38503053e+00,\n",
       "          4.12564180e+00,  2.24043756e+00,  4.44291095e+00,\n",
       "          2.45699244e-01,  1.59311410e+00,  4.10747899e+00],\n",
       "        [-1.92836160e+00,  9.87185674e-02,  2.21484201e+00,\n",
       "         -7.02424161e-01,  3.19371493e+00,  2.65462028e+00,\n",
       "          2.49353295e+00,  3.01561612e+00, -3.08869680e+00,\n",
       "          2.72635937e+00,  1.64833065e+00,  2.70327366e+00,\n",
       "          2.60872551e+00, -3.19135205e-01,  2.67452597e+00,\n",
       "         -3.36834994e+00,  2.00833048e+00,  2.39443452e+00],\n",
       "        [ 7.44227377e+00, -3.89233197e-01, -1.53651747e+00,\n",
       "         -4.43119520e+00,  3.19163499e+00,  3.73221340e-01,\n",
       "         -1.81186766e+00, -2.43554093e-01, -1.64895654e+00,\n",
       "         -1.89047442e+00, -7.31833765e-01, -2.24136469e+00,\n",
       "          2.31251872e+00,  7.58399433e-02,  2.46683826e+00,\n",
       "         -1.57944265e+00,  1.37983997e+00, -1.59476592e+00],\n",
       "        [-5.69484773e-01, -3.46200282e-01,  1.44411936e+00,\n",
       "         -2.32504561e-01,  1.70687740e+00,  1.48005025e+00,\n",
       "          1.57604263e+00,  1.28800585e+00, -4.27029010e-01,\n",
       "          1.45450705e+00,  2.01947325e-01,  1.97807615e+00,\n",
       "          2.18706339e+00, -4.09622370e-01,  2.28930132e+00,\n",
       "          1.54939836e-01, -1.47150627e+00,  9.32732398e-01],\n",
       "        [-5.75276580e+00, -1.83216166e+00, -7.19934392e-01,\n",
       "         -3.52856256e+00, -1.46235031e+00,  8.22500467e-01,\n",
       "         -5.12653571e-01, -5.19919303e-01, -5.73161388e+00,\n",
       "         -4.24431777e-01,  2.22091666e+00, -8.91634860e-01,\n",
       "         -9.00709862e-01, -1.19752075e+00, -8.48046543e-01,\n",
       "         -6.00853889e+00,  3.09730997e-01, -4.55295790e-01],\n",
       "        [ 1.39066129e+00,  8.04144350e-01,  2.63083723e-01,\n",
       "          8.02159730e-01,  3.08336560e-01, -3.15454945e-01,\n",
       "          1.90723098e-01, -1.77182177e-01, -4.17741152e-03,\n",
       "          6.56845371e-04,  3.45397161e+00,  4.28500150e-01,\n",
       "          4.40109718e-01,  1.83386601e+00,  2.71341512e-01,\n",
       "          2.26331581e+00,  1.39688530e+00, -2.04143045e-02]]),\n",
       " array([[ 1.20185701,  1.03121609,  1.36809629,  1.531263  ,  2.44473912,\n",
       "          1.11584168,  2.20145984,  1.78480284,  1.5047593 ,  3.12804565,\n",
       "          2.89938065,  1.50237389,  1.23864315,  2.44735187,  2.27985657,\n",
       "          3.23394688,  2.93365421,  3.37297071],\n",
       "        [ 1.10757696,  0.18201858,  0.94584422,  1.10959336,  0.56852457,\n",
       "          0.55333439,  0.86866878,  1.09317187,  0.97826162,  1.56144824,\n",
       "          1.31280897,  0.96275699,  0.29531509,  0.39531199,  1.11749531,\n",
       "          0.51087495,  1.33900359,  1.94571617],\n",
       "        [ 0.52666465,  1.22081311,  0.82451942,  0.77327903,  0.65830718,\n",
       "          1.03664962,  0.73544485,  0.41300779,  0.53205911,  1.29912977,\n",
       "          1.13554471,  0.61049372,  0.76671087,  0.22372154,  0.5888902 ,\n",
       "          0.33182632, -0.07519778,  1.42287835],\n",
       "        [ 0.08490281,  0.91635891,  0.2939784 ,  0.25008796,  0.97414802,\n",
       "          0.7268431 ,  0.98725334,  0.19283961,  0.58567993,  1.79439465,\n",
       "          1.60163771, -0.01161378,  0.90986595,  1.15212715,  0.8537503 ,\n",
       "          0.87855365,  0.62009748,  2.34679798],\n",
       "        [ 1.21591218,  0.30005977,  1.18662675,  1.07839165,  0.1249479 ,\n",
       "          0.60831101,  0.54105901,  1.11294265,  1.31563102,  1.42646929,\n",
       "          0.87925875,  1.24903173,  0.6589716 ,  0.15299458,  1.1965976 ,\n",
       "          0.23122651,  0.97836078,  1.44684514],\n",
       "        [-0.07802908, -0.55809511, -0.38823539, -0.72115861, -1.49324549,\n",
       "         -0.98339787, -2.03723133, -1.03393985, -1.18540918, -2.09124501,\n",
       "         -2.36693118, -0.45957876, -1.02523197, -2.62186772, -1.72632412,\n",
       "         -2.15373615, -2.43074453, -1.86270212],\n",
       "        [ 1.02994003,  1.49331122,  0.8773207 ,  0.95946057,  1.08147017,\n",
       "          1.2914812 ,  1.09805355,  0.88349168,  0.91351557,  1.42516029,\n",
       "          1.3993316 ,  0.99921595,  1.28266947,  1.07850382,  0.60632253,\n",
       "          0.56568226,  0.29546172,  1.7404115 ],\n",
       "        [ 0.94727521,  0.58239633,  0.59440539,  0.65446984,  0.10932913,\n",
       "          0.20380515, -0.01651447,  0.55169282,  0.44726001,  0.69522153,\n",
       "          0.34265486,  0.74615161,  0.25487316,  0.06031751,  0.16282632,\n",
       "          0.02419683,  0.22782571,  0.94899617],\n",
       "        [ 0.32708148,  0.9755745 ,  0.3083483 ,  0.05872693,  2.14970701,\n",
       "          0.99637228,  1.85196354,  0.4427962 ,  0.2268568 ,  3.77349637,\n",
       "          3.36535421,  0.36645097,  1.35675073,  3.32551972,  0.84142865,\n",
       "          2.33880764,  1.52647602,  4.13627732],\n",
       "        [ 1.3764178 ,  1.75785403,  1.47982607,  1.14383537,  1.59322327,\n",
       "          1.78239716,  1.27978156,  1.16063247,  1.27543279,  1.79886465,\n",
       "          1.73710824,  1.29850924,  1.84678635,  1.05505774,  1.06360115,\n",
       "          1.11988756,  0.89642047,  1.88770874],\n",
       "        [ 0.49993836, -0.54430057,  0.39099708,  0.19098999, -1.70157858,\n",
       "         -0.48490679, -1.5668456 , -0.27981875,  0.02743343, -1.47906207,\n",
       "         -2.14405295,  0.32463406, -0.64080838, -2.84648801, -1.12073153,\n",
       "         -2.05936908, -1.64212173, -1.22843218],\n",
       "        [ 0.97739225,  1.26888341,  1.20599274,  1.07516735,  0.85965457,\n",
       "          1.4001688 ,  1.07524022,  0.7333479 ,  0.8024915 ,  1.55542669,\n",
       "          1.5233614 ,  0.89063662,  1.25873821,  0.86383016,  0.71887747,\n",
       "          0.89301258,  0.65202803,  1.80181278],\n",
       "        [ 1.8018547 ,  0.72512753,  1.82746182,  1.83592733,  0.52496925,\n",
       "          1.18023477,  0.8886679 ,  1.46099812,  1.44668931,  1.75627075,\n",
       "          1.36354485,  1.59622561,  1.03156104,  0.51882036,  1.14150471,\n",
       "          0.63283078,  1.35019618,  2.18384182],\n",
       "        [ 0.91495777,  0.13978596,  0.74064176,  0.99506527,  0.35349923,\n",
       "          0.48168004,  0.54397185,  1.10061573,  0.89549153,  1.52227903,\n",
       "          0.82602172,  0.90299553,  0.38463528,  0.37051092,  0.75517866,\n",
       "          0.12490883,  0.82703148,  1.69000242],\n",
       "        [ 1.83116629,  1.14891397,  1.5200339 ,  1.57991686,  1.01112814,\n",
       "          1.07986899,  1.01638762,  1.68166493,  1.82661674,  2.06886972,\n",
       "          1.20442425,  1.62709659,  1.00373315,  0.65523077,  1.32873697,\n",
       "          0.58737471,  1.40581259,  1.92656735],\n",
       "        [ 0.14658104,  1.02639661,  0.24221611,  0.40965113,  2.70126208,\n",
       "          1.24653041,  2.6302031 ,  0.60217902,  0.53342103,  3.6339221 ,\n",
       "          3.7364841 ,  0.35933114,  1.41162475,  3.31832273,  1.42608192,\n",
       "          3.62614637,  2.17536472,  3.59184957],\n",
       "        [ 1.21092999,  0.32685211,  1.07569252,  0.97865215,  0.18438838,\n",
       "          0.13585997, -0.10680355,  1.0450884 ,  1.04969196,  0.60501112,\n",
       "          0.1635945 ,  1.27425951,  0.21732824, -0.46463546,  0.69109474,\n",
       "         -0.16915312,  0.45168468,  0.92508356],\n",
       "        [ 0.61093179,  1.19982209,  0.9850866 ,  0.88137845,  0.73739133,\n",
       "          1.31392573,  0.9101188 ,  0.68608259,  0.75791024,  1.50160105,\n",
       "          1.07828954,  0.86259293,  1.21040625,  0.6924093 ,  0.72817642,\n",
       "          0.41749467,  0.25758671,  1.64789097]]),\n",
       " array([[49.9773276 ],\n",
       "        [49.00801127],\n",
       "        [49.4922944 ],\n",
       "        [48.7775615 ],\n",
       "        [47.02445253],\n",
       "        [48.77275636],\n",
       "        [45.16053886],\n",
       "        [49.09730588],\n",
       "        [47.6910777 ],\n",
       "        [45.96520131],\n",
       "        [44.70901299],\n",
       "        [49.53714027],\n",
       "        [47.0962258 ],\n",
       "        [45.48817688],\n",
       "        [47.15632321],\n",
       "        [48.11573923],\n",
       "        [47.32801604],\n",
       "        [47.30673591]])]"
      ]
     },
     "execution_count": 374,
     "metadata": {},
     "output_type": "execute_result"
    }
   ],
   "source": [
    "model.coefs_"
   ]
  },
  {
   "cell_type": "markdown",
   "metadata": {},
   "source": [
    "### Prediction on real"
   ]
  },
  {
   "cell_type": "code",
   "execution_count": 324,
   "metadata": {},
   "outputs": [],
   "source": [
    "true_lvls_SD = pd.DataFrame(data['AP1_SD'].days.values, columns = ['days'])\n",
    "true_lvls_LD = pd.DataFrame(data['AP1_LD'].days.values, columns = ['days'])\n",
    "\n",
    "for k in data.keys():\n",
    "    if k.endswith('LD'):\n",
    "        true_lvls_LD[k] = data[k].rltv_transcription_lvl.values\n",
    "    else:\n",
    "        true_lvls_SD[k] = data[k].rltv_transcription_lvl.values"
   ]
  },
  {
   "cell_type": "code",
   "execution_count": 325,
   "metadata": {},
   "outputs": [
    {
     "data": {
      "text/html": [
       "<div>\n",
       "<style scoped>\n",
       "    .dataframe tbody tr th:only-of-type {\n",
       "        vertical-align: middle;\n",
       "    }\n",
       "\n",
       "    .dataframe tbody tr th {\n",
       "        vertical-align: top;\n",
       "    }\n",
       "\n",
       "    .dataframe thead th {\n",
       "        text-align: right;\n",
       "    }\n",
       "</style>\n",
       "<table border=\"1\" class=\"dataframe\">\n",
       "  <thead>\n",
       "    <tr style=\"text-align: right;\">\n",
       "      <th></th>\n",
       "      <th>days</th>\n",
       "      <th>AP1_LD</th>\n",
       "      <th>FD_LD</th>\n",
       "      <th>FTa1_LD</th>\n",
       "      <th>FTa2_LD</th>\n",
       "      <th>FTa3_LD</th>\n",
       "      <th>FTb_LD</th>\n",
       "      <th>FTc_LD</th>\n",
       "      <th>LFY_LD</th>\n",
       "      <th>TFL1a_LD</th>\n",
       "      <th>TFL1c_LD</th>\n",
       "    </tr>\n",
       "  </thead>\n",
       "  <tbody>\n",
       "    <tr>\n",
       "      <th>0</th>\n",
       "      <td>9</td>\n",
       "      <td>2</td>\n",
       "      <td>31.53</td>\n",
       "      <td>2</td>\n",
       "      <td>8</td>\n",
       "      <td>0.9</td>\n",
       "      <td>3</td>\n",
       "      <td>0</td>\n",
       "      <td>6.4</td>\n",
       "      <td>22.021</td>\n",
       "      <td>25.556</td>\n",
       "    </tr>\n",
       "    <tr>\n",
       "      <th>1</th>\n",
       "      <td>11</td>\n",
       "      <td>0</td>\n",
       "      <td>47.62</td>\n",
       "      <td>0</td>\n",
       "      <td>11</td>\n",
       "      <td>0.5</td>\n",
       "      <td>7</td>\n",
       "      <td>0</td>\n",
       "      <td>12.1</td>\n",
       "      <td>20.489</td>\n",
       "      <td>25.263</td>\n",
       "    </tr>\n",
       "    <tr>\n",
       "      <th>2</th>\n",
       "      <td>13</td>\n",
       "      <td>6</td>\n",
       "      <td>45.41</td>\n",
       "      <td>1</td>\n",
       "      <td>29</td>\n",
       "      <td>0.8</td>\n",
       "      <td>6</td>\n",
       "      <td>0</td>\n",
       "      <td>21.4</td>\n",
       "      <td>27.397</td>\n",
       "      <td>32.982</td>\n",
       "    </tr>\n",
       "    <tr>\n",
       "      <th>3</th>\n",
       "      <td>15</td>\n",
       "      <td>5</td>\n",
       "      <td>40.89</td>\n",
       "      <td>5</td>\n",
       "      <td>60</td>\n",
       "      <td>10.2</td>\n",
       "      <td>28</td>\n",
       "      <td>0</td>\n",
       "      <td>56.8</td>\n",
       "      <td>33.074</td>\n",
       "      <td>39.708</td>\n",
       "    </tr>\n",
       "    <tr>\n",
       "      <th>4</th>\n",
       "      <td>17</td>\n",
       "      <td>23</td>\n",
       "      <td>79.47</td>\n",
       "      <td>9</td>\n",
       "      <td>50</td>\n",
       "      <td>1.3</td>\n",
       "      <td>12</td>\n",
       "      <td>0</td>\n",
       "      <td>77.1</td>\n",
       "      <td>42.561</td>\n",
       "      <td>32.222</td>\n",
       "    </tr>\n",
       "  </tbody>\n",
       "</table>\n",
       "</div>"
      ],
      "text/plain": [
       "   days  AP1_LD  FD_LD  FTa1_LD  FTa2_LD  FTa3_LD  FTb_LD  FTc_LD  LFY_LD  \\\n",
       "0     9       2  31.53        2        8      0.9       3       0     6.4   \n",
       "1    11       0  47.62        0       11      0.5       7       0    12.1   \n",
       "2    13       6  45.41        1       29      0.8       6       0    21.4   \n",
       "3    15       5  40.89        5       60     10.2      28       0    56.8   \n",
       "4    17      23  79.47        9       50      1.3      12       0    77.1   \n",
       "\n",
       "   TFL1a_LD  TFL1c_LD  \n",
       "0    22.021    25.556  \n",
       "1    20.489    25.263  \n",
       "2    27.397    32.982  \n",
       "3    33.074    39.708  \n",
       "4    42.561    32.222  "
      ]
     },
     "execution_count": 325,
     "metadata": {},
     "output_type": "execute_result"
    }
   ],
   "source": [
    "true_lvls_LD.head()"
   ]
  },
  {
   "cell_type": "code",
   "execution_count": 326,
   "metadata": {},
   "outputs": [],
   "source": [
    "true_lvls_SD = true_lvls_SD.rename(columns=lambda x: x[:-3])\n",
    "\n",
    "true_lvls_LD = true_lvls_LD.rename(columns=lambda x: x[:-3])"
   ]
  },
  {
   "cell_type": "code",
   "execution_count": 327,
   "metadata": {
    "scrolled": true
   },
   "outputs": [],
   "source": [
    "true_lvls = true_lvls_LD.append(true_lvls_SD, ignore_index=True)\n",
    "\n",
    "true_lvls = true_lvls.drop('d', axis =1)\n",
    "\n",
    "true_lvls = true_lvls.reindex(sorted(true_lvls.columns), axis=1)"
   ]
  },
  {
   "cell_type": "code",
   "execution_count": 432,
   "metadata": {
    "scrolled": false
   },
   "outputs": [
    {
     "name": "stderr",
     "output_type": "stream",
     "text": [
      "C:\\Users\\Boris\\Anaconda3\\lib\\site-packages\\sklearn\\preprocessing\\data.py:645: DataConversionWarning: Data with input dtype int64, float64 were all converted to float64 by StandardScaler.\n",
      "  return self.partial_fit(X, y)\n",
      "C:\\Users\\Boris\\Anaconda3\\lib\\site-packages\\sklearn\\base.py:464: DataConversionWarning: Data with input dtype int64, float64 were all converted to float64 by StandardScaler.\n",
      "  return self.fit(X, **fit_params).transform(X)\n"
     ]
    }
   ],
   "source": [
    "true_AP1_pred = model.predict(StandardScaler().fit_transform(true_lvls.drop(current_target, axis=1)))"
   ]
  },
  {
   "cell_type": "code",
   "execution_count": 329,
   "metadata": {},
   "outputs": [
    {
     "data": {
      "text/plain": [
       "25"
      ]
     },
     "execution_count": 329,
     "metadata": {},
     "output_type": "execute_result"
    }
   ],
   "source": [
    "len(true_lvls['AP1'])"
   ]
  },
  {
   "cell_type": "code",
   "execution_count": 433,
   "metadata": {
    "scrolled": true
   },
   "outputs": [
    {
     "data": {
      "image/png": "[encoded data removed]",
      "text/plain": [
       "<Figure size 432x288 with 1 Axes>"
      ]
     },
     "metadata": {
      "needs_background": "light"
     },
     "output_type": "display_data"
    }
   ],
   "source": [
    "plt.scatter(true_lvls['AP1'], true_AP1_pred)\n",
    "plt.plot([min(y_test), max(y_test)], [min(y_test), max(y_test)], 'r')\n",
    "plt.xlabel('True Values' + ' (' + current_target + ')')\n",
    "plt.ylabel('Predictions' + ' (' + current_target + ')')\n",
    "plt.axis('equal')\n",
    "plt.axis('square')\n",
    "plt.show()\n",
    "# plt.xlim([0,3])\n",
    "# plt.ylim([0,3])"
   ]
  },
  {
   "cell_type": "code",
   "execution_count": 434,
   "metadata": {
    "scrolled": true
   },
   "outputs": [
    {
     "data": {
      "text/plain": [
       "[<matplotlib.lines.Line2D at 0x2cdb59eee80>]"
      ]
     },
     "execution_count": 434,
     "metadata": {},
     "output_type": "execute_result"
    },
    {
     "data": {
      "image/png": "[encoded data removed]",
      "text/plain": [
       "<Figure size 432x288 with 1 Axes>"
      ]
     },
     "metadata": {
      "needs_background": "light"
     },
     "output_type": "display_data"
    }
   ],
   "source": [
    "plt.plot(list(range(len(true_AP1_pred))), true_AP1_pred, '-')\n",
    "plt.plot(list(range(len(true_AP1_pred))), true_lvls['AP1'], 'go')"
   ]
  },
  {
   "cell_type": "markdown",
   "metadata": {},
   "source": [
    "### LD & SD separate"
   ]
  },
  {
   "cell_type": "markdown",
   "metadata": {},
   "source": [
    "#### LD"
   ]
  },
  {
   "cell_type": "code",
   "execution_count": 447,
   "metadata": {
    "scrolled": true
   },
   "outputs": [
    {
     "name": "stderr",
     "output_type": "stream",
     "text": [
      "C:\\Users\\Boris\\Anaconda3\\lib\\site-packages\\sklearn\\preprocessing\\data.py:645: DataConversionWarning: Data with input dtype int64, float64 were all converted to float64 by StandardScaler.\n",
      "  return self.partial_fit(X, y)\n",
      "C:\\Users\\Boris\\Anaconda3\\lib\\site-packages\\sklearn\\base.py:464: DataConversionWarning: Data with input dtype int64, float64 were all converted to float64 by StandardScaler.\n",
      "  return self.fit(X, **fit_params).transform(X)\n"
     ]
    }
   ],
   "source": [
    "true_AP1_LD_pred = model.predict(st_scaler.fit_transform(true_lvls_LD.drop([current_target, 'd'], axis=1)))"
   ]
  },
  {
   "cell_type": "code",
   "execution_count": 448,
   "metadata": {
    "scrolled": true
   },
   "outputs": [
    {
     "data": {
      "image/png": "[encoded data removed]",
      "text/plain": [
       "<Figure size 432x288 with 1 Axes>"
      ]
     },
     "metadata": {
      "needs_background": "light"
     },
     "output_type": "display_data"
    }
   ],
   "source": [
    "plt.scatter(true_lvls_LD['AP1'], true_AP1_LD_pred)\n",
    "plt.plot([min(y_test), max(y_test)], [min(y_test), max(y_test)], 'r')\n",
    "plt.xlabel('True Values' + ' (' + current_target + ')')\n",
    "plt.ylabel('Predictions' + ' (' + current_target + ')')\n",
    "plt.axis('equal')\n",
    "plt.axis('square')\n",
    "plt.show()\n",
    "# plt.xlim([0,3])\n",
    "# plt.ylim([0,3])"
   ]
  },
  {
   "cell_type": "code",
   "execution_count": 462,
   "metadata": {
    "scrolled": true
   },
   "outputs": [
    {
     "data": {
      "text/plain": [
       "array([[1.        , 0.93635056],\n",
       "       [0.93635056, 1.        ]])"
      ]
     },
     "execution_count": 462,
     "metadata": {},
     "output_type": "execute_result"
    }
   ],
   "source": [
    "np.corrcoef(true_lvls_LD['AP1'], true_AP1_LD_pred)"
   ]
  },
  {
   "cell_type": "code",
   "execution_count": 463,
   "metadata": {
    "scrolled": true
   },
   "outputs": [
    {
     "data": {
      "text/plain": [
       "15118.910168443937"
      ]
     },
     "execution_count": 463,
     "metadata": {},
     "output_type": "execute_result"
    }
   ],
   "source": [
    "mean_squared_error(true_lvls_LD['AP1'], true_AP1_LD_pred)"
   ]
  },
  {
   "cell_type": "code",
   "execution_count": 449,
   "metadata": {
    "scrolled": true
   },
   "outputs": [
    {
     "data": {
      "text/plain": [
       "Text(0.5, 1.0, 'AP1 expression level for LD conditions')"
      ]
     },
     "execution_count": 449,
     "metadata": {},
     "output_type": "execute_result"
    },
    {
     "data": {
      "image/png": "[encoded data removed]",
      "text/plain": [
       "<Figure size 432x288 with 1 Axes>"
      ]
     },
     "metadata": {
      "needs_background": "light"
     },
     "output_type": "display_data"
    }
   ],
   "source": [
    "plt.plot(true_lvls_LD['d'], true_AP1_LD_pred, '-')\n",
    "plt.plot(true_lvls_LD['d'], true_lvls_LD['AP1'], 'go')\n",
    "plt.xlabel('Days after sowing')\n",
    "plt.ylabel('AP1')\n",
    "plt.legend(['AP1 prediction', 'True AP1 level'])\n",
    "plt.title('AP1 expression level for LD conditions')"
   ]
  },
  {
   "cell_type": "markdown",
   "metadata": {},
   "source": [
    "#### SD"
   ]
  },
  {
   "cell_type": "code",
   "execution_count": 450,
   "metadata": {
    "scrolled": false
   },
   "outputs": [
    {
     "name": "stderr",
     "output_type": "stream",
     "text": [
      "C:\\Users\\Boris\\Anaconda3\\lib\\site-packages\\ipykernel_launcher.py:1: DataConversionWarning: Data with input dtype int64, float64 were all converted to float64 by StandardScaler.\n",
      "  \"\"\"Entry point for launching an IPython kernel.\n"
     ]
    }
   ],
   "source": [
    "true_AP1_SD_pred = model.predict(st_scaler.transform(true_lvls_SD.drop([current_target, 'd'], axis=1)))"
   ]
  },
  {
   "cell_type": "code",
   "execution_count": 461,
   "metadata": {
    "scrolled": true
   },
   "outputs": [
    {
     "data": {
      "image/png": "[encoded data removed]",
      "text/plain": [
       "<Figure size 432x288 with 1 Axes>"
      ]
     },
     "metadata": {
      "needs_background": "light"
     },
     "output_type": "display_data"
    }
   ],
   "source": [
    "plt.scatter(true_lvls_SD['AP1'], true_AP1_SD_pred)\n",
    "plt.plot([min(true_lvls_SD['AP1']), max(true_lvls_SD['AP1'])], \n",
    "         [min(true_lvls_SD['AP1']), max(true_lvls_SD['AP1'])], 'r')\n",
    "plt.xlabel('True Values' + ' (' + current_target + ')')\n",
    "plt.ylabel('Predictions' + ' (' + current_target + ')')\n",
    "plt.axis('equal')\n",
    "plt.axis('square')\n",
    "plt.show()\n",
    "# plt.xlim([0,3])\n",
    "# plt.ylim([0,3])"
   ]
  },
  {
   "cell_type": "code",
   "execution_count": 464,
   "metadata": {
    "scrolled": true
   },
   "outputs": [
    {
     "data": {
      "text/plain": [
       "array([[1.        , 0.97566031],\n",
       "       [0.97566031, 1.        ]])"
      ]
     },
     "execution_count": 464,
     "metadata": {},
     "output_type": "execute_result"
    }
   ],
   "source": [
    "np.corrcoef(true_lvls_SD['AP1'], true_AP1_SD_pred)"
   ]
  },
  {
   "cell_type": "code",
   "execution_count": 465,
   "metadata": {
    "scrolled": true
   },
   "outputs": [
    {
     "data": {
      "text/plain": [
       "571.0705380972578"
      ]
     },
     "execution_count": 465,
     "metadata": {},
     "output_type": "execute_result"
    }
   ],
   "source": [
    "mean_squared_error(true_lvls_SD['AP1'], true_AP1_SD_pred)"
   ]
  },
  {
   "cell_type": "code",
   "execution_count": 452,
   "metadata": {
    "scrolled": true
   },
   "outputs": [
    {
     "data": {
      "text/plain": [
       "Text(0.5, 1.0, 'AP1 expression level for SD conditions')"
      ]
     },
     "execution_count": 452,
     "metadata": {},
     "output_type": "execute_result"
    },
    {
     "data": {
      "image/png": "[encoded data removed]",
      "text/plain": [
       "<Figure size 432x288 with 1 Axes>"
      ]
     },
     "metadata": {
      "needs_background": "light"
     },
     "output_type": "display_data"
    }
   ],
   "source": [
    "plt.plot(true_lvls_SD['d'], true_AP1_SD_pred, '-')\n",
    "plt.plot(true_lvls_SD['d'], true_lvls_SD['AP1'], 'go')\n",
    "plt.xlabel('Days after sowing')\n",
    "plt.ylabel('AP1')\n",
    "plt.legend(['AP1 prediction', 'True AP1 level'])\n",
    "plt.title('AP1 expression level for SD conditions')"
   ]
  },
  {
   "cell_type": "markdown",
   "metadata": {},
   "source": [
    "# Gene interaction analysis"
   ]
  },
  {
   "cell_type": "markdown",
   "metadata": {},
   "source": [
    "**Mutants**"
   ]
  },
  {
   "cell_type": "code",
   "execution_count": 335,
   "metadata": {
    "scrolled": true
   },
   "outputs": [
    {
     "data": {
      "text/html": [
       "<div>\n",
       "<style scoped>\n",
       "    .dataframe tbody tr th:only-of-type {\n",
       "        vertical-align: middle;\n",
       "    }\n",
       "\n",
       "    .dataframe tbody tr th {\n",
       "        vertical-align: top;\n",
       "    }\n",
       "\n",
       "    .dataframe thead th {\n",
       "        text-align: right;\n",
       "    }\n",
       "</style>\n",
       "<table border=\"1\" class=\"dataframe\">\n",
       "  <thead>\n",
       "    <tr style=\"text-align: right;\">\n",
       "      <th></th>\n",
       "      <th>AP1</th>\n",
       "      <th>FD</th>\n",
       "      <th>FTa1</th>\n",
       "      <th>FTa2</th>\n",
       "      <th>FTa3</th>\n",
       "      <th>FTb</th>\n",
       "      <th>FTc</th>\n",
       "      <th>LFY</th>\n",
       "      <th>TFL1a</th>\n",
       "      <th>TFL1c</th>\n",
       "    </tr>\n",
       "  </thead>\n",
       "  <tbody>\n",
       "    <tr>\n",
       "      <th>0</th>\n",
       "      <td>2</td>\n",
       "      <td>31.53</td>\n",
       "      <td>2</td>\n",
       "      <td>8</td>\n",
       "      <td>0.900</td>\n",
       "      <td>3</td>\n",
       "      <td>0.0</td>\n",
       "      <td>6.4</td>\n",
       "      <td>22.021</td>\n",
       "      <td>25.556</td>\n",
       "    </tr>\n",
       "    <tr>\n",
       "      <th>1</th>\n",
       "      <td>0</td>\n",
       "      <td>47.62</td>\n",
       "      <td>0</td>\n",
       "      <td>11</td>\n",
       "      <td>0.500</td>\n",
       "      <td>7</td>\n",
       "      <td>0.0</td>\n",
       "      <td>12.1</td>\n",
       "      <td>20.489</td>\n",
       "      <td>25.263</td>\n",
       "    </tr>\n",
       "    <tr>\n",
       "      <th>2</th>\n",
       "      <td>6</td>\n",
       "      <td>45.41</td>\n",
       "      <td>1</td>\n",
       "      <td>29</td>\n",
       "      <td>0.800</td>\n",
       "      <td>6</td>\n",
       "      <td>0.0</td>\n",
       "      <td>21.4</td>\n",
       "      <td>27.397</td>\n",
       "      <td>32.982</td>\n",
       "    </tr>\n",
       "    <tr>\n",
       "      <th>3</th>\n",
       "      <td>5</td>\n",
       "      <td>40.89</td>\n",
       "      <td>5</td>\n",
       "      <td>60</td>\n",
       "      <td>10.200</td>\n",
       "      <td>28</td>\n",
       "      <td>0.0</td>\n",
       "      <td>56.8</td>\n",
       "      <td>33.074</td>\n",
       "      <td>39.708</td>\n",
       "    </tr>\n",
       "    <tr>\n",
       "      <th>4</th>\n",
       "      <td>23</td>\n",
       "      <td>79.47</td>\n",
       "      <td>9</td>\n",
       "      <td>50</td>\n",
       "      <td>1.300</td>\n",
       "      <td>12</td>\n",
       "      <td>0.0</td>\n",
       "      <td>77.1</td>\n",
       "      <td>42.561</td>\n",
       "      <td>32.222</td>\n",
       "    </tr>\n",
       "    <tr>\n",
       "      <th>5</th>\n",
       "      <td>33</td>\n",
       "      <td>71.69</td>\n",
       "      <td>40</td>\n",
       "      <td>86</td>\n",
       "      <td>2.500</td>\n",
       "      <td>58</td>\n",
       "      <td>0.0</td>\n",
       "      <td>48.9</td>\n",
       "      <td>54.798</td>\n",
       "      <td>67.895</td>\n",
       "    </tr>\n",
       "    <tr>\n",
       "      <th>6</th>\n",
       "      <td>1</td>\n",
       "      <td>25.86</td>\n",
       "      <td>10</td>\n",
       "      <td>18</td>\n",
       "      <td>3.400</td>\n",
       "      <td>7</td>\n",
       "      <td>0.0</td>\n",
       "      <td>16.0</td>\n",
       "      <td>8.314</td>\n",
       "      <td>11.930</td>\n",
       "    </tr>\n",
       "    <tr>\n",
       "      <th>7</th>\n",
       "      <td>92</td>\n",
       "      <td>43.31</td>\n",
       "      <td>10</td>\n",
       "      <td>68</td>\n",
       "      <td>4.700</td>\n",
       "      <td>127</td>\n",
       "      <td>0.0</td>\n",
       "      <td>45.1</td>\n",
       "      <td>18.325</td>\n",
       "      <td>25.731</td>\n",
       "    </tr>\n",
       "    <tr>\n",
       "      <th>8</th>\n",
       "      <td>19</td>\n",
       "      <td>45.20</td>\n",
       "      <td>10</td>\n",
       "      <td>37</td>\n",
       "      <td>2.100</td>\n",
       "      <td>61</td>\n",
       "      <td>0.0</td>\n",
       "      <td>27.7</td>\n",
       "      <td>15.851</td>\n",
       "      <td>18.713</td>\n",
       "    </tr>\n",
       "    <tr>\n",
       "      <th>9</th>\n",
       "      <td>355</td>\n",
       "      <td>81.78</td>\n",
       "      <td>6</td>\n",
       "      <td>52</td>\n",
       "      <td>14.800</td>\n",
       "      <td>102</td>\n",
       "      <td>14.0</td>\n",
       "      <td>50.9</td>\n",
       "      <td>22.232</td>\n",
       "      <td>29.766</td>\n",
       "    </tr>\n",
       "    <tr>\n",
       "      <th>10</th>\n",
       "      <td>117</td>\n",
       "      <td>36.26</td>\n",
       "      <td>1</td>\n",
       "      <td>16</td>\n",
       "      <td>3.000</td>\n",
       "      <td>13</td>\n",
       "      <td>0.0</td>\n",
       "      <td>63.7</td>\n",
       "      <td>11.323</td>\n",
       "      <td>15.029</td>\n",
       "    </tr>\n",
       "    <tr>\n",
       "      <th>11</th>\n",
       "      <td>649</td>\n",
       "      <td>63.59</td>\n",
       "      <td>29</td>\n",
       "      <td>62</td>\n",
       "      <td>90.400</td>\n",
       "      <td>140</td>\n",
       "      <td>0.0</td>\n",
       "      <td>124.2</td>\n",
       "      <td>24.033</td>\n",
       "      <td>31.462</td>\n",
       "    </tr>\n",
       "    <tr>\n",
       "      <th>12</th>\n",
       "      <td>691</td>\n",
       "      <td>81.78</td>\n",
       "      <td>6</td>\n",
       "      <td>34</td>\n",
       "      <td>6.800</td>\n",
       "      <td>25</td>\n",
       "      <td>0.0</td>\n",
       "      <td>126.1</td>\n",
       "      <td>15.465</td>\n",
       "      <td>19.240</td>\n",
       "    </tr>\n",
       "    <tr>\n",
       "      <th>13</th>\n",
       "      <td>1025</td>\n",
       "      <td>112.37</td>\n",
       "      <td>41</td>\n",
       "      <td>116</td>\n",
       "      <td>32.200</td>\n",
       "      <td>73</td>\n",
       "      <td>2.0</td>\n",
       "      <td>95.7</td>\n",
       "      <td>16.039</td>\n",
       "      <td>40.877</td>\n",
       "    </tr>\n",
       "    <tr>\n",
       "      <th>14</th>\n",
       "      <td>2</td>\n",
       "      <td>27.48</td>\n",
       "      <td>2</td>\n",
       "      <td>22</td>\n",
       "      <td>1.371</td>\n",
       "      <td>1</td>\n",
       "      <td>0.6</td>\n",
       "      <td>13.0</td>\n",
       "      <td>13.952</td>\n",
       "      <td>15.862</td>\n",
       "    </tr>\n",
       "    <tr>\n",
       "      <th>15</th>\n",
       "      <td>1</td>\n",
       "      <td>27.70</td>\n",
       "      <td>2</td>\n",
       "      <td>37</td>\n",
       "      <td>0.098</td>\n",
       "      <td>1</td>\n",
       "      <td>1.3</td>\n",
       "      <td>42.0</td>\n",
       "      <td>11.907</td>\n",
       "      <td>14.804</td>\n",
       "    </tr>\n",
       "    <tr>\n",
       "      <th>16</th>\n",
       "      <td>0</td>\n",
       "      <td>35.02</td>\n",
       "      <td>1</td>\n",
       "      <td>63</td>\n",
       "      <td>0.957</td>\n",
       "      <td>1</td>\n",
       "      <td>0.0</td>\n",
       "      <td>42.0</td>\n",
       "      <td>12.016</td>\n",
       "      <td>15.285</td>\n",
       "    </tr>\n",
       "    <tr>\n",
       "      <th>17</th>\n",
       "      <td>0</td>\n",
       "      <td>36.36</td>\n",
       "      <td>3</td>\n",
       "      <td>140</td>\n",
       "      <td>1.099</td>\n",
       "      <td>5</td>\n",
       "      <td>2.5</td>\n",
       "      <td>109.0</td>\n",
       "      <td>14.536</td>\n",
       "      <td>19.238</td>\n",
       "    </tr>\n",
       "    <tr>\n",
       "      <th>18</th>\n",
       "      <td>3</td>\n",
       "      <td>35.73</td>\n",
       "      <td>4</td>\n",
       "      <td>113</td>\n",
       "      <td>1.730</td>\n",
       "      <td>0</td>\n",
       "      <td>0.4</td>\n",
       "      <td>24.0</td>\n",
       "      <td>16.764</td>\n",
       "      <td>24.466</td>\n",
       "    </tr>\n",
       "    <tr>\n",
       "      <th>19</th>\n",
       "      <td>5</td>\n",
       "      <td>43.90</td>\n",
       "      <td>6</td>\n",
       "      <td>181</td>\n",
       "      <td>1.849</td>\n",
       "      <td>7</td>\n",
       "      <td>1.3</td>\n",
       "      <td>259.0</td>\n",
       "      <td>24.945</td>\n",
       "      <td>25.650</td>\n",
       "    </tr>\n",
       "    <tr>\n",
       "      <th>20</th>\n",
       "      <td>7</td>\n",
       "      <td>55.18</td>\n",
       "      <td>4</td>\n",
       "      <td>127</td>\n",
       "      <td>1.381</td>\n",
       "      <td>7</td>\n",
       "      <td>0.9</td>\n",
       "      <td>275.0</td>\n",
       "      <td>34.332</td>\n",
       "      <td>40.503</td>\n",
       "    </tr>\n",
       "    <tr>\n",
       "      <th>21</th>\n",
       "      <td>20</td>\n",
       "      <td>27.13</td>\n",
       "      <td>9</td>\n",
       "      <td>66</td>\n",
       "      <td>0.239</td>\n",
       "      <td>0</td>\n",
       "      <td>5.7</td>\n",
       "      <td>7.0</td>\n",
       "      <td>12.272</td>\n",
       "      <td>15.267</td>\n",
       "    </tr>\n",
       "    <tr>\n",
       "      <th>22</th>\n",
       "      <td>35</td>\n",
       "      <td>37.14</td>\n",
       "      <td>10</td>\n",
       "      <td>187</td>\n",
       "      <td>1.077</td>\n",
       "      <td>0</td>\n",
       "      <td>0.1</td>\n",
       "      <td>51.0</td>\n",
       "      <td>15.961</td>\n",
       "      <td>19.571</td>\n",
       "    </tr>\n",
       "    <tr>\n",
       "      <th>23</th>\n",
       "      <td>43</td>\n",
       "      <td>45.24</td>\n",
       "      <td>3</td>\n",
       "      <td>72</td>\n",
       "      <td>3.350</td>\n",
       "      <td>0</td>\n",
       "      <td>0.3</td>\n",
       "      <td>58.0</td>\n",
       "      <td>18.809</td>\n",
       "      <td>22.599</td>\n",
       "    </tr>\n",
       "    <tr>\n",
       "      <th>24</th>\n",
       "      <td>209</td>\n",
       "      <td>66.24</td>\n",
       "      <td>10</td>\n",
       "      <td>150</td>\n",
       "      <td>7.549</td>\n",
       "      <td>0</td>\n",
       "      <td>0.6</td>\n",
       "      <td>124.0</td>\n",
       "      <td>20.818</td>\n",
       "      <td>26.551</td>\n",
       "    </tr>\n",
       "  </tbody>\n",
       "</table>\n",
       "</div>"
      ],
      "text/plain": [
       "     AP1      FD  FTa1  FTa2    FTa3  FTb   FTc    LFY   TFL1a   TFL1c\n",
       "0      2   31.53     2     8   0.900    3   0.0    6.4  22.021  25.556\n",
       "1      0   47.62     0    11   0.500    7   0.0   12.1  20.489  25.263\n",
       "2      6   45.41     1    29   0.800    6   0.0   21.4  27.397  32.982\n",
       "3      5   40.89     5    60  10.200   28   0.0   56.8  33.074  39.708\n",
       "4     23   79.47     9    50   1.300   12   0.0   77.1  42.561  32.222\n",
       "5     33   71.69    40    86   2.500   58   0.0   48.9  54.798  67.895\n",
       "6      1   25.86    10    18   3.400    7   0.0   16.0   8.314  11.930\n",
       "7     92   43.31    10    68   4.700  127   0.0   45.1  18.325  25.731\n",
       "8     19   45.20    10    37   2.100   61   0.0   27.7  15.851  18.713\n",
       "9    355   81.78     6    52  14.800  102  14.0   50.9  22.232  29.766\n",
       "10   117   36.26     1    16   3.000   13   0.0   63.7  11.323  15.029\n",
       "11   649   63.59    29    62  90.400  140   0.0  124.2  24.033  31.462\n",
       "12   691   81.78     6    34   6.800   25   0.0  126.1  15.465  19.240\n",
       "13  1025  112.37    41   116  32.200   73   2.0   95.7  16.039  40.877\n",
       "14     2   27.48     2    22   1.371    1   0.6   13.0  13.952  15.862\n",
       "15     1   27.70     2    37   0.098    1   1.3   42.0  11.907  14.804\n",
       "16     0   35.02     1    63   0.957    1   0.0   42.0  12.016  15.285\n",
       "17     0   36.36     3   140   1.099    5   2.5  109.0  14.536  19.238\n",
       "18     3   35.73     4   113   1.730    0   0.4   24.0  16.764  24.466\n",
       "19     5   43.90     6   181   1.849    7   1.3  259.0  24.945  25.650\n",
       "20     7   55.18     4   127   1.381    7   0.9  275.0  34.332  40.503\n",
       "21    20   27.13     9    66   0.239    0   5.7    7.0  12.272  15.267\n",
       "22    35   37.14    10   187   1.077    0   0.1   51.0  15.961  19.571\n",
       "23    43   45.24     3    72   3.350    0   0.3   58.0  18.809  22.599\n",
       "24   209   66.24    10   150   7.549    0   0.6  124.0  20.818  26.551"
      ]
     },
     "execution_count": 335,
     "metadata": {},
     "output_type": "execute_result"
    }
   ],
   "source": [
    "true_lvls"
   ]
  },
  {
   "cell_type": "code",
   "execution_count": 273,
   "metadata": {},
   "outputs": [
    {
     "data": {
      "text/plain": [
       "(25, 10)"
      ]
     },
     "execution_count": 273,
     "metadata": {},
     "output_type": "execute_result"
    }
   ],
   "source": [
    "true_lvls.shape"
   ]
  },
  {
   "cell_type": "code",
   "execution_count": 366,
   "metadata": {},
   "outputs": [],
   "source": [
    "true_medians = true_lvls.describe().loc['50%']"
   ]
  },
  {
   "cell_type": "code",
   "execution_count": 453,
   "metadata": {},
   "outputs": [],
   "source": [
    "mutants = pd.DataFrame(true_lvls, copy=True)\n",
    "mutants = mutants.drop('AP1', axis=1)"
   ]
  },
  {
   "cell_type": "code",
   "execution_count": 367,
   "metadata": {},
   "outputs": [
    {
     "data": {
      "text/plain": [
       "AP1      19.000\n",
       "FD       43.900\n",
       "FTa1      6.000\n",
       "FTa2     62.000\n",
       "FTa3      1.849\n",
       "FTb       7.000\n",
       "FTc       0.000\n",
       "LFY      50.900\n",
       "TFL1a    18.325\n",
       "TFL1c    25.263\n",
       "Name: 50%, dtype: float64"
      ]
     },
     "execution_count": 367,
     "metadata": {},
     "output_type": "execute_result"
    }
   ],
   "source": [
    "true_medians"
   ]
  },
  {
   "cell_type": "code",
   "execution_count": 456,
   "metadata": {},
   "outputs": [],
   "source": [
    "mutants_out = pd.DataFrame(mutants, copy=True)\n",
    "\n",
    "for k in mutants_out.keys():\n",
    "    mutants_out[k] = 0"
   ]
  },
  {
   "cell_type": "code",
   "execution_count": 458,
   "metadata": {},
   "outputs": [
    {
     "name": "stderr",
     "output_type": "stream",
     "text": [
      "C:\\Users\\Boris\\Anaconda3\\lib\\site-packages\\ipykernel_launcher.py:3: DataConversionWarning: Data with input dtype int64, float64 were all converted to float64 by StandardScaler.\n",
      "  This is separate from the ipykernel package so we can avoid doing imports until\n",
      "C:\\Users\\Boris\\Anaconda3\\lib\\site-packages\\ipykernel_launcher.py:3: DataConversionWarning: Data with input dtype int64, float64 were all converted to float64 by StandardScaler.\n",
      "  This is separate from the ipykernel package so we can avoid doing imports until\n",
      "C:\\Users\\Boris\\Anaconda3\\lib\\site-packages\\ipykernel_launcher.py:3: DataConversionWarning: Data with input dtype int64, float64 were all converted to float64 by StandardScaler.\n",
      "  This is separate from the ipykernel package so we can avoid doing imports until\n",
      "C:\\Users\\Boris\\Anaconda3\\lib\\site-packages\\ipykernel_launcher.py:3: DataConversionWarning: Data with input dtype int64, float64 were all converted to float64 by StandardScaler.\n",
      "  This is separate from the ipykernel package so we can avoid doing imports until\n",
      "C:\\Users\\Boris\\Anaconda3\\lib\\site-packages\\ipykernel_launcher.py:3: DataConversionWarning: Data with input dtype int64, float64 were all converted to float64 by StandardScaler.\n",
      "  This is separate from the ipykernel package so we can avoid doing imports until\n",
      "C:\\Users\\Boris\\Anaconda3\\lib\\site-packages\\ipykernel_launcher.py:3: DataConversionWarning: Data with input dtype int64, float64 were all converted to float64 by StandardScaler.\n",
      "  This is separate from the ipykernel package so we can avoid doing imports until\n",
      "C:\\Users\\Boris\\Anaconda3\\lib\\site-packages\\ipykernel_launcher.py:3: DataConversionWarning: Data with input dtype int64, float64 were all converted to float64 by StandardScaler.\n",
      "  This is separate from the ipykernel package so we can avoid doing imports until\n",
      "C:\\Users\\Boris\\Anaconda3\\lib\\site-packages\\ipykernel_launcher.py:3: DataConversionWarning: Data with input dtype int64, float64 were all converted to float64 by StandardScaler.\n",
      "  This is separate from the ipykernel package so we can avoid doing imports until\n",
      "C:\\Users\\Boris\\Anaconda3\\lib\\site-packages\\ipykernel_launcher.py:3: DataConversionWarning: Data with input dtype int64, float64 were all converted to float64 by StandardScaler.\n",
      "  This is separate from the ipykernel package so we can avoid doing imports until\n"
     ]
    }
   ],
   "source": [
    "for k in mutants.keys():\n",
    "    mutants[k] = 0\n",
    "    mutants_out[k] = model.predict(st_scaler.transform(mutants))\n",
    "    mutants[k] = true_lvls[k]"
   ]
  },
  {
   "cell_type": "code",
   "execution_count": 459,
   "metadata": {
    "scrolled": true
   },
   "outputs": [
    {
     "data": {
      "text/html": [
       "<div>\n",
       "<style scoped>\n",
       "    .dataframe tbody tr th:only-of-type {\n",
       "        vertical-align: middle;\n",
       "    }\n",
       "\n",
       "    .dataframe tbody tr th {\n",
       "        vertical-align: top;\n",
       "    }\n",
       "\n",
       "    .dataframe thead th {\n",
       "        text-align: right;\n",
       "    }\n",
       "</style>\n",
       "<table border=\"1\" class=\"dataframe\">\n",
       "  <thead>\n",
       "    <tr style=\"text-align: right;\">\n",
       "      <th></th>\n",
       "      <th>FD</th>\n",
       "      <th>FTa1</th>\n",
       "      <th>FTa2</th>\n",
       "      <th>FTa3</th>\n",
       "      <th>FTb</th>\n",
       "      <th>FTc</th>\n",
       "      <th>LFY</th>\n",
       "      <th>TFL1a</th>\n",
       "      <th>TFL1c</th>\n",
       "    </tr>\n",
       "  </thead>\n",
       "  <tbody>\n",
       "    <tr>\n",
       "      <th>0</th>\n",
       "      <td>27.538446</td>\n",
       "      <td>27.538533</td>\n",
       "      <td>27.538534</td>\n",
       "      <td>27.538490</td>\n",
       "      <td>27.538611</td>\n",
       "      <td>27.538527</td>\n",
       "      <td>27.538529</td>\n",
       "      <td>27.568166</td>\n",
       "      <td>27.538526</td>\n",
       "    </tr>\n",
       "    <tr>\n",
       "      <th>1</th>\n",
       "      <td>27.538447</td>\n",
       "      <td>27.540702</td>\n",
       "      <td>27.544172</td>\n",
       "      <td>27.540104</td>\n",
       "      <td>27.563020</td>\n",
       "      <td>27.540702</td>\n",
       "      <td>27.543920</td>\n",
       "      <td>30.906509</td>\n",
       "      <td>27.612313</td>\n",
       "    </tr>\n",
       "    <tr>\n",
       "      <th>2</th>\n",
       "      <td>27.538441</td>\n",
       "      <td>27.538444</td>\n",
       "      <td>27.538453</td>\n",
       "      <td>27.538444</td>\n",
       "      <td>27.538450</td>\n",
       "      <td>27.538444</td>\n",
       "      <td>27.538448</td>\n",
       "      <td>27.589562</td>\n",
       "      <td>27.540314</td>\n",
       "    </tr>\n",
       "    <tr>\n",
       "      <th>3</th>\n",
       "      <td>27.538467</td>\n",
       "      <td>27.539442</td>\n",
       "      <td>27.538463</td>\n",
       "      <td>27.617880</td>\n",
       "      <td>27.687118</td>\n",
       "      <td>27.580245</td>\n",
       "      <td>27.538441</td>\n",
       "      <td>27.567225</td>\n",
       "      <td>27.539347</td>\n",
       "    </tr>\n",
       "    <tr>\n",
       "      <th>4</th>\n",
       "      <td>27.763900</td>\n",
       "      <td>30.664599</td>\n",
       "      <td>28.284885</td>\n",
       "      <td>33.874526</td>\n",
       "      <td>35.866271</td>\n",
       "      <td>35.173997</td>\n",
       "      <td>27.555994</td>\n",
       "      <td>27.923836</td>\n",
       "      <td>49.043964</td>\n",
       "    </tr>\n",
       "    <tr>\n",
       "      <th>5</th>\n",
       "      <td>79.082988</td>\n",
       "      <td>29.202429</td>\n",
       "      <td>30.800660</td>\n",
       "      <td>30.129109</td>\n",
       "      <td>30.773952</td>\n",
       "      <td>30.027268</td>\n",
       "      <td>30.650254</td>\n",
       "      <td>738.671350</td>\n",
       "      <td>92.247449</td>\n",
       "    </tr>\n",
       "    <tr>\n",
       "      <th>6</th>\n",
       "      <td>27.570137</td>\n",
       "      <td>27.566517</td>\n",
       "      <td>27.614776</td>\n",
       "      <td>27.571742</td>\n",
       "      <td>27.568966</td>\n",
       "      <td>27.572983</td>\n",
       "      <td>27.572573</td>\n",
       "      <td>27.907565</td>\n",
       "      <td>27.636654</td>\n",
       "    </tr>\n",
       "    <tr>\n",
       "      <th>7</th>\n",
       "      <td>122.594328</td>\n",
       "      <td>115.285676</td>\n",
       "      <td>123.095759</td>\n",
       "      <td>122.140229</td>\n",
       "      <td>27.563001</td>\n",
       "      <td>121.058884</td>\n",
       "      <td>122.194013</td>\n",
       "      <td>28.421636</td>\n",
       "      <td>136.577984</td>\n",
       "    </tr>\n",
       "    <tr>\n",
       "      <th>8</th>\n",
       "      <td>27.546139</td>\n",
       "      <td>27.538735</td>\n",
       "      <td>28.340202</td>\n",
       "      <td>27.560580</td>\n",
       "      <td>28.581994</td>\n",
       "      <td>27.564811</td>\n",
       "      <td>27.565047</td>\n",
       "      <td>239.071292</td>\n",
       "      <td>34.197684</td>\n",
       "    </tr>\n",
       "    <tr>\n",
       "      <th>9</th>\n",
       "      <td>149.362136</td>\n",
       "      <td>652.788064</td>\n",
       "      <td>660.954247</td>\n",
       "      <td>727.236859</td>\n",
       "      <td>103.405596</td>\n",
       "      <td>31.556751</td>\n",
       "      <td>476.808672</td>\n",
       "      <td>391.793074</td>\n",
       "      <td>519.601847</td>\n",
       "    </tr>\n",
       "    <tr>\n",
       "      <th>10</th>\n",
       "      <td>27.551598</td>\n",
       "      <td>27.565603</td>\n",
       "      <td>27.567216</td>\n",
       "      <td>27.561239</td>\n",
       "      <td>27.566664</td>\n",
       "      <td>27.565700</td>\n",
       "      <td>27.570406</td>\n",
       "      <td>27.599143</td>\n",
       "      <td>27.607432</td>\n",
       "    </tr>\n",
       "    <tr>\n",
       "      <th>11</th>\n",
       "      <td>733.719148</td>\n",
       "      <td>505.032937</td>\n",
       "      <td>745.046659</td>\n",
       "      <td>683.578120</td>\n",
       "      <td>34.670181</td>\n",
       "      <td>745.027859</td>\n",
       "      <td>642.107375</td>\n",
       "      <td>744.989833</td>\n",
       "      <td>745.018878</td>\n",
       "    </tr>\n",
       "    <tr>\n",
       "      <th>12</th>\n",
       "      <td>27.538660</td>\n",
       "      <td>368.468042</td>\n",
       "      <td>394.742202</td>\n",
       "      <td>313.012615</td>\n",
       "      <td>370.281478</td>\n",
       "      <td>364.641603</td>\n",
       "      <td>110.057249</td>\n",
       "      <td>186.005977</td>\n",
       "      <td>357.539618</td>\n",
       "    </tr>\n",
       "    <tr>\n",
       "      <th>13</th>\n",
       "      <td>391.697164</td>\n",
       "      <td>290.518371</td>\n",
       "      <td>745.575425</td>\n",
       "      <td>739.636442</td>\n",
       "      <td>398.412679</td>\n",
       "      <td>745.405070</td>\n",
       "      <td>745.567378</td>\n",
       "      <td>745.575044</td>\n",
       "      <td>745.564624</td>\n",
       "    </tr>\n",
       "    <tr>\n",
       "      <th>14</th>\n",
       "      <td>27.543505</td>\n",
       "      <td>27.560738</td>\n",
       "      <td>27.561439</td>\n",
       "      <td>27.555566</td>\n",
       "      <td>27.561351</td>\n",
       "      <td>27.563067</td>\n",
       "      <td>27.560734</td>\n",
       "      <td>27.568222</td>\n",
       "      <td>27.559790</td>\n",
       "    </tr>\n",
       "    <tr>\n",
       "      <th>15</th>\n",
       "      <td>27.542275</td>\n",
       "      <td>27.559669</td>\n",
       "      <td>27.561444</td>\n",
       "      <td>27.558990</td>\n",
       "      <td>27.560367</td>\n",
       "      <td>27.564411</td>\n",
       "      <td>27.560317</td>\n",
       "      <td>27.568389</td>\n",
       "      <td>27.565391</td>\n",
       "    </tr>\n",
       "    <tr>\n",
       "      <th>16</th>\n",
       "      <td>27.554639</td>\n",
       "      <td>27.567506</td>\n",
       "      <td>27.567188</td>\n",
       "      <td>27.566728</td>\n",
       "      <td>27.567856</td>\n",
       "      <td>27.567665</td>\n",
       "      <td>27.565950</td>\n",
       "      <td>27.650145</td>\n",
       "      <td>28.451233</td>\n",
       "    </tr>\n",
       "    <tr>\n",
       "      <th>17</th>\n",
       "      <td>27.542990</td>\n",
       "      <td>30.428865</td>\n",
       "      <td>27.541081</td>\n",
       "      <td>29.944648</td>\n",
       "      <td>50.249086</td>\n",
       "      <td>151.710394</td>\n",
       "      <td>27.557230</td>\n",
       "      <td>29.308402</td>\n",
       "      <td>27.547058</td>\n",
       "    </tr>\n",
       "    <tr>\n",
       "      <th>18</th>\n",
       "      <td>27.538671</td>\n",
       "      <td>27.553756</td>\n",
       "      <td>27.557476</td>\n",
       "      <td>27.543405</td>\n",
       "      <td>27.553829</td>\n",
       "      <td>27.556319</td>\n",
       "      <td>27.550113</td>\n",
       "      <td>28.452799</td>\n",
       "      <td>27.813537</td>\n",
       "    </tr>\n",
       "    <tr>\n",
       "      <th>19</th>\n",
       "      <td>28.520073</td>\n",
       "      <td>28.523879</td>\n",
       "      <td>28.547015</td>\n",
       "      <td>28.521156</td>\n",
       "      <td>28.532417</td>\n",
       "      <td>28.533115</td>\n",
       "      <td>27.539857</td>\n",
       "      <td>176.423509</td>\n",
       "      <td>28.522300</td>\n",
       "    </tr>\n",
       "    <tr>\n",
       "      <th>20</th>\n",
       "      <td>27.861984</td>\n",
       "      <td>28.540605</td>\n",
       "      <td>29.149437</td>\n",
       "      <td>28.625207</td>\n",
       "      <td>28.583760</td>\n",
       "      <td>28.573320</td>\n",
       "      <td>27.538466</td>\n",
       "      <td>83.799752</td>\n",
       "      <td>28.520006</td>\n",
       "    </tr>\n",
       "    <tr>\n",
       "      <th>21</th>\n",
       "      <td>27.538452</td>\n",
       "      <td>27.538601</td>\n",
       "      <td>27.575574</td>\n",
       "      <td>27.538600</td>\n",
       "      <td>27.538621</td>\n",
       "      <td>27.563632</td>\n",
       "      <td>27.538573</td>\n",
       "      <td>32.208101</td>\n",
       "      <td>27.541850</td>\n",
       "    </tr>\n",
       "    <tr>\n",
       "      <th>22</th>\n",
       "      <td>27.539342</td>\n",
       "      <td>27.989284</td>\n",
       "      <td>27.568234</td>\n",
       "      <td>35.386064</td>\n",
       "      <td>43.113118</td>\n",
       "      <td>48.205590</td>\n",
       "      <td>27.878940</td>\n",
       "      <td>28.738633</td>\n",
       "      <td>27.739698</td>\n",
       "    </tr>\n",
       "    <tr>\n",
       "      <th>23</th>\n",
       "      <td>27.538601</td>\n",
       "      <td>27.579682</td>\n",
       "      <td>27.569523</td>\n",
       "      <td>27.542913</td>\n",
       "      <td>27.586422</td>\n",
       "      <td>27.579926</td>\n",
       "      <td>27.558116</td>\n",
       "      <td>28.737774</td>\n",
       "      <td>28.162521</td>\n",
       "    </tr>\n",
       "    <tr>\n",
       "      <th>24</th>\n",
       "      <td>27.748236</td>\n",
       "      <td>181.358820</td>\n",
       "      <td>366.550678</td>\n",
       "      <td>35.194256</td>\n",
       "      <td>175.406272</td>\n",
       "      <td>179.133015</td>\n",
       "      <td>94.952784</td>\n",
       "      <td>33.783768</td>\n",
       "      <td>317.456007</td>\n",
       "    </tr>\n",
       "  </tbody>\n",
       "</table>\n",
       "</div>"
      ],
      "text/plain": [
       "            FD        FTa1        FTa2        FTa3         FTb         FTc  \\\n",
       "0    27.538446   27.538533   27.538534   27.538490   27.538611   27.538527   \n",
       "1    27.538447   27.540702   27.544172   27.540104   27.563020   27.540702   \n",
       "2    27.538441   27.538444   27.538453   27.538444   27.538450   27.538444   \n",
       "3    27.538467   27.539442   27.538463   27.617880   27.687118   27.580245   \n",
       "4    27.763900   30.664599   28.284885   33.874526   35.866271   35.173997   \n",
       "5    79.082988   29.202429   30.800660   30.129109   30.773952   30.027268   \n",
       "6    27.570137   27.566517   27.614776   27.571742   27.568966   27.572983   \n",
       "7   122.594328  115.285676  123.095759  122.140229   27.563001  121.058884   \n",
       "8    27.546139   27.538735   28.340202   27.560580   28.581994   27.564811   \n",
       "9   149.362136  652.788064  660.954247  727.236859  103.405596   31.556751   \n",
       "10   27.551598   27.565603   27.567216   27.561239   27.566664   27.565700   \n",
       "11  733.719148  505.032937  745.046659  683.578120   34.670181  745.027859   \n",
       "12   27.538660  368.468042  394.742202  313.012615  370.281478  364.641603   \n",
       "13  391.697164  290.518371  745.575425  739.636442  398.412679  745.405070   \n",
       "14   27.543505   27.560738   27.561439   27.555566   27.561351   27.563067   \n",
       "15   27.542275   27.559669   27.561444   27.558990   27.560367   27.564411   \n",
       "16   27.554639   27.567506   27.567188   27.566728   27.567856   27.567665   \n",
       "17   27.542990   30.428865   27.541081   29.944648   50.249086  151.710394   \n",
       "18   27.538671   27.553756   27.557476   27.543405   27.553829   27.556319   \n",
       "19   28.520073   28.523879   28.547015   28.521156   28.532417   28.533115   \n",
       "20   27.861984   28.540605   29.149437   28.625207   28.583760   28.573320   \n",
       "21   27.538452   27.538601   27.575574   27.538600   27.538621   27.563632   \n",
       "22   27.539342   27.989284   27.568234   35.386064   43.113118   48.205590   \n",
       "23   27.538601   27.579682   27.569523   27.542913   27.586422   27.579926   \n",
       "24   27.748236  181.358820  366.550678   35.194256  175.406272  179.133015   \n",
       "\n",
       "           LFY       TFL1a       TFL1c  \n",
       "0    27.538529   27.568166   27.538526  \n",
       "1    27.543920   30.906509   27.612313  \n",
       "2    27.538448   27.589562   27.540314  \n",
       "3    27.538441   27.567225   27.539347  \n",
       "4    27.555994   27.923836   49.043964  \n",
       "5    30.650254  738.671350   92.247449  \n",
       "6    27.572573   27.907565   27.636654  \n",
       "7   122.194013   28.421636  136.577984  \n",
       "8    27.565047  239.071292   34.197684  \n",
       "9   476.808672  391.793074  519.601847  \n",
       "10   27.570406   27.599143   27.607432  \n",
       "11  642.107375  744.989833  745.018878  \n",
       "12  110.057249  186.005977  357.539618  \n",
       "13  745.567378  745.575044  745.564624  \n",
       "14   27.560734   27.568222   27.559790  \n",
       "15   27.560317   27.568389   27.565391  \n",
       "16   27.565950   27.650145   28.451233  \n",
       "17   27.557230   29.308402   27.547058  \n",
       "18   27.550113   28.452799   27.813537  \n",
       "19   27.539857  176.423509   28.522300  \n",
       "20   27.538466   83.799752   28.520006  \n",
       "21   27.538573   32.208101   27.541850  \n",
       "22   27.878940   28.738633   27.739698  \n",
       "23   27.558116   28.737774   28.162521  \n",
       "24   94.952784   33.783768  317.456007  "
      ]
     },
     "execution_count": 459,
     "metadata": {},
     "output_type": "execute_result"
    }
   ],
   "source": [
    "mutants_out"
   ]
  },
  {
   "cell_type": "code",
   "execution_count": 467,
   "metadata": {},
   "outputs": [],
   "source": [
    "mutants_out_LD = mutants_out.iloc[:14, :]\n",
    "mutants_out_SD = mutants_out.iloc[14:, :]"
   ]
  },
  {
   "cell_type": "code",
   "execution_count": 471,
   "metadata": {},
   "outputs": [
    {
     "data": {
      "image/png": "[encoded data removed]",
      "text/plain": [
       "<Figure size 1440x1224 with 9 Axes>"
      ]
     },
     "metadata": {
      "needs_background": "light"
     },
     "output_type": "display_data"
    }
   ],
   "source": [
    "plt.figure(figsize=(20, 17))\n",
    "plt.title('LD conditions')\n",
    "for i in range(9):\n",
    "    gene = X_test_standartized.keys()[i]\n",
    "    plt.subplot(3, 3, i+1)\n",
    "    plt.plot(true_lvls_LD['d'], mutants_out_LD[gene])\n",
    "    plt.plot(true_lvls_LD['d'], true_lvls_LD['AP1'], 'go')\n",
    "    plt.xlabel(gene + ' knockout')\n",
    "    plt.ylabel('AP1')\n",
    "    \n",
    "    if i == 0:\n",
    "        plt.legend(['Predictions for mutants', 'True AP1 level'])\n",
    "\n",
    "plt.show()"
   ]
  },
  {
   "cell_type": "code",
   "execution_count": 472,
   "metadata": {
    "collapsed": true
   },
   "outputs": [
    {
     "data": {
      "image/png": "[encoded data removed]",
      "text/plain": [
       "<Figure size 1440x1224 with 9 Axes>"
      ]
     },
     "metadata": {
      "needs_background": "light"
     },
     "output_type": "display_data"
    }
   ],
   "source": [
    "plt.figure(figsize=(20, 17))\n",
    "plt.title('LD conditions')\n",
    "for i in range(9):\n",
    "    gene = X_test_standartized.keys()[i]\n",
    "    plt.subplot(3, 3, i+1)\n",
    "    plt.plot(true_lvls_SD['d'], mutants_out_SD[gene])\n",
    "    plt.plot(true_lvls_SD['d'], true_lvls_SD['AP1'], 'go')\n",
    "    plt.xlabel(gene + ' knockout')\n",
    "    plt.ylabel('AP1')\n",
    "    \n",
    "    if i == 0:\n",
    "        plt.legend(['Predictions for mutants', 'True AP1 level'])\n",
    "\n",
    "plt.show()"
   ]
  },
  {
   "cell_type": "code",
   "execution_count": 476,
   "metadata": {},
   "outputs": [],
   "source": [
    "integrate_level_AP1_LD = np.trapz(true_lvls_LD['AP1'])\n",
    "integrate_level_AP1_SD = np.trapz(true_lvls_SD['AP1'])\n",
    "\n",
    "integrate_levels_mutant_LD = {}\n",
    "integrate_levels_mutant_SD = {}\n",
    "\n",
    "for k in mutants_out_SD.keys():\n",
    "    integrate_levels_mutant_SD[k] = np.trapz(mutants_out_SD[k]).round(2)\n",
    "    integrate_levels_mutant_LD[k] = np.trapz(mutants_out_LD[k]).round(2)"
   ]
  },
  {
   "cell_type": "code",
   "execution_count": 481,
   "metadata": {},
   "outputs": [
    {
     "name": "stdout",
     "output_type": "stream",
     "text": [
      "FTc:\t 498.2\n",
      "TFL1a:\t 493.56\n",
      "FTa2:\t 447.69\n",
      "TFL1c:\t 424.37\n",
      "FTb:\t 389.77\n",
      "FTa1:\t 357.74\n",
      "LFY:\t 309.54\n",
      "FTa3:\t 291.6\n",
      "FD:\t 276.82\n",
      "True level 219.5\n"
     ]
    }
   ],
   "source": [
    "for key, value in sorted(integrate_levels_mutant_SD.items(), key=lambda item: item[1], reverse = True):\n",
    "    print(\"%s:\\t %s\" % (key, value.round(3)))\n",
    "\n",
    "print('True level', integrate_level_AP1_SD)"
   ]
  },
  {
   "cell_type": "code",
   "execution_count": 482,
   "metadata": {},
   "outputs": [
    {
     "name": "stdout",
     "output_type": "stream",
     "text": [
      "TFL1a:\t 2885.02\n",
      "FTa2:\t 2535.62\n",
      "FTa3:\t 2458.95\n",
      "TFL1c:\t 2458.72\n",
      "FTa1:\t 2025.76\n",
      "LFY:\t 1961.26\n",
      "FTc:\t 1879.32\n",
      "FD:\t 1514.96\n",
      "FTb:\t 982.04\n",
      "True level 2504.5\n"
     ]
    }
   ],
   "source": [
    "for key, value in sorted(integrate_levels_mutant_LD.items(), key=lambda item: item[1], reverse = True):\n",
    "    print(\"%s:\\t %s\" % (key, value.round(3)))\n",
    "    \n",
    "print('True level', integrate_level_AP1_LD)"
   ]
  },
  {
   "cell_type": "code",
   "execution_count": null,
   "metadata": {},
   "outputs": [],
   "source": []
  }
 ],
 "metadata": {
  "celltoolbar": "Raw Cell Format",
  "kernelspec": {
   "display_name": "Python (base)",
   "language": "python",
   "name": "base"
  },
  "language_info": {
   "codemirror_mode": {
    "name": "ipython",
    "version": 3
   },
   "file_extension": ".py",
   "mimetype": "text/x-python",
   "name": "python",
   "nbconvert_exporter": "python",
   "pygments_lexer": "ipython3",
   "version": "3.7.1"
  },
  "toc": {
   "base_numbering": 1,
   "nav_menu": {},
   "number_sections": true,
   "sideBar": true,
   "skip_h1_title": false,
   "title_cell": "Table of Contents",
   "title_sidebar": "Contents",
   "toc_cell": false,
   "toc_position": {
    "height": "calc(100% - 180px)",
    "left": "10px",
    "top": "150px",
    "width": "220px"
   },
   "toc_section_display": true,
   "toc_window_display": true
  }
 },
 "nbformat": 4,
 "nbformat_minor": 2
}
