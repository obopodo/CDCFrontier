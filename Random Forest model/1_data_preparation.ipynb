{
 "cells": [
  {
   "cell_type": "markdown",
   "metadata": {},
   "source": [
    "# Imports"
   ]
  },
  {
   "cell_type": "code",
   "execution_count": 1,
   "metadata": {},
   "outputs": [],
   "source": [
    "import pandas as pd\n",
    "import numpy as np\n",
    "import os\n",
    "\n",
    "import seaborn as sns\n",
    "import matplotlib as mpl\n",
    "import matplotlib.pyplot as plt\n",
    "\n",
    "from numpy.random import normal, uniform, shuffle\n",
    "import random\n",
    "\n",
    "from sklearn.preprocessing import StandardScaler\n",
    "from sklearn.model_selection import train_test_split, TimeSeriesSplit\n",
    "from sklearn.ensemble import RandomForestRegressor\n",
    "\n",
    "import dill\n",
    "import datetime"
   ]
  },
  {
   "cell_type": "code",
   "execution_count": 2,
   "metadata": {},
   "outputs": [],
   "source": [
    "%matplotlib inline"
   ]
  },
  {
   "cell_type": "code",
   "execution_count": 17,
   "metadata": {},
   "outputs": [],
   "source": [
    "# SEED = 73 # random seed"
   ]
  },
  {
   "cell_type": "code",
   "execution_count": 3,
   "metadata": {
    "scrolled": false
   },
   "outputs": [
    {
     "ename": "FileNotFoundError",
     "evalue": "[Errno 2] No such file or directory: 'cache/data_preparation.db'",
     "output_type": "error",
     "traceback": [
      "\u001b[1;31m---------------------------------------------------------------------------\u001b[0m",
      "\u001b[1;31mFileNotFoundError\u001b[0m                         Traceback (most recent call last)",
      "\u001b[1;32m<ipython-input-3-5146446b57ec>\u001b[0m in \u001b[0;36m<module>\u001b[1;34m\u001b[0m\n\u001b[1;32m----> 1\u001b[1;33m \u001b[0mdill\u001b[0m\u001b[1;33m.\u001b[0m\u001b[0mload_session\u001b[0m\u001b[1;33m(\u001b[0m\u001b[1;34m'cache/data_preparation.db'\u001b[0m\u001b[1;33m)\u001b[0m\u001b[1;33m\u001b[0m\u001b[1;33m\u001b[0m\u001b[0m\n\u001b[0m",
      "\u001b[1;32m~\\Anaconda3\\lib\\site-packages\\dill\\_dill.py\u001b[0m in \u001b[0;36mload_session\u001b[1;34m(filename, main)\u001b[0m\n\u001b[0;32m    403\u001b[0m         \u001b[0mf\u001b[0m \u001b[1;33m=\u001b[0m \u001b[0mfilename\u001b[0m\u001b[1;33m\u001b[0m\u001b[1;33m\u001b[0m\u001b[0m\n\u001b[0;32m    404\u001b[0m     \u001b[1;32melse\u001b[0m\u001b[1;33m:\u001b[0m\u001b[1;33m\u001b[0m\u001b[1;33m\u001b[0m\u001b[0m\n\u001b[1;32m--> 405\u001b[1;33m         \u001b[0mf\u001b[0m \u001b[1;33m=\u001b[0m \u001b[0mopen\u001b[0m\u001b[1;33m(\u001b[0m\u001b[0mfilename\u001b[0m\u001b[1;33m,\u001b[0m \u001b[1;34m'rb'\u001b[0m\u001b[1;33m)\u001b[0m\u001b[1;33m\u001b[0m\u001b[1;33m\u001b[0m\u001b[0m\n\u001b[0m\u001b[0;32m    406\u001b[0m     \u001b[1;32mtry\u001b[0m\u001b[1;33m:\u001b[0m\u001b[1;33m\u001b[0m\u001b[1;33m\u001b[0m\u001b[0m\n\u001b[0;32m    407\u001b[0m         \u001b[0munpickler\u001b[0m \u001b[1;33m=\u001b[0m \u001b[0mUnpickler\u001b[0m\u001b[1;33m(\u001b[0m\u001b[0mf\u001b[0m\u001b[1;33m)\u001b[0m\u001b[1;33m\u001b[0m\u001b[1;33m\u001b[0m\u001b[0m\n",
      "\u001b[1;31mFileNotFoundError\u001b[0m: [Errno 2] No such file or directory: 'cache/data_preparation.db'"
     ]
    }
   ],
   "source": [
    "# dill.load_session('cache/data_preparation.db')"
   ]
  },
  {
   "cell_type": "code",
   "execution_count": 19,
   "metadata": {},
   "outputs": [],
   "source": [
    "# dill.dump_session('cached/1_Data_preparation.db')"
   ]
  },
  {
   "cell_type": "code",
   "execution_count": 3,
   "metadata": {},
   "outputs": [],
   "source": [
    "data_path = 'data/not_cutted/'"
   ]
  },
  {
   "cell_type": "code",
   "execution_count": 4,
   "metadata": {},
   "outputs": [],
   "source": [
    "if not os.path.exists(data_path):\n",
    "        os.makedirs(data_path)"
   ]
  },
  {
   "cell_type": "markdown",
   "metadata": {},
   "source": [
    "# Data reading"
   ]
  },
  {
   "cell_type": "markdown",
   "metadata": {},
   "source": [
    "## Reading"
   ]
  },
  {
   "cell_type": "code",
   "execution_count": 5,
   "metadata": {},
   "outputs": [],
   "source": [
    "csvs = [x for x in os.listdir('data/') if x.endswith('.csv')] # читаем имена файлов .csv"
   ]
  },
  {
   "cell_type": "code",
   "execution_count": 6,
   "metadata": {},
   "outputs": [],
   "source": [
    "needed_csvs = []\n",
    "\n",
    "for s in csvs:\n",
    "    if 'CDC' in s:\n",
    "        needed_csvs.append(s)"
   ]
  },
  {
   "cell_type": "code",
   "execution_count": 7,
   "metadata": {},
   "outputs": [],
   "source": [
    "nms = [x.split('.')[0] for x in needed_csvs] # список имён будущих датафреймов сделаем без расширений"
   ]
  },
  {
   "cell_type": "code",
   "execution_count": 8,
   "metadata": {
    "scrolled": true
   },
   "outputs": [
    {
     "data": {
      "text/plain": [
       "['AP1_CDCFrontier_LD',\n",
       " 'AP1_CDCFrontier_SD',\n",
       " 'FD_CDCFrontier_LD',\n",
       " 'FD_CDCFrontier_SD',\n",
       " 'FTa1_CDCFrontier_LD',\n",
       " 'FTa1_CDCFrontier_SD',\n",
       " 'FTa2_CDCFrontier_LD',\n",
       " 'FTa2_CDCFrontier_SD',\n",
       " 'FTa3_CDCFrontier_LD',\n",
       " 'FTa3_CDCFrontier_SD',\n",
       " 'FTb_CDCFrontier_LD',\n",
       " 'FTb_CDCFrontier_SD',\n",
       " 'FTc_CDCFrontier_LD',\n",
       " 'FTc_CDCFrontier_SD',\n",
       " 'LFY_CDCFrontier_LD',\n",
       " 'LFY_CDCFrontier_SD',\n",
       " 'TFL1a_CDCFrontier_LD',\n",
       " 'TFL1a_CDCFrontier_SD',\n",
       " 'TFL1c_CDCFrontier_LD',\n",
       " 'TFL1c_CDCFrontier_SD']"
      ]
     },
     "execution_count": 8,
     "metadata": {},
     "output_type": "execute_result"
    }
   ],
   "source": [
    "nms"
   ]
  },
  {
   "cell_type": "code",
   "execution_count": 9,
   "metadata": {},
   "outputs": [],
   "source": [
    "for i in range(len(nms)):\n",
    "    nms[i] = '_'.join(nms[i].split('_CDCFrontier_'))"
   ]
  },
  {
   "cell_type": "code",
   "execution_count": 10,
   "metadata": {
    "scrolled": true
   },
   "outputs": [
    {
     "data": {
      "text/plain": [
       "['AP1_LD',\n",
       " 'AP1_SD',\n",
       " 'FD_LD',\n",
       " 'FD_SD',\n",
       " 'FTa1_LD',\n",
       " 'FTa1_SD',\n",
       " 'FTa2_LD',\n",
       " 'FTa2_SD',\n",
       " 'FTa3_LD',\n",
       " 'FTa3_SD',\n",
       " 'FTb_LD',\n",
       " 'FTb_SD',\n",
       " 'FTc_LD',\n",
       " 'FTc_SD',\n",
       " 'LFY_LD',\n",
       " 'LFY_SD',\n",
       " 'TFL1a_LD',\n",
       " 'TFL1a_SD',\n",
       " 'TFL1c_LD',\n",
       " 'TFL1c_SD']"
      ]
     },
     "execution_count": 10,
     "metadata": {},
     "output_type": "execute_result"
    }
   ],
   "source": [
    "nms"
   ]
  },
  {
   "cell_type": "markdown",
   "metadata": {},
   "source": [
    "**Create a list of genes:**"
   ]
  },
  {
   "cell_type": "code",
   "execution_count": 11,
   "metadata": {},
   "outputs": [],
   "source": [
    "genes = []\n",
    "for i in range(len(nms)):\n",
    "    genes.append(nms[i][:-3])\n",
    "\n",
    "genes = list(set(genes))"
   ]
  },
  {
   "cell_type": "code",
   "execution_count": 12,
   "metadata": {},
   "outputs": [],
   "source": [
    "genes.sort()"
   ]
  },
  {
   "cell_type": "code",
   "execution_count": 13,
   "metadata": {},
   "outputs": [
    {
     "data": {
      "text/plain": [
       "['AP1', 'FD', 'FTa1', 'FTa2', 'FTa3', 'FTb', 'FTc', 'LFY', 'TFL1a', 'TFL1c']"
      ]
     },
     "execution_count": 13,
     "metadata": {},
     "output_type": "execute_result"
    }
   ],
   "source": [
    "genes"
   ]
  },
  {
   "cell_type": "code",
   "execution_count": 14,
   "metadata": {},
   "outputs": [],
   "source": [
    "data = {}\n",
    "for i in range(len(nms)):\n",
    "    data[nms[i]] = pd.read_csv('data/' + needed_csvs[i], header=None, names = ['days', 'rltv_transcription_lvl', 'std_error'])"
   ]
  },
  {
   "cell_type": "code",
   "execution_count": 15,
   "metadata": {
    "scrolled": false
   },
   "outputs": [
    {
     "name": "stdout",
     "output_type": "stream",
     "text": [
      "15\n",
      "14\n"
     ]
    }
   ],
   "source": [
    "print(len(data['FTa2_LD']))\n",
    "print(len(data['FTa2_SD']))"
   ]
  },
  {
   "cell_type": "code",
   "execution_count": 16,
   "metadata": {
    "scrolled": true
   },
   "outputs": [
    {
     "data": {
      "text/html": [
       "<div>\n",
       "<style scoped>\n",
       "    .dataframe tbody tr th:only-of-type {\n",
       "        vertical-align: middle;\n",
       "    }\n",
       "\n",
       "    .dataframe tbody tr th {\n",
       "        vertical-align: top;\n",
       "    }\n",
       "\n",
       "    .dataframe thead th {\n",
       "        text-align: right;\n",
       "    }\n",
       "</style>\n",
       "<table border=\"1\" class=\"dataframe\">\n",
       "  <thead>\n",
       "    <tr style=\"text-align: right;\">\n",
       "      <th></th>\n",
       "      <th>days</th>\n",
       "      <th>rltv_transcription_lvl</th>\n",
       "      <th>std_error</th>\n",
       "    </tr>\n",
       "  </thead>\n",
       "  <tbody>\n",
       "    <tr>\n",
       "      <th>0</th>\n",
       "      <td>9</td>\n",
       "      <td>2</td>\n",
       "      <td>52.408729</td>\n",
       "    </tr>\n",
       "    <tr>\n",
       "      <th>1</th>\n",
       "      <td>11</td>\n",
       "      <td>0</td>\n",
       "      <td>52.408729</td>\n",
       "    </tr>\n",
       "    <tr>\n",
       "      <th>2</th>\n",
       "      <td>13</td>\n",
       "      <td>6</td>\n",
       "      <td>52.408729</td>\n",
       "    </tr>\n",
       "    <tr>\n",
       "      <th>3</th>\n",
       "      <td>15</td>\n",
       "      <td>5</td>\n",
       "      <td>52.408729</td>\n",
       "    </tr>\n",
       "    <tr>\n",
       "      <th>4</th>\n",
       "      <td>17</td>\n",
       "      <td>23</td>\n",
       "      <td>52.408729</td>\n",
       "    </tr>\n",
       "    <tr>\n",
       "      <th>5</th>\n",
       "      <td>20</td>\n",
       "      <td>33</td>\n",
       "      <td>52.408729</td>\n",
       "    </tr>\n",
       "    <tr>\n",
       "      <th>6</th>\n",
       "      <td>22</td>\n",
       "      <td>1</td>\n",
       "      <td>52.408729</td>\n",
       "    </tr>\n",
       "    <tr>\n",
       "      <th>7</th>\n",
       "      <td>25</td>\n",
       "      <td>92</td>\n",
       "      <td>89.000000</td>\n",
       "    </tr>\n",
       "    <tr>\n",
       "      <th>8</th>\n",
       "      <td>28</td>\n",
       "      <td>19</td>\n",
       "      <td>52.408729</td>\n",
       "    </tr>\n",
       "    <tr>\n",
       "      <th>9</th>\n",
       "      <td>30</td>\n",
       "      <td>355</td>\n",
       "      <td>106.000000</td>\n",
       "    </tr>\n",
       "    <tr>\n",
       "      <th>10</th>\n",
       "      <td>32</td>\n",
       "      <td>117</td>\n",
       "      <td>52.408729</td>\n",
       "    </tr>\n",
       "    <tr>\n",
       "      <th>11</th>\n",
       "      <td>34</td>\n",
       "      <td>649</td>\n",
       "      <td>173.000000</td>\n",
       "    </tr>\n",
       "    <tr>\n",
       "      <th>12</th>\n",
       "      <td>37</td>\n",
       "      <td>691</td>\n",
       "      <td>193.000000</td>\n",
       "    </tr>\n",
       "    <tr>\n",
       "      <th>13</th>\n",
       "      <td>40</td>\n",
       "      <td>1025</td>\n",
       "      <td>332.000000</td>\n",
       "    </tr>\n",
       "    <tr>\n",
       "      <th>14</th>\n",
       "      <td>43</td>\n",
       "      <td>223</td>\n",
       "      <td>56.000000</td>\n",
       "    </tr>\n",
       "  </tbody>\n",
       "</table>\n",
       "</div>"
      ],
      "text/plain": [
       "    days  rltv_transcription_lvl   std_error\n",
       "0      9                       2   52.408729\n",
       "1     11                       0   52.408729\n",
       "2     13                       6   52.408729\n",
       "3     15                       5   52.408729\n",
       "4     17                      23   52.408729\n",
       "5     20                      33   52.408729\n",
       "6     22                       1   52.408729\n",
       "7     25                      92   89.000000\n",
       "8     28                      19   52.408729\n",
       "9     30                     355  106.000000\n",
       "10    32                     117   52.408729\n",
       "11    34                     649  173.000000\n",
       "12    37                     691  193.000000\n",
       "13    40                    1025  332.000000\n",
       "14    43                     223   56.000000"
      ]
     },
     "execution_count": 16,
     "metadata": {},
     "output_type": "execute_result"
    }
   ],
   "source": [
    "data['AP1_LD']"
   ]
  },
  {
   "cell_type": "markdown",
   "metadata": {},
   "source": [
    "## Delete last"
   ]
  },
  {
   "cell_type": "code",
   "execution_count": 17,
   "metadata": {
    "scrolled": true
   },
   "outputs": [
    {
     "data": {
      "image/png": "[encoded data removed]",
      "text/plain": [
       "<Figure size 432x288 with 1 Axes>"
      ]
     },
     "metadata": {
      "needs_background": "light"
     },
     "output_type": "display_data"
    }
   ],
   "source": [
    "plt.plot(data['AP1_SD'].days, data['AP1_SD'].rltv_transcription_lvl, 'o-');"
   ]
  },
  {
   "cell_type": "code",
   "execution_count": 16,
   "metadata": {
    "scrolled": true
   },
   "outputs": [
    {
     "data": {
      "image/png": "[encoded data removed]",
      "text/plain": [
       "<Figure size 432x288 with 1 Axes>"
      ]
     },
     "metadata": {
      "needs_background": "light"
     },
     "output_type": "display_data"
    }
   ],
   "source": [
    "plt.plot(data['AP1_LD'].days, data['AP1_LD'].rltv_transcription_lvl, 'o-');"
   ]
  },
  {
   "cell_type": "markdown",
   "metadata": {},
   "source": [
    "let's remove last measurements:"
   ]
  },
  {
   "cell_type": "code",
   "execution_count": 17,
   "metadata": {},
   "outputs": [],
   "source": [
    "for name in data.keys():\n",
    "    if name.endswith('LD'):\n",
    "        data[name] = data[name].iloc[:-1,:]\n",
    "    else:\n",
    "        data[name] = data[name].iloc[:-3,:]"
   ]
  },
  {
   "cell_type": "code",
   "execution_count": 18,
   "metadata": {
    "scrolled": false
   },
   "outputs": [
    {
     "name": "stdout",
     "output_type": "stream",
     "text": [
      "14\n",
      "11\n"
     ]
    }
   ],
   "source": [
    "print(len(data['FTa2_LD']))\n",
    "print(len(data['FTa2_SD']))"
   ]
  },
  {
   "cell_type": "code",
   "execution_count": 19,
   "metadata": {
    "scrolled": false
   },
   "outputs": [
    {
     "data": {
      "image/png": "[encoded data removed]",
      "text/plain": [
       "<Figure size 432x288 with 1 Axes>"
      ]
     },
     "metadata": {
      "needs_background": "light"
     },
     "output_type": "display_data"
    }
   ],
   "source": [
    "plt.plot(data['AP1_SD'].days, data['AP1_SD'].rltv_transcription_lvl, 'o-');"
   ]
  },
  {
   "cell_type": "code",
   "execution_count": 31,
   "metadata": {
    "scrolled": true
   },
   "outputs": [
    {
     "data": {
      "image/png": "[encoded data removed]",
      "text/plain": [
       "<Figure size 432x288 with 1 Axes>"
      ]
     },
     "metadata": {
      "needs_background": "light"
     },
     "output_type": "display_data"
    }
   ],
   "source": [
    "plt.plot(data['AP1_LD'].days, data['AP1_LD'].rltv_transcription_lvl, 'o-');"
   ]
  },
  {
   "cell_type": "code",
   "execution_count": 20,
   "metadata": {},
   "outputs": [
    {
     "data": {
      "text/html": [
       "<div>\n",
       "<style scoped>\n",
       "    .dataframe tbody tr th:only-of-type {\n",
       "        vertical-align: middle;\n",
       "    }\n",
       "\n",
       "    .dataframe tbody tr th {\n",
       "        vertical-align: top;\n",
       "    }\n",
       "\n",
       "    .dataframe thead th {\n",
       "        text-align: right;\n",
       "    }\n",
       "</style>\n",
       "<table border=\"1\" class=\"dataframe\">\n",
       "  <thead>\n",
       "    <tr style=\"text-align: right;\">\n",
       "      <th></th>\n",
       "      <th>days</th>\n",
       "      <th>rltv_transcription_lvl</th>\n",
       "      <th>std_error</th>\n",
       "    </tr>\n",
       "  </thead>\n",
       "  <tbody>\n",
       "    <tr>\n",
       "      <th>0</th>\n",
       "      <td>9</td>\n",
       "      <td>2</td>\n",
       "      <td>52.408729</td>\n",
       "    </tr>\n",
       "    <tr>\n",
       "      <th>1</th>\n",
       "      <td>11</td>\n",
       "      <td>0</td>\n",
       "      <td>52.408729</td>\n",
       "    </tr>\n",
       "    <tr>\n",
       "      <th>2</th>\n",
       "      <td>13</td>\n",
       "      <td>6</td>\n",
       "      <td>52.408729</td>\n",
       "    </tr>\n",
       "    <tr>\n",
       "      <th>3</th>\n",
       "      <td>15</td>\n",
       "      <td>5</td>\n",
       "      <td>52.408729</td>\n",
       "    </tr>\n",
       "    <tr>\n",
       "      <th>4</th>\n",
       "      <td>17</td>\n",
       "      <td>23</td>\n",
       "      <td>52.408729</td>\n",
       "    </tr>\n",
       "    <tr>\n",
       "      <th>5</th>\n",
       "      <td>20</td>\n",
       "      <td>33</td>\n",
       "      <td>52.408729</td>\n",
       "    </tr>\n",
       "    <tr>\n",
       "      <th>6</th>\n",
       "      <td>22</td>\n",
       "      <td>1</td>\n",
       "      <td>52.408729</td>\n",
       "    </tr>\n",
       "    <tr>\n",
       "      <th>7</th>\n",
       "      <td>25</td>\n",
       "      <td>92</td>\n",
       "      <td>89.000000</td>\n",
       "    </tr>\n",
       "    <tr>\n",
       "      <th>8</th>\n",
       "      <td>28</td>\n",
       "      <td>19</td>\n",
       "      <td>52.408729</td>\n",
       "    </tr>\n",
       "    <tr>\n",
       "      <th>9</th>\n",
       "      <td>30</td>\n",
       "      <td>355</td>\n",
       "      <td>106.000000</td>\n",
       "    </tr>\n",
       "    <tr>\n",
       "      <th>10</th>\n",
       "      <td>32</td>\n",
       "      <td>117</td>\n",
       "      <td>52.408729</td>\n",
       "    </tr>\n",
       "    <tr>\n",
       "      <th>11</th>\n",
       "      <td>34</td>\n",
       "      <td>649</td>\n",
       "      <td>173.000000</td>\n",
       "    </tr>\n",
       "    <tr>\n",
       "      <th>12</th>\n",
       "      <td>37</td>\n",
       "      <td>691</td>\n",
       "      <td>193.000000</td>\n",
       "    </tr>\n",
       "    <tr>\n",
       "      <th>13</th>\n",
       "      <td>40</td>\n",
       "      <td>1025</td>\n",
       "      <td>332.000000</td>\n",
       "    </tr>\n",
       "  </tbody>\n",
       "</table>\n",
       "</div>"
      ],
      "text/plain": [
       "    days  rltv_transcription_lvl   std_error\n",
       "0      9                       2   52.408729\n",
       "1     11                       0   52.408729\n",
       "2     13                       6   52.408729\n",
       "3     15                       5   52.408729\n",
       "4     17                      23   52.408729\n",
       "5     20                      33   52.408729\n",
       "6     22                       1   52.408729\n",
       "7     25                      92   89.000000\n",
       "8     28                      19   52.408729\n",
       "9     30                     355  106.000000\n",
       "10    32                     117   52.408729\n",
       "11    34                     649  173.000000\n",
       "12    37                     691  193.000000\n",
       "13    40                    1025  332.000000"
      ]
     },
     "execution_count": 20,
     "metadata": {},
     "output_type": "execute_result"
    }
   ],
   "source": [
    "data['AP1_LD']"
   ]
  },
  {
   "cell_type": "markdown",
   "metadata": {},
   "source": [
    "## Create a sets of stds"
   ]
  },
  {
   "cell_type": "code",
   "execution_count": 100,
   "metadata": {},
   "outputs": [],
   "source": [
    "stds = {}\n",
    "\n",
    "for cond in ['LD', 'SD']:\n",
    "    \n",
    "    stds[cond] = pd.DataFrame()\n",
    "    \n",
    "    for g in genes:\n",
    "        \n",
    "        stds[cond][g] = data[f'{g}_{cond}'].std_error"
   ]
  },
  {
   "cell_type": "code",
   "execution_count": 101,
   "metadata": {},
   "outputs": [],
   "source": [
    "for cond in ['LD', 'SD']:\n",
    "    stds[cond].to_csv(f'{data_path}stds_{cond}.csv', index = False)"
   ]
  },
  {
   "cell_type": "markdown",
   "metadata": {},
   "source": [
    "# Create real experiment dataset"
   ]
  },
  {
   "cell_type": "code",
   "execution_count": 20,
   "metadata": {},
   "outputs": [
    {
     "data": {
      "text/plain": [
       "['AP1',\n",
       " 'FD',\n",
       " 'FTa1',\n",
       " 'FTa2',\n",
       " 'FTa3',\n",
       " 'FTb',\n",
       " 'FTc',\n",
       " 'LFY',\n",
       " 'TFL1a',\n",
       " 'TFL1c',\n",
       " 'days']"
      ]
     },
     "execution_count": 20,
     "metadata": {},
     "output_type": "execute_result"
    }
   ],
   "source": [
    "genes + ['days']"
   ]
  },
  {
   "cell_type": "code",
   "execution_count": 21,
   "metadata": {},
   "outputs": [],
   "source": [
    "real_data = {\n",
    "    'LD': pd.DataFrame(columns=genes + ['days']),\n",
    "    'SD': pd.DataFrame(columns=genes + ['days'])\n",
    "}"
   ]
  },
  {
   "cell_type": "code",
   "execution_count": 22,
   "metadata": {},
   "outputs": [],
   "source": [
    "for cond in ['LD', 'SD']:\n",
    "    for name in genes:\n",
    "        real_data[cond][name] = data[name + '_' + cond].rltv_transcription_lvl\n",
    "    \n",
    "    real_data[cond]['days'] = data['AP1_' + cond].days"
   ]
  },
  {
   "cell_type": "code",
   "execution_count": 23,
   "metadata": {},
   "outputs": [
    {
     "data": {
      "text/html": [
       "<div>\n",
       "<style scoped>\n",
       "    .dataframe tbody tr th:only-of-type {\n",
       "        vertical-align: middle;\n",
       "    }\n",
       "\n",
       "    .dataframe tbody tr th {\n",
       "        vertical-align: top;\n",
       "    }\n",
       "\n",
       "    .dataframe thead th {\n",
       "        text-align: right;\n",
       "    }\n",
       "</style>\n",
       "<table border=\"1\" class=\"dataframe\">\n",
       "  <thead>\n",
       "    <tr style=\"text-align: right;\">\n",
       "      <th></th>\n",
       "      <th>AP1</th>\n",
       "      <th>FD</th>\n",
       "      <th>FTa1</th>\n",
       "      <th>FTa2</th>\n",
       "      <th>FTa3</th>\n",
       "      <th>FTb</th>\n",
       "      <th>FTc</th>\n",
       "      <th>LFY</th>\n",
       "      <th>TFL1a</th>\n",
       "      <th>TFL1c</th>\n",
       "      <th>days</th>\n",
       "    </tr>\n",
       "  </thead>\n",
       "  <tbody>\n",
       "    <tr>\n",
       "      <th>0</th>\n",
       "      <td>2</td>\n",
       "      <td>27.48</td>\n",
       "      <td>2</td>\n",
       "      <td>22</td>\n",
       "      <td>1.371</td>\n",
       "      <td>1</td>\n",
       "      <td>0.6</td>\n",
       "      <td>13</td>\n",
       "      <td>13.952</td>\n",
       "      <td>15.862</td>\n",
       "      <td>9</td>\n",
       "    </tr>\n",
       "    <tr>\n",
       "      <th>1</th>\n",
       "      <td>1</td>\n",
       "      <td>27.70</td>\n",
       "      <td>2</td>\n",
       "      <td>37</td>\n",
       "      <td>0.098</td>\n",
       "      <td>1</td>\n",
       "      <td>1.3</td>\n",
       "      <td>42</td>\n",
       "      <td>11.907</td>\n",
       "      <td>14.804</td>\n",
       "      <td>11</td>\n",
       "    </tr>\n",
       "    <tr>\n",
       "      <th>2</th>\n",
       "      <td>0</td>\n",
       "      <td>35.02</td>\n",
       "      <td>1</td>\n",
       "      <td>63</td>\n",
       "      <td>0.957</td>\n",
       "      <td>1</td>\n",
       "      <td>0.0</td>\n",
       "      <td>42</td>\n",
       "      <td>12.016</td>\n",
       "      <td>15.285</td>\n",
       "      <td>13</td>\n",
       "    </tr>\n",
       "    <tr>\n",
       "      <th>3</th>\n",
       "      <td>0</td>\n",
       "      <td>36.36</td>\n",
       "      <td>3</td>\n",
       "      <td>140</td>\n",
       "      <td>1.099</td>\n",
       "      <td>5</td>\n",
       "      <td>2.5</td>\n",
       "      <td>109</td>\n",
       "      <td>14.536</td>\n",
       "      <td>19.238</td>\n",
       "      <td>15</td>\n",
       "    </tr>\n",
       "    <tr>\n",
       "      <th>4</th>\n",
       "      <td>3</td>\n",
       "      <td>35.73</td>\n",
       "      <td>4</td>\n",
       "      <td>113</td>\n",
       "      <td>1.730</td>\n",
       "      <td>0</td>\n",
       "      <td>0.4</td>\n",
       "      <td>24</td>\n",
       "      <td>16.764</td>\n",
       "      <td>24.466</td>\n",
       "      <td>17</td>\n",
       "    </tr>\n",
       "    <tr>\n",
       "      <th>5</th>\n",
       "      <td>5</td>\n",
       "      <td>43.90</td>\n",
       "      <td>6</td>\n",
       "      <td>181</td>\n",
       "      <td>1.849</td>\n",
       "      <td>7</td>\n",
       "      <td>1.3</td>\n",
       "      <td>259</td>\n",
       "      <td>24.945</td>\n",
       "      <td>25.650</td>\n",
       "      <td>19</td>\n",
       "    </tr>\n",
       "    <tr>\n",
       "      <th>6</th>\n",
       "      <td>7</td>\n",
       "      <td>55.18</td>\n",
       "      <td>4</td>\n",
       "      <td>127</td>\n",
       "      <td>1.381</td>\n",
       "      <td>7</td>\n",
       "      <td>0.9</td>\n",
       "      <td>275</td>\n",
       "      <td>34.332</td>\n",
       "      <td>40.503</td>\n",
       "      <td>22</td>\n",
       "    </tr>\n",
       "    <tr>\n",
       "      <th>7</th>\n",
       "      <td>20</td>\n",
       "      <td>27.13</td>\n",
       "      <td>9</td>\n",
       "      <td>66</td>\n",
       "      <td>0.239</td>\n",
       "      <td>0</td>\n",
       "      <td>5.7</td>\n",
       "      <td>7</td>\n",
       "      <td>12.272</td>\n",
       "      <td>15.267</td>\n",
       "      <td>25</td>\n",
       "    </tr>\n",
       "    <tr>\n",
       "      <th>8</th>\n",
       "      <td>35</td>\n",
       "      <td>37.14</td>\n",
       "      <td>10</td>\n",
       "      <td>187</td>\n",
       "      <td>1.077</td>\n",
       "      <td>0</td>\n",
       "      <td>0.1</td>\n",
       "      <td>51</td>\n",
       "      <td>15.961</td>\n",
       "      <td>19.571</td>\n",
       "      <td>28</td>\n",
       "    </tr>\n",
       "    <tr>\n",
       "      <th>9</th>\n",
       "      <td>43</td>\n",
       "      <td>45.24</td>\n",
       "      <td>3</td>\n",
       "      <td>72</td>\n",
       "      <td>3.350</td>\n",
       "      <td>0</td>\n",
       "      <td>0.3</td>\n",
       "      <td>58</td>\n",
       "      <td>18.809</td>\n",
       "      <td>22.599</td>\n",
       "      <td>31</td>\n",
       "    </tr>\n",
       "    <tr>\n",
       "      <th>10</th>\n",
       "      <td>209</td>\n",
       "      <td>66.24</td>\n",
       "      <td>10</td>\n",
       "      <td>150</td>\n",
       "      <td>7.549</td>\n",
       "      <td>0</td>\n",
       "      <td>0.6</td>\n",
       "      <td>124</td>\n",
       "      <td>20.818</td>\n",
       "      <td>26.551</td>\n",
       "      <td>34</td>\n",
       "    </tr>\n",
       "    <tr>\n",
       "      <th>11</th>\n",
       "      <td>28</td>\n",
       "      <td>29.18</td>\n",
       "      <td>8</td>\n",
       "      <td>82</td>\n",
       "      <td>0.272</td>\n",
       "      <td>0</td>\n",
       "      <td>0.0</td>\n",
       "      <td>18</td>\n",
       "      <td>11.030</td>\n",
       "      <td>14.678</td>\n",
       "      <td>37</td>\n",
       "    </tr>\n",
       "    <tr>\n",
       "      <th>12</th>\n",
       "      <td>24</td>\n",
       "      <td>45.31</td>\n",
       "      <td>6</td>\n",
       "      <td>103</td>\n",
       "      <td>1.273</td>\n",
       "      <td>0</td>\n",
       "      <td>0.1</td>\n",
       "      <td>43</td>\n",
       "      <td>13.148</td>\n",
       "      <td>19.993</td>\n",
       "      <td>40</td>\n",
       "    </tr>\n",
       "    <tr>\n",
       "      <th>13</th>\n",
       "      <td>21</td>\n",
       "      <td>31.50</td>\n",
       "      <td>5</td>\n",
       "      <td>88</td>\n",
       "      <td>1.164</td>\n",
       "      <td>0</td>\n",
       "      <td>0.4</td>\n",
       "      <td>6</td>\n",
       "      <td>11.103</td>\n",
       "      <td>14.274</td>\n",
       "      <td>43</td>\n",
       "    </tr>\n",
       "  </tbody>\n",
       "</table>\n",
       "</div>"
      ],
      "text/plain": [
       "    AP1     FD  FTa1  FTa2   FTa3  FTb  FTc  LFY   TFL1a   TFL1c  days\n",
       "0     2  27.48     2    22  1.371    1  0.6   13  13.952  15.862     9\n",
       "1     1  27.70     2    37  0.098    1  1.3   42  11.907  14.804    11\n",
       "2     0  35.02     1    63  0.957    1  0.0   42  12.016  15.285    13\n",
       "3     0  36.36     3   140  1.099    5  2.5  109  14.536  19.238    15\n",
       "4     3  35.73     4   113  1.730    0  0.4   24  16.764  24.466    17\n",
       "5     5  43.90     6   181  1.849    7  1.3  259  24.945  25.650    19\n",
       "6     7  55.18     4   127  1.381    7  0.9  275  34.332  40.503    22\n",
       "7    20  27.13     9    66  0.239    0  5.7    7  12.272  15.267    25\n",
       "8    35  37.14    10   187  1.077    0  0.1   51  15.961  19.571    28\n",
       "9    43  45.24     3    72  3.350    0  0.3   58  18.809  22.599    31\n",
       "10  209  66.24    10   150  7.549    0  0.6  124  20.818  26.551    34\n",
       "11   28  29.18     8    82  0.272    0  0.0   18  11.030  14.678    37\n",
       "12   24  45.31     6   103  1.273    0  0.1   43  13.148  19.993    40\n",
       "13   21  31.50     5    88  1.164    0  0.4    6  11.103  14.274    43"
      ]
     },
     "execution_count": 23,
     "metadata": {},
     "output_type": "execute_result"
    }
   ],
   "source": [
    "real_data['SD']"
   ]
  },
  {
   "cell_type": "code",
   "execution_count": 25,
   "metadata": {},
   "outputs": [],
   "source": [
    "for cond in ['LD', 'SD']:\n",
    "    real_data[cond].to_csv(data_path + 'real_' + cond + '.csv', index = False)"
   ]
  },
  {
   "cell_type": "code",
   "execution_count": 26,
   "metadata": {},
   "outputs": [],
   "source": [
    "targets = [name for name in genes if not name.startswith('FT')]"
   ]
  },
  {
   "cell_type": "code",
   "execution_count": 27,
   "metadata": {},
   "outputs": [
    {
     "data": {
      "text/plain": [
       "['AP1', 'FD', 'LFY', 'TFL1a', 'TFL1c']"
      ]
     },
     "execution_count": 27,
     "metadata": {},
     "output_type": "execute_result"
    }
   ],
   "source": [
    "targets"
   ]
  },
  {
   "cell_type": "code",
   "execution_count": 28,
   "metadata": {},
   "outputs": [],
   "source": [
    "real_X = {}"
   ]
  },
  {
   "cell_type": "code",
   "execution_count": 29,
   "metadata": {},
   "outputs": [],
   "source": [
    "real_X['LD'] = real_data['LD'].iloc[:-1, :]\n",
    "real_X['SD'] = real_data['SD'].iloc[:-1, :]"
   ]
  },
  {
   "cell_type": "code",
   "execution_count": 30,
   "metadata": {},
   "outputs": [],
   "source": [
    "real_Y = {}\n",
    "real_Y['LD'] = real_data['LD'][targets].iloc[1:,]\n",
    "real_Y['SD'] = real_data['SD'][targets].iloc[1:,]"
   ]
  },
  {
   "cell_type": "code",
   "execution_count": 32,
   "metadata": {},
   "outputs": [],
   "source": [
    "for cond in ['LD', 'SD']:\n",
    "    real_X[cond].to_csv(data_path + 'real_X_' + cond + '.csv', index = False)\n",
    "    real_Y[cond].to_csv(data_path + 'real_Y_' + cond + '.csv', index = False)"
   ]
  },
  {
   "cell_type": "markdown",
   "metadata": {},
   "source": [
    "# Resampling"
   ]
  },
  {
   "cell_type": "markdown",
   "metadata": {},
   "source": [
    "## Create samples base by days"
   ]
  },
  {
   "cell_type": "code",
   "execution_count": 33,
   "metadata": {},
   "outputs": [
    {
     "name": "stdout",
     "output_type": "stream",
     "text": [
      "[9, 11, 13, 15, 17, 20, 22, 25, 28, 30, 32, 34, 37, 40, 43]\n",
      "[9, 11, 13, 15, 17, 19, 22, 25, 28, 31, 34, 37, 40, 43]\n"
     ]
    }
   ],
   "source": [
    "print(data['AP1_LD']['days'].tolist())\n",
    "print(data['AP1_SD']['days'].tolist())"
   ]
  },
  {
   "cell_type": "markdown",
   "metadata": {},
   "source": [
    "## Generate samples "
   ]
  },
  {
   "cell_type": "code",
   "execution_count": 34,
   "metadata": {
    "scrolled": true
   },
   "outputs": [
    {
     "data": {
      "text/plain": [
       "15"
      ]
     },
     "execution_count": 34,
     "metadata": {},
     "output_type": "execute_result"
    }
   ],
   "source": [
    "len(data['FD_LD'])"
   ]
  },
  {
   "cell_type": "code",
   "execution_count": 35,
   "metadata": {},
   "outputs": [],
   "source": [
    "daily_levels = {'LD': {},\n",
    "                'SD': {}}"
   ]
  },
  {
   "cell_type": "code",
   "execution_count": 36,
   "metadata": {},
   "outputs": [],
   "source": [
    "days_LD = data['AP1_LD']['days'].tolist()\n",
    "days_SD = data['AP1_SD']['days'].tolist()"
   ]
  },
  {
   "cell_type": "code",
   "execution_count": 37,
   "metadata": {
    "scrolled": true
   },
   "outputs": [
    {
     "name": "stdout",
     "output_type": "stream",
     "text": [
      "[9, 11, 13, 15, 17, 20, 22, 25, 28, 30, 32, 34, 37, 40, 43]\n",
      "[9, 11, 13, 15, 17, 19, 22, 25, 28, 31, 34, 37, 40, 43]\n"
     ]
    }
   ],
   "source": [
    "print(days_LD)\n",
    "print(days_SD)"
   ]
  },
  {
   "cell_type": "code",
   "execution_count": 38,
   "metadata": {
    "scrolled": false
   },
   "outputs": [
    {
     "name": "stdout",
     "output_type": "stream",
     "text": [
      "missing days in SD: [20, 30, 32]\n",
      "missing days in LD: [19, 31]\n"
     ]
    }
   ],
   "source": [
    "print('missing days in SD:', sorted(set(days_LD) - set(days_SD)))\n",
    "print('missing days in LD:', sorted(set(days_SD) - set(days_LD)))"
   ]
  },
  {
   "cell_type": "code",
   "execution_count": 39,
   "metadata": {},
   "outputs": [
    {
     "data": {
      "text/plain": [
       "[9, 11, 13, 15, 17, 19, 20, 22, 25, 28, 30, 31, 32, 34, 37, 40, 43]"
      ]
     },
     "execution_count": 39,
     "metadata": {},
     "output_type": "execute_result"
    }
   ],
   "source": [
    "days_all = sorted(set(days_LD + days_SD))\n",
    "days_all"
   ]
  },
  {
   "cell_type": "code",
   "execution_count": 68,
   "metadata": {},
   "outputs": [],
   "source": [
    "for day in days_all:\n",
    "    daily_levels['LD'][day] = {}\n",
    "    daily_levels['SD'][day] = {}"
   ]
  },
  {
   "cell_type": "code",
   "execution_count": 47,
   "metadata": {},
   "outputs": [],
   "source": [
    "# for name in nms:\n",
    "#     for day in data[name]['days']:\n",
    "        \n",
    "#         mean = float(data[name][data[name]['days'] == day].loc[:, 'rltv_transcription_lvl'])\n",
    "#         std = float(data[name][data[name]['days'] == day].loc[:, 'rltv_transcription_lvl'])\n",
    "        \n",
    "#         if name.endswith('LD'):\n",
    "#             if day < 37:\n",
    "#                 daily_levels['LD'][day][name[:-3]] = normal(mean, std, 500)\n",
    "#             else:\n",
    "#                 daily_levels['LD'][day][name[:-3]] = normal(mean, std, 1000)\n",
    "            \n",
    "#         if name.endswith('SD'):\n",
    "#             daily_levels['SD'][day][name[:-3]] = abs(normal(mean, std, 500))\n",
    "        "
   ]
  },
  {
   "cell_type": "code",
   "execution_count": 55,
   "metadata": {},
   "outputs": [],
   "source": [
    "# for name in nms:\n",
    "#     for day in data[name]['days']:\n",
    "        \n",
    "#         mean = float(data[name][data[name]['days'] == day].loc[:, 'rltv_transcription_lvl'])\n",
    "#         std = float(data[name][data[name]['days'] == day].loc[:, 'std_error'])\n",
    "        \n",
    "#         if name.endswith('LD'):\n",
    "#             if day < 37:\n",
    "#                 samples = normal(mean, std, 1500)\n",
    "#                 samples = samples[samples > 0]\n",
    "#                 daily_levels['LD'][day][name[:-3]] = samples[:500]\n",
    "#             else:\n",
    "#                 samples = normal(mean, std, 3000)\n",
    "#                 samples = samples[samples > 0]\n",
    "#                 daily_levels['LD'][day][name[:-3]] = samples[:1000]\n",
    "            \n",
    "#         if name.endswith('SD'):\n",
    "#             samples = normal(mean, std, 1500)\n",
    "#             samples = samples[samples > 0]\n",
    "#             daily_levels['SD'][day][name[:-3]] = samples[:500]       "
   ]
  },
  {
   "cell_type": "code",
   "execution_count": 69,
   "metadata": {},
   "outputs": [],
   "source": [
    "for name in nms:\n",
    "    for day in data[name]['days']:\n",
    "        \n",
    "        mean = float(data[name][data[name]['days'] == day].loc[:, 'rltv_transcription_lvl'])\n",
    "        std = float(data[name][data[name]['days'] == day].loc[:, 'std_error'])\n",
    "        \n",
    "        if name.endswith('LD'):\n",
    "            samples = normal(mean, std, 1500)\n",
    "            samples = samples[samples > 0]\n",
    "            daily_levels['LD'][day][name[:-3]] = samples[:500]\n",
    "            \n",
    "        if name.endswith('SD'):\n",
    "            samples = normal(mean, std, 1500)\n",
    "            samples = samples[samples > 0]\n",
    "            daily_levels['SD'][day][name[:-3]] = samples[:500]       "
   ]
  },
  {
   "cell_type": "code",
   "execution_count": 70,
   "metadata": {},
   "outputs": [],
   "source": [
    "del samples"
   ]
  },
  {
   "cell_type": "markdown",
   "metadata": {},
   "source": [
    "## Inter/extra-polate values to all missing days"
   ]
  },
  {
   "cell_type": "markdown",
   "metadata": {},
   "source": [
    "### Sort dictionaries!!!"
   ]
  },
  {
   "cell_type": "code",
   "execution_count": 71,
   "metadata": {},
   "outputs": [],
   "source": [
    "import collections\n",
    "\n",
    "daily_levels['LD'] = collections.OrderedDict(sorted(daily_levels['LD'].items()))\n",
    "daily_levels['SD'] = collections.OrderedDict(sorted(daily_levels['SD'].items()))"
   ]
  },
  {
   "cell_type": "code",
   "execution_count": 72,
   "metadata": {},
   "outputs": [
    {
     "data": {
      "text/plain": [
       "<matplotlib.axes._subplots.AxesSubplot at 0x27175979550>"
      ]
     },
     "execution_count": 72,
     "metadata": {},
     "output_type": "execute_result"
    },
    {
     "data": {
      "image/png": "[encoded data removed]",
      "text/plain": [
       "<Figure size 432x288 with 1 Axes>"
      ]
     },
     "metadata": {
      "needs_background": "light"
     },
     "output_type": "display_data"
    }
   ],
   "source": [
    "sns.distplot(daily_levels['LD'][11]['AP1'], bins = 30)"
   ]
  },
  {
   "cell_type": "markdown",
   "metadata": {},
   "source": [
    "### Fill LD"
   ]
  },
  {
   "cell_type": "code",
   "execution_count": 73,
   "metadata": {},
   "outputs": [
    {
     "name": "stdout",
     "output_type": "stream",
     "text": [
      "9 : True\n",
      "11 : True\n",
      "13 : True\n",
      "15 : True\n",
      "17 : True\n",
      "19 : False\n",
      "20 : True\n",
      "22 : True\n",
      "25 : True\n",
      "28 : True\n",
      "30 : True\n",
      "31 : False\n",
      "32 : True\n",
      "34 : True\n",
      "37 : True\n",
      "40 : True\n",
      "43 : True\n"
     ]
    }
   ],
   "source": [
    "for key in daily_levels['LD'].keys():\n",
    "    print(key, ':', bool(daily_levels['LD'][key]))"
   ]
  },
  {
   "cell_type": "code",
   "execution_count": 74,
   "metadata": {},
   "outputs": [],
   "source": [
    "def custom_shuffle(arr):\n",
    "    arr2 = arr.copy()\n",
    "    shuffle(arr2)\n",
    "    return arr2"
   ]
  },
  {
   "cell_type": "code",
   "execution_count": 75,
   "metadata": {},
   "outputs": [],
   "source": [
    "def interpolate_days(daytype):\n",
    "    for i in range(len(daily_levels[daytype])):\n",
    "        if not bool(daily_levels[daytype][days_all[i]]):\n",
    "\n",
    "            for name in genes:\n",
    "                w = (days_all[i] - days_all[i-1]) / (days_all[i+1] - days_all[i-1])\n",
    "                ''' # w is useful if missed day is 19 and it must interpolated by 17 and 20, analogue of average'''\n",
    "                daily_levels[daytype][days_all[i]][name] = w * np.add(custom_shuffle(daily_levels[daytype][days_all[i-1]][name]),\n",
    "                                                                      custom_shuffle(daily_levels[daytype][days_all[i+1]][name]))"
   ]
  },
  {
   "cell_type": "code",
   "execution_count": 76,
   "metadata": {},
   "outputs": [],
   "source": [
    "interpolate_days('LD')"
   ]
  },
  {
   "cell_type": "code",
   "execution_count": 77,
   "metadata": {
    "scrolled": true
   },
   "outputs": [
    {
     "name": "stdout",
     "output_type": "stream",
     "text": [
      "9 : True\n",
      "11 : True\n",
      "13 : True\n",
      "15 : True\n",
      "17 : True\n",
      "19 : True\n",
      "20 : True\n",
      "22 : True\n",
      "25 : True\n",
      "28 : True\n",
      "30 : True\n",
      "31 : True\n",
      "32 : True\n",
      "34 : True\n",
      "37 : True\n",
      "40 : True\n",
      "43 : True\n"
     ]
    }
   ],
   "source": [
    "for key in sorted(daily_levels['LD'].keys()):\n",
    "    print(key, ':', bool(daily_levels['LD'][key]))"
   ]
  },
  {
   "cell_type": "code",
   "execution_count": 144,
   "metadata": {},
   "outputs": [],
   "source": [
    "# [x + y for x, y in zip([1, 2, 3], [1,2,3])]"
   ]
  },
  {
   "cell_type": "markdown",
   "metadata": {},
   "source": [
    "### Fill SD"
   ]
  },
  {
   "cell_type": "code",
   "execution_count": 78,
   "metadata": {},
   "outputs": [
    {
     "name": "stdout",
     "output_type": "stream",
     "text": [
      "9 : True\n",
      "11 : True\n",
      "13 : True\n",
      "15 : True\n",
      "17 : True\n",
      "19 : True\n",
      "20 : False\n",
      "22 : True\n",
      "25 : True\n",
      "28 : True\n",
      "30 : False\n",
      "31 : True\n",
      "32 : False\n",
      "34 : True\n",
      "37 : True\n",
      "40 : True\n",
      "43 : True\n"
     ]
    }
   ],
   "source": [
    "for key in sorted(daily_levels['SD'].keys()):\n",
    "    print(key, ':', bool(daily_levels['SD'][key]))"
   ]
  },
  {
   "cell_type": "markdown",
   "metadata": {},
   "source": [
    "**Let's delete two last elements from SD dict:**"
   ]
  },
  {
   "cell_type": "code",
   "execution_count": 51,
   "metadata": {},
   "outputs": [],
   "source": [
    "del daily_levels['SD'][37]\n",
    "del daily_levels['SD'][40]"
   ]
  },
  {
   "cell_type": "code",
   "execution_count": 65,
   "metadata": {},
   "outputs": [
    {
     "name": "stdout",
     "output_type": "stream",
     "text": [
      "9 : True\n",
      "11 : True\n",
      "13 : True\n",
      "15 : True\n",
      "17 : True\n",
      "19 : True\n",
      "20 : False\n",
      "22 : True\n",
      "25 : True\n",
      "28 : True\n",
      "30 : False\n",
      "31 : True\n",
      "32 : False\n",
      "34 : True\n",
      "37 : True\n",
      "40 : True\n",
      "43 : True\n"
     ]
    }
   ],
   "source": [
    "for key in sorted(daily_levels['SD'].keys()):\n",
    "    print(key, ':', bool(daily_levels['SD'][key]))"
   ]
  },
  {
   "cell_type": "markdown",
   "metadata": {},
   "source": [
    "Fill like LD:"
   ]
  },
  {
   "cell_type": "code",
   "execution_count": 79,
   "metadata": {},
   "outputs": [],
   "source": [
    "interpolate_days('SD')"
   ]
  },
  {
   "cell_type": "code",
   "execution_count": 80,
   "metadata": {},
   "outputs": [
    {
     "name": "stdout",
     "output_type": "stream",
     "text": [
      "9 : True\n",
      "11 : True\n",
      "13 : True\n",
      "15 : True\n",
      "17 : True\n",
      "19 : True\n",
      "20 : True\n",
      "22 : True\n",
      "25 : True\n",
      "28 : True\n",
      "30 : True\n",
      "31 : True\n",
      "32 : True\n",
      "34 : True\n",
      "37 : True\n",
      "40 : True\n",
      "43 : True\n"
     ]
    }
   ],
   "source": [
    "for key in sorted(daily_levels['SD'].keys()):\n",
    "    print(key, ':', bool(daily_levels['SD'][key]))"
   ]
  },
  {
   "cell_type": "markdown",
   "metadata": {},
   "source": [
    "### Set FT level shift to 1/2 of a day:"
   ]
  },
  {
   "cell_type": "code",
   "execution_count": 81,
   "metadata": {},
   "outputs": [
    {
     "name": "stdout",
     "output_type": "stream",
     "text": [
      "9 : 500\n",
      "11 : 500\n",
      "13 : 500\n",
      "15 : 500\n",
      "17 : 500\n",
      "19 : 500\n",
      "20 : 500\n",
      "22 : 500\n",
      "25 : 500\n",
      "28 : 500\n",
      "30 : 500\n",
      "31 : 500\n",
      "32 : 500\n",
      "34 : 500\n",
      "37 : 500\n",
      "40 : 500\n",
      "43 : 500\n"
     ]
    }
   ],
   "source": [
    "for key in sorted(daily_levels['LD'].keys()):\n",
    "    print(key, ':', len(daily_levels['LD'][key]['AP1']))"
   ]
  },
  {
   "cell_type": "code",
   "execution_count": 82,
   "metadata": {},
   "outputs": [
    {
     "name": "stdout",
     "output_type": "stream",
     "text": [
      "9 : 500\n",
      "11 : 500\n",
      "13 : 500\n",
      "15 : 500\n",
      "17 : 500\n",
      "19 : 500\n",
      "20 : 500\n",
      "22 : 500\n",
      "25 : 500\n",
      "28 : 500\n",
      "30 : 500\n",
      "31 : 500\n",
      "32 : 500\n",
      "34 : 500\n",
      "37 : 500\n",
      "40 : 500\n",
      "43 : 500\n"
     ]
    }
   ],
   "source": [
    "for key in sorted(daily_levels['SD'].keys()):\n",
    "    print(key, ':', len(daily_levels['SD'][key]['AP1']))"
   ]
  },
  {
   "cell_type": "code",
   "execution_count": 151,
   "metadata": {},
   "outputs": [],
   "source": [
    "# def move_FTs(daytype):\n",
    "#     for name in genes:\n",
    "#         if name.startswith('FT'):\n",
    "#             current_FT = [[] for i in range(len(daily_levels[daytype]))]\n",
    "            \n",
    "#             current_FT[0] = daily_levels[daytype][days_all[0]][name] * 8. / 18. # move first day\n",
    "            \n",
    "#             for i in range(1, len(daily_levels[daytype])):\n",
    "#                 ''' shift is 3/4 for 2 days difference \n",
    "#                 between observations and 1/2 for 1 day '''\n",
    "#                 w = (1 + (days_all[i] - days_all[i-1])) / 4\n",
    "#                 if days_all[i] != 37:\n",
    "#                     current_FT[i] = w * np.add(daily_levels[daytype][days_all[i]][name],\n",
    "#                                                daily_levels[daytype][days_all[i-1]][name])\n",
    "#                 else:\n",
    "#                     current_FT[i] = w * np.add(daily_levels[daytype][days_all[i]][name],\n",
    "#                                                np.repeat(daily_levels[daytype][days_all[i-1]][name], 2))\n",
    "\n",
    "#             for i in range(len(daily_levels[daytype])):\n",
    "#                 daily_levels[daytype][days_all[i]][name] = current_FT[i]"
   ]
  },
  {
   "cell_type": "code",
   "execution_count": 83,
   "metadata": {},
   "outputs": [],
   "source": [
    "def move_FTs(daytype):\n",
    "    for name in genes:\n",
    "        if name.startswith('FT'):\n",
    "            current_FT = [[] for i in range(len(daily_levels[daytype]))]\n",
    "            \n",
    "            current_FT[0] = daily_levels[daytype][days_all[0]][name] * 8. / 18. # move first day\n",
    "            \n",
    "            for i in range(1, len(daily_levels[daytype])):\n",
    "                ''' shift is 3/4 for 2 days difference \n",
    "                between observations and 1/2 for 1 day '''\n",
    "                w = (1 + (days_all[i] - days_all[i-1])) / 4\n",
    "                current_FT[i] = w * np.add(daily_levels[daytype][days_all[i]][name],\n",
    "                                               daily_levels[daytype][days_all[i-1]][name])\n",
    "                \n",
    "            for i in range(len(daily_levels[daytype])):\n",
    "                daily_levels[daytype][days_all[i]][name] = current_FT[i]"
   ]
  },
  {
   "cell_type": "code",
   "execution_count": 84,
   "metadata": {},
   "outputs": [],
   "source": [
    "move_FTs('LD')\n",
    "move_FTs('SD')"
   ]
  },
  {
   "cell_type": "markdown",
   "metadata": {},
   "source": [
    "### Try to free the memory:"
   ]
  },
  {
   "cell_type": "code",
   "execution_count": 93,
   "metadata": {},
   "outputs": [],
   "source": [
    "# def free_memory(variables_list):\n",
    "#     for name in variables_list:\n",
    "#         del name"
   ]
  },
  {
   "cell_type": "code",
   "execution_count": 94,
   "metadata": {},
   "outputs": [],
   "source": [
    "# for key in globals().keys():\n",
    "#     print(key)"
   ]
  },
  {
   "cell_type": "markdown",
   "metadata": {},
   "source": [
    "### Save the data"
   ]
  },
  {
   "cell_type": "code",
   "execution_count": 95,
   "metadata": {},
   "outputs": [],
   "source": [
    "# with open('cache/samples_by_day.cached', 'wb') as f:\n",
    "#     dill.dump(daily_levels, f)"
   ]
  },
  {
   "cell_type": "markdown",
   "metadata": {},
   "source": [
    "### Check the trend"
   ]
  },
  {
   "cell_type": "code",
   "execution_count": 85,
   "metadata": {},
   "outputs": [
    {
     "name": "stdout",
     "output_type": "stream",
     "text": [
      "9 : 43.928919009282076\n",
      "11 : 42.86406643747794\n",
      "13 : 41.79587777139754\n",
      "15 : 43.729832887427904\n",
      "17 : 50.28558950100574\n",
      "19 : 70.67731846783606\n",
      "20 : 55.73038820074838\n",
      "22 : 41.20452730065009\n",
      "25 : 114.73475949076544\n",
      "28 : 48.70372514257342\n",
      "30 : 351.42336215438326\n",
      "31 : 234.61311868864865\n",
      "32 : 117.80287522291403\n",
      "34 : 668.1534869485769\n",
      "37 : 694.6412577533636\n",
      "40 : 1018.2107910545636\n",
      "43 : 225.5749426553969\n"
     ]
    }
   ],
   "source": [
    "for k in daily_levels['LD'].keys():\n",
    "    print(k, ':', np.mean(daily_levels['LD'][k]['AP1']))"
   ]
  },
  {
   "cell_type": "code",
   "execution_count": 86,
   "metadata": {},
   "outputs": [
    {
     "data": {
      "text/html": [
       "<div>\n",
       "<style scoped>\n",
       "    .dataframe tbody tr th:only-of-type {\n",
       "        vertical-align: middle;\n",
       "    }\n",
       "\n",
       "    .dataframe tbody tr th {\n",
       "        vertical-align: top;\n",
       "    }\n",
       "\n",
       "    .dataframe thead th {\n",
       "        text-align: right;\n",
       "    }\n",
       "</style>\n",
       "<table border=\"1\" class=\"dataframe\">\n",
       "  <thead>\n",
       "    <tr style=\"text-align: right;\">\n",
       "      <th></th>\n",
       "      <th>days</th>\n",
       "      <th>rltv_transcription_lvl</th>\n",
       "    </tr>\n",
       "  </thead>\n",
       "  <tbody>\n",
       "    <tr>\n",
       "      <th>0</th>\n",
       "      <td>9</td>\n",
       "      <td>2</td>\n",
       "    </tr>\n",
       "    <tr>\n",
       "      <th>1</th>\n",
       "      <td>11</td>\n",
       "      <td>0</td>\n",
       "    </tr>\n",
       "    <tr>\n",
       "      <th>2</th>\n",
       "      <td>13</td>\n",
       "      <td>6</td>\n",
       "    </tr>\n",
       "    <tr>\n",
       "      <th>3</th>\n",
       "      <td>15</td>\n",
       "      <td>5</td>\n",
       "    </tr>\n",
       "    <tr>\n",
       "      <th>4</th>\n",
       "      <td>17</td>\n",
       "      <td>23</td>\n",
       "    </tr>\n",
       "    <tr>\n",
       "      <th>5</th>\n",
       "      <td>20</td>\n",
       "      <td>33</td>\n",
       "    </tr>\n",
       "    <tr>\n",
       "      <th>6</th>\n",
       "      <td>22</td>\n",
       "      <td>1</td>\n",
       "    </tr>\n",
       "    <tr>\n",
       "      <th>7</th>\n",
       "      <td>25</td>\n",
       "      <td>92</td>\n",
       "    </tr>\n",
       "    <tr>\n",
       "      <th>8</th>\n",
       "      <td>28</td>\n",
       "      <td>19</td>\n",
       "    </tr>\n",
       "    <tr>\n",
       "      <th>9</th>\n",
       "      <td>30</td>\n",
       "      <td>355</td>\n",
       "    </tr>\n",
       "    <tr>\n",
       "      <th>10</th>\n",
       "      <td>32</td>\n",
       "      <td>117</td>\n",
       "    </tr>\n",
       "    <tr>\n",
       "      <th>11</th>\n",
       "      <td>34</td>\n",
       "      <td>649</td>\n",
       "    </tr>\n",
       "    <tr>\n",
       "      <th>12</th>\n",
       "      <td>37</td>\n",
       "      <td>691</td>\n",
       "    </tr>\n",
       "    <tr>\n",
       "      <th>13</th>\n",
       "      <td>40</td>\n",
       "      <td>1025</td>\n",
       "    </tr>\n",
       "    <tr>\n",
       "      <th>14</th>\n",
       "      <td>43</td>\n",
       "      <td>223</td>\n",
       "    </tr>\n",
       "  </tbody>\n",
       "</table>\n",
       "</div>"
      ],
      "text/plain": [
       "    days  rltv_transcription_lvl\n",
       "0      9                       2\n",
       "1     11                       0\n",
       "2     13                       6\n",
       "3     15                       5\n",
       "4     17                      23\n",
       "5     20                      33\n",
       "6     22                       1\n",
       "7     25                      92\n",
       "8     28                      19\n",
       "9     30                     355\n",
       "10    32                     117\n",
       "11    34                     649\n",
       "12    37                     691\n",
       "13    40                    1025\n",
       "14    43                     223"
      ]
     },
     "execution_count": 86,
     "metadata": {},
     "output_type": "execute_result"
    }
   ],
   "source": [
    "data['AP1_LD'][['days', 'rltv_transcription_lvl']]"
   ]
  },
  {
   "cell_type": "code",
   "execution_count": 87,
   "metadata": {},
   "outputs": [],
   "source": [
    "test = []\n",
    "\n",
    "for k in daily_levels['LD'].keys():\n",
    "    test.append(daily_levels['LD'][k]['AP1'][300])"
   ]
  },
  {
   "cell_type": "code",
   "execution_count": 88,
   "metadata": {},
   "outputs": [
    {
     "data": {
      "text/plain": [
       "[<matplotlib.lines.Line2D at 0x27175ac70f0>]"
      ]
     },
     "execution_count": 88,
     "metadata": {},
     "output_type": "execute_result"
    },
    {
     "data": {
      "image/png": "[encoded data removed]",
      "text/plain": [
       "<Figure size 432x288 with 1 Axes>"
      ]
     },
     "metadata": {
      "needs_background": "light"
     },
     "output_type": "display_data"
    }
   ],
   "source": [
    "plt.plot(days_all, test, '-o')"
   ]
  },
  {
   "cell_type": "code",
   "execution_count": 89,
   "metadata": {
    "scrolled": true
   },
   "outputs": [
    {
     "data": {
      "text/plain": [
       "[<matplotlib.lines.Line2D at 0x27175a20048>]"
      ]
     },
     "execution_count": 89,
     "metadata": {},
     "output_type": "execute_result"
    },
    {
     "data": {
      "image/png": "[encoded data removed]",
      "text/plain": [
       "<Figure size 432x288 with 1 Axes>"
      ]
     },
     "metadata": {
      "needs_background": "light"
     },
     "output_type": "display_data"
    }
   ],
   "source": [
    "plt.plot(data['AP1_LD'].days, data['AP1_LD'].rltv_transcription_lvl, 'go-')"
   ]
  },
  {
   "cell_type": "markdown",
   "metadata": {},
   "source": [
    "# Train-test split"
   ]
  },
  {
   "cell_type": "code",
   "execution_count": 90,
   "metadata": {},
   "outputs": [],
   "source": [
    "conditions = ['LD', 'SD']"
   ]
  },
  {
   "cell_type": "code",
   "execution_count": 91,
   "metadata": {},
   "outputs": [],
   "source": [
    "train_set = pd.DataFrame(columns=genes + ['days'])\n",
    "test_set = pd.DataFrame(columns=genes + ['days'])"
   ]
  },
  {
   "cell_type": "code",
   "execution_count": 161,
   "metadata": {},
   "outputs": [],
   "source": [
    "# for day in days_all:\n",
    "#     if day < 37:\n",
    "#         for cond in conditions:\n",
    "#             temp_df = pd.DataFrame(daily_levels[cond][day]).iloc[:375, :]\n",
    "#             temp_df['days'] = day\n",
    "#             train_set = train_set.append(temp_df)\n",
    "            \n",
    "#             temp_df = pd.DataFrame(daily_levels[cond][day]).iloc[375:500, :]\n",
    "#             temp_df['days'] = day\n",
    "#             test_set = test_set.append(temp_df)\n",
    "#     else:\n",
    "#         temp_df = pd.DataFrame(daily_levels['LD'][day]).iloc[:750, :]\n",
    "#         temp_df['days'] = day\n",
    "#         train_set = train_set.append(temp_df)\n",
    "        \n",
    "#         temp_df = pd.DataFrame(daily_levels['LD'][day]).iloc[750:1000, :]\n",
    "#         temp_df['days'] = day\n",
    "#         test_set = test_set.append(temp_df)"
   ]
  },
  {
   "cell_type": "code",
   "execution_count": 92,
   "metadata": {},
   "outputs": [],
   "source": [
    "for day in days_all:\n",
    "    for cond in conditions:\n",
    "        temp_df = pd.DataFrame(daily_levels[cond][day]).iloc[:375, :]\n",
    "        temp_df['days'] = day\n",
    "        train_set = train_set.append(temp_df)\n",
    "\n",
    "        temp_df = pd.DataFrame(daily_levels[cond][day]).iloc[375:500, :]\n",
    "        temp_df['days'] = day\n",
    "        test_set = test_set.append(temp_df)"
   ]
  },
  {
   "cell_type": "code",
   "execution_count": 93,
   "metadata": {},
   "outputs": [
    {
     "data": {
      "text/html": [
       "<div>\n",
       "<style scoped>\n",
       "    .dataframe tbody tr th:only-of-type {\n",
       "        vertical-align: middle;\n",
       "    }\n",
       "\n",
       "    .dataframe tbody tr th {\n",
       "        vertical-align: top;\n",
       "    }\n",
       "\n",
       "    .dataframe thead th {\n",
       "        text-align: right;\n",
       "    }\n",
       "</style>\n",
       "<table border=\"1\" class=\"dataframe\">\n",
       "  <thead>\n",
       "    <tr style=\"text-align: right;\">\n",
       "      <th></th>\n",
       "      <th>AP1</th>\n",
       "      <th>FD</th>\n",
       "      <th>FTa1</th>\n",
       "      <th>FTa2</th>\n",
       "      <th>FTa3</th>\n",
       "      <th>FTb</th>\n",
       "      <th>FTc</th>\n",
       "      <th>LFY</th>\n",
       "      <th>TFL1a</th>\n",
       "      <th>TFL1c</th>\n",
       "      <th>days</th>\n",
       "    </tr>\n",
       "  </thead>\n",
       "  <tbody>\n",
       "    <tr>\n",
       "      <th>370</th>\n",
       "      <td>19.533267</td>\n",
       "      <td>21.990897</td>\n",
       "      <td>12.381284</td>\n",
       "      <td>151.944683</td>\n",
       "      <td>2.999440</td>\n",
       "      <td>1.983981</td>\n",
       "      <td>12.153922</td>\n",
       "      <td>26.248205</td>\n",
       "      <td>10.926765</td>\n",
       "      <td>19.471704</td>\n",
       "      <td>43</td>\n",
       "    </tr>\n",
       "    <tr>\n",
       "      <th>371</th>\n",
       "      <td>36.189393</td>\n",
       "      <td>38.007495</td>\n",
       "      <td>8.407753</td>\n",
       "      <td>175.788601</td>\n",
       "      <td>2.482471</td>\n",
       "      <td>5.275085</td>\n",
       "      <td>2.983991</td>\n",
       "      <td>26.393600</td>\n",
       "      <td>13.146408</td>\n",
       "      <td>10.911093</td>\n",
       "      <td>43</td>\n",
       "    </tr>\n",
       "    <tr>\n",
       "      <th>372</th>\n",
       "      <td>34.188660</td>\n",
       "      <td>16.973848</td>\n",
       "      <td>9.880813</td>\n",
       "      <td>218.431779</td>\n",
       "      <td>2.761386</td>\n",
       "      <td>16.223098</td>\n",
       "      <td>7.360543</td>\n",
       "      <td>1.943543</td>\n",
       "      <td>7.586845</td>\n",
       "      <td>11.713444</td>\n",
       "      <td>43</td>\n",
       "    </tr>\n",
       "    <tr>\n",
       "      <th>373</th>\n",
       "      <td>42.993622</td>\n",
       "      <td>35.083533</td>\n",
       "      <td>10.044613</td>\n",
       "      <td>226.909571</td>\n",
       "      <td>1.683156</td>\n",
       "      <td>22.627339</td>\n",
       "      <td>27.144252</td>\n",
       "      <td>4.338056</td>\n",
       "      <td>10.537851</td>\n",
       "      <td>22.154665</td>\n",
       "      <td>43</td>\n",
       "    </tr>\n",
       "    <tr>\n",
       "      <th>374</th>\n",
       "      <td>17.110908</td>\n",
       "      <td>23.656439</td>\n",
       "      <td>9.954140</td>\n",
       "      <td>135.067760</td>\n",
       "      <td>0.968515</td>\n",
       "      <td>25.064686</td>\n",
       "      <td>28.834503</td>\n",
       "      <td>10.889699</td>\n",
       "      <td>12.172244</td>\n",
       "      <td>12.494907</td>\n",
       "      <td>43</td>\n",
       "    </tr>\n",
       "  </tbody>\n",
       "</table>\n",
       "</div>"
      ],
      "text/plain": [
       "           AP1         FD       FTa1        FTa2      FTa3        FTb  \\\n",
       "370  19.533267  21.990897  12.381284  151.944683  2.999440   1.983981   \n",
       "371  36.189393  38.007495   8.407753  175.788601  2.482471   5.275085   \n",
       "372  34.188660  16.973848   9.880813  218.431779  2.761386  16.223098   \n",
       "373  42.993622  35.083533  10.044613  226.909571  1.683156  22.627339   \n",
       "374  17.110908  23.656439   9.954140  135.067760  0.968515  25.064686   \n",
       "\n",
       "           FTc        LFY      TFL1a      TFL1c days  \n",
       "370  12.153922  26.248205  10.926765  19.471704   43  \n",
       "371   2.983991  26.393600  13.146408  10.911093   43  \n",
       "372   7.360543   1.943543   7.586845  11.713444   43  \n",
       "373  27.144252   4.338056  10.537851  22.154665   43  \n",
       "374  28.834503  10.889699  12.172244  12.494907   43  "
      ]
     },
     "execution_count": 93,
     "metadata": {},
     "output_type": "execute_result"
    }
   ],
   "source": [
    "train_set.tail()"
   ]
  },
  {
   "cell_type": "code",
   "execution_count": 94,
   "metadata": {},
   "outputs": [
    {
     "data": {
      "text/plain": [
       "43    250\n",
       "22    250\n",
       "11    250\n",
       "13    250\n",
       "15    250\n",
       "17    250\n",
       "19    250\n",
       "20    250\n",
       "25    250\n",
       "40    250\n",
       "28    250\n",
       "30    250\n",
       "31    250\n",
       "32    250\n",
       "34    250\n",
       "37    250\n",
       "9     250\n",
       "Name: days, dtype: int64"
      ]
     },
     "execution_count": 94,
     "metadata": {},
     "output_type": "execute_result"
    }
   ],
   "source": [
    "test_set.days.value_counts()"
   ]
  },
  {
   "cell_type": "code",
   "execution_count": 95,
   "metadata": {},
   "outputs": [
    {
     "data": {
      "text/plain": [
       "43    750\n",
       "22    750\n",
       "11    750\n",
       "13    750\n",
       "15    750\n",
       "17    750\n",
       "19    750\n",
       "20    750\n",
       "25    750\n",
       "40    750\n",
       "28    750\n",
       "30    750\n",
       "31    750\n",
       "32    750\n",
       "34    750\n",
       "37    750\n",
       "9     750\n",
       "Name: days, dtype: int64"
      ]
     },
     "execution_count": 95,
     "metadata": {},
     "output_type": "execute_result"
    }
   ],
   "source": [
    "train_set.days.value_counts()"
   ]
  },
  {
   "cell_type": "code",
   "execution_count": 165,
   "metadata": {},
   "outputs": [],
   "source": [
    "X_train = train_set[train_set['days'] < 40]\n",
    "X_test = test_set[test_set['days'] < 40]"
   ]
  },
  {
   "cell_type": "code",
   "execution_count": 166,
   "metadata": {},
   "outputs": [
    {
     "data": {
      "text/plain": [
       "['FTa1', 'FTa2', 'FTa3', 'FTb', 'FTc']"
      ]
     },
     "execution_count": 166,
     "metadata": {},
     "output_type": "execute_result"
    }
   ],
   "source": [
    "FTs = [x for x in genes if x.startswith('FT')]\n",
    "FTs"
   ]
  },
  {
   "cell_type": "code",
   "execution_count": 167,
   "metadata": {},
   "outputs": [],
   "source": [
    "y_train = train_set[train_set['days'] > 9].drop(FTs, axis=1)\n",
    "y_test = test_set[test_set['days'] > 9].drop(FTs, axis=1)"
   ]
  },
  {
   "cell_type": "markdown",
   "metadata": {},
   "source": [
    "## Write data to csvs "
   ]
  },
  {
   "cell_type": "code",
   "execution_count": 169,
   "metadata": {},
   "outputs": [],
   "source": [
    "X_train.to_csv('data/prepared/X_train.csv', index=False)\n",
    "X_test.to_csv('data/prepared/X_test.csv', index=False)\n",
    "\n",
    "y_train.to_csv('data/prepared/y_train.csv', index=False)\n",
    "y_test.to_csv('data/prepared/y_test.csv', index=False)\n",
    "\n",
    "train_set.to_csv('data/prepared/train.csv', index=False)\n",
    "test_set.to_csv('data/prepared/test.csv', index=False)"
   ]
  },
  {
   "cell_type": "markdown",
   "metadata": {},
   "source": [
    "# Model"
   ]
  },
  {
   "cell_type": "code",
   "execution_count": null,
   "metadata": {},
   "outputs": [],
   "source": [
    "model = RandomForestRegressor()"
   ]
  },
  {
   "cell_type": "code",
   "execution_count": null,
   "metadata": {},
   "outputs": [],
   "source": [
    "cv = TimeSeriesSplit(n_splits=len(days_all))"
   ]
  },
  {
   "cell_type": "code",
   "execution_count": null,
   "metadata": {},
   "outputs": [],
   "source": []
  },
  {
   "cell_type": "code",
   "execution_count": null,
   "metadata": {},
   "outputs": [],
   "source": []
  },
  {
   "cell_type": "code",
   "execution_count": null,
   "metadata": {},
   "outputs": [],
   "source": []
  },
  {
   "cell_type": "code",
   "execution_count": null,
   "metadata": {},
   "outputs": [],
   "source": []
  },
  {
   "cell_type": "code",
   "execution_count": null,
   "metadata": {},
   "outputs": [],
   "source": []
  },
  {
   "cell_type": "code",
   "execution_count": null,
   "metadata": {},
   "outputs": [],
   "source": []
  },
  {
   "cell_type": "code",
   "execution_count": null,
   "metadata": {},
   "outputs": [],
   "source": []
  },
  {
   "cell_type": "code",
   "execution_count": null,
   "metadata": {},
   "outputs": [],
   "source": []
  },
  {
   "cell_type": "code",
   "execution_count": null,
   "metadata": {},
   "outputs": [],
   "source": []
  },
  {
   "cell_type": "code",
   "execution_count": null,
   "metadata": {},
   "outputs": [],
   "source": []
  },
  {
   "cell_type": "code",
   "execution_count": null,
   "metadata": {},
   "outputs": [],
   "source": []
  },
  {
   "cell_type": "code",
   "execution_count": null,
   "metadata": {},
   "outputs": [],
   "source": []
  },
  {
   "cell_type": "code",
   "execution_count": null,
   "metadata": {},
   "outputs": [],
   "source": []
  },
  {
   "cell_type": "code",
   "execution_count": null,
   "metadata": {},
   "outputs": [],
   "source": []
  },
  {
   "cell_type": "code",
   "execution_count": null,
   "metadata": {},
   "outputs": [],
   "source": []
  },
  {
   "cell_type": "code",
   "execution_count": null,
   "metadata": {},
   "outputs": [],
   "source": [
    "def logging(description, out):\n",
    "    string = str(description) + ': ' + str(out)\n",
    "    with open('results/NN/NN_log.txt', 'a') as out_file:\n",
    "        out_file.write(string + '\\n')\n",
    "    print(string)"
   ]
  },
  {
   "cell_type": "code",
   "execution_count": null,
   "metadata": {},
   "outputs": [],
   "source": [
    "def clear_log():\n",
    "    with open('results/NN/NN_log.txt', 'w') as out_file:\n",
    "        out_file.write('log file have been cleared ' + str(datetime.datetime.now().strftime('%d-%m-%Y %H:%M:%S')))"
   ]
  },
  {
   "cell_type": "code",
   "execution_count": null,
   "metadata": {
    "scrolled": true
   },
   "outputs": [],
   "source": [
    "with open('cache/NN_model.cached', 'rb') as file:\n",
    "    model = dill.load(file)"
   ]
  },
  {
   "cell_type": "code",
   "execution_count": null,
   "metadata": {},
   "outputs": [],
   "source": [
    "with open('cache/st_scaler.cached', 'rb') as f:\n",
    "    st_scalers = dill.load(f)"
   ]
  },
  {
   "cell_type": "code",
   "execution_count": null,
   "metadata": {},
   "outputs": [],
   "source": [
    "dill.dump_session('cache/data_preparation.db')"
   ]
  },
  {
   "cell_type": "code",
   "execution_count": null,
   "metadata": {},
   "outputs": [],
   "source": []
  }
 ],
 "metadata": {
  "celltoolbar": "Raw Cell Format",
  "kernelspec": {
   "display_name": "Python (base)",
   "language": "python",
   "name": "base"
  },
  "language_info": {
   "codemirror_mode": {
    "name": "ipython",
    "version": 3
   },
   "file_extension": ".py",
   "mimetype": "text/x-python",
   "name": "python",
   "nbconvert_exporter": "python",
   "pygments_lexer": "ipython3",
   "version": "3.7.6"
  },
  "toc": {
   "base_numbering": 1,
   "nav_menu": {},
   "number_sections": true,
   "sideBar": true,
   "skip_h1_title": false,
   "title_cell": "Table of Contents",
   "title_sidebar": "Contents",
   "toc_cell": false,
   "toc_position": {
    "height": "calc(100% - 180px)",
    "left": "10px",
    "top": "150px",
    "width": "220px"
   },
   "toc_section_display": true,
   "toc_window_display": true
  }
 },
 "nbformat": 4,
 "nbformat_minor": 2
}
