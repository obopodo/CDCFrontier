{
 "cells": [
  {
   "cell_type": "markdown",
   "metadata": {},
   "source": [
    "# Imports"
   ]
  },
  {
   "cell_type": "code",
   "execution_count": 1,
   "metadata": {},
   "outputs": [],
   "source": [
    "import pandas as pd\n",
    "import numpy as np\n",
    "import os\n",
    "\n",
    "import seaborn as sns\n",
    "import matplotlib as mpl\n",
    "import matplotlib.pyplot as plt\n",
    "\n",
    "from numpy.random import normal, uniform, shuffle\n",
    "import random\n",
    "\n",
    "from sklearn.preprocessing import StandardScaler\n",
    "from sklearn.model_selection import train_test_split, TimeSeriesSplit\n",
    "from sklearn.ensemble import RandomForestRegressor\n",
    "\n",
    "import dill\n",
    "import datetime"
   ]
  },
  {
   "cell_type": "code",
   "execution_count": 2,
   "metadata": {},
   "outputs": [],
   "source": [
    "%matplotlib inline"
   ]
  },
  {
   "cell_type": "code",
   "execution_count": 17,
   "metadata": {},
   "outputs": [],
   "source": [
    "# SEED = 73 # random seed"
   ]
  },
  {
   "cell_type": "code",
   "execution_count": 18,
   "metadata": {
    "scrolled": false
   },
   "outputs": [],
   "source": [
    "# dill.load_session('cache/data_preparation.db')"
   ]
  },
  {
   "cell_type": "code",
   "execution_count": 19,
   "metadata": {},
   "outputs": [],
   "source": [
    "# dill.dump_session('cached/1_Data_preparation.db')"
   ]
  },
  {
   "cell_type": "markdown",
   "metadata": {},
   "source": [
    "# Data reading"
   ]
  },
  {
   "cell_type": "markdown",
   "metadata": {},
   "source": [
    "## Reading"
   ]
  },
  {
   "cell_type": "code",
   "execution_count": 3,
   "metadata": {},
   "outputs": [],
   "source": [
    "csvs = [x for x in os.listdir('data/') if x.endswith('.csv')] # читаем имена файлов .csv"
   ]
  },
  {
   "cell_type": "code",
   "execution_count": 4,
   "metadata": {},
   "outputs": [],
   "source": [
    "needed_csvs = []\n",
    "\n",
    "for s in csvs:\n",
    "    if 'CDC' in s:\n",
    "        needed_csvs.append(s)"
   ]
  },
  {
   "cell_type": "code",
   "execution_count": 52,
   "metadata": {},
   "outputs": [],
   "source": [
    "nms = [x.split('.')[0] for x in needed_csvs] # список имён будущих датафреймов сделаем без расширений"
   ]
  },
  {
   "cell_type": "code",
   "execution_count": 11,
   "metadata": {
    "collapsed": true
   },
   "outputs": [
    {
     "data": {
      "text/plain": [
       "['AP1_CDCFrontier_LD.csv',\n",
       " 'AP1_CDCFrontier_SD.csv',\n",
       " 'FD_CDCFrontier_LD.csv',\n",
       " 'FD_CDCFrontier_SD.csv',\n",
       " 'FTa1_CDCFrontier_LD.csv',\n",
       " 'FTa1_CDCFrontier_SD.csv',\n",
       " 'FTa2_CDCFrontier_LD.csv',\n",
       " 'FTa2_CDCFrontier_SD.csv',\n",
       " 'FTa3_CDCFrontier_LD.csv',\n",
       " 'FTa3_CDCFrontier_SD.csv',\n",
       " 'FTb_CDCFrontier_LD.csv',\n",
       " 'FTb_CDCFrontier_SD.csv',\n",
       " 'FTc_CDCFrontier_LD.csv',\n",
       " 'FTc_CDCFrontier_SD.csv',\n",
       " 'LFY_CDCFrontier_LD.csv',\n",
       " 'LFY_CDCFrontier_SD.csv',\n",
       " 'TFL1a_CDCFrontier_LD.csv',\n",
       " 'TFL1a_CDCFrontier_SD.csv',\n",
       " 'TFL1c_CDCFrontier_LD.csv',\n",
       " 'TFL1c_CDCFrontier_SD.csv']"
      ]
     },
     "execution_count": 11,
     "metadata": {},
     "output_type": "execute_result"
    }
   ],
   "source": [
    "needed_csvs"
   ]
  },
  {
   "cell_type": "code",
   "execution_count": 13,
   "metadata": {},
   "outputs": [],
   "source": [
    "LD_csvs = [fname for fname in needed_csvs if 'LD' in fname]"
   ]
  },
  {
   "cell_type": "code",
   "execution_count": 14,
   "metadata": {},
   "outputs": [
    {
     "data": {
      "text/plain": [
       "['AP1_CDCFrontier_LD.csv',\n",
       " 'FD_CDCFrontier_LD.csv',\n",
       " 'FTa1_CDCFrontier_LD.csv',\n",
       " 'FTa2_CDCFrontier_LD.csv',\n",
       " 'FTa3_CDCFrontier_LD.csv',\n",
       " 'FTb_CDCFrontier_LD.csv',\n",
       " 'FTc_CDCFrontier_LD.csv',\n",
       " 'LFY_CDCFrontier_LD.csv',\n",
       " 'TFL1a_CDCFrontier_LD.csv',\n",
       " 'TFL1c_CDCFrontier_LD.csv']"
      ]
     },
     "execution_count": 14,
     "metadata": {},
     "output_type": "execute_result"
    }
   ],
   "source": [
    "LD_csvs"
   ]
  },
  {
   "cell_type": "code",
   "execution_count": 15,
   "metadata": {},
   "outputs": [
    {
     "data": {
      "text/plain": [
       "10"
      ]
     },
     "execution_count": 15,
     "metadata": {},
     "output_type": "execute_result"
    }
   ],
   "source": [
    "len(LD_csvs)"
   ]
  },
  {
   "cell_type": "code",
   "execution_count": 55,
   "metadata": {},
   "outputs": [],
   "source": [
    "for i in range(len(nms)):\n",
    "    nms[i] = '_'.join(nms[i].split('_CDCFrontier_'))"
   ]
  },
  {
   "cell_type": "code",
   "execution_count": 56,
   "metadata": {},
   "outputs": [],
   "source": [
    "nms = [name for name in nms if name.endswith('LD')]"
   ]
  },
  {
   "cell_type": "code",
   "execution_count": 57,
   "metadata": {},
   "outputs": [
    {
     "data": {
      "text/plain": [
       "['AP1_LD',\n",
       " 'FD_LD',\n",
       " 'FTa1_LD',\n",
       " 'FTa2_LD',\n",
       " 'FTa3_LD',\n",
       " 'FTb_LD',\n",
       " 'FTc_LD',\n",
       " 'LFY_LD',\n",
       " 'TFL1a_LD',\n",
       " 'TFL1c_LD']"
      ]
     },
     "execution_count": 57,
     "metadata": {},
     "output_type": "execute_result"
    }
   ],
   "source": [
    "nms"
   ]
  },
  {
   "cell_type": "markdown",
   "metadata": {},
   "source": [
    "**Create a list of genes:**"
   ]
  },
  {
   "cell_type": "code",
   "execution_count": 17,
   "metadata": {},
   "outputs": [],
   "source": [
    "genes = []\n",
    "for i in range(len(nms)):\n",
    "    genes.append(nms[i][:-3])\n",
    "\n",
    "genes = list(set(genes))"
   ]
  },
  {
   "cell_type": "code",
   "execution_count": 18,
   "metadata": {},
   "outputs": [],
   "source": [
    "genes.sort()"
   ]
  },
  {
   "cell_type": "code",
   "execution_count": 19,
   "metadata": {},
   "outputs": [
    {
     "data": {
      "text/plain": [
       "['AP1', 'FD', 'FTa1', 'FTa2', 'FTa3', 'FTb', 'FTc', 'LFY', 'TFL1a', 'TFL1c']"
      ]
     },
     "execution_count": 19,
     "metadata": {},
     "output_type": "execute_result"
    }
   ],
   "source": [
    "genes"
   ]
  },
  {
   "cell_type": "code",
   "execution_count": 21,
   "metadata": {},
   "outputs": [],
   "source": [
    "data = {}\n",
    "for i in range(len(genes)):\n",
    "    data[genes[i]] = pd.read_csv('data/' + LD_csvs[i], header=None, names = ['days', 'rltv_transcription_lvl', 'std_error'])"
   ]
  },
  {
   "cell_type": "code",
   "execution_count": 22,
   "metadata": {
    "scrolled": false
   },
   "outputs": [
    {
     "name": "stdout",
     "output_type": "stream",
     "text": [
      "15\n"
     ]
    }
   ],
   "source": [
    "print(len(data['FTa2']))\n",
    "# print(len(data['FTa2_SD']))"
   ]
  },
  {
   "cell_type": "code",
   "execution_count": 146,
   "metadata": {},
   "outputs": [
    {
     "data": {
      "text/plain": [
       "'data/prepared/LD_only/'"
      ]
     },
     "execution_count": 146,
     "metadata": {},
     "output_type": "execute_result"
    }
   ],
   "source": [
    "data_path"
   ]
  },
  {
   "cell_type": "code",
   "execution_count": 24,
   "metadata": {
    "scrolled": true
   },
   "outputs": [
    {
     "data": {
      "text/html": [
       "<div>\n",
       "<style scoped>\n",
       "    .dataframe tbody tr th:only-of-type {\n",
       "        vertical-align: middle;\n",
       "    }\n",
       "\n",
       "    .dataframe tbody tr th {\n",
       "        vertical-align: top;\n",
       "    }\n",
       "\n",
       "    .dataframe thead th {\n",
       "        text-align: right;\n",
       "    }\n",
       "</style>\n",
       "<table border=\"1\" class=\"dataframe\">\n",
       "  <thead>\n",
       "    <tr style=\"text-align: right;\">\n",
       "      <th></th>\n",
       "      <th>days</th>\n",
       "      <th>rltv_transcription_lvl</th>\n",
       "      <th>std_error</th>\n",
       "    </tr>\n",
       "  </thead>\n",
       "  <tbody>\n",
       "    <tr>\n",
       "      <th>0</th>\n",
       "      <td>9</td>\n",
       "      <td>3</td>\n",
       "      <td>68.91</td>\n",
       "    </tr>\n",
       "    <tr>\n",
       "      <th>1</th>\n",
       "      <td>11</td>\n",
       "      <td>7</td>\n",
       "      <td>68.91</td>\n",
       "    </tr>\n",
       "    <tr>\n",
       "      <th>2</th>\n",
       "      <td>13</td>\n",
       "      <td>6</td>\n",
       "      <td>68.91</td>\n",
       "    </tr>\n",
       "    <tr>\n",
       "      <th>3</th>\n",
       "      <td>15</td>\n",
       "      <td>28</td>\n",
       "      <td>68.91</td>\n",
       "    </tr>\n",
       "    <tr>\n",
       "      <th>4</th>\n",
       "      <td>17</td>\n",
       "      <td>12</td>\n",
       "      <td>68.91</td>\n",
       "    </tr>\n",
       "    <tr>\n",
       "      <th>5</th>\n",
       "      <td>20</td>\n",
       "      <td>58</td>\n",
       "      <td>68.91</td>\n",
       "    </tr>\n",
       "    <tr>\n",
       "      <th>6</th>\n",
       "      <td>22</td>\n",
       "      <td>7</td>\n",
       "      <td>68.91</td>\n",
       "    </tr>\n",
       "    <tr>\n",
       "      <th>7</th>\n",
       "      <td>25</td>\n",
       "      <td>127</td>\n",
       "      <td>68.91</td>\n",
       "    </tr>\n",
       "    <tr>\n",
       "      <th>8</th>\n",
       "      <td>28</td>\n",
       "      <td>61</td>\n",
       "      <td>68.91</td>\n",
       "    </tr>\n",
       "    <tr>\n",
       "      <th>9</th>\n",
       "      <td>30</td>\n",
       "      <td>102</td>\n",
       "      <td>68.91</td>\n",
       "    </tr>\n",
       "    <tr>\n",
       "      <th>10</th>\n",
       "      <td>32</td>\n",
       "      <td>13</td>\n",
       "      <td>68.91</td>\n",
       "    </tr>\n",
       "    <tr>\n",
       "      <th>11</th>\n",
       "      <td>34</td>\n",
       "      <td>140</td>\n",
       "      <td>68.91</td>\n",
       "    </tr>\n",
       "    <tr>\n",
       "      <th>12</th>\n",
       "      <td>37</td>\n",
       "      <td>25</td>\n",
       "      <td>68.91</td>\n",
       "    </tr>\n",
       "    <tr>\n",
       "      <th>13</th>\n",
       "      <td>40</td>\n",
       "      <td>73</td>\n",
       "      <td>68.91</td>\n",
       "    </tr>\n",
       "    <tr>\n",
       "      <th>14</th>\n",
       "      <td>43</td>\n",
       "      <td>4</td>\n",
       "      <td>68.91</td>\n",
       "    </tr>\n",
       "  </tbody>\n",
       "</table>\n",
       "</div>"
      ],
      "text/plain": [
       "    days  rltv_transcription_lvl  std_error\n",
       "0      9                       3      68.91\n",
       "1     11                       7      68.91\n",
       "2     13                       6      68.91\n",
       "3     15                      28      68.91\n",
       "4     17                      12      68.91\n",
       "5     20                      58      68.91\n",
       "6     22                       7      68.91\n",
       "7     25                     127      68.91\n",
       "8     28                      61      68.91\n",
       "9     30                     102      68.91\n",
       "10    32                      13      68.91\n",
       "11    34                     140      68.91\n",
       "12    37                      25      68.91\n",
       "13    40                      73      68.91\n",
       "14    43                       4      68.91"
      ]
     },
     "execution_count": 24,
     "metadata": {},
     "output_type": "execute_result"
    }
   ],
   "source": [
    "data['FTb']"
   ]
  },
  {
   "cell_type": "markdown",
   "metadata": {},
   "source": [
    "## Delete last"
   ]
  },
  {
   "cell_type": "code",
   "execution_count": 25,
   "metadata": {
    "scrolled": true
   },
   "outputs": [
    {
     "data": {
      "image/png": "[encoded data removed]",
      "text/plain": [
       "<Figure size 432x288 with 1 Axes>"
      ]
     },
     "metadata": {
      "needs_background": "light"
     },
     "output_type": "display_data"
    }
   ],
   "source": [
    "plt.plot(data['AP1'].days, data['AP1'].rltv_transcription_lvl, 'o-');"
   ]
  },
  {
   "cell_type": "markdown",
   "metadata": {},
   "source": [
    "let's remove last measurements:"
   ]
  },
  {
   "cell_type": "code",
   "execution_count": 26,
   "metadata": {},
   "outputs": [],
   "source": [
    "for name in data.keys():\n",
    "    data[name] = data[name].iloc[:-1,:]"
   ]
  },
  {
   "cell_type": "code",
   "execution_count": 28,
   "metadata": {
    "scrolled": false
   },
   "outputs": [
    {
     "name": "stdout",
     "output_type": "stream",
     "text": [
      "14\n"
     ]
    }
   ],
   "source": [
    "print(len(data['FTa2']))"
   ]
  },
  {
   "cell_type": "code",
   "execution_count": 30,
   "metadata": {
    "scrolled": false
   },
   "outputs": [
    {
     "data": {
      "image/png": "[encoded data removed]",
      "text/plain": [
       "<Figure size 432x288 with 1 Axes>"
      ]
     },
     "metadata": {
      "needs_background": "light"
     },
     "output_type": "display_data"
    }
   ],
   "source": [
    "plt.plot(data['AP1'].days, data['AP1'].rltv_transcription_lvl, 'o-');"
   ]
  },
  {
   "cell_type": "markdown",
   "metadata": {},
   "source": [
    "# Create real experiment dataset"
   ]
  },
  {
   "cell_type": "code",
   "execution_count": 36,
   "metadata": {},
   "outputs": [
    {
     "data": {
      "text/plain": [
       "['AP1',\n",
       " 'FD',\n",
       " 'FTa1',\n",
       " 'FTa2',\n",
       " 'FTa3',\n",
       " 'FTb',\n",
       " 'FTc',\n",
       " 'LFY',\n",
       " 'TFL1a',\n",
       " 'TFL1c',\n",
       " 'days']"
      ]
     },
     "execution_count": 36,
     "metadata": {},
     "output_type": "execute_result"
    }
   ],
   "source": [
    "genes + ['days']"
   ]
  },
  {
   "cell_type": "code",
   "execution_count": 31,
   "metadata": {},
   "outputs": [],
   "source": [
    "real_data = pd.DataFrame(columns=genes + ['days'])"
   ]
  },
  {
   "cell_type": "code",
   "execution_count": 32,
   "metadata": {},
   "outputs": [],
   "source": [
    "for name in genes:\n",
    "    real_data[name] = data[name].rltv_transcription_lvl\n",
    "    real_data['days'] = data['AP1'].days"
   ]
  },
  {
   "cell_type": "code",
   "execution_count": 33,
   "metadata": {},
   "outputs": [
    {
     "data": {
      "text/html": [
       "<div>\n",
       "<style scoped>\n",
       "    .dataframe tbody tr th:only-of-type {\n",
       "        vertical-align: middle;\n",
       "    }\n",
       "\n",
       "    .dataframe tbody tr th {\n",
       "        vertical-align: top;\n",
       "    }\n",
       "\n",
       "    .dataframe thead th {\n",
       "        text-align: right;\n",
       "    }\n",
       "</style>\n",
       "<table border=\"1\" class=\"dataframe\">\n",
       "  <thead>\n",
       "    <tr style=\"text-align: right;\">\n",
       "      <th></th>\n",
       "      <th>AP1</th>\n",
       "      <th>FD</th>\n",
       "      <th>FTa1</th>\n",
       "      <th>FTa2</th>\n",
       "      <th>FTa3</th>\n",
       "      <th>FTb</th>\n",
       "      <th>FTc</th>\n",
       "      <th>LFY</th>\n",
       "      <th>TFL1a</th>\n",
       "      <th>TFL1c</th>\n",
       "      <th>days</th>\n",
       "    </tr>\n",
       "  </thead>\n",
       "  <tbody>\n",
       "    <tr>\n",
       "      <th>0</th>\n",
       "      <td>2</td>\n",
       "      <td>31.53</td>\n",
       "      <td>2</td>\n",
       "      <td>8</td>\n",
       "      <td>0.9</td>\n",
       "      <td>3</td>\n",
       "      <td>0</td>\n",
       "      <td>6.4</td>\n",
       "      <td>22.021</td>\n",
       "      <td>25.556</td>\n",
       "      <td>9</td>\n",
       "    </tr>\n",
       "    <tr>\n",
       "      <th>1</th>\n",
       "      <td>0</td>\n",
       "      <td>47.62</td>\n",
       "      <td>0</td>\n",
       "      <td>11</td>\n",
       "      <td>0.5</td>\n",
       "      <td>7</td>\n",
       "      <td>0</td>\n",
       "      <td>12.1</td>\n",
       "      <td>20.489</td>\n",
       "      <td>25.263</td>\n",
       "      <td>11</td>\n",
       "    </tr>\n",
       "    <tr>\n",
       "      <th>2</th>\n",
       "      <td>6</td>\n",
       "      <td>45.41</td>\n",
       "      <td>1</td>\n",
       "      <td>29</td>\n",
       "      <td>0.8</td>\n",
       "      <td>6</td>\n",
       "      <td>0</td>\n",
       "      <td>21.4</td>\n",
       "      <td>27.397</td>\n",
       "      <td>32.982</td>\n",
       "      <td>13</td>\n",
       "    </tr>\n",
       "    <tr>\n",
       "      <th>3</th>\n",
       "      <td>5</td>\n",
       "      <td>40.89</td>\n",
       "      <td>5</td>\n",
       "      <td>60</td>\n",
       "      <td>10.2</td>\n",
       "      <td>28</td>\n",
       "      <td>0</td>\n",
       "      <td>56.8</td>\n",
       "      <td>33.074</td>\n",
       "      <td>39.708</td>\n",
       "      <td>15</td>\n",
       "    </tr>\n",
       "    <tr>\n",
       "      <th>4</th>\n",
       "      <td>23</td>\n",
       "      <td>79.47</td>\n",
       "      <td>9</td>\n",
       "      <td>50</td>\n",
       "      <td>1.3</td>\n",
       "      <td>12</td>\n",
       "      <td>0</td>\n",
       "      <td>77.1</td>\n",
       "      <td>42.561</td>\n",
       "      <td>32.222</td>\n",
       "      <td>17</td>\n",
       "    </tr>\n",
       "    <tr>\n",
       "      <th>5</th>\n",
       "      <td>33</td>\n",
       "      <td>71.69</td>\n",
       "      <td>40</td>\n",
       "      <td>86</td>\n",
       "      <td>2.5</td>\n",
       "      <td>58</td>\n",
       "      <td>0</td>\n",
       "      <td>48.9</td>\n",
       "      <td>54.798</td>\n",
       "      <td>67.895</td>\n",
       "      <td>20</td>\n",
       "    </tr>\n",
       "    <tr>\n",
       "      <th>6</th>\n",
       "      <td>1</td>\n",
       "      <td>25.86</td>\n",
       "      <td>10</td>\n",
       "      <td>18</td>\n",
       "      <td>3.4</td>\n",
       "      <td>7</td>\n",
       "      <td>0</td>\n",
       "      <td>16.0</td>\n",
       "      <td>8.314</td>\n",
       "      <td>11.930</td>\n",
       "      <td>22</td>\n",
       "    </tr>\n",
       "    <tr>\n",
       "      <th>7</th>\n",
       "      <td>92</td>\n",
       "      <td>43.31</td>\n",
       "      <td>10</td>\n",
       "      <td>68</td>\n",
       "      <td>4.7</td>\n",
       "      <td>127</td>\n",
       "      <td>0</td>\n",
       "      <td>45.1</td>\n",
       "      <td>18.325</td>\n",
       "      <td>25.731</td>\n",
       "      <td>25</td>\n",
       "    </tr>\n",
       "    <tr>\n",
       "      <th>8</th>\n",
       "      <td>19</td>\n",
       "      <td>45.20</td>\n",
       "      <td>10</td>\n",
       "      <td>37</td>\n",
       "      <td>2.1</td>\n",
       "      <td>61</td>\n",
       "      <td>0</td>\n",
       "      <td>27.7</td>\n",
       "      <td>15.851</td>\n",
       "      <td>18.713</td>\n",
       "      <td>28</td>\n",
       "    </tr>\n",
       "    <tr>\n",
       "      <th>9</th>\n",
       "      <td>355</td>\n",
       "      <td>81.78</td>\n",
       "      <td>6</td>\n",
       "      <td>52</td>\n",
       "      <td>14.8</td>\n",
       "      <td>102</td>\n",
       "      <td>14</td>\n",
       "      <td>50.9</td>\n",
       "      <td>22.232</td>\n",
       "      <td>29.766</td>\n",
       "      <td>30</td>\n",
       "    </tr>\n",
       "    <tr>\n",
       "      <th>10</th>\n",
       "      <td>117</td>\n",
       "      <td>36.26</td>\n",
       "      <td>1</td>\n",
       "      <td>16</td>\n",
       "      <td>3.0</td>\n",
       "      <td>13</td>\n",
       "      <td>0</td>\n",
       "      <td>63.7</td>\n",
       "      <td>11.323</td>\n",
       "      <td>15.029</td>\n",
       "      <td>32</td>\n",
       "    </tr>\n",
       "    <tr>\n",
       "      <th>11</th>\n",
       "      <td>649</td>\n",
       "      <td>63.59</td>\n",
       "      <td>29</td>\n",
       "      <td>62</td>\n",
       "      <td>90.4</td>\n",
       "      <td>140</td>\n",
       "      <td>0</td>\n",
       "      <td>124.2</td>\n",
       "      <td>24.033</td>\n",
       "      <td>31.462</td>\n",
       "      <td>34</td>\n",
       "    </tr>\n",
       "    <tr>\n",
       "      <th>12</th>\n",
       "      <td>691</td>\n",
       "      <td>81.78</td>\n",
       "      <td>6</td>\n",
       "      <td>34</td>\n",
       "      <td>6.8</td>\n",
       "      <td>25</td>\n",
       "      <td>0</td>\n",
       "      <td>126.1</td>\n",
       "      <td>15.465</td>\n",
       "      <td>19.240</td>\n",
       "      <td>37</td>\n",
       "    </tr>\n",
       "    <tr>\n",
       "      <th>13</th>\n",
       "      <td>1025</td>\n",
       "      <td>112.37</td>\n",
       "      <td>41</td>\n",
       "      <td>116</td>\n",
       "      <td>32.2</td>\n",
       "      <td>73</td>\n",
       "      <td>2</td>\n",
       "      <td>95.7</td>\n",
       "      <td>16.039</td>\n",
       "      <td>40.877</td>\n",
       "      <td>40</td>\n",
       "    </tr>\n",
       "  </tbody>\n",
       "</table>\n",
       "</div>"
      ],
      "text/plain": [
       "     AP1      FD  FTa1  FTa2  FTa3  FTb  FTc    LFY   TFL1a   TFL1c  days\n",
       "0      2   31.53     2     8   0.9    3    0    6.4  22.021  25.556     9\n",
       "1      0   47.62     0    11   0.5    7    0   12.1  20.489  25.263    11\n",
       "2      6   45.41     1    29   0.8    6    0   21.4  27.397  32.982    13\n",
       "3      5   40.89     5    60  10.2   28    0   56.8  33.074  39.708    15\n",
       "4     23   79.47     9    50   1.3   12    0   77.1  42.561  32.222    17\n",
       "5     33   71.69    40    86   2.5   58    0   48.9  54.798  67.895    20\n",
       "6      1   25.86    10    18   3.4    7    0   16.0   8.314  11.930    22\n",
       "7     92   43.31    10    68   4.7  127    0   45.1  18.325  25.731    25\n",
       "8     19   45.20    10    37   2.1   61    0   27.7  15.851  18.713    28\n",
       "9    355   81.78     6    52  14.8  102   14   50.9  22.232  29.766    30\n",
       "10   117   36.26     1    16   3.0   13    0   63.7  11.323  15.029    32\n",
       "11   649   63.59    29    62  90.4  140    0  124.2  24.033  31.462    34\n",
       "12   691   81.78     6    34   6.8   25    0  126.1  15.465  19.240    37\n",
       "13  1025  112.37    41   116  32.2   73    2   95.7  16.039  40.877    40"
      ]
     },
     "execution_count": 33,
     "metadata": {},
     "output_type": "execute_result"
    }
   ],
   "source": [
    "real_data"
   ]
  },
  {
   "cell_type": "code",
   "execution_count": 39,
   "metadata": {},
   "outputs": [],
   "source": [
    "data_path= 'data/prepared/LD_only/'"
   ]
  },
  {
   "cell_type": "code",
   "execution_count": 34,
   "metadata": {},
   "outputs": [],
   "source": [
    "real_data.to_csv(f'{data_path}real_LD.csv', index = False)"
   ]
  },
  {
   "cell_type": "code",
   "execution_count": 35,
   "metadata": {},
   "outputs": [],
   "source": [
    "targets = [name for name in genes if not name.startswith('FT')]"
   ]
  },
  {
   "cell_type": "code",
   "execution_count": 36,
   "metadata": {},
   "outputs": [
    {
     "data": {
      "text/plain": [
       "['AP1', 'FD', 'LFY', 'TFL1a', 'TFL1c']"
      ]
     },
     "execution_count": 36,
     "metadata": {},
     "output_type": "execute_result"
    }
   ],
   "source": [
    "targets"
   ]
  },
  {
   "cell_type": "code",
   "execution_count": 37,
   "metadata": {},
   "outputs": [],
   "source": [
    "real_X = real_data.iloc[:-1, :]"
   ]
  },
  {
   "cell_type": "code",
   "execution_count": 38,
   "metadata": {},
   "outputs": [],
   "source": [
    "real_Y = real_data[targets].iloc[1:,]"
   ]
  },
  {
   "cell_type": "code",
   "execution_count": 40,
   "metadata": {},
   "outputs": [],
   "source": [
    "real_X.to_csv(f'{data_path}/real_X.csv', index = False)\n",
    "real_Y.to_csv(f'{data_path}/real_Y.csv', index = False)"
   ]
  },
  {
   "cell_type": "markdown",
   "metadata": {},
   "source": [
    "# Resampling"
   ]
  },
  {
   "cell_type": "markdown",
   "metadata": {},
   "source": [
    "## Generate samples "
   ]
  },
  {
   "cell_type": "code",
   "execution_count": 44,
   "metadata": {},
   "outputs": [],
   "source": [
    "days_LD = real_data.days.tolist()"
   ]
  },
  {
   "cell_type": "code",
   "execution_count": 47,
   "metadata": {},
   "outputs": [],
   "source": [
    "# for name in nms:\n",
    "#     for day in data[name]['days']:\n",
    "        \n",
    "#         mean = float(data[name][data[name]['days'] == day].loc[:, 'rltv_transcription_lvl'])\n",
    "#         std = float(data[name][data[name]['days'] == day].loc[:, 'rltv_transcription_lvl'])\n",
    "        \n",
    "#         if name.endswith('LD'):\n",
    "#             if day < 37:\n",
    "#                 daily_levels['LD'][day][name[:-3]] = normal(mean, std, 500)\n",
    "#             else:\n",
    "#                 daily_levels['LD'][day][name[:-3]] = normal(mean, std, 1000)\n",
    "            \n",
    "#         if name.endswith('SD'):\n",
    "#             daily_levels['SD'][day][name[:-3]] = abs(normal(mean, std, 500))\n",
    "        "
   ]
  },
  {
   "cell_type": "code",
   "execution_count": 112,
   "metadata": {},
   "outputs": [],
   "source": [
    "def generate_samples(data):\n",
    "\n",
    "    daily_levels = {}\n",
    "\n",
    "    for day in days_LD:\n",
    "        daily_levels[day] = {}\n",
    "    \n",
    "    for name in data.keys():\n",
    "        for day in data[name]['days']:\n",
    "\n",
    "            mean = float(data[name][data[name]['days'] == day].loc[:, 'rltv_transcription_lvl'])\n",
    "            std = float(data[name][data[name]['days'] == day].loc[:, 'std_error'])\n",
    "\n",
    "            samples = normal(mean, std, 3000)\n",
    "            samples = samples[samples > 0]\n",
    "            daily_levels[day][name] = samples[:1000]    \n",
    "    \n",
    "    return daily_levels"
   ]
  },
  {
   "cell_type": "code",
   "execution_count": 113,
   "metadata": {},
   "outputs": [],
   "source": [
    "daily_levels = generate_samples(data)"
   ]
  },
  {
   "cell_type": "code",
   "execution_count": 114,
   "metadata": {},
   "outputs": [
    {
     "name": "stdout",
     "output_type": "stream",
     "text": [
      "OK\n"
     ]
    }
   ],
   "source": [
    "for k in daily_levels.keys():\n",
    "    for k2, v in daily_levels[k].items():\n",
    "        if len(v) < 1000:\n",
    "            print(k2)\n",
    "print('OK')"
   ]
  },
  {
   "cell_type": "code",
   "execution_count": 115,
   "metadata": {},
   "outputs": [
    {
     "data": {
      "text/plain": [
       "True"
      ]
     },
     "execution_count": 115,
     "metadata": {},
     "output_type": "execute_result"
    }
   ],
   "source": [
    "list(daily_levels[9].keys()) == genes"
   ]
  },
  {
   "cell_type": "code",
   "execution_count": 116,
   "metadata": {},
   "outputs": [
    {
     "name": "stdout",
     "output_type": "stream",
     "text": [
      "9 :\n",
      "11 :\n",
      "13 :\n",
      "15 :\n",
      "17 :\n",
      "20 :\n",
      "22 :\n",
      "25 :\n",
      "28 :\n",
      "30 :\n",
      "32 :\n",
      "34 :\n",
      "37 :\n",
      "40 :\n"
     ]
    }
   ],
   "source": [
    "for k in daily_levels.keys():\n",
    "    \n",
    "    print(k,':')\n",
    "    \n",
    "    if list(daily_levels[k].keys()) != genes:\n",
    "        print('smth wrong!')"
   ]
  },
  {
   "cell_type": "markdown",
   "metadata": {},
   "source": [
    "## Inter/extra-polate values to all missing days"
   ]
  },
  {
   "cell_type": "code",
   "execution_count": 88,
   "metadata": {},
   "outputs": [
    {
     "data": {
      "text/plain": [
       "<matplotlib.axes._subplots.AxesSubplot at 0x2488d8d8908>"
      ]
     },
     "execution_count": 88,
     "metadata": {},
     "output_type": "execute_result"
    },
    {
     "data": {
      "image/png": "[encoded data removed]",
      "text/plain": [
       "<Figure size 432x288 with 1 Axes>"
      ]
     },
     "metadata": {
      "needs_background": "light"
     },
     "output_type": "display_data"
    }
   ],
   "source": [
    "sns.distplot(daily_levels[11]['AP1'], bins = 20)"
   ]
  },
  {
   "cell_type": "markdown",
   "metadata": {},
   "source": [
    "### Set FT level shift to 1/2 of a day:"
   ]
  },
  {
   "cell_type": "code",
   "execution_count": 117,
   "metadata": {},
   "outputs": [
    {
     "name": "stdout",
     "output_type": "stream",
     "text": [
      "9 : 1000\n",
      "11 : 1000\n",
      "13 : 1000\n",
      "15 : 1000\n",
      "17 : 1000\n",
      "20 : 1000\n",
      "22 : 1000\n",
      "25 : 1000\n",
      "28 : 1000\n",
      "30 : 1000\n",
      "32 : 1000\n",
      "34 : 1000\n",
      "37 : 1000\n",
      "40 : 1000\n"
     ]
    }
   ],
   "source": [
    "for key in daily_levels.keys():\n",
    "    print(key, ':', len(daily_levels[key]['AP1']))"
   ]
  },
  {
   "cell_type": "code",
   "execution_count": 118,
   "metadata": {},
   "outputs": [
    {
     "data": {
      "text/plain": [
       "[9, 11, 13, 15, 17, 20, 22, 25, 28, 30, 32, 34, 37, 40]"
      ]
     },
     "execution_count": 118,
     "metadata": {},
     "output_type": "execute_result"
    }
   ],
   "source": [
    "days_LD"
   ]
  },
  {
   "cell_type": "code",
   "execution_count": 119,
   "metadata": {},
   "outputs": [
    {
     "data": {
      "text/plain": [
       "22.65782572849159"
      ]
     },
     "execution_count": 119,
     "metadata": {},
     "output_type": "execute_result"
    }
   ],
   "source": [
    "daily_levels[9]['FTb'][0]"
   ]
  },
  {
   "cell_type": "code",
   "execution_count": 121,
   "metadata": {},
   "outputs": [],
   "source": [
    "def move_FTs(daily_levels_original):\n",
    "    \n",
    "    daily_levels = daily_levels_original.copy()\n",
    "    \n",
    "    for name in genes:\n",
    "        if name.startswith('FT'):\n",
    "            current_FT = [[] for i in range(len(daily_levels))]\n",
    "            \n",
    "            current_FT[0] = daily_levels[days_LD[0]][name] * 17. / 18. # move first day\n",
    "            \n",
    "            for i in range(1, len(daily_levels)):\n",
    "                ''' shift is 1/2 for 1 day difference \n",
    "                between observations, 3/4 for 2 days, etc.\n",
    "                so let's define factor w'''\n",
    "                w = 1 - 1 / (2 * (days_LD[i] - days_LD[i-1]))\n",
    "                \n",
    "                current_FT[i] = w * np.add(daily_levels[days_LD[i]][name],\n",
    "                                               daily_levels[days_LD[i-1]][name])\n",
    "\n",
    "            for i in range(len(daily_levels)):\n",
    "                daily_levels[days_LD[i]][name] = current_FT[i]\n",
    "    \n",
    "    return daily_levels"
   ]
  },
  {
   "cell_type": "code",
   "execution_count": 122,
   "metadata": {},
   "outputs": [],
   "source": [
    "daily_levels_original = daily_levels.copy()"
   ]
  },
  {
   "cell_type": "code",
   "execution_count": 123,
   "metadata": {},
   "outputs": [],
   "source": [
    "daily_levels = move_FTs(daily_levels_original)"
   ]
  },
  {
   "cell_type": "code",
   "execution_count": 124,
   "metadata": {},
   "outputs": [
    {
     "data": {
      "text/plain": [
       "21.39905763246428"
      ]
     },
     "execution_count": 124,
     "metadata": {},
     "output_type": "execute_result"
    }
   ],
   "source": [
    "daily_levels[9]['FTb'][0]"
   ]
  },
  {
   "cell_type": "markdown",
   "metadata": {},
   "source": [
    "### Try to free the memory:"
   ]
  },
  {
   "cell_type": "code",
   "execution_count": 93,
   "metadata": {},
   "outputs": [],
   "source": [
    "# def free_memory(variables_list):\n",
    "#     for name in variables_list:\n",
    "#         del name"
   ]
  },
  {
   "cell_type": "code",
   "execution_count": 94,
   "metadata": {},
   "outputs": [],
   "source": [
    "# for key in globals().keys():\n",
    "#     print(key)"
   ]
  },
  {
   "cell_type": "markdown",
   "metadata": {},
   "source": [
    "### Save the data"
   ]
  },
  {
   "cell_type": "code",
   "execution_count": 95,
   "metadata": {},
   "outputs": [],
   "source": [
    "# with open('cache/samples_by_day.cached', 'wb') as f:\n",
    "#     dill.dump(daily_levels, f)"
   ]
  },
  {
   "cell_type": "markdown",
   "metadata": {},
   "source": [
    "### Check the trend"
   ]
  },
  {
   "cell_type": "code",
   "execution_count": 128,
   "metadata": {},
   "outputs": [
    {
     "name": "stdout",
     "output_type": "stream",
     "text": [
      "9 : 42.940150878617686\n",
      "11 : 40.94961935186764\n",
      "13 : 43.871761157519785\n",
      "15 : 44.781666299583335\n",
      "17 : 50.73822357832045\n",
      "20 : 56.024852891398886\n",
      "22 : 40.62778550152018\n",
      "25 : 117.81794262436068\n",
      "28 : 52.12900631269186\n",
      "30 : 356.8419464398351\n",
      "32 : 119.44496944367775\n",
      "34 : 640.8277446670226\n",
      "37 : 696.0913071278367\n",
      "40 : 1018.3654526510956\n"
     ]
    }
   ],
   "source": [
    "for k in daily_levels.keys():\n",
    "    print(k, ':', np.mean(daily_levels[k]['AP1']))"
   ]
  },
  {
   "cell_type": "code",
   "execution_count": 131,
   "metadata": {},
   "outputs": [
    {
     "data": {
      "text/plain": [
       "[<matplotlib.lines.Line2D at 0x2488f18a908>]"
      ]
     },
     "execution_count": 131,
     "metadata": {},
     "output_type": "execute_result"
    },
    {
     "data": {
      "image/png": "[encoded data removed]",
      "text/plain": [
       "<Figure size 432x288 with 1 Axes>"
      ]
     },
     "metadata": {
      "needs_background": "light"
     },
     "output_type": "display_data"
    }
   ],
   "source": [
    "plt.plot([np.mean(daily_levels[k]['AP1']) for k in days_LD], '-o')"
   ]
  },
  {
   "cell_type": "code",
   "execution_count": 132,
   "metadata": {},
   "outputs": [
    {
     "data": {
      "text/html": [
       "<div>\n",
       "<style scoped>\n",
       "    .dataframe tbody tr th:only-of-type {\n",
       "        vertical-align: middle;\n",
       "    }\n",
       "\n",
       "    .dataframe tbody tr th {\n",
       "        vertical-align: top;\n",
       "    }\n",
       "\n",
       "    .dataframe thead th {\n",
       "        text-align: right;\n",
       "    }\n",
       "</style>\n",
       "<table border=\"1\" class=\"dataframe\">\n",
       "  <thead>\n",
       "    <tr style=\"text-align: right;\">\n",
       "      <th></th>\n",
       "      <th>days</th>\n",
       "      <th>rltv_transcription_lvl</th>\n",
       "    </tr>\n",
       "  </thead>\n",
       "  <tbody>\n",
       "    <tr>\n",
       "      <th>0</th>\n",
       "      <td>9</td>\n",
       "      <td>2</td>\n",
       "    </tr>\n",
       "    <tr>\n",
       "      <th>1</th>\n",
       "      <td>11</td>\n",
       "      <td>0</td>\n",
       "    </tr>\n",
       "    <tr>\n",
       "      <th>2</th>\n",
       "      <td>13</td>\n",
       "      <td>6</td>\n",
       "    </tr>\n",
       "    <tr>\n",
       "      <th>3</th>\n",
       "      <td>15</td>\n",
       "      <td>5</td>\n",
       "    </tr>\n",
       "    <tr>\n",
       "      <th>4</th>\n",
       "      <td>17</td>\n",
       "      <td>23</td>\n",
       "    </tr>\n",
       "    <tr>\n",
       "      <th>5</th>\n",
       "      <td>20</td>\n",
       "      <td>33</td>\n",
       "    </tr>\n",
       "    <tr>\n",
       "      <th>6</th>\n",
       "      <td>22</td>\n",
       "      <td>1</td>\n",
       "    </tr>\n",
       "    <tr>\n",
       "      <th>7</th>\n",
       "      <td>25</td>\n",
       "      <td>92</td>\n",
       "    </tr>\n",
       "    <tr>\n",
       "      <th>8</th>\n",
       "      <td>28</td>\n",
       "      <td>19</td>\n",
       "    </tr>\n",
       "    <tr>\n",
       "      <th>9</th>\n",
       "      <td>30</td>\n",
       "      <td>355</td>\n",
       "    </tr>\n",
       "    <tr>\n",
       "      <th>10</th>\n",
       "      <td>32</td>\n",
       "      <td>117</td>\n",
       "    </tr>\n",
       "    <tr>\n",
       "      <th>11</th>\n",
       "      <td>34</td>\n",
       "      <td>649</td>\n",
       "    </tr>\n",
       "    <tr>\n",
       "      <th>12</th>\n",
       "      <td>37</td>\n",
       "      <td>691</td>\n",
       "    </tr>\n",
       "    <tr>\n",
       "      <th>13</th>\n",
       "      <td>40</td>\n",
       "      <td>1025</td>\n",
       "    </tr>\n",
       "  </tbody>\n",
       "</table>\n",
       "</div>"
      ],
      "text/plain": [
       "    days  rltv_transcription_lvl\n",
       "0      9                       2\n",
       "1     11                       0\n",
       "2     13                       6\n",
       "3     15                       5\n",
       "4     17                      23\n",
       "5     20                      33\n",
       "6     22                       1\n",
       "7     25                      92\n",
       "8     28                      19\n",
       "9     30                     355\n",
       "10    32                     117\n",
       "11    34                     649\n",
       "12    37                     691\n",
       "13    40                    1025"
      ]
     },
     "execution_count": 132,
     "metadata": {},
     "output_type": "execute_result"
    }
   ],
   "source": [
    "data['AP1'][['days', 'rltv_transcription_lvl']]"
   ]
  },
  {
   "cell_type": "code",
   "execution_count": 156,
   "metadata": {},
   "outputs": [],
   "source": [
    "test = []\n",
    "\n",
    "for k in daily_levels['LD'].keys():\n",
    "    test.append(daily_levels['LD'][k]['AP1'][300])"
   ]
  },
  {
   "cell_type": "code",
   "execution_count": 157,
   "metadata": {},
   "outputs": [
    {
     "data": {
      "text/plain": [
       "[<matplotlib.lines.Line2D at 0x174216d60f0>]"
      ]
     },
     "execution_count": 157,
     "metadata": {},
     "output_type": "execute_result"
    },
    {
     "data": {
      "image/png": "[encoded data removed]",
      "text/plain": [
       "<Figure size 432x288 with 1 Axes>"
      ]
     },
     "metadata": {
      "needs_background": "light"
     },
     "output_type": "display_data"
    }
   ],
   "source": [
    "plt.plot(days_all, test, '-o')"
   ]
  },
  {
   "cell_type": "code",
   "execution_count": 158,
   "metadata": {
    "scrolled": true
   },
   "outputs": [
    {
     "data": {
      "text/plain": [
       "[<matplotlib.lines.Line2D at 0x174215229b0>]"
      ]
     },
     "execution_count": 158,
     "metadata": {},
     "output_type": "execute_result"
    },
    {
     "data": {
      "image/png": "[encoded data removed]",
      "text/plain": [
       "<Figure size 432x288 with 1 Axes>"
      ]
     },
     "metadata": {
      "needs_background": "light"
     },
     "output_type": "display_data"
    }
   ],
   "source": [
    "plt.plot(data['AP1_LD'].days, data['AP1_LD'].rltv_transcription_lvl, 'go-')"
   ]
  },
  {
   "cell_type": "markdown",
   "metadata": {},
   "source": [
    "# Train-test split"
   ]
  },
  {
   "cell_type": "code",
   "execution_count": 161,
   "metadata": {},
   "outputs": [],
   "source": [
    "for day in days_LD:\n",
    "#     if day < 37:\n",
    "#         for cond in conditions:\n",
    "#             temp_df = pd.DataFrame(daily_levels[cond][day]).iloc[:375, :]\n",
    "#             temp_df['days'] = day\n",
    "#             train_set = train_set.append(temp_df)\n",
    "            \n",
    "#             temp_df = pd.DataFrame(daily_levels[cond][day]).iloc[375:500, :]\n",
    "#             temp_df['days'] = day\n",
    "#             test_set = test_set.append(temp_df)\n",
    "#     else:\n",
    "    temp_df = pd.DataFrame(daily_levels[day]).iloc[:750, :]\n",
    "    temp_df['days'] = day\n",
    "    train_set = train_set.append(temp_df)\n",
    "\n",
    "    temp_df = pd.DataFrame(daily_levels[day]).iloc[750:1000, :]\n",
    "    temp_df['days'] = day\n",
    "    test_set = test_set.append(temp_df)"
   ]
  },
  {
   "cell_type": "code",
   "execution_count": 136,
   "metadata": {},
   "outputs": [],
   "source": [
    "def my_tr_t_split(daily_data):\n",
    "    \n",
    "    train_set = pd.DataFrame(columns=genes + ['days'])\n",
    "    test_set = pd.DataFrame(columns=genes + ['days'])\n",
    "    \n",
    "    for day in days_LD:\n",
    "\n",
    "        temp_df = pd.DataFrame(daily_data[day]).iloc[:750, :]\n",
    "        temp_df['days'] = day\n",
    "        train_set = train_set.append(temp_df)\n",
    "\n",
    "        temp_df = pd.DataFrame(daily_data[day]).iloc[750:1000, :]\n",
    "        temp_df['days'] = day\n",
    "        test_set = test_set.append(temp_df)\n",
    "\n",
    "    return train_set, test_set"
   ]
  },
  {
   "cell_type": "code",
   "execution_count": 138,
   "metadata": {},
   "outputs": [],
   "source": [
    "train_set, test_set = my_tr_t_split(daily_levels)"
   ]
  },
  {
   "cell_type": "code",
   "execution_count": 139,
   "metadata": {},
   "outputs": [
    {
     "data": {
      "text/html": [
       "<div>\n",
       "<style scoped>\n",
       "    .dataframe tbody tr th:only-of-type {\n",
       "        vertical-align: middle;\n",
       "    }\n",
       "\n",
       "    .dataframe tbody tr th {\n",
       "        vertical-align: top;\n",
       "    }\n",
       "\n",
       "    .dataframe thead th {\n",
       "        text-align: right;\n",
       "    }\n",
       "</style>\n",
       "<table border=\"1\" class=\"dataframe\">\n",
       "  <thead>\n",
       "    <tr style=\"text-align: right;\">\n",
       "      <th></th>\n",
       "      <th>AP1</th>\n",
       "      <th>FD</th>\n",
       "      <th>FTa1</th>\n",
       "      <th>FTa2</th>\n",
       "      <th>FTa3</th>\n",
       "      <th>FTb</th>\n",
       "      <th>FTc</th>\n",
       "      <th>LFY</th>\n",
       "      <th>TFL1a</th>\n",
       "      <th>TFL1c</th>\n",
       "      <th>days</th>\n",
       "    </tr>\n",
       "  </thead>\n",
       "  <tbody>\n",
       "    <tr>\n",
       "      <th>745</th>\n",
       "      <td>686.669585</td>\n",
       "      <td>132.591502</td>\n",
       "      <td>45.466719</td>\n",
       "      <td>192.473880</td>\n",
       "      <td>52.917021</td>\n",
       "      <td>158.372764</td>\n",
       "      <td>45.615654</td>\n",
       "      <td>81.210510</td>\n",
       "      <td>14.432262</td>\n",
       "      <td>33.341479</td>\n",
       "      <td>40</td>\n",
       "    </tr>\n",
       "    <tr>\n",
       "      <th>746</th>\n",
       "      <td>918.815009</td>\n",
       "      <td>110.296230</td>\n",
       "      <td>101.197282</td>\n",
       "      <td>158.338042</td>\n",
       "      <td>31.590721</td>\n",
       "      <td>61.823357</td>\n",
       "      <td>93.270036</td>\n",
       "      <td>92.186444</td>\n",
       "      <td>13.367673</td>\n",
       "      <td>42.642787</td>\n",
       "      <td>40</td>\n",
       "    </tr>\n",
       "    <tr>\n",
       "      <th>747</th>\n",
       "      <td>742.434906</td>\n",
       "      <td>137.745811</td>\n",
       "      <td>41.450225</td>\n",
       "      <td>156.930095</td>\n",
       "      <td>19.246574</td>\n",
       "      <td>94.715723</td>\n",
       "      <td>59.727618</td>\n",
       "      <td>114.042272</td>\n",
       "      <td>15.128368</td>\n",
       "      <td>19.433130</td>\n",
       "      <td>40</td>\n",
       "    </tr>\n",
       "    <tr>\n",
       "      <th>748</th>\n",
       "      <td>1139.814326</td>\n",
       "      <td>134.340548</td>\n",
       "      <td>63.091863</td>\n",
       "      <td>135.239937</td>\n",
       "      <td>36.790968</td>\n",
       "      <td>112.646358</td>\n",
       "      <td>19.510417</td>\n",
       "      <td>49.470184</td>\n",
       "      <td>15.898169</td>\n",
       "      <td>35.749122</td>\n",
       "      <td>40</td>\n",
       "    </tr>\n",
       "    <tr>\n",
       "      <th>749</th>\n",
       "      <td>1081.628355</td>\n",
       "      <td>135.388366</td>\n",
       "      <td>78.102312</td>\n",
       "      <td>65.351571</td>\n",
       "      <td>24.301517</td>\n",
       "      <td>142.985311</td>\n",
       "      <td>15.217854</td>\n",
       "      <td>31.495025</td>\n",
       "      <td>14.847826</td>\n",
       "      <td>45.300037</td>\n",
       "      <td>40</td>\n",
       "    </tr>\n",
       "  </tbody>\n",
       "</table>\n",
       "</div>"
      ],
      "text/plain": [
       "             AP1          FD        FTa1        FTa2       FTa3         FTb  \\\n",
       "745   686.669585  132.591502   45.466719  192.473880  52.917021  158.372764   \n",
       "746   918.815009  110.296230  101.197282  158.338042  31.590721   61.823357   \n",
       "747   742.434906  137.745811   41.450225  156.930095  19.246574   94.715723   \n",
       "748  1139.814326  134.340548   63.091863  135.239937  36.790968  112.646358   \n",
       "749  1081.628355  135.388366   78.102312   65.351571  24.301517  142.985311   \n",
       "\n",
       "           FTc         LFY      TFL1a      TFL1c days  \n",
       "745  45.615654   81.210510  14.432262  33.341479   40  \n",
       "746  93.270036   92.186444  13.367673  42.642787   40  \n",
       "747  59.727618  114.042272  15.128368  19.433130   40  \n",
       "748  19.510417   49.470184  15.898169  35.749122   40  \n",
       "749  15.217854   31.495025  14.847826  45.300037   40  "
      ]
     },
     "execution_count": 139,
     "metadata": {},
     "output_type": "execute_result"
    }
   ],
   "source": [
    "train_set.tail()"
   ]
  },
  {
   "cell_type": "code",
   "execution_count": 140,
   "metadata": {},
   "outputs": [
    {
     "data": {
      "text/plain": [
       "40    250\n",
       "37    250\n",
       "34    250\n",
       "32    250\n",
       "30    250\n",
       "28    250\n",
       "25    250\n",
       "22    250\n",
       "20    250\n",
       "17    250\n",
       "15    250\n",
       "13    250\n",
       "11    250\n",
       "9     250\n",
       "Name: days, dtype: int64"
      ]
     },
     "execution_count": 140,
     "metadata": {},
     "output_type": "execute_result"
    }
   ],
   "source": [
    "test_set.days.value_counts()"
   ]
  },
  {
   "cell_type": "code",
   "execution_count": 141,
   "metadata": {},
   "outputs": [
    {
     "data": {
      "text/plain": [
       "40    750\n",
       "37    750\n",
       "34    750\n",
       "32    750\n",
       "30    750\n",
       "28    750\n",
       "25    750\n",
       "22    750\n",
       "20    750\n",
       "17    750\n",
       "15    750\n",
       "13    750\n",
       "11    750\n",
       "9     750\n",
       "Name: days, dtype: int64"
      ]
     },
     "execution_count": 141,
     "metadata": {},
     "output_type": "execute_result"
    }
   ],
   "source": [
    "train_set.days.value_counts()"
   ]
  },
  {
   "cell_type": "code",
   "execution_count": 142,
   "metadata": {},
   "outputs": [],
   "source": [
    "X_train = train_set[train_set['days'] < 40]\n",
    "X_test = test_set[test_set['days'] < 40]"
   ]
  },
  {
   "cell_type": "code",
   "execution_count": 143,
   "metadata": {},
   "outputs": [
    {
     "data": {
      "text/plain": [
       "['FTa1', 'FTa2', 'FTa3', 'FTb', 'FTc']"
      ]
     },
     "execution_count": 143,
     "metadata": {},
     "output_type": "execute_result"
    }
   ],
   "source": [
    "FTs = [x for x in genes if x.startswith('FT')]\n",
    "FTs"
   ]
  },
  {
   "cell_type": "code",
   "execution_count": 144,
   "metadata": {},
   "outputs": [],
   "source": [
    "y_train = train_set[train_set['days'] > 9].drop(FTs, axis=1)\n",
    "y_test = test_set[test_set['days'] > 9].drop(FTs, axis=1)"
   ]
  },
  {
   "cell_type": "markdown",
   "metadata": {},
   "source": [
    "## Write data to csvs "
   ]
  },
  {
   "cell_type": "code",
   "execution_count": 145,
   "metadata": {},
   "outputs": [],
   "source": [
    "X_train.to_csv(f'{data_path}X_train.csv', index=False)\n",
    "X_test.to_csv(f'{data_path}X_test.csv', index=False)\n",
    "\n",
    "y_train.to_csv(f'{data_path}y_train.csv', index=False)\n",
    "y_test.to_csv(f'{data_path}y_test.csv', index=False)\n",
    "\n",
    "train_set.to_csv(f'{data_path}train.csv', index=False)\n",
    "test_set.to_csv(f'{data_path}test.csv', index=False)"
   ]
  },
  {
   "cell_type": "markdown",
   "metadata": {},
   "source": [
    "# Model"
   ]
  },
  {
   "cell_type": "code",
   "execution_count": null,
   "metadata": {},
   "outputs": [],
   "source": [
    "model = RandomForestRegressor()"
   ]
  },
  {
   "cell_type": "code",
   "execution_count": null,
   "metadata": {},
   "outputs": [],
   "source": [
    "cv = TimeSeriesSplit(n_splits=len(days_all))"
   ]
  },
  {
   "cell_type": "code",
   "execution_count": null,
   "metadata": {},
   "outputs": [],
   "source": []
  },
  {
   "cell_type": "code",
   "execution_count": null,
   "metadata": {},
   "outputs": [],
   "source": []
  },
  {
   "cell_type": "code",
   "execution_count": null,
   "metadata": {},
   "outputs": [],
   "source": []
  },
  {
   "cell_type": "code",
   "execution_count": null,
   "metadata": {},
   "outputs": [],
   "source": []
  },
  {
   "cell_type": "code",
   "execution_count": null,
   "metadata": {},
   "outputs": [],
   "source": []
  },
  {
   "cell_type": "code",
   "execution_count": null,
   "metadata": {},
   "outputs": [],
   "source": []
  },
  {
   "cell_type": "code",
   "execution_count": null,
   "metadata": {},
   "outputs": [],
   "source": []
  },
  {
   "cell_type": "code",
   "execution_count": null,
   "metadata": {},
   "outputs": [],
   "source": []
  },
  {
   "cell_type": "code",
   "execution_count": null,
   "metadata": {},
   "outputs": [],
   "source": []
  },
  {
   "cell_type": "code",
   "execution_count": null,
   "metadata": {},
   "outputs": [],
   "source": []
  },
  {
   "cell_type": "code",
   "execution_count": null,
   "metadata": {},
   "outputs": [],
   "source": []
  },
  {
   "cell_type": "code",
   "execution_count": null,
   "metadata": {},
   "outputs": [],
   "source": []
  },
  {
   "cell_type": "code",
   "execution_count": null,
   "metadata": {},
   "outputs": [],
   "source": []
  },
  {
   "cell_type": "code",
   "execution_count": null,
   "metadata": {},
   "outputs": [],
   "source": []
  },
  {
   "cell_type": "code",
   "execution_count": null,
   "metadata": {},
   "outputs": [],
   "source": []
  },
  {
   "cell_type": "code",
   "execution_count": null,
   "metadata": {},
   "outputs": [],
   "source": [
    "def logging(description, out):\n",
    "    string = str(description) + ': ' + str(out)\n",
    "    with open('results/NN/NN_log.txt', 'a') as out_file:\n",
    "        out_file.write(string + '\\n')\n",
    "    print(string)"
   ]
  },
  {
   "cell_type": "code",
   "execution_count": null,
   "metadata": {},
   "outputs": [],
   "source": [
    "def clear_log():\n",
    "    with open('results/NN/NN_log.txt', 'w') as out_file:\n",
    "        out_file.write('log file have been cleared ' + str(datetime.datetime.now().strftime('%d-%m-%Y %H:%M:%S')))"
   ]
  },
  {
   "cell_type": "code",
   "execution_count": null,
   "metadata": {
    "scrolled": true
   },
   "outputs": [],
   "source": [
    "with open('cache/NN_model.cached', 'rb') as file:\n",
    "    model = dill.load(file)"
   ]
  },
  {
   "cell_type": "code",
   "execution_count": null,
   "metadata": {},
   "outputs": [],
   "source": [
    "with open('cache/st_scaler.cached', 'rb') as f:\n",
    "    st_scalers = dill.load(f)"
   ]
  },
  {
   "cell_type": "code",
   "execution_count": null,
   "metadata": {},
   "outputs": [],
   "source": [
    "dill.dump_session('cache/data_preparation.db')"
   ]
  }
 ],
 "metadata": {
  "celltoolbar": "Raw Cell Format",
  "kernelspec": {
   "display_name": "Python 3",
   "language": "python",
   "name": "python3"
  },
  "language_info": {
   "codemirror_mode": {
    "name": "ipython",
    "version": 3
   },
   "file_extension": ".py",
   "mimetype": "text/x-python",
   "name": "python",
   "nbconvert_exporter": "python",
   "pygments_lexer": "ipython3",
   "version": "3.8.5"
  },
  "toc": {
   "base_numbering": 1,
   "nav_menu": {},
   "number_sections": true,
   "sideBar": true,
   "skip_h1_title": false,
   "title_cell": "Table of Contents",
   "title_sidebar": "Contents",
   "toc_cell": false,
   "toc_position": {
    "height": "calc(100% - 180px)",
    "left": "10px",
    "top": "150px",
    "width": "220px"
   },
   "toc_section_display": true,
   "toc_window_display": true
  }
 },
 "nbformat": 4,
 "nbformat_minor": 2
}
