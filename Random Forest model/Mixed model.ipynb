{
 "cells": [
  {
   "cell_type": "markdown",
   "metadata": {
    "colab_type": "text",
    "id": "zvLRR4ibTykG"
   },
   "source": [
    "# Imports"
   ]
  },
  {
   "cell_type": "code",
   "execution_count": null,
   "metadata": {
    "colab": {},
    "colab_type": "code",
    "id": "OYTGsJZJTykI"
   },
   "outputs": [],
   "source": [
    "import pandas as pd\n",
    "import numpy as np\n",
    "# import os\n",
    "\n",
    "import seaborn as sns\n",
    "import matplotlib as mpl\n",
    "import matplotlib.pyplot as plt\n",
    "\n",
    "from numpy.random import normal, uniform, shuffle\n",
    "# import random\n",
    "\n",
    "# from sklearn.preprocessing import StandardScaler\n",
    "from sklearn.model_selection import TimeSeriesSplit, GridSearchCV, KFold\n",
    "from sklearn.metrics import mean_squared_error, r2_score, make_scorer, auc\n",
    "from sklearn.ensemble import RandomForestRegressor\n",
    "\n",
    "import dill\n",
    "# import datetime\n",
    "\n",
    "import itertools"
   ]
  },
  {
   "cell_type": "code",
   "execution_count": null,
   "metadata": {
    "colab": {},
    "colab_type": "code",
    "id": "DOoSAWa6TykM"
   },
   "outputs": [],
   "source": [
    "%matplotlib inline"
   ]
  },
  {
   "cell_type": "code",
   "execution_count": null,
   "metadata": {
    "colab": {},
    "colab_type": "code",
    "id": "M6su9-rMTykP"
   },
   "outputs": [],
   "source": [
    "# SEED = 73 # random seed"
   ]
  },
  {
   "cell_type": "code",
   "execution_count": null,
   "metadata": {
    "colab": {},
    "colab_type": "code",
    "id": "-PX2uD00TykT",
    "scrolled": false
   },
   "outputs": [],
   "source": [
    "dill.load_session('cache/Mixed_model_session.db')"
   ]
  },
  {
   "cell_type": "code",
   "execution_count": null,
   "metadata": {
    "colab": {
     "base_uri": "https://localhost:8080/",
     "height": 125
    },
    "colab_type": "code",
    "id": "LoodOK75Udht",
    "outputId": "d3baeefb-ff4d-4fec-9fb1-c0cf09579106"
   },
   "outputs": [],
   "source": [
    "# from google.colab import drive\n",
    "# drive.mount('/content/drive')"
   ]
  },
  {
   "cell_type": "code",
   "execution_count": null,
   "metadata": {
    "colab": {},
    "colab_type": "code",
    "id": "jlyTM2csTykb"
   },
   "outputs": [],
   "source": [
    "# data_path = 'drive/My Drive/Colab Notebooks/NIR/data/'"
   ]
  },
  {
   "cell_type": "code",
   "execution_count": null,
   "metadata": {},
   "outputs": [],
   "source": [
    "data_path = 'data/prepared/'"
   ]
  },
  {
   "cell_type": "code",
   "execution_count": null,
   "metadata": {},
   "outputs": [],
   "source": [
    "results_path = 'results LD+SD/mixed_model/'"
   ]
  },
  {
   "cell_type": "markdown",
   "metadata": {
    "colab_type": "text",
    "id": "0l2gIUDFTykZ"
   },
   "source": [
    "# Data reading"
   ]
  },
  {
   "cell_type": "markdown",
   "metadata": {
    "colab_type": "text",
    "id": "Gj-Mn_4tTyka"
   },
   "source": [
    "## Reading"
   ]
  },
  {
   "cell_type": "markdown",
   "metadata": {},
   "source": [
    "### Synth data for model building"
   ]
  },
  {
   "cell_type": "code",
   "execution_count": null,
   "metadata": {
    "colab": {},
    "colab_type": "code",
    "id": "mBGM1JmwTyke"
   },
   "outputs": [],
   "source": [
    "X_train = pd.read_csv(data_path + 'X_train.csv')\n",
    "X_test = pd.read_csv(data_path + 'X_test.csv')\n",
    "\n",
    "Y_train = pd.read_csv(data_path + 'y_train.csv')\n",
    "Y_test = pd.read_csv(data_path + 'y_test.csv')"
   ]
  },
  {
   "cell_type": "markdown",
   "metadata": {},
   "source": [
    "### Real data for analysis"
   ]
  },
  {
   "cell_type": "code",
   "execution_count": null,
   "metadata": {},
   "outputs": [],
   "source": [
    "conditions = ['LD', 'SD']"
   ]
  },
  {
   "cell_type": "code",
   "execution_count": null,
   "metadata": {},
   "outputs": [],
   "source": [
    "X_real = {}\n",
    "Y_real = {}\n",
    "for cond in conditions:\n",
    "    X_real[cond] = pd.read_csv(data_path + 'real_X_' + cond + '.csv')\n",
    "    Y_real[cond] = pd.read_csv(data_path + 'real_Y_' + cond + '.csv')"
   ]
  },
  {
   "cell_type": "code",
   "execution_count": null,
   "metadata": {
    "scrolled": false
   },
   "outputs": [],
   "source": [
    "X_real['LD']"
   ]
  },
  {
   "cell_type": "code",
   "execution_count": null,
   "metadata": {},
   "outputs": [],
   "source": [
    "Y_real['LD']['days'] = X_real['LD'].days.tolist()[1:] + [40]\n",
    "Y_real['SD']['days'] = X_real['SD'].days.tolist()[1:] + [34]"
   ]
  },
  {
   "cell_type": "markdown",
   "metadata": {
    "colab_type": "text",
    "id": "7Cy8mYcETykm"
   },
   "source": [
    "## Check the data"
   ]
  },
  {
   "cell_type": "code",
   "execution_count": null,
   "metadata": {
    "colab": {
     "base_uri": "https://localhost:8080/",
     "height": 197
    },
    "colab_type": "code",
    "id": "evunmRXyTykn",
    "outputId": "022b4d4e-93f0-4f3d-ac7b-28bb3b136f60",
    "scrolled": false
   },
   "outputs": [],
   "source": [
    "X_train.tail()"
   ]
  },
  {
   "cell_type": "code",
   "execution_count": null,
   "metadata": {
    "colab": {
     "base_uri": "https://localhost:8080/",
     "height": 301
    },
    "colab_type": "code",
    "id": "zFIcgIbGTyku",
    "outputId": "f1e44014-3d6c-4f15-a690-ebd17de58150",
    "scrolled": true
   },
   "outputs": [],
   "source": [
    "X_train.days.value_counts()"
   ]
  },
  {
   "cell_type": "code",
   "execution_count": null,
   "metadata": {
    "colab": {
     "base_uri": "https://localhost:8080/",
     "height": 197
    },
    "colab_type": "code",
    "id": "HhSKjfbDTykx",
    "outputId": "be86d3db-4ef6-4789-e6ac-37d22ced1cb9"
   },
   "outputs": [],
   "source": [
    "Y_train.tail()"
   ]
  },
  {
   "cell_type": "code",
   "execution_count": null,
   "metadata": {
    "colab": {
     "base_uri": "https://localhost:8080/",
     "height": 34
    },
    "colab_type": "code",
    "id": "FiUDzwLaTyk0",
    "outputId": "af6380d5-bbfe-4a08-bae8-6ef5a538d1ab"
   },
   "outputs": [],
   "source": [
    "days = list(set(X_test.days.values))\n",
    "days.append(40)\n",
    "days.sort()\n",
    "days"
   ]
  },
  {
   "cell_type": "code",
   "execution_count": null,
   "metadata": {
    "colab": {},
    "colab_type": "code",
    "id": "OS5Y8WkPTyk2"
   },
   "outputs": [],
   "source": [
    "X = X_train.drop('days', axis=1)\n",
    "Y = Y_train.drop('days', axis=1)"
   ]
  },
  {
   "cell_type": "code",
   "execution_count": null,
   "metadata": {
    "colab": {},
    "colab_type": "code",
    "id": "2XvF8clYXlQF"
   },
   "outputs": [],
   "source": [
    "X_test.tail()"
   ]
  },
  {
   "cell_type": "markdown",
   "metadata": {
    "colab_type": "text",
    "id": "mf9PTKkPTylC"
   },
   "source": [
    "# Random forest mixed model"
   ]
  },
  {
   "cell_type": "markdown",
   "metadata": {},
   "source": [
    "##  Define regulators for each target"
   ]
  },
  {
   "cell_type": "code",
   "execution_count": null,
   "metadata": {},
   "outputs": [],
   "source": [
    "genes = X_test.drop('days', axis = 1).columns.tolist()\n",
    "targets = [name for name in genes if not name.startswith('FT')]\n",
    "FTs = sorted(list(set(genes) - set(targets)))"
   ]
  },
  {
   "cell_type": "code",
   "execution_count": null,
   "metadata": {},
   "outputs": [],
   "source": [
    "regulators = {\n",
    "    'AP1': genes[1:],\n",
    "    'FD': ['LFY'],\n",
    "    'LFY': genes.copy(),\n",
    "    'TFL1a': ['AP1'],\n",
    "    'TFL1c': ['AP1']\n",
    "}\n",
    "\n",
    "regulators['LFY'].remove('LFY')"
   ]
  },
  {
   "cell_type": "code",
   "execution_count": null,
   "metadata": {},
   "outputs": [],
   "source": [
    "regulators"
   ]
  },
  {
   "cell_type": "code",
   "execution_count": null,
   "metadata": {},
   "outputs": [],
   "source": [
    "regulators[\"LFY\"]"
   ]
  },
  {
   "cell_type": "code",
   "execution_count": null,
   "metadata": {},
   "outputs": [],
   "source": [
    "genes"
   ]
  },
  {
   "cell_type": "markdown",
   "metadata": {
    "colab_type": "text",
    "id": "HnNsFO8uTylR"
   },
   "source": [
    "## Model building"
   ]
  },
  {
   "cell_type": "code",
   "execution_count": null,
   "metadata": {
    "colab": {},
    "colab_type": "code",
    "id": "ZglOU1ZeTylJ"
   },
   "outputs": [],
   "source": [
    "def GridS(model, grid, cv, **kwargs):\n",
    "    return GridSearchCV(model, grid, \n",
    "                      n_jobs=-1, \n",
    "                      scoring=['neg_mean_squared_error', 'r2'], \n",
    "                      refit='neg_mean_squared_error', \n",
    "#                       scoring = MSE5,\n",
    "#                       refit = MSE5,\n",
    "                      cv=cv, \n",
    "                      verbose=10)"
   ]
  },
  {
   "cell_type": "code",
   "execution_count": null,
   "metadata": {
    "colab": {},
    "colab_type": "code",
    "id": "6RL-ike4TylW"
   },
   "outputs": [],
   "source": [
    "# cv = TimeSeriesSplit(n_splits=5) # number of splits must be divider of days-1\n",
    "cv = KFold(n_splits=5, shuffle=True)\n",
    "grid = {\n",
    "    'n_estimators': [10, 20, 50, 100, 300],\n",
    "    'min_samples_leaf': [10, 20, 50],\n",
    "    'max_depth': [6, 7, 8, None]\n",
    "}"
   ]
  },
  {
   "cell_type": "code",
   "execution_count": null,
   "metadata": {},
   "outputs": [],
   "source": [
    "model = {}\n",
    "gs = {}\n",
    "\n",
    "for t in targets:\n",
    "    model[t] = RandomForestRegressor()\n",
    "    gs[t] = GridS(model[t], grid, cv)"
   ]
  },
  {
   "cell_type": "code",
   "execution_count": null,
   "metadata": {},
   "outputs": [],
   "source": [
    "for t in targets:\n",
    "    gs[t].fit(X[regulators[t]].values, Y[t].values)"
   ]
  },
  {
   "cell_type": "code",
   "execution_count": null,
   "metadata": {
    "colab": {
     "base_uri": "https://localhost:8080/",
     "height": 34
    },
    "colab_type": "code",
    "id": "B2TTOPUqTylo",
    "outputId": "16ec9b68-dff8-450d-f185-a92ea136aa9d",
    "scrolled": false
   },
   "outputs": [],
   "source": [
    "for t in targets:\n",
    "    print(t , gs[t].best_params_)"
   ]
  },
  {
   "cell_type": "markdown",
   "metadata": {},
   "source": [
    "Get the model with best score on the cross-validation:"
   ]
  },
  {
   "cell_type": "code",
   "execution_count": null,
   "metadata": {
    "colab": {},
    "colab_type": "code",
    "id": "5o3CDqc5Tylt"
   },
   "outputs": [],
   "source": [
    "best_model = {}\n",
    "\n",
    "for t in targets:\n",
    "    best_model[t] = gs[t].best_estimator_"
   ]
  },
  {
   "cell_type": "markdown",
   "metadata": {},
   "source": [
    "### Save the model"
   ]
  },
  {
   "cell_type": "code",
   "execution_count": null,
   "metadata": {},
   "outputs": [],
   "source": [
    "with open('cache/Mixed_model.md', 'wb') as ouf:\n",
    "    dill.dump(best_model, ouf)"
   ]
  },
  {
   "cell_type": "markdown",
   "metadata": {},
   "source": [
    "## Make predictions"
   ]
  },
  {
   "cell_type": "code",
   "execution_count": null,
   "metadata": {},
   "outputs": [],
   "source": [
    "def predict(data):\n",
    "    predictions = pd.DataFrame()\n",
    "    \n",
    "    for t in targets:\n",
    "        predictions[t] = best_model[t].predict(data[regulators[t]].values)\n",
    "        \n",
    "    return predictions"
   ]
  },
  {
   "cell_type": "code",
   "execution_count": null,
   "metadata": {},
   "outputs": [],
   "source": [
    "predictions_train = predict(X)\n",
    "predictions_test = predict(X_test)"
   ]
  },
  {
   "cell_type": "markdown",
   "metadata": {},
   "source": [
    "## Evaluating"
   ]
  },
  {
   "cell_type": "code",
   "execution_count": null,
   "metadata": {
    "colab": {},
    "colab_type": "code",
    "id": "R4055c1PwLYv"
   },
   "outputs": [],
   "source": [
    "def print_scores(true_values, predictions):\n",
    "    MSEs = mean_squared_error(true_values.values, predictions.values, multioutput='raw_values').round(2)\n",
    "    R2 = r2_score(true_values.values, predictions.values, multioutput='raw_values').round(2)\n",
    "    r = [] \n",
    "    for i in range(len(targets)):\n",
    "        r.append(np.corrcoef(true_values.values.transpose()[i], predictions.values.transpose()[i]).round(2)[0, 1])\n",
    "    df = pd.DataFrame({'MSE': MSEs,'R2': R2, 'r': r}, index=targets, )\n",
    "    return df"
   ]
  },
  {
   "cell_type": "code",
   "execution_count": null,
   "metadata": {
    "colab": {},
    "colab_type": "code",
    "id": "8lVuVmgSTymI"
   },
   "outputs": [],
   "source": [
    "def comparsion_plot(true_values, predictions, data_type = 'train', current_target=targets[0]):\n",
    "    plt.scatter(true_values, predictions)\n",
    "    plt.plot([min(true_values), max(true_values)], [min(true_values), max(true_values)], 'r')\n",
    "    plt.xlabel('True Values' + ' (' + current_target + ')')\n",
    "    plt.ylabel('Predictions' + ' (' + current_target + ')')\n",
    "    plt.axis('equal')\n",
    "    plt.axis('square')\n",
    "    plt.title('Predictions on ' + data_type)\n",
    "    plt.savefig(results_path + current_target + '_' + data_type + '.png', bbox_inches='tight', dpi=300)\n",
    "    plt.show()"
   ]
  },
  {
   "cell_type": "markdown",
   "metadata": {},
   "source": [
    "Scores on train:  \n",
    "(r - Pearson correlation)"
   ]
  },
  {
   "cell_type": "code",
   "execution_count": null,
   "metadata": {
    "colab": {
     "base_uri": "https://localhost:8080/",
     "height": 197
    },
    "colab_type": "code",
    "id": "vpSa8cNGw-G6",
    "outputId": "380dfd8b-6487-4127-902c-7b1465eff3a7",
    "scrolled": true
   },
   "outputs": [],
   "source": [
    "print_scores(Y, predictions_train)"
   ]
  },
  {
   "cell_type": "markdown",
   "metadata": {},
   "source": [
    "Scores on test:"
   ]
  },
  {
   "cell_type": "code",
   "execution_count": null,
   "metadata": {
    "colab": {
     "base_uri": "https://localhost:8080/",
     "height": 197
    },
    "colab_type": "code",
    "id": "1o87hCrZxYf3",
    "outputId": "019fc90b-fe8c-4fd0-b9b9-1a1750b74942",
    "scrolled": true
   },
   "outputs": [],
   "source": [
    "print_scores(Y_test.drop('days', axis=1), predictions_test)"
   ]
  },
  {
   "cell_type": "code",
   "execution_count": null,
   "metadata": {
    "colab": {
     "base_uri": "https://localhost:8080/",
     "height": 1000
    },
    "colab_type": "code",
    "id": "vDjI3VvUTymQ",
    "outputId": "4db30434-fcc3-4c12-f5e5-2ba1e04ae90f"
   },
   "outputs": [],
   "source": [
    "for i in range(5):\n",
    "    comparsion_plot(Y.iloc[:, i], predictions_train.iloc[:, i], data_type='train', current_target=targets[i])"
   ]
  },
  {
   "cell_type": "code",
   "execution_count": null,
   "metadata": {
    "colab": {
     "base_uri": "https://localhost:8080/",
     "height": 1000
    },
    "colab_type": "code",
    "id": "A2hMOVInTymS",
    "outputId": "16e1a947-7822-4068-d3a8-8deee869e363"
   },
   "outputs": [],
   "source": [
    "for i in range(5):\n",
    "    comparsion_plot(Y_test.drop('days', axis=1).iloc[:, i], predictions_test.iloc[:, i], data_type='test', current_target=targets[i])"
   ]
  },
  {
   "cell_type": "markdown",
   "metadata": {},
   "source": [
    "# Real data"
   ]
  },
  {
   "cell_type": "code",
   "execution_count": null,
   "metadata": {},
   "outputs": [],
   "source": [
    "results_path"
   ]
  },
  {
   "cell_type": "code",
   "execution_count": null,
   "metadata": {
    "colab": {},
    "colab_type": "code",
    "id": "mchcjXwRlc96"
   },
   "outputs": [],
   "source": [
    "def time_long_plot(true_values, predicted, condition = 'LD', predict_method = 'static'):\n",
    "    for i in range(5):\n",
    "        plt.plot(true_values['days'], true_values.iloc[:,i].values, 'o')\n",
    "        plt.plot(true_values['days'], predicted.iloc[:, i].values, '-')\n",
    "        plt.title(targets[i] + ' ' + condition + f' ({predict_method} prediction method)')\n",
    "        plt.xlabel('days')\n",
    "        plt.ylabel('rltv expr lvl')\n",
    "        plt.legend(['true values', 'predictions'])\n",
    "        plt.savefig(results_path + f'{predict_method}/{targets[i]}_{condition}_pred_on_real.png', \n",
    "                    bbox_inches='tight', dpi=300)\n",
    "        plt.show()"
   ]
  },
  {
   "cell_type": "markdown",
   "metadata": {},
   "source": [
    "## Static"
   ]
  },
  {
   "cell_type": "code",
   "execution_count": null,
   "metadata": {},
   "outputs": [],
   "source": [
    "predictions_real = {}\n",
    "predictions_real['LD'] = predict(X_real['LD'])\n",
    "predictions_real['SD'] = predict(X_real['SD'])"
   ]
  },
  {
   "cell_type": "code",
   "execution_count": null,
   "metadata": {},
   "outputs": [],
   "source": [
    "for cond in conditions:\n",
    "    for i in range(5):\n",
    "        comparsion_plot(Y_real[cond].iloc[:, i], predictions_real[cond].iloc[:, i], data_type='real ' + cond, current_target=targets[i])"
   ]
  },
  {
   "cell_type": "code",
   "execution_count": null,
   "metadata": {
    "scrolled": true
   },
   "outputs": [],
   "source": [
    "for cond in conditions:\n",
    "    print(cond)\n",
    "    print(print_scores(Y_real[cond].drop('days', axis=1), predictions_real[cond]))"
   ]
  },
  {
   "cell_type": "code",
   "execution_count": null,
   "metadata": {
    "scrolled": false
   },
   "outputs": [],
   "source": [
    "for cond in conditions:\n",
    "    time_long_plot(Y_real[cond], predictions_real[cond], cond, 'static')"
   ]
  },
  {
   "cell_type": "markdown",
   "metadata": {},
   "source": [
    "## Dynamic"
   ]
  },
  {
   "cell_type": "code",
   "execution_count": null,
   "metadata": {
    "scrolled": false
   },
   "outputs": [],
   "source": [
    "for cond in conditions:\n",
    "\n",
    "    X_temp = X_real[cond].drop('days', axis = 1).loc[[0]]\n",
    "\n",
    "    predictions_real[cond] = pd.DataFrame(columns=targets)\n",
    "\n",
    "    for i in range(len(X_real[cond])):\n",
    "        current_predictions = predict(X_temp)\n",
    "        predictions_real[cond] = predictions_real[cond].append(current_predictions, ignore_index = True)\n",
    "        \n",
    "        if i < len(X_real[cond]) - 1:\n",
    "            X_temp = X_real[cond].drop('days', axis = 1).loc[[i+1]]\n",
    "        \n",
    "        X_temp[targets] = predictions_real[cond].loc[[i]].values\n",
    "\n",
    "    time_long_plot(Y_real[cond], predictions_real[cond], cond, 'dynamic')"
   ]
  },
  {
   "cell_type": "code",
   "execution_count": null,
   "metadata": {},
   "outputs": [],
   "source": [
    "for cond in conditions:\n",
    "    for i in range(5):\n",
    "        comparsion_plot(Y_real[cond].iloc[:, i], predictions_real[cond].iloc[:, i], data_type='real_dynamic_predictions_' + cond, current_target=targets[i])"
   ]
  },
  {
   "cell_type": "code",
   "execution_count": null,
   "metadata": {
    "scrolled": true
   },
   "outputs": [],
   "source": [
    "for cond in conditions:\n",
    "    print(cond)\n",
    "    print(print_scores(Y_real[cond].drop('days', axis=1), predictions_real[cond]))"
   ]
  },
  {
   "cell_type": "markdown",
   "metadata": {
    "colab_type": "text",
    "id": "7AJV65O0zfkc"
   },
   "source": [
    "# Knock out simulation"
   ]
  },
  {
   "cell_type": "markdown",
   "metadata": {},
   "source": [
    "## Methods definitions"
   ]
  },
  {
   "cell_type": "code",
   "execution_count": null,
   "metadata": {
    "colab": {},
    "colab_type": "code",
    "id": "xCjUFv748p-I"
   },
   "outputs": [],
   "source": [
    "def time_long_plot_ko(true_values, predicted, pred_for_ko, KO_gene, condition, predict_method = 'dynamic'):\n",
    "    x_axis = true_values['days']\n",
    "    \n",
    "    for i in range(5):        \n",
    "        plt.plot(x_axis, true_values.iloc[:,i].values, 'o')\n",
    "        plt.plot(x_axis, predicted.iloc[:, i], '--')\n",
    "        plt.plot(x_axis, pred_for_ko.iloc[:, i], '-')\n",
    "        \n",
    "        if type(KO_gene) == type(''):\n",
    "            KO_name = KO_gene\n",
    "        else:            \n",
    "            KO_name = '_'.join(KO_gene)\n",
    "\n",
    "        plt.title(targets[i] + f' ({condition} with {KO_gene} KO)') # for correct title\n",
    "        plt.xlabel('days')\n",
    "        plt.ylabel('rltv expr lvl')\n",
    "        plt.legend(['true values', 'predictions on WT', 'predictions with KO'])\n",
    "        plt.savefig(results_path + f'{predict_method}/KOs/{targets[i]}/{targets[i]}_{condition}_with_{KO_gene}_KO.png', \n",
    "                    bbox_inches='tight', dpi=300)\n",
    "        plt.show()"
   ]
  },
  {
   "cell_type": "markdown",
   "metadata": {},
   "source": [
    "## KO Iterations set"
   ]
  },
  {
   "cell_type": "code",
   "execution_count": null,
   "metadata": {},
   "outputs": [],
   "source": [
    "targets_with_cond = [name + '_LD' for name in targets]\n",
    "targets_with_cond = targets_with_cond + [name + '_SD' for name in targets]"
   ]
  },
  {
   "cell_type": "code",
   "execution_count": null,
   "metadata": {},
   "outputs": [],
   "source": [
    "targets_with_cond"
   ]
  },
  {
   "cell_type": "code",
   "execution_count": null,
   "metadata": {
    "scrolled": true
   },
   "outputs": [],
   "source": [
    "genes"
   ]
  },
  {
   "cell_type": "code",
   "execution_count": null,
   "metadata": {},
   "outputs": [],
   "source": [
    "targets"
   ]
  },
  {
   "cell_type": "code",
   "execution_count": null,
   "metadata": {},
   "outputs": [],
   "source": [
    "# FTs = [name for name in genes if name.startswith('FT')]\n",
    "FTs"
   ]
  },
  {
   "cell_type": "code",
   "execution_count": null,
   "metadata": {
    "colab": {},
    "colab_type": "code",
    "id": "zsQxgQT40Iu-"
   },
   "outputs": [],
   "source": [
    "FT_pairs = list(itertools.combinations(FTs, 2))\n",
    "FT_pairs"
   ]
  },
  {
   "cell_type": "code",
   "execution_count": null,
   "metadata": {
    "colab": {},
    "colab_type": "code",
    "id": "zsQxgQT40Iu-"
   },
   "outputs": [],
   "source": [
    "FT_trios = list(itertools.combinations(FTs, 3))\n",
    "FT_trios"
   ]
  },
  {
   "cell_type": "code",
   "execution_count": null,
   "metadata": {
    "colab": {},
    "colab_type": "code",
    "id": "zsQxgQT40Iu-"
   },
   "outputs": [],
   "source": [
    "FT_quads = list(itertools.combinations(FTs, 4))\n",
    "FT_quads"
   ]
  },
  {
   "cell_type": "code",
   "execution_count": null,
   "metadata": {},
   "outputs": [],
   "source": [
    "KO_iterations = [targets, FTs, FT_pairs, FT_trios, FT_quads]"
   ]
  },
  {
   "cell_type": "markdown",
   "metadata": {},
   "source": [
    "## KO simulations"
   ]
  },
  {
   "cell_type": "code",
   "execution_count": null,
   "metadata": {},
   "outputs": [],
   "source": [
    "AUC = pd.DataFrame(0, index=targets_with_cond, columns=['WT'])"
   ]
  },
  {
   "cell_type": "code",
   "execution_count": null,
   "metadata": {},
   "outputs": [],
   "source": [
    "X_ko"
   ]
  },
  {
   "cell_type": "code",
   "execution_count": null,
   "metadata": {},
   "outputs": [],
   "source": [
    "list(KO_iterations[4][2])"
   ]
  },
  {
   "cell_type": "code",
   "execution_count": null,
   "metadata": {},
   "outputs": [],
   "source": [
    "for ko_genes in KO_iterations:\n",
    "    for cond in conditions:\n",
    "        for ko_name in ko_genes:\n",
    "                            \n",
    "            if type(ko_name) == type((1,)):\n",
    "                ko_name = list(ko_name)\n",
    "            \n",
    "            X_ko = X_real[cond].copy()\n",
    "            X_ko = X_ko.drop('days', axis = 1)\n",
    "            \n",
    "            pred_ko = pd.DataFrame(columns=targets)\n",
    "            \n",
    "            for i in range(len(X_ko)):\n",
    "                X_ko[ko_name] = 0\n",
    "                current_predictions = predict(X_ko.loc[[i]])\n",
    "                pred_ko = pred_ko.append(current_predictions, ignore_index = True)\n",
    "                \n",
    "                if i < len(X_ko) - 1:\n",
    "                    X_ko.loc[[i + 1]][targets] = pred_ko.loc[[i]].values\n",
    "                \n",
    "            time_long_plot_ko(Y_real[cond], predictions_real[cond], pred_ko, KO_gene=ko_name, condition=cond)\n",
    "            \n",
    "            column = str(ko_name)\n",
    "            \n",
    "            # AUCs table:\n",
    "            days_axis = Y_real[cond]['days']\n",
    "            for i in range(5):\n",
    "                current_target = targets[i] + '_' + cond\n",
    "                AUC.loc[current_target, 'WT'] = auc(days_axis, predictions_real[cond].iloc[:, i])\n",
    "                AUC.loc[current_target, column] = auc(days_axis, pred_ko.iloc[:, i])"
   ]
  },
  {
   "cell_type": "code",
   "execution_count": null,
   "metadata": {},
   "outputs": [],
   "source": [
    "AUC.T"
   ]
  },
  {
   "cell_type": "code",
   "execution_count": null,
   "metadata": {},
   "outputs": [],
   "source": [
    "regulators"
   ]
  },
  {
   "cell_type": "code",
   "execution_count": null,
   "metadata": {},
   "outputs": [],
   "source": [
    "AUC.index"
   ]
  },
  {
   "cell_type": "code",
   "execution_count": null,
   "metadata": {},
   "outputs": [],
   "source": [
    "AUCs = {}\n",
    "\n",
    "for ind in AUC.index:\n",
    "    if ind[:-3] != 'AP1' and ind[:-3] != 'LFY':\n",
    "        AUCs[ind] = AUC.T[ind][['WT'] + [name for name in regulators[ind[:-3]]]]\n",
    "    else:\n",
    "        AUCs[ind] = AUC.T[ind].drop(ind[:-3])"
   ]
  },
  {
   "cell_type": "markdown",
   "metadata": {},
   "source": [
    "# AUCs barplots"
   ]
  },
  {
   "cell_type": "code",
   "execution_count": null,
   "metadata": {},
   "outputs": [],
   "source": [
    "def AUC_barplots(data, gene):\n",
    "    \n",
    "    temp_data = data / data['WT']\n",
    "    \n",
    "    plt.figure(figsize=(15, 8))\n",
    "    \n",
    "    myplot = sns.barplot(y = temp_data.values, x = temp_data.keys())\n",
    "    plt.xticks(rotation=90)\n",
    "    plt.xlabel('KO genes')\n",
    "    plt.ylabel('KO/WT transcription level')\n",
    "    plt.title(gene.replace('_', ' '))\n",
    "    myplot.axes.axhline(1, dashes=(5, 1))\n",
    "\n",
    "    plt.savefig(results_path + f'dynamic/barplots/{gene}.png', bbox_inches='tight', dpi=300)\n",
    "    plt.show()"
   ]
  },
  {
   "cell_type": "code",
   "execution_count": null,
   "metadata": {
    "scrolled": false
   },
   "outputs": [],
   "source": [
    "for key in AUCs.keys():\n",
    "    AUC_barplots(AUCs[key], key)"
   ]
  },
  {
   "cell_type": "markdown",
   "metadata": {
    "colab_type": "text",
    "id": "cOYg1om1rYZi"
   },
   "source": [
    "# Save and load the model"
   ]
  },
  {
   "cell_type": "code",
   "execution_count": null,
   "metadata": {
    "colab": {},
    "colab_type": "code",
    "id": "d3MhVq7PTykW"
   },
   "outputs": [],
   "source": [
    "dill.dump_session('cache/Mixed_model_session.db')"
   ]
  },
  {
   "cell_type": "code",
   "execution_count": null,
   "metadata": {
    "colab": {},
    "colab_type": "code",
    "id": "-PX2uD00TykT",
    "scrolled": false
   },
   "outputs": [],
   "source": [
    "dill.load_session('cache/Mixed_model_session.db')"
   ]
  },
  {
   "cell_type": "markdown",
   "metadata": {},
   "source": [
    "## Some trash"
   ]
  },
  {
   "cell_type": "code",
   "execution_count": null,
   "metadata": {
    "colab": {},
    "colab_type": "code",
    "id": "_OY5UERCrXrH"
   },
   "outputs": [],
   "source": [
    "# import torch"
   ]
  },
  {
   "cell_type": "code",
   "execution_count": null,
   "metadata": {
    "colab": {
     "base_uri": "https://localhost:8080/",
     "height": 203
    },
    "colab_type": "code",
    "id": "gvwPZrX6Tymp",
    "outputId": "e504abb9-474e-429f-9159-084aaa1947bc"
   },
   "outputs": [],
   "source": [
    "# model_save_name = 'RF_regressor.pt'\n",
    "# # path = F\"/content/gdrive/My Drive/{model_save_name}\" \n",
    "# model_path = data_path + model_save_name\n",
    "# torch.save(total_model.state_dict(), model_path)"
   ]
  },
  {
   "cell_type": "code",
   "execution_count": null,
   "metadata": {
    "colab": {},
    "colab_type": "code",
    "id": "7IPRAHeaTym6"
   },
   "outputs": [],
   "source": [
    "def logging(description, out):\n",
    "    string = str(description) + ': ' + str(out)\n",
    "    with open('results/log.txt', 'a') as out_file:\n",
    "        out_file.write(string + '\\n')\n",
    "    print(string)"
   ]
  },
  {
   "cell_type": "code",
   "execution_count": null,
   "metadata": {
    "colab": {},
    "colab_type": "code",
    "id": "S4am0EhETynA"
   },
   "outputs": [],
   "source": [
    "# def clear_log():\n",
    "#     with open('results/NN/NN_log.txt', 'w') as out_file:\n",
    "#         out_file.write('log file have been cleared ' + str(datetime.datetime.now().strftime('%d-%m-%Y %H:%M:%S')))"
   ]
  }
 ],
 "metadata": {
  "celltoolbar": "Raw Cell Format",
  "colab": {
   "collapsed_sections": [],
   "name": "2_Random_Forest.ipynb",
   "provenance": []
  },
  "kernelspec": {
   "display_name": "Python (base)",
   "language": "python",
   "name": "base"
  },
  "language_info": {
   "codemirror_mode": {
    "name": "ipython",
    "version": 3
   },
   "file_extension": ".py",
   "mimetype": "text/x-python",
   "name": "python",
   "nbconvert_exporter": "python",
   "pygments_lexer": "ipython3",
   "version": "3.7.1"
  },
  "toc": {
   "base_numbering": 1,
   "nav_menu": {},
   "number_sections": true,
   "sideBar": true,
   "skip_h1_title": false,
   "title_cell": "Table of Contents",
   "title_sidebar": "Contents",
   "toc_cell": false,
   "toc_position": {
    "height": "calc(100% - 180px)",
    "left": "10px",
    "top": "150px",
    "width": "220px"
   },
   "toc_section_display": true,
   "toc_window_display": true
  }
 },
 "nbformat": 4,
 "nbformat_minor": 1
}
